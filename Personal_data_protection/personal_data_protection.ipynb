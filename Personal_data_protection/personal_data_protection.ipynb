{
 "cells": [
  {
   "cell_type": "markdown",
   "metadata": {},
   "source": [
    "# Защита персональных данных клиентов"
   ]
  },
  {
   "cell_type": "markdown",
   "metadata": {},
   "source": [
    "Вам нужно защитить данные клиентов страховой компании «Хоть потоп». Разработайте такой метод преобразования данных, чтобы по ним было сложно восстановить персональную информацию. Обоснуйте корректность его работы.\n",
    "\n",
    "Нужно защитить данные, чтобы при преобразовании качество моделей машинного обучения не ухудшилось. Подбирать наилучшую модель не требуется."
   ]
  },
  {
   "cell_type": "markdown",
   "metadata": {},
   "source": [
    "**Описание данных**  \n",
    "\n",
    "Набор данных находится в файле /datasets/insurance.csv\n",
    "\n",
    "* **Признаки:** пол, возраст и зарплата застрахованного, количество членов его семьи  \n",
    "* **Целевой признак:** количество страховых выплат клиенту за последние 5 лет"
   ]
  },
  {
   "cell_type": "markdown",
   "metadata": {},
   "source": [
    "## Загрузка данных"
   ]
  },
  {
   "cell_type": "markdown",
   "metadata": {},
   "source": [
    "* Импортируем необходимые библиотеки и прочитаем файл с данными"
   ]
  },
  {
   "cell_type": "code",
   "execution_count": 1,
   "metadata": {},
   "outputs": [],
   "source": [
    "import pandas as pd\n",
    "import numpy as np\n",
    "from sklearn.linear_model import LinearRegression\n",
    "from sklearn.metrics import r2_score"
   ]
  },
  {
   "cell_type": "code",
   "execution_count": 2,
   "metadata": {},
   "outputs": [],
   "source": [
    "df = pd.read_csv(\"/datasets/insurance.csv\")"
   ]
  },
  {
   "cell_type": "markdown",
   "metadata": {},
   "source": [
    "* Изучим загруженный датасет"
   ]
  },
  {
   "cell_type": "code",
   "execution_count": 3,
   "metadata": {},
   "outputs": [
    {
     "data": {
      "text/html": [
       "<div>\n",
       "<style scoped>\n",
       "    .dataframe tbody tr th:only-of-type {\n",
       "        vertical-align: middle;\n",
       "    }\n",
       "\n",
       "    .dataframe tbody tr th {\n",
       "        vertical-align: top;\n",
       "    }\n",
       "\n",
       "    .dataframe thead th {\n",
       "        text-align: right;\n",
       "    }\n",
       "</style>\n",
       "<table border=\"1\" class=\"dataframe\">\n",
       "  <thead>\n",
       "    <tr style=\"text-align: right;\">\n",
       "      <th></th>\n",
       "      <th>Пол</th>\n",
       "      <th>Возраст</th>\n",
       "      <th>Зарплата</th>\n",
       "      <th>Члены семьи</th>\n",
       "      <th>Страховые выплаты</th>\n",
       "    </tr>\n",
       "  </thead>\n",
       "  <tbody>\n",
       "    <tr>\n",
       "      <td>0</td>\n",
       "      <td>1</td>\n",
       "      <td>41.0</td>\n",
       "      <td>49600.0</td>\n",
       "      <td>1</td>\n",
       "      <td>0</td>\n",
       "    </tr>\n",
       "    <tr>\n",
       "      <td>1</td>\n",
       "      <td>0</td>\n",
       "      <td>46.0</td>\n",
       "      <td>38000.0</td>\n",
       "      <td>1</td>\n",
       "      <td>1</td>\n",
       "    </tr>\n",
       "    <tr>\n",
       "      <td>2</td>\n",
       "      <td>0</td>\n",
       "      <td>29.0</td>\n",
       "      <td>21000.0</td>\n",
       "      <td>0</td>\n",
       "      <td>0</td>\n",
       "    </tr>\n",
       "    <tr>\n",
       "      <td>3</td>\n",
       "      <td>0</td>\n",
       "      <td>21.0</td>\n",
       "      <td>41700.0</td>\n",
       "      <td>2</td>\n",
       "      <td>0</td>\n",
       "    </tr>\n",
       "    <tr>\n",
       "      <td>4</td>\n",
       "      <td>1</td>\n",
       "      <td>28.0</td>\n",
       "      <td>26100.0</td>\n",
       "      <td>0</td>\n",
       "      <td>0</td>\n",
       "    </tr>\n",
       "  </tbody>\n",
       "</table>\n",
       "</div>"
      ],
      "text/plain": [
       "   Пол  Возраст  Зарплата  Члены семьи  Страховые выплаты\n",
       "0    1     41.0   49600.0            1                  0\n",
       "1    0     46.0   38000.0            1                  1\n",
       "2    0     29.0   21000.0            0                  0\n",
       "3    0     21.0   41700.0            2                  0\n",
       "4    1     28.0   26100.0            0                  0"
      ]
     },
     "execution_count": 3,
     "metadata": {},
     "output_type": "execute_result"
    }
   ],
   "source": [
    "df.head()"
   ]
  },
  {
   "cell_type": "code",
   "execution_count": 4,
   "metadata": {},
   "outputs": [
    {
     "name": "stdout",
     "output_type": "stream",
     "text": [
      "<class 'pandas.core.frame.DataFrame'>\n",
      "RangeIndex: 5000 entries, 0 to 4999\n",
      "Data columns (total 5 columns):\n",
      "Пол                  5000 non-null int64\n",
      "Возраст              5000 non-null float64\n",
      "Зарплата             5000 non-null float64\n",
      "Члены семьи          5000 non-null int64\n",
      "Страховые выплаты    5000 non-null int64\n",
      "dtypes: float64(2), int64(3)\n",
      "memory usage: 195.4 KB\n"
     ]
    }
   ],
   "source": [
    "df.info()"
   ]
  },
  {
   "cell_type": "markdown",
   "metadata": {},
   "source": [
    "Пропуски в данных отсутствуют."
   ]
  },
  {
   "cell_type": "code",
   "execution_count": 5,
   "metadata": {},
   "outputs": [
    {
     "data": {
      "text/html": [
       "<div>\n",
       "<style scoped>\n",
       "    .dataframe tbody tr th:only-of-type {\n",
       "        vertical-align: middle;\n",
       "    }\n",
       "\n",
       "    .dataframe tbody tr th {\n",
       "        vertical-align: top;\n",
       "    }\n",
       "\n",
       "    .dataframe thead th {\n",
       "        text-align: right;\n",
       "    }\n",
       "</style>\n",
       "<table border=\"1\" class=\"dataframe\">\n",
       "  <thead>\n",
       "    <tr style=\"text-align: right;\">\n",
       "      <th></th>\n",
       "      <th>Пол</th>\n",
       "      <th>Возраст</th>\n",
       "      <th>Зарплата</th>\n",
       "      <th>Члены семьи</th>\n",
       "      <th>Страховые выплаты</th>\n",
       "    </tr>\n",
       "  </thead>\n",
       "  <tbody>\n",
       "    <tr>\n",
       "      <td>count</td>\n",
       "      <td>5000.000000</td>\n",
       "      <td>5000.000000</td>\n",
       "      <td>5000.000000</td>\n",
       "      <td>5000.000000</td>\n",
       "      <td>5000.000000</td>\n",
       "    </tr>\n",
       "    <tr>\n",
       "      <td>mean</td>\n",
       "      <td>0.499000</td>\n",
       "      <td>30.952800</td>\n",
       "      <td>39916.360000</td>\n",
       "      <td>1.194200</td>\n",
       "      <td>0.148000</td>\n",
       "    </tr>\n",
       "    <tr>\n",
       "      <td>std</td>\n",
       "      <td>0.500049</td>\n",
       "      <td>8.440807</td>\n",
       "      <td>9900.083569</td>\n",
       "      <td>1.091387</td>\n",
       "      <td>0.463183</td>\n",
       "    </tr>\n",
       "    <tr>\n",
       "      <td>min</td>\n",
       "      <td>0.000000</td>\n",
       "      <td>18.000000</td>\n",
       "      <td>5300.000000</td>\n",
       "      <td>0.000000</td>\n",
       "      <td>0.000000</td>\n",
       "    </tr>\n",
       "    <tr>\n",
       "      <td>25%</td>\n",
       "      <td>0.000000</td>\n",
       "      <td>24.000000</td>\n",
       "      <td>33300.000000</td>\n",
       "      <td>0.000000</td>\n",
       "      <td>0.000000</td>\n",
       "    </tr>\n",
       "    <tr>\n",
       "      <td>50%</td>\n",
       "      <td>0.000000</td>\n",
       "      <td>30.000000</td>\n",
       "      <td>40200.000000</td>\n",
       "      <td>1.000000</td>\n",
       "      <td>0.000000</td>\n",
       "    </tr>\n",
       "    <tr>\n",
       "      <td>75%</td>\n",
       "      <td>1.000000</td>\n",
       "      <td>37.000000</td>\n",
       "      <td>46600.000000</td>\n",
       "      <td>2.000000</td>\n",
       "      <td>0.000000</td>\n",
       "    </tr>\n",
       "    <tr>\n",
       "      <td>max</td>\n",
       "      <td>1.000000</td>\n",
       "      <td>65.000000</td>\n",
       "      <td>79000.000000</td>\n",
       "      <td>6.000000</td>\n",
       "      <td>5.000000</td>\n",
       "    </tr>\n",
       "  </tbody>\n",
       "</table>\n",
       "</div>"
      ],
      "text/plain": [
       "               Пол      Возраст      Зарплата  Члены семьи  Страховые выплаты\n",
       "count  5000.000000  5000.000000   5000.000000  5000.000000        5000.000000\n",
       "mean      0.499000    30.952800  39916.360000     1.194200           0.148000\n",
       "std       0.500049     8.440807   9900.083569     1.091387           0.463183\n",
       "min       0.000000    18.000000   5300.000000     0.000000           0.000000\n",
       "25%       0.000000    24.000000  33300.000000     0.000000           0.000000\n",
       "50%       0.000000    30.000000  40200.000000     1.000000           0.000000\n",
       "75%       1.000000    37.000000  46600.000000     2.000000           0.000000\n",
       "max       1.000000    65.000000  79000.000000     6.000000           5.000000"
      ]
     },
     "execution_count": 5,
     "metadata": {},
     "output_type": "execute_result"
    }
   ],
   "source": [
    "df.describe()"
   ]
  },
  {
   "cell_type": "code",
   "execution_count": 6,
   "metadata": {},
   "outputs": [
    {
     "data": {
      "text/plain": [
       "153"
      ]
     },
     "execution_count": 6,
     "metadata": {},
     "output_type": "execute_result"
    }
   ],
   "source": [
    "df.duplicated().sum()"
   ]
  },
  {
   "cell_type": "markdown",
   "metadata": {},
   "source": [
    "Удалим найденные дубликаты"
   ]
  },
  {
   "cell_type": "code",
   "execution_count": 7,
   "metadata": {},
   "outputs": [
    {
     "data": {
      "text/plain": [
       "0"
      ]
     },
     "execution_count": 7,
     "metadata": {},
     "output_type": "execute_result"
    }
   ],
   "source": [
    "df.drop_duplicates(inplace=True)\n",
    "df.duplicated().sum()"
   ]
  },
  {
   "cell_type": "markdown",
   "metadata": {},
   "source": [
    "Взглянем на целевой признак"
   ]
  },
  {
   "cell_type": "code",
   "execution_count": 8,
   "metadata": {},
   "outputs": [
    {
     "data": {
      "text/plain": [
       "0    4284\n",
       "1     423\n",
       "2     114\n",
       "3      18\n",
       "4       7\n",
       "5       1\n",
       "Name: Страховые выплаты, dtype: int64"
      ]
     },
     "execution_count": 8,
     "metadata": {},
     "output_type": "execute_result"
    }
   ],
   "source": [
    "df['Страховые выплаты'].value_counts()"
   ]
  },
  {
   "cell_type": "markdown",
   "metadata": {},
   "source": [
    "Мы изучили наш датасет: пропуски отсутствуют, дубликаты удалены. Данные готовы для дальнейшей работы с ними и построения модели машинного обучения."
   ]
  },
  {
   "cell_type": "markdown",
   "metadata": {},
   "source": [
    "## Умножение матриц"
   ]
  },
  {
   "cell_type": "markdown",
   "metadata": {},
   "source": [
    "*Умножим признаки на обратимую матрицу. Изменится ли качество линейной регрессии?*  \n",
    "\n",
    "Попробуем ответить на этот вопрос и обосновать решение."
   ]
  },
  {
   "cell_type": "markdown",
   "metadata": {},
   "source": [
    "Обозначения:\n",
    "\n",
    "- $X$ — матрица признаков (нулевой столбец состоит \n",
    "из единиц)\n",
    "\n",
    "- $y$ — вектор целевого признака\n",
    "\n",
    "- $P$ — матрица, на которую умножаются признаки\n",
    "\n",
    "- $w$ — вектор весов линейной регрессии (нулевой элемент равен сдвигу)"
   ]
  },
  {
   "cell_type": "markdown",
   "metadata": {},
   "source": [
    "Предсказания:\n",
    "\n",
    "$$\n",
    "a = Xw\n",
    "$$\n",
    "\n",
    "Задача обучения:\n",
    "\n",
    "$$\n",
    "w = \\arg\\min_w MSE(Xw, y)\n",
    "$$\n",
    "\n",
    "Формула обучения:\n",
    "\n",
    "$$\n",
    "w = (X^T X)^{-1} X^T y\n",
    "$$"
   ]
  },
  {
   "cell_type": "markdown",
   "metadata": {},
   "source": [
    "**Ответ:** Качество линейной регрессии не изменится\n",
    "\n",
    "**Обоснование:** Для того чтобы обосновать наше решение докажем, что предсказание $a$ не изменится"
   ]
  },
  {
   "cell_type": "markdown",
   "metadata": {},
   "source": [
    "Подставим вместо матрицы $X$ выражение $X*Z$, где $Z$ это обратимая матрица с некими значениями"
   ]
  },
  {
   "cell_type": "markdown",
   "metadata": {},
   "source": [
    "$w_1 = ((XZ)^T XZ)^{-1} (XZ)^T y$"
   ]
  },
  {
   "cell_type": "markdown",
   "metadata": {},
   "source": [
    "В формулу предсказания подставим вектор весов $w_1$ и преобразуем её:"
   ]
  },
  {
   "cell_type": "markdown",
   "metadata": {},
   "source": [
    "$a_1 = XZ ((XZ)^T XZ)^{-1}(XZ)^T y = XZ (Z^TX^T XZ)^{-1}Z^T X^T y = X Z (X^TXZ)^{-1} (Z^T)^{-1} Z^T X^T y$"
   ]
  },
  {
   "cell_type": "markdown",
   "metadata": {},
   "source": [
    "Продолжим преобразования, ипользуя свойства единичной матрицы $AA^{-1} = E$:"
   ]
  },
  {
   "cell_type": "markdown",
   "metadata": {},
   "source": [
    "$a_1 = X Z Z^{-1}(X^TX)^{-1} (Z^T)^{-1} Z^T X^T y = X E (X^TX)^{-1} E  X^T y = X (X^TX)^{-1} X^T y =  X w$"
   ]
  },
  {
   "cell_type": "markdown",
   "metadata": {},
   "source": [
    "В итоге получаем, что $a=a_1$"
   ]
  },
  {
   "cell_type": "markdown",
   "metadata": {},
   "source": [
    "## Алгоритм преобразования"
   ]
  },
  {
   "cell_type": "markdown",
   "metadata": {},
   "source": [
    "**Алгоритм**\n",
    "\n",
    "В качестве преобразования умножим исходную матрицу на обратимую, состоящую из случайных чисел, воспользовавшись numpy.random.normal"
   ]
  },
  {
   "cell_type": "markdown",
   "metadata": {},
   "source": [
    "**Обоснование**\n",
    "\n",
    "В результате перемножения матриц данные клиентов приобретут вид случайного и несвязанного между собой набора цифр, что не позволит их интерпретировать, однако качество линейной регрессии не изменится (согласно п2) и модель по прежнему будет предсказывать целевой признак."
   ]
  },
  {
   "cell_type": "markdown",
   "metadata": {},
   "source": [
    "## Проверка алгоритма"
   ]
  },
  {
   "cell_type": "markdown",
   "metadata": {},
   "source": [
    "Разделим наши данные на признаки и целевую переменную"
   ]
  },
  {
   "cell_type": "code",
   "execution_count": 9,
   "metadata": {},
   "outputs": [],
   "source": [
    "target = df['Страховые выплаты']\n",
    "features = df.drop('Страховые выплаты', axis=1)"
   ]
  },
  {
   "cell_type": "markdown",
   "metadata": {},
   "source": [
    "* Обучим модель линейной регрессии на не преобразованных данных"
   ]
  },
  {
   "cell_type": "code",
   "execution_count": 10,
   "metadata": {},
   "outputs": [
    {
     "name": "stdout",
     "output_type": "stream",
     "text": [
      "Предсказание модели на исходных данных: 0.4302010044852067\n"
     ]
    }
   ],
   "source": [
    "model = LinearRegression()\n",
    "model.fit(features, target)\n",
    "predictions = model.predict(features)\n",
    "r2 = r2_score(target, predictions)\n",
    "print('Предсказание модели на исходных данных:', r2)"
   ]
  },
  {
   "cell_type": "markdown",
   "metadata": {},
   "source": [
    "* Выполним кодирование признаков  \n",
    "\n",
    "В соответствии с алгоритмом умножим пространство признаков на обратимую матрицу, состоящую из случайных чисел."
   ]
  },
  {
   "cell_type": "code",
   "execution_count": 11,
   "metadata": {},
   "outputs": [
    {
     "name": "stdout",
     "output_type": "stream",
     "text": [
      "[[-0.50330809  0.34962193 -0.86124434 -0.03559483]\n",
      " [ 0.39281657  1.52630883  0.63337186  0.22208555]\n",
      " [ 1.34247721  1.2804955   1.70592829  0.46021457]\n",
      " [-0.14616426  2.23956577  3.27106355  1.8111985 ]]\n"
     ]
    }
   ],
   "source": [
    "P = np.random.normal(1, size=(4, 4))\n",
    "print(P)"
   ]
  },
  {
   "cell_type": "markdown",
   "metadata": {},
   "source": [
    "Убедимся, что наша матрица обратима"
   ]
  },
  {
   "cell_type": "code",
   "execution_count": 12,
   "metadata": {},
   "outputs": [
    {
     "name": "stdout",
     "output_type": "stream",
     "text": [
      "Матрица обратима\n"
     ]
    }
   ],
   "source": [
    "try:\n",
    "    P_1 = np.linalg.inv(P)\n",
    "    print('Матрица обратима')\n",
    "except:  \n",
    "    print('Матрица не обратима')"
   ]
  },
  {
   "cell_type": "markdown",
   "metadata": {},
   "source": [
    "Проведем кодирование пространства признаков"
   ]
  },
  {
   "cell_type": "code",
   "execution_count": 13,
   "metadata": {},
   "outputs": [],
   "source": [
    "features_p = features @ P"
   ]
  },
  {
   "cell_type": "markdown",
   "metadata": {},
   "source": [
    "Посмотрим на обновленные данные клиентов"
   ]
  },
  {
   "cell_type": "code",
   "execution_count": 14,
   "metadata": {},
   "outputs": [
    {
     "name": "stdout",
     "output_type": "stream",
     "text": [
      "              0             1             2             3\n",
      "0  66602.325707  63577.744535  84642.421415  22837.523704\n",
      "1  51032.057443  48731.278684  64857.681316  17500.180733\n",
      "2  28203.413126  26934.668407  35842.861944   9670.946417\n",
      "3  55989.256547  53433.193870  71157.052768  19199.233696\n",
      "4  35049.150781  33464.018759  44541.601624  12017.783036\n"
     ]
    }
   ],
   "source": [
    "print(features_p.head())"
   ]
  },
  {
   "cell_type": "markdown",
   "metadata": {},
   "source": [
    "*Получился набор случайных цифр, отлично. Данные клиентов защищены.*"
   ]
  },
  {
   "cell_type": "markdown",
   "metadata": {},
   "source": [
    "* Обучим модель линейной регрессии на преобразованных данных и сравним качество модели"
   ]
  },
  {
   "cell_type": "code",
   "execution_count": 15,
   "metadata": {},
   "outputs": [
    {
     "name": "stdout",
     "output_type": "stream",
     "text": [
      "Предсказание модели на измененных данных: 0.43020100448521215\n"
     ]
    }
   ],
   "source": [
    "model = LinearRegression()\n",
    "model.fit(features_p, target)\n",
    "predictions_p = model.predict(features_p)\n",
    "r2_p = r2_score(target, predictions_p)\n",
    "print('Предсказание модели на измененных данных:', r2_p)"
   ]
  },
  {
   "cell_type": "code",
   "execution_count": 16,
   "metadata": {},
   "outputs": [
    {
     "data": {
      "text/html": [
       "<div>\n",
       "<style scoped>\n",
       "    .dataframe tbody tr th:only-of-type {\n",
       "        vertical-align: middle;\n",
       "    }\n",
       "\n",
       "    .dataframe tbody tr th {\n",
       "        vertical-align: top;\n",
       "    }\n",
       "\n",
       "    .dataframe thead th {\n",
       "        text-align: right;\n",
       "    }\n",
       "</style>\n",
       "<table border=\"1\" class=\"dataframe\">\n",
       "  <thead>\n",
       "    <tr style=\"text-align: right;\">\n",
       "      <th></th>\n",
       "      <th>Исходные данные</th>\n",
       "      <th>Измененные данные</th>\n",
       "    </tr>\n",
       "  </thead>\n",
       "  <tbody>\n",
       "    <tr>\n",
       "      <td>Предсказание модели</td>\n",
       "      <td>0.430201</td>\n",
       "      <td>0.430201</td>\n",
       "    </tr>\n",
       "  </tbody>\n",
       "</table>\n",
       "</div>"
      ],
      "text/plain": [
       "                     Исходные данные  Измененные данные\n",
       "Предсказание модели         0.430201           0.430201"
      ]
     },
     "execution_count": 16,
     "metadata": {},
     "output_type": "execute_result"
    }
   ],
   "source": [
    "# Выведем полученные результаты в виде таблицы\n",
    "results = pd.DataFrame(data=[[r2, r2_p]],\n",
    "                       index=['Предсказание модели'], \n",
    "                       columns=['Исходные данные', 'Измененные данные'])\n",
    "results"
   ]
  },
  {
   "cell_type": "markdown",
   "metadata": {},
   "source": [
    "*Мы подтвердили на практике что качество модели не изменилось после преобразования данных, метрики R2 равны.   \n",
    "При этом личные данные клиентов хорошо защищены.*"
   ]
  }
 ],
 "metadata": {
  "ExecuteTimeLog": [
   {
    "duration": 213,
    "start_time": "2021-06-18T14:27:46.511Z"
   },
   {
    "duration": 539,
    "start_time": "2021-06-18T14:27:53.800Z"
   },
   {
    "duration": 17,
    "start_time": "2021-06-18T14:27:57.230Z"
   },
   {
    "duration": 9,
    "start_time": "2021-06-18T14:37:43.900Z"
   },
   {
    "duration": 7,
    "start_time": "2021-06-18T14:39:11.086Z"
   },
   {
    "duration": 200,
    "start_time": "2021-06-18T14:41:27.646Z"
   },
   {
    "duration": 173,
    "start_time": "2021-06-18T14:41:32.784Z"
   },
   {
    "duration": 23,
    "start_time": "2021-06-18T14:41:37.286Z"
   },
   {
    "duration": 7,
    "start_time": "2021-06-18T14:42:49.352Z"
   },
   {
    "duration": 5,
    "start_time": "2021-06-18T14:44:22.605Z"
   },
   {
    "duration": 6,
    "start_time": "2021-06-18T14:44:31.821Z"
   },
   {
    "duration": 8,
    "start_time": "2021-06-18T14:44:46.454Z"
   },
   {
    "duration": 6,
    "start_time": "2021-06-18T14:50:04.661Z"
   },
   {
    "duration": 67,
    "start_time": "2021-06-21T11:23:22.659Z"
   },
   {
    "duration": 211,
    "start_time": "2021-06-21T11:24:59.722Z"
   },
   {
    "duration": 972,
    "start_time": "2021-06-21T11:25:16.213Z"
   },
   {
    "duration": 224,
    "start_time": "2021-06-21T11:25:21.338Z"
   },
   {
    "duration": 176,
    "start_time": "2021-06-21T11:25:25.327Z"
   },
   {
    "duration": 1020,
    "start_time": "2021-06-21T11:25:40.571Z"
   },
   {
    "duration": 18,
    "start_time": "2021-06-21T11:25:41.593Z"
   },
   {
    "duration": 9,
    "start_time": "2021-06-21T11:25:41.613Z"
   },
   {
    "duration": 6,
    "start_time": "2021-06-21T11:25:41.623Z"
   },
   {
    "duration": 26,
    "start_time": "2021-06-21T11:25:41.630Z"
   },
   {
    "duration": 27,
    "start_time": "2021-06-21T11:25:41.658Z"
   },
   {
    "duration": 8,
    "start_time": "2021-06-21T11:25:41.686Z"
   },
   {
    "duration": 5,
    "start_time": "2021-06-21T11:25:41.696Z"
   },
   {
    "duration": 6,
    "start_time": "2021-06-21T11:25:41.704Z"
   },
   {
    "duration": 409,
    "start_time": "2021-06-21T11:25:41.711Z"
   },
   {
    "duration": 3,
    "start_time": "2021-06-21T11:25:58.769Z"
   },
   {
    "duration": 12,
    "start_time": "2021-06-21T11:26:05.257Z"
   },
   {
    "duration": 4,
    "start_time": "2021-06-21T11:28:50.533Z"
   },
   {
    "duration": 4,
    "start_time": "2021-06-21T11:30:56.357Z"
   },
   {
    "duration": 4,
    "start_time": "2021-06-21T11:34:59.666Z"
   },
   {
    "duration": 3,
    "start_time": "2021-06-21T11:35:02.796Z"
   },
   {
    "duration": 58,
    "start_time": "2021-06-21T11:36:06.365Z"
   },
   {
    "duration": 175,
    "start_time": "2021-06-21T11:36:12.456Z"
   },
   {
    "duration": 60,
    "start_time": "2021-06-21T11:38:28.329Z"
   },
   {
    "duration": 4,
    "start_time": "2021-06-21T11:39:13.659Z"
   },
   {
    "duration": 70,
    "start_time": "2021-06-21T11:40:34.344Z"
   },
   {
    "duration": 273,
    "start_time": "2021-06-21T11:40:42.861Z"
   },
   {
    "duration": 187,
    "start_time": "2021-06-21T11:41:02.604Z"
   },
   {
    "duration": 184,
    "start_time": "2021-06-21T11:45:29.382Z"
   },
   {
    "duration": 185,
    "start_time": "2021-06-21T11:45:57.449Z"
   },
   {
    "duration": 1932,
    "start_time": "2021-06-21T11:46:33.923Z"
   },
   {
    "duration": 662,
    "start_time": "2021-06-21T11:46:39.264Z"
   },
   {
    "duration": 185,
    "start_time": "2021-06-21T11:47:01.557Z"
   },
   {
    "duration": 3,
    "start_time": "2021-06-21T11:47:48.379Z"
   },
   {
    "duration": 4,
    "start_time": "2021-06-21T11:47:58.387Z"
   },
   {
    "duration": 4,
    "start_time": "2021-06-21T11:48:16.634Z"
   },
   {
    "duration": 61,
    "start_time": "2021-06-21T11:49:19.836Z"
   },
   {
    "duration": 4,
    "start_time": "2021-06-21T11:54:05.771Z"
   },
   {
    "duration": 4,
    "start_time": "2021-06-21T11:54:59.642Z"
   },
   {
    "duration": 6,
    "start_time": "2021-06-21T11:55:38.434Z"
   },
   {
    "duration": 8,
    "start_time": "2021-06-21T12:10:57.504Z"
   },
   {
    "duration": 8,
    "start_time": "2021-06-21T12:15:09.472Z"
   },
   {
    "duration": 956,
    "start_time": "2021-06-21T12:29:13.329Z"
   },
   {
    "duration": 19,
    "start_time": "2021-06-21T12:29:14.287Z"
   },
   {
    "duration": 9,
    "start_time": "2021-06-21T12:29:14.310Z"
   },
   {
    "duration": 6,
    "start_time": "2021-06-21T12:29:14.320Z"
   },
   {
    "duration": 24,
    "start_time": "2021-06-21T12:29:14.328Z"
   },
   {
    "duration": 5,
    "start_time": "2021-06-21T12:29:14.353Z"
   },
   {
    "duration": 30,
    "start_time": "2021-06-21T12:29:14.361Z"
   },
   {
    "duration": 4,
    "start_time": "2021-06-21T12:29:14.393Z"
   },
   {
    "duration": 5,
    "start_time": "2021-06-21T12:29:14.399Z"
   },
   {
    "duration": 82,
    "start_time": "2021-06-21T12:29:14.405Z"
   },
   {
    "duration": 96,
    "start_time": "2021-06-21T12:29:14.489Z"
   },
   {
    "duration": 5,
    "start_time": "2021-06-21T12:29:14.587Z"
   },
   {
    "duration": 10,
    "start_time": "2021-06-21T12:29:14.594Z"
   },
   {
    "duration": 80,
    "start_time": "2021-06-21T12:29:14.606Z"
   },
   {
    "duration": 98,
    "start_time": "2021-06-21T12:29:14.688Z"
   },
   {
    "duration": 100,
    "start_time": "2021-06-21T12:29:14.788Z"
   },
   {
    "duration": 1025,
    "start_time": "2021-06-21T12:30:08.877Z"
   },
   {
    "duration": 18,
    "start_time": "2021-06-21T12:30:09.904Z"
   },
   {
    "duration": 14,
    "start_time": "2021-06-21T12:30:09.926Z"
   },
   {
    "duration": 6,
    "start_time": "2021-06-21T12:30:09.942Z"
   },
   {
    "duration": 43,
    "start_time": "2021-06-21T12:30:09.949Z"
   },
   {
    "duration": 6,
    "start_time": "2021-06-21T12:30:09.993Z"
   },
   {
    "duration": 11,
    "start_time": "2021-06-21T12:30:10.001Z"
   },
   {
    "duration": 6,
    "start_time": "2021-06-21T12:30:10.014Z"
   },
   {
    "duration": 9,
    "start_time": "2021-06-21T12:30:10.021Z"
   },
   {
    "duration": 16,
    "start_time": "2021-06-21T12:30:10.031Z"
   },
   {
    "duration": 42,
    "start_time": "2021-06-21T12:30:10.049Z"
   },
   {
    "duration": 92,
    "start_time": "2021-06-21T12:30:10.094Z"
   },
   {
    "duration": 7,
    "start_time": "2021-06-21T12:30:10.188Z"
   },
   {
    "duration": 12,
    "start_time": "2021-06-21T12:30:10.197Z"
   },
   {
    "duration": 12,
    "start_time": "2021-06-21T12:30:10.285Z"
   },
   {
    "duration": 187,
    "start_time": "2021-06-21T12:30:10.299Z"
   },
   {
    "duration": 1011,
    "start_time": "2021-06-21T12:32:00.087Z"
   },
   {
    "duration": 19,
    "start_time": "2021-06-21T12:32:01.100Z"
   },
   {
    "duration": 17,
    "start_time": "2021-06-21T12:32:01.121Z"
   },
   {
    "duration": 24,
    "start_time": "2021-06-21T12:32:01.139Z"
   },
   {
    "duration": 30,
    "start_time": "2021-06-21T12:32:01.165Z"
   },
   {
    "duration": 6,
    "start_time": "2021-06-21T12:32:01.197Z"
   },
   {
    "duration": 19,
    "start_time": "2021-06-21T12:32:01.204Z"
   },
   {
    "duration": 9,
    "start_time": "2021-06-21T12:32:01.225Z"
   },
   {
    "duration": 6,
    "start_time": "2021-06-21T12:32:01.236Z"
   },
   {
    "duration": 44,
    "start_time": "2021-06-21T12:32:01.243Z"
   },
   {
    "duration": 97,
    "start_time": "2021-06-21T12:32:01.289Z"
   },
   {
    "duration": 9,
    "start_time": "2021-06-21T12:32:01.388Z"
   },
   {
    "duration": 87,
    "start_time": "2021-06-21T12:32:01.399Z"
   },
   {
    "duration": 18,
    "start_time": "2021-06-21T12:32:01.488Z"
   },
   {
    "duration": 96,
    "start_time": "2021-06-21T12:32:01.508Z"
   },
   {
    "duration": 187,
    "start_time": "2021-06-21T12:32:01.606Z"
   },
   {
    "duration": 1354,
    "start_time": "2021-06-21T19:01:19.258Z"
   },
   {
    "duration": 63,
    "start_time": "2021-06-21T19:01:20.614Z"
   },
   {
    "duration": 22,
    "start_time": "2021-06-21T19:01:20.680Z"
   },
   {
    "duration": 12,
    "start_time": "2021-06-21T19:01:20.706Z"
   },
   {
    "duration": 44,
    "start_time": "2021-06-21T19:01:20.721Z"
   },
   {
    "duration": 35,
    "start_time": "2021-06-21T19:01:20.768Z"
   },
   {
    "duration": 18,
    "start_time": "2021-06-21T19:01:20.806Z"
   },
   {
    "duration": 9,
    "start_time": "2021-06-21T19:01:20.828Z"
   },
   {
    "duration": 8,
    "start_time": "2021-06-21T19:01:20.841Z"
   },
   {
    "duration": 157,
    "start_time": "2021-06-21T19:01:20.852Z"
   },
   {
    "duration": 91,
    "start_time": "2021-06-21T19:01:21.013Z"
   },
   {
    "duration": 15,
    "start_time": "2021-06-21T19:01:21.107Z"
   },
   {
    "duration": 77,
    "start_time": "2021-06-21T19:01:21.125Z"
   },
   {
    "duration": 96,
    "start_time": "2021-06-21T19:01:21.206Z"
   },
   {
    "duration": 95,
    "start_time": "2021-06-21T19:01:21.306Z"
   },
   {
    "duration": 99,
    "start_time": "2021-06-21T19:01:21.408Z"
   }
  ],
  "kernelspec": {
   "display_name": "Python 3 (ipykernel)",
   "language": "python",
   "name": "python3"
  },
  "language_info": {
   "codemirror_mode": {
    "name": "ipython",
    "version": 3
   },
   "file_extension": ".py",
   "mimetype": "text/x-python",
   "name": "python",
   "nbconvert_exporter": "python",
   "pygments_lexer": "ipython3",
   "version": "3.9.5"
  },
  "toc": {
   "base_numbering": 1,
   "nav_menu": {},
   "number_sections": true,
   "sideBar": true,
   "skip_h1_title": true,
   "title_cell": "Содержание",
   "title_sidebar": "Contents",
   "toc_cell": true,
   "toc_position": {},
   "toc_section_display": true,
   "toc_window_display": false
  }
 },
 "nbformat": 4,
 "nbformat_minor": 2
}
