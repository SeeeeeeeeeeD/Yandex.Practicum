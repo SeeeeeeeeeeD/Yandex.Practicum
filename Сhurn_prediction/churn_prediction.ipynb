{
 "cells": [
  {
   "cell_type": "markdown",
   "metadata": {},
   "source": [
    "# Отток клиентов оператора сотовой связи"
   ]
  },
  {
   "cell_type": "markdown",
   "metadata": {},
   "source": [
    "Оператор связи «Ниединогоразрыва.ком» хочет научиться прогнозировать отток клиентов. Если выяснится, что пользователь планирует уйти, ему будут предложены промокоды и специальные условия. Команда оператора собрала персональные данные о некоторых клиентах, информацию об их тарифах и договорах.\n",
    "\n",
    "### Описание услуг\n",
    "\n",
    "Оператор предоставляет два основных типа услуг: \n",
    "\n",
    "1. Стационарную телефонную связь. Возможно подключение телефонного аппарата к нескольким линиям одновременно.\n",
    "2. Интернет. Подключение может быть двух типов: через телефонную линию (DSL*,* от англ. *digital subscriber line*, «цифровая абонентская линия») или оптоволоконный кабель (*Fiber optic*).  \n",
    "\n",
    "Также доступны такие услуги:\n",
    "\n",
    "- Интернет-безопасность: антивирус (*DeviceProtection*) и блокировка небезопасных сайтов (*OnlineSecurity*);\n",
    "- Выделенная линия технической поддержки (*TechSupport*);\n",
    "- Облачное хранилище файлов для резервного копирования данных (*OnlineBackup*);\n",
    "- Стриминговое телевидение (*StreamingTV*) и каталог фильмов (*StreamingMovies*).\n",
    "\n",
    "За услуги клиенты могут платить каждый месяц или заключить договор на 1–2 года. Доступны различные способы расчёта и возможность получения электронного чека.\n",
    "\n",
    "### Описание данных\n",
    "\n",
    "Данные состоят из файлов, полученных из разных источников:\n",
    "\n",
    "- `contract.csv` — информация о договоре;\n",
    "- `personal.csv` — персональные данные клиента;\n",
    "- `internet.csv` — информация об интернет-услугах;\n",
    "- `phone.csv` — информация об услугах телефонии.\n",
    "\n",
    "Во всех файлах столбец `customerID` содержит код клиента.\n",
    "\n",
    "Информация о договорах актуальна на 1 февраля 2020."
   ]
  },
  {
   "cell_type": "markdown",
   "metadata": {},
   "source": [
    "## 1. Исследовательский анализ данных"
   ]
  },
  {
   "cell_type": "markdown",
   "metadata": {},
   "source": [
    "Импортируем необходимые библиотеки"
   ]
  },
  {
   "cell_type": "code",
   "execution_count": 1,
   "metadata": {},
   "outputs": [],
   "source": [
    "import pandas as pd\n",
    "\n",
    "import matplotlib.pylab as plt\n",
    "import seaborn as sns\n",
    "\n",
    "from sklearn.model_selection import train_test_split\n",
    "from sklearn.preprocessing import OrdinalEncoder\n",
    "from sklearn.preprocessing import StandardScaler\n",
    "\n",
    "from sklearn.metrics import accuracy_score\n",
    "from sklearn.metrics import roc_auc_score\n",
    "from sklearn.metrics import make_scorer\n",
    "from sklearn.model_selection import cross_val_score\n",
    "\n",
    "from sklearn.linear_model import LogisticRegression\n",
    "from sklearn.ensemble import RandomForestClassifier\n",
    "from catboost import CatBoostClassifier\n",
    "from sklearn.dummy import DummyClassifier\n",
    "\n",
    "import warnings\n",
    "warnings.filterwarnings('ignore')"
   ]
  },
  {
   "cell_type": "markdown",
   "metadata": {},
   "source": [
    "Загрузим датасеты"
   ]
  },
  {
   "cell_type": "code",
   "execution_count": 2,
   "metadata": {},
   "outputs": [],
   "source": [
    "#contract = pd.read_csv('C://jupyter//final_provider//final_provider//contract.csv')\n",
    "#personal = pd.read_csv('C://jupyter//final_provider//final_provider//personal.csv')\n",
    "#internet = pd.read_csv('C://jupyter//final_provider//final_provider//internet.csv')\n",
    "#phone = pd.read_csv('C://jupyter//final_provider//final_provider//phone.csv')\n",
    "\n",
    "contract = pd.read_csv(\"/datasets/final_provider/contract.csv\")\n",
    "internet = pd.read_csv(\"/datasets/final_provider/internet.csv\")\n",
    "personal = pd.read_csv(\"/datasets/final_provider/personal.csv\")\n",
    "phone = pd.read_csv(\"/datasets/final_provider/phone.csv\")"
   ]
  },
  {
   "cell_type": "markdown",
   "metadata": {},
   "source": [
    "#### Таблица \"Информация о договоре\""
   ]
  },
  {
   "cell_type": "markdown",
   "metadata": {},
   "source": [
    "Описание полей данных:\n",
    "\n",
    "* BeginDate – дата начала пользования услугами,\n",
    "* EndDate – дата окончания пользования услугами,\n",
    "* Type – тип оплаты: ежемесячный, годовой и тд,\n",
    "* PaperlessBilling – безналичный расчет,\n",
    "* PaymentMethod – способ оплаты,\n",
    "* MonthlyCharges – ежемесячные траты на услуги,\n",
    "* TotalCharges – всего потрачено денег на услуги"
   ]
  },
  {
   "cell_type": "code",
   "execution_count": 3,
   "metadata": {
    "scrolled": false
   },
   "outputs": [
    {
     "data": {
      "text/html": [
       "<div>\n",
       "<style scoped>\n",
       "    .dataframe tbody tr th:only-of-type {\n",
       "        vertical-align: middle;\n",
       "    }\n",
       "\n",
       "    .dataframe tbody tr th {\n",
       "        vertical-align: top;\n",
       "    }\n",
       "\n",
       "    .dataframe thead th {\n",
       "        text-align: right;\n",
       "    }\n",
       "</style>\n",
       "<table border=\"1\" class=\"dataframe\">\n",
       "  <thead>\n",
       "    <tr style=\"text-align: right;\">\n",
       "      <th></th>\n",
       "      <th>customerID</th>\n",
       "      <th>BeginDate</th>\n",
       "      <th>EndDate</th>\n",
       "      <th>Type</th>\n",
       "      <th>PaperlessBilling</th>\n",
       "      <th>PaymentMethod</th>\n",
       "      <th>MonthlyCharges</th>\n",
       "      <th>TotalCharges</th>\n",
       "    </tr>\n",
       "  </thead>\n",
       "  <tbody>\n",
       "    <tr>\n",
       "      <th>0</th>\n",
       "      <td>7590-VHVEG</td>\n",
       "      <td>2020-01-01</td>\n",
       "      <td>No</td>\n",
       "      <td>Month-to-month</td>\n",
       "      <td>Yes</td>\n",
       "      <td>Electronic check</td>\n",
       "      <td>29.85</td>\n",
       "      <td>29.85</td>\n",
       "    </tr>\n",
       "    <tr>\n",
       "      <th>1</th>\n",
       "      <td>5575-GNVDE</td>\n",
       "      <td>2017-04-01</td>\n",
       "      <td>No</td>\n",
       "      <td>One year</td>\n",
       "      <td>No</td>\n",
       "      <td>Mailed check</td>\n",
       "      <td>56.95</td>\n",
       "      <td>1889.5</td>\n",
       "    </tr>\n",
       "    <tr>\n",
       "      <th>2</th>\n",
       "      <td>3668-QPYBK</td>\n",
       "      <td>2019-10-01</td>\n",
       "      <td>2019-12-01 00:00:00</td>\n",
       "      <td>Month-to-month</td>\n",
       "      <td>Yes</td>\n",
       "      <td>Mailed check</td>\n",
       "      <td>53.85</td>\n",
       "      <td>108.15</td>\n",
       "    </tr>\n",
       "    <tr>\n",
       "      <th>3</th>\n",
       "      <td>7795-CFOCW</td>\n",
       "      <td>2016-05-01</td>\n",
       "      <td>No</td>\n",
       "      <td>One year</td>\n",
       "      <td>No</td>\n",
       "      <td>Bank transfer (automatic)</td>\n",
       "      <td>42.30</td>\n",
       "      <td>1840.75</td>\n",
       "    </tr>\n",
       "    <tr>\n",
       "      <th>4</th>\n",
       "      <td>9237-HQITU</td>\n",
       "      <td>2019-09-01</td>\n",
       "      <td>2019-11-01 00:00:00</td>\n",
       "      <td>Month-to-month</td>\n",
       "      <td>Yes</td>\n",
       "      <td>Electronic check</td>\n",
       "      <td>70.70</td>\n",
       "      <td>151.65</td>\n",
       "    </tr>\n",
       "    <tr>\n",
       "      <th>...</th>\n",
       "      <td>...</td>\n",
       "      <td>...</td>\n",
       "      <td>...</td>\n",
       "      <td>...</td>\n",
       "      <td>...</td>\n",
       "      <td>...</td>\n",
       "      <td>...</td>\n",
       "      <td>...</td>\n",
       "    </tr>\n",
       "    <tr>\n",
       "      <th>7038</th>\n",
       "      <td>6840-RESVB</td>\n",
       "      <td>2018-02-01</td>\n",
       "      <td>No</td>\n",
       "      <td>One year</td>\n",
       "      <td>Yes</td>\n",
       "      <td>Mailed check</td>\n",
       "      <td>84.80</td>\n",
       "      <td>1990.5</td>\n",
       "    </tr>\n",
       "    <tr>\n",
       "      <th>7039</th>\n",
       "      <td>2234-XADUH</td>\n",
       "      <td>2014-02-01</td>\n",
       "      <td>No</td>\n",
       "      <td>One year</td>\n",
       "      <td>Yes</td>\n",
       "      <td>Credit card (automatic)</td>\n",
       "      <td>103.20</td>\n",
       "      <td>7362.9</td>\n",
       "    </tr>\n",
       "    <tr>\n",
       "      <th>7040</th>\n",
       "      <td>4801-JZAZL</td>\n",
       "      <td>2019-03-01</td>\n",
       "      <td>No</td>\n",
       "      <td>Month-to-month</td>\n",
       "      <td>Yes</td>\n",
       "      <td>Electronic check</td>\n",
       "      <td>29.60</td>\n",
       "      <td>346.45</td>\n",
       "    </tr>\n",
       "    <tr>\n",
       "      <th>7041</th>\n",
       "      <td>8361-LTMKD</td>\n",
       "      <td>2019-07-01</td>\n",
       "      <td>2019-11-01 00:00:00</td>\n",
       "      <td>Month-to-month</td>\n",
       "      <td>Yes</td>\n",
       "      <td>Mailed check</td>\n",
       "      <td>74.40</td>\n",
       "      <td>306.6</td>\n",
       "    </tr>\n",
       "    <tr>\n",
       "      <th>7042</th>\n",
       "      <td>3186-AJIEK</td>\n",
       "      <td>2014-08-01</td>\n",
       "      <td>No</td>\n",
       "      <td>Two year</td>\n",
       "      <td>Yes</td>\n",
       "      <td>Bank transfer (automatic)</td>\n",
       "      <td>105.65</td>\n",
       "      <td>6844.5</td>\n",
       "    </tr>\n",
       "  </tbody>\n",
       "</table>\n",
       "<p>7043 rows × 8 columns</p>\n",
       "</div>"
      ],
      "text/plain": [
       "      customerID   BeginDate              EndDate            Type  \\\n",
       "0     7590-VHVEG  2020-01-01                   No  Month-to-month   \n",
       "1     5575-GNVDE  2017-04-01                   No        One year   \n",
       "2     3668-QPYBK  2019-10-01  2019-12-01 00:00:00  Month-to-month   \n",
       "3     7795-CFOCW  2016-05-01                   No        One year   \n",
       "4     9237-HQITU  2019-09-01  2019-11-01 00:00:00  Month-to-month   \n",
       "...          ...         ...                  ...             ...   \n",
       "7038  6840-RESVB  2018-02-01                   No        One year   \n",
       "7039  2234-XADUH  2014-02-01                   No        One year   \n",
       "7040  4801-JZAZL  2019-03-01                   No  Month-to-month   \n",
       "7041  8361-LTMKD  2019-07-01  2019-11-01 00:00:00  Month-to-month   \n",
       "7042  3186-AJIEK  2014-08-01                   No        Two year   \n",
       "\n",
       "     PaperlessBilling              PaymentMethod  MonthlyCharges TotalCharges  \n",
       "0                 Yes           Electronic check           29.85        29.85  \n",
       "1                  No               Mailed check           56.95       1889.5  \n",
       "2                 Yes               Mailed check           53.85       108.15  \n",
       "3                  No  Bank transfer (automatic)           42.30      1840.75  \n",
       "4                 Yes           Electronic check           70.70       151.65  \n",
       "...               ...                        ...             ...          ...  \n",
       "7038              Yes               Mailed check           84.80       1990.5  \n",
       "7039              Yes    Credit card (automatic)          103.20       7362.9  \n",
       "7040              Yes           Electronic check           29.60       346.45  \n",
       "7041              Yes               Mailed check           74.40        306.6  \n",
       "7042              Yes  Bank transfer (automatic)          105.65       6844.5  \n",
       "\n",
       "[7043 rows x 8 columns]"
      ]
     },
     "execution_count": 3,
     "metadata": {},
     "output_type": "execute_result"
    }
   ],
   "source": [
    "contract"
   ]
  },
  {
   "cell_type": "markdown",
   "metadata": {},
   "source": [
    "Данные загружены корректно.\n",
    "\n",
    "Названия столбцов можно привести к единому стилю CamelCase."
   ]
  },
  {
   "cell_type": "code",
   "execution_count": 4,
   "metadata": {},
   "outputs": [],
   "source": [
    "contract.rename(columns={'customerID': 'CustomerID'}, inplace=True)"
   ]
  },
  {
   "cell_type": "code",
   "execution_count": 5,
   "metadata": {},
   "outputs": [
    {
     "data": {
      "text/plain": [
       "Index(['CustomerID', 'BeginDate', 'EndDate', 'Type', 'PaperlessBilling',\n",
       "       'PaymentMethod', 'MonthlyCharges', 'TotalCharges'],\n",
       "      dtype='object')"
      ]
     },
     "execution_count": 5,
     "metadata": {},
     "output_type": "execute_result"
    }
   ],
   "source": [
    "contract.columns"
   ]
  },
  {
   "cell_type": "markdown",
   "metadata": {},
   "source": [
    "Посмотрим базовую информацию"
   ]
  },
  {
   "cell_type": "code",
   "execution_count": 6,
   "metadata": {},
   "outputs": [
    {
     "name": "stdout",
     "output_type": "stream",
     "text": [
      "<class 'pandas.core.frame.DataFrame'>\n",
      "RangeIndex: 7043 entries, 0 to 7042\n",
      "Data columns (total 8 columns):\n",
      " #   Column            Non-Null Count  Dtype  \n",
      "---  ------            --------------  -----  \n",
      " 0   CustomerID        7043 non-null   object \n",
      " 1   BeginDate         7043 non-null   object \n",
      " 2   EndDate           7043 non-null   object \n",
      " 3   Type              7043 non-null   object \n",
      " 4   PaperlessBilling  7043 non-null   object \n",
      " 5   PaymentMethod     7043 non-null   object \n",
      " 6   MonthlyCharges    7043 non-null   float64\n",
      " 7   TotalCharges      7043 non-null   object \n",
      "dtypes: float64(1), object(7)\n",
      "memory usage: 440.3+ KB\n"
     ]
    }
   ],
   "source": [
    "contract.info()"
   ]
  },
  {
   "cell_type": "markdown",
   "metadata": {},
   "source": [
    "Пропуски в данных отсутствуют.\n",
    "\n",
    "При этом необходимо заменить тип данных в некоторых столбцах:\n",
    "* BeginDate -  datetime\n",
    "\n",
    "* TotalCharges - float\n",
    "\n",
    "Целевого столбца в явном виде нет, но наличие или отсутствие даты в столбце 'EndDate' явно говорит о том, ушёл клиент или нет. Поэтому в дальнейшем необходимо будет выделить из этого столбца целевой признак."
   ]
  },
  {
   "cell_type": "code",
   "execution_count": 7,
   "metadata": {},
   "outputs": [],
   "source": [
    "# Заменим типы данных:\n",
    "\n",
    "contract['BeginDate'] = pd.to_datetime(contract['BeginDate'], format='%Y-%m-%d')\n",
    "contract['TotalCharges'] = pd.to_numeric(contract['TotalCharges'], errors='coerce')"
   ]
  },
  {
   "cell_type": "markdown",
   "metadata": {},
   "source": [
    "Посмотрим на количество дублей"
   ]
  },
  {
   "cell_type": "code",
   "execution_count": 8,
   "metadata": {},
   "outputs": [
    {
     "data": {
      "text/plain": [
       "0"
      ]
     },
     "execution_count": 8,
     "metadata": {},
     "output_type": "execute_result"
    }
   ],
   "source": [
    "contract.duplicated().sum()"
   ]
  },
  {
   "cell_type": "markdown",
   "metadata": {},
   "source": [
    "Дубликаты отсутствуют, хорошо. Переходим к следующему датафрейму."
   ]
  },
  {
   "cell_type": "markdown",
   "metadata": {},
   "source": [
    "#### Таблица \"Персональные данные клиента\""
   ]
  },
  {
   "cell_type": "markdown",
   "metadata": {},
   "source": [
    "Описание полей данных:\n",
    "\n",
    "* Gender - пол\t\n",
    "* Dependents – наличие иждивенцев\n",
    "* Senior Citizen – наличие пенсионного статуса по возрасту\n",
    "* Partner – наличие супруга(и)"
   ]
  },
  {
   "cell_type": "code",
   "execution_count": 9,
   "metadata": {},
   "outputs": [
    {
     "data": {
      "text/html": [
       "<div>\n",
       "<style scoped>\n",
       "    .dataframe tbody tr th:only-of-type {\n",
       "        vertical-align: middle;\n",
       "    }\n",
       "\n",
       "    .dataframe tbody tr th {\n",
       "        vertical-align: top;\n",
       "    }\n",
       "\n",
       "    .dataframe thead th {\n",
       "        text-align: right;\n",
       "    }\n",
       "</style>\n",
       "<table border=\"1\" class=\"dataframe\">\n",
       "  <thead>\n",
       "    <tr style=\"text-align: right;\">\n",
       "      <th></th>\n",
       "      <th>customerID</th>\n",
       "      <th>gender</th>\n",
       "      <th>SeniorCitizen</th>\n",
       "      <th>Partner</th>\n",
       "      <th>Dependents</th>\n",
       "    </tr>\n",
       "  </thead>\n",
       "  <tbody>\n",
       "    <tr>\n",
       "      <th>0</th>\n",
       "      <td>7590-VHVEG</td>\n",
       "      <td>Female</td>\n",
       "      <td>0</td>\n",
       "      <td>Yes</td>\n",
       "      <td>No</td>\n",
       "    </tr>\n",
       "    <tr>\n",
       "      <th>1</th>\n",
       "      <td>5575-GNVDE</td>\n",
       "      <td>Male</td>\n",
       "      <td>0</td>\n",
       "      <td>No</td>\n",
       "      <td>No</td>\n",
       "    </tr>\n",
       "    <tr>\n",
       "      <th>2</th>\n",
       "      <td>3668-QPYBK</td>\n",
       "      <td>Male</td>\n",
       "      <td>0</td>\n",
       "      <td>No</td>\n",
       "      <td>No</td>\n",
       "    </tr>\n",
       "    <tr>\n",
       "      <th>3</th>\n",
       "      <td>7795-CFOCW</td>\n",
       "      <td>Male</td>\n",
       "      <td>0</td>\n",
       "      <td>No</td>\n",
       "      <td>No</td>\n",
       "    </tr>\n",
       "    <tr>\n",
       "      <th>4</th>\n",
       "      <td>9237-HQITU</td>\n",
       "      <td>Female</td>\n",
       "      <td>0</td>\n",
       "      <td>No</td>\n",
       "      <td>No</td>\n",
       "    </tr>\n",
       "    <tr>\n",
       "      <th>...</th>\n",
       "      <td>...</td>\n",
       "      <td>...</td>\n",
       "      <td>...</td>\n",
       "      <td>...</td>\n",
       "      <td>...</td>\n",
       "    </tr>\n",
       "    <tr>\n",
       "      <th>7038</th>\n",
       "      <td>6840-RESVB</td>\n",
       "      <td>Male</td>\n",
       "      <td>0</td>\n",
       "      <td>Yes</td>\n",
       "      <td>Yes</td>\n",
       "    </tr>\n",
       "    <tr>\n",
       "      <th>7039</th>\n",
       "      <td>2234-XADUH</td>\n",
       "      <td>Female</td>\n",
       "      <td>0</td>\n",
       "      <td>Yes</td>\n",
       "      <td>Yes</td>\n",
       "    </tr>\n",
       "    <tr>\n",
       "      <th>7040</th>\n",
       "      <td>4801-JZAZL</td>\n",
       "      <td>Female</td>\n",
       "      <td>0</td>\n",
       "      <td>Yes</td>\n",
       "      <td>Yes</td>\n",
       "    </tr>\n",
       "    <tr>\n",
       "      <th>7041</th>\n",
       "      <td>8361-LTMKD</td>\n",
       "      <td>Male</td>\n",
       "      <td>1</td>\n",
       "      <td>Yes</td>\n",
       "      <td>No</td>\n",
       "    </tr>\n",
       "    <tr>\n",
       "      <th>7042</th>\n",
       "      <td>3186-AJIEK</td>\n",
       "      <td>Male</td>\n",
       "      <td>0</td>\n",
       "      <td>No</td>\n",
       "      <td>No</td>\n",
       "    </tr>\n",
       "  </tbody>\n",
       "</table>\n",
       "<p>7043 rows × 5 columns</p>\n",
       "</div>"
      ],
      "text/plain": [
       "      customerID  gender  SeniorCitizen Partner Dependents\n",
       "0     7590-VHVEG  Female              0     Yes         No\n",
       "1     5575-GNVDE    Male              0      No         No\n",
       "2     3668-QPYBK    Male              0      No         No\n",
       "3     7795-CFOCW    Male              0      No         No\n",
       "4     9237-HQITU  Female              0      No         No\n",
       "...          ...     ...            ...     ...        ...\n",
       "7038  6840-RESVB    Male              0     Yes        Yes\n",
       "7039  2234-XADUH  Female              0     Yes        Yes\n",
       "7040  4801-JZAZL  Female              0     Yes        Yes\n",
       "7041  8361-LTMKD    Male              1     Yes         No\n",
       "7042  3186-AJIEK    Male              0      No         No\n",
       "\n",
       "[7043 rows x 5 columns]"
      ]
     },
     "execution_count": 9,
     "metadata": {},
     "output_type": "execute_result"
    }
   ],
   "source": [
    "personal"
   ]
  },
  {
   "cell_type": "markdown",
   "metadata": {},
   "source": [
    "В таблице содержится 7043 объекта исследования и 5 признаков объектов."
   ]
  },
  {
   "cell_type": "markdown",
   "metadata": {},
   "source": [
    "Приведём названия столбцов к единому стилю."
   ]
  },
  {
   "cell_type": "code",
   "execution_count": 10,
   "metadata": {},
   "outputs": [
    {
     "data": {
      "text/plain": [
       "Index(['CustomerID', 'Gender', 'SeniorCitizen', 'Partner', 'Dependents'], dtype='object')"
      ]
     },
     "execution_count": 10,
     "metadata": {},
     "output_type": "execute_result"
    }
   ],
   "source": [
    "personal.rename(columns={'customerID': 'CustomerID', 'gender': 'Gender'}, inplace=True)\n",
    "personal.columns"
   ]
  },
  {
   "cell_type": "markdown",
   "metadata": {},
   "source": [
    "Посмотрим базовую информацию"
   ]
  },
  {
   "cell_type": "code",
   "execution_count": 11,
   "metadata": {},
   "outputs": [
    {
     "name": "stdout",
     "output_type": "stream",
     "text": [
      "<class 'pandas.core.frame.DataFrame'>\n",
      "RangeIndex: 7043 entries, 0 to 7042\n",
      "Data columns (total 5 columns):\n",
      " #   Column         Non-Null Count  Dtype \n",
      "---  ------         --------------  ----- \n",
      " 0   CustomerID     7043 non-null   object\n",
      " 1   Gender         7043 non-null   object\n",
      " 2   SeniorCitizen  7043 non-null   int64 \n",
      " 3   Partner        7043 non-null   object\n",
      " 4   Dependents     7043 non-null   object\n",
      "dtypes: int64(1), object(4)\n",
      "memory usage: 275.2+ KB\n"
     ]
    }
   ],
   "source": [
    "personal.info()"
   ]
  },
  {
   "cell_type": "markdown",
   "metadata": {},
   "source": [
    "Типы данных оставляем без измененний."
   ]
  },
  {
   "cell_type": "markdown",
   "metadata": {},
   "source": [
    "Посмотрим на количество дубликатов"
   ]
  },
  {
   "cell_type": "code",
   "execution_count": 12,
   "metadata": {},
   "outputs": [
    {
     "data": {
      "text/plain": [
       "0"
      ]
     },
     "execution_count": 12,
     "metadata": {},
     "output_type": "execute_result"
    }
   ],
   "source": [
    "personal.duplicated().sum()"
   ]
  },
  {
   "cell_type": "markdown",
   "metadata": {},
   "source": [
    "Дубликаты отсутствуют. "
   ]
  },
  {
   "cell_type": "markdown",
   "metadata": {},
   "source": [
    "#### Таблица \"Информация об интернет-услугах\""
   ]
  },
  {
   "cell_type": "code",
   "execution_count": 13,
   "metadata": {},
   "outputs": [
    {
     "data": {
      "text/html": [
       "<div>\n",
       "<style scoped>\n",
       "    .dataframe tbody tr th:only-of-type {\n",
       "        vertical-align: middle;\n",
       "    }\n",
       "\n",
       "    .dataframe tbody tr th {\n",
       "        vertical-align: top;\n",
       "    }\n",
       "\n",
       "    .dataframe thead th {\n",
       "        text-align: right;\n",
       "    }\n",
       "</style>\n",
       "<table border=\"1\" class=\"dataframe\">\n",
       "  <thead>\n",
       "    <tr style=\"text-align: right;\">\n",
       "      <th></th>\n",
       "      <th>customerID</th>\n",
       "      <th>InternetService</th>\n",
       "      <th>OnlineSecurity</th>\n",
       "      <th>OnlineBackup</th>\n",
       "      <th>DeviceProtection</th>\n",
       "      <th>TechSupport</th>\n",
       "      <th>StreamingTV</th>\n",
       "      <th>StreamingMovies</th>\n",
       "    </tr>\n",
       "  </thead>\n",
       "  <tbody>\n",
       "    <tr>\n",
       "      <th>0</th>\n",
       "      <td>7590-VHVEG</td>\n",
       "      <td>DSL</td>\n",
       "      <td>No</td>\n",
       "      <td>Yes</td>\n",
       "      <td>No</td>\n",
       "      <td>No</td>\n",
       "      <td>No</td>\n",
       "      <td>No</td>\n",
       "    </tr>\n",
       "    <tr>\n",
       "      <th>1</th>\n",
       "      <td>5575-GNVDE</td>\n",
       "      <td>DSL</td>\n",
       "      <td>Yes</td>\n",
       "      <td>No</td>\n",
       "      <td>Yes</td>\n",
       "      <td>No</td>\n",
       "      <td>No</td>\n",
       "      <td>No</td>\n",
       "    </tr>\n",
       "    <tr>\n",
       "      <th>2</th>\n",
       "      <td>3668-QPYBK</td>\n",
       "      <td>DSL</td>\n",
       "      <td>Yes</td>\n",
       "      <td>Yes</td>\n",
       "      <td>No</td>\n",
       "      <td>No</td>\n",
       "      <td>No</td>\n",
       "      <td>No</td>\n",
       "    </tr>\n",
       "    <tr>\n",
       "      <th>3</th>\n",
       "      <td>7795-CFOCW</td>\n",
       "      <td>DSL</td>\n",
       "      <td>Yes</td>\n",
       "      <td>No</td>\n",
       "      <td>Yes</td>\n",
       "      <td>Yes</td>\n",
       "      <td>No</td>\n",
       "      <td>No</td>\n",
       "    </tr>\n",
       "    <tr>\n",
       "      <th>4</th>\n",
       "      <td>9237-HQITU</td>\n",
       "      <td>Fiber optic</td>\n",
       "      <td>No</td>\n",
       "      <td>No</td>\n",
       "      <td>No</td>\n",
       "      <td>No</td>\n",
       "      <td>No</td>\n",
       "      <td>No</td>\n",
       "    </tr>\n",
       "    <tr>\n",
       "      <th>...</th>\n",
       "      <td>...</td>\n",
       "      <td>...</td>\n",
       "      <td>...</td>\n",
       "      <td>...</td>\n",
       "      <td>...</td>\n",
       "      <td>...</td>\n",
       "      <td>...</td>\n",
       "      <td>...</td>\n",
       "    </tr>\n",
       "    <tr>\n",
       "      <th>5512</th>\n",
       "      <td>6840-RESVB</td>\n",
       "      <td>DSL</td>\n",
       "      <td>Yes</td>\n",
       "      <td>No</td>\n",
       "      <td>Yes</td>\n",
       "      <td>Yes</td>\n",
       "      <td>Yes</td>\n",
       "      <td>Yes</td>\n",
       "    </tr>\n",
       "    <tr>\n",
       "      <th>5513</th>\n",
       "      <td>2234-XADUH</td>\n",
       "      <td>Fiber optic</td>\n",
       "      <td>No</td>\n",
       "      <td>Yes</td>\n",
       "      <td>Yes</td>\n",
       "      <td>No</td>\n",
       "      <td>Yes</td>\n",
       "      <td>Yes</td>\n",
       "    </tr>\n",
       "    <tr>\n",
       "      <th>5514</th>\n",
       "      <td>4801-JZAZL</td>\n",
       "      <td>DSL</td>\n",
       "      <td>Yes</td>\n",
       "      <td>No</td>\n",
       "      <td>No</td>\n",
       "      <td>No</td>\n",
       "      <td>No</td>\n",
       "      <td>No</td>\n",
       "    </tr>\n",
       "    <tr>\n",
       "      <th>5515</th>\n",
       "      <td>8361-LTMKD</td>\n",
       "      <td>Fiber optic</td>\n",
       "      <td>No</td>\n",
       "      <td>No</td>\n",
       "      <td>No</td>\n",
       "      <td>No</td>\n",
       "      <td>No</td>\n",
       "      <td>No</td>\n",
       "    </tr>\n",
       "    <tr>\n",
       "      <th>5516</th>\n",
       "      <td>3186-AJIEK</td>\n",
       "      <td>Fiber optic</td>\n",
       "      <td>Yes</td>\n",
       "      <td>No</td>\n",
       "      <td>Yes</td>\n",
       "      <td>Yes</td>\n",
       "      <td>Yes</td>\n",
       "      <td>Yes</td>\n",
       "    </tr>\n",
       "  </tbody>\n",
       "</table>\n",
       "<p>5517 rows × 8 columns</p>\n",
       "</div>"
      ],
      "text/plain": [
       "      customerID InternetService OnlineSecurity OnlineBackup DeviceProtection  \\\n",
       "0     7590-VHVEG             DSL             No          Yes               No   \n",
       "1     5575-GNVDE             DSL            Yes           No              Yes   \n",
       "2     3668-QPYBK             DSL            Yes          Yes               No   \n",
       "3     7795-CFOCW             DSL            Yes           No              Yes   \n",
       "4     9237-HQITU     Fiber optic             No           No               No   \n",
       "...          ...             ...            ...          ...              ...   \n",
       "5512  6840-RESVB             DSL            Yes           No              Yes   \n",
       "5513  2234-XADUH     Fiber optic             No          Yes              Yes   \n",
       "5514  4801-JZAZL             DSL            Yes           No               No   \n",
       "5515  8361-LTMKD     Fiber optic             No           No               No   \n",
       "5516  3186-AJIEK     Fiber optic            Yes           No              Yes   \n",
       "\n",
       "     TechSupport StreamingTV StreamingMovies  \n",
       "0             No          No              No  \n",
       "1             No          No              No  \n",
       "2             No          No              No  \n",
       "3            Yes          No              No  \n",
       "4             No          No              No  \n",
       "...          ...         ...             ...  \n",
       "5512         Yes         Yes             Yes  \n",
       "5513          No         Yes             Yes  \n",
       "5514          No          No              No  \n",
       "5515          No          No              No  \n",
       "5516         Yes         Yes             Yes  \n",
       "\n",
       "[5517 rows x 8 columns]"
      ]
     },
     "execution_count": 13,
     "metadata": {},
     "output_type": "execute_result"
    }
   ],
   "source": [
    "internet"
   ]
  },
  {
   "cell_type": "markdown",
   "metadata": {},
   "source": [
    "В таблице содержится 5517 объектов исследования и 8 признаков объектов."
   ]
  },
  {
   "cell_type": "markdown",
   "metadata": {},
   "source": [
    "Приведём названия столбцов к единому стилю."
   ]
  },
  {
   "cell_type": "code",
   "execution_count": 14,
   "metadata": {},
   "outputs": [
    {
     "data": {
      "text/plain": [
       "Index(['CustomerID', 'InternetService', 'OnlineSecurity', 'OnlineBackup',\n",
       "       'DeviceProtection', 'TechSupport', 'StreamingTV', 'StreamingMovies'],\n",
       "      dtype='object')"
      ]
     },
     "execution_count": 14,
     "metadata": {},
     "output_type": "execute_result"
    }
   ],
   "source": [
    "internet.rename(columns={'customerID': 'CustomerID'}, inplace=True)\n",
    "internet.columns"
   ]
  },
  {
   "cell_type": "markdown",
   "metadata": {},
   "source": [
    "Взглянем на базовую информацию"
   ]
  },
  {
   "cell_type": "code",
   "execution_count": 15,
   "metadata": {},
   "outputs": [
    {
     "name": "stdout",
     "output_type": "stream",
     "text": [
      "<class 'pandas.core.frame.DataFrame'>\n",
      "RangeIndex: 5517 entries, 0 to 5516\n",
      "Data columns (total 8 columns):\n",
      " #   Column            Non-Null Count  Dtype \n",
      "---  ------            --------------  ----- \n",
      " 0   CustomerID        5517 non-null   object\n",
      " 1   InternetService   5517 non-null   object\n",
      " 2   OnlineSecurity    5517 non-null   object\n",
      " 3   OnlineBackup      5517 non-null   object\n",
      " 4   DeviceProtection  5517 non-null   object\n",
      " 5   TechSupport       5517 non-null   object\n",
      " 6   StreamingTV       5517 non-null   object\n",
      " 7   StreamingMovies   5517 non-null   object\n",
      "dtypes: object(8)\n",
      "memory usage: 344.9+ KB\n"
     ]
    }
   ],
   "source": [
    "internet.info()"
   ]
  },
  {
   "cell_type": "markdown",
   "metadata": {},
   "source": [
    "Пропуски отсутствуют. Все типы данных корректны."
   ]
  },
  {
   "cell_type": "markdown",
   "metadata": {},
   "source": [
    "Посмотрим на количество дубликатов"
   ]
  },
  {
   "cell_type": "code",
   "execution_count": 16,
   "metadata": {},
   "outputs": [
    {
     "data": {
      "text/plain": [
       "0"
      ]
     },
     "execution_count": 16,
     "metadata": {},
     "output_type": "execute_result"
    }
   ],
   "source": [
    "internet.duplicated().sum()"
   ]
  },
  {
   "cell_type": "markdown",
   "metadata": {},
   "source": [
    "Дубликаты отсутствуют. "
   ]
  },
  {
   "cell_type": "markdown",
   "metadata": {},
   "source": [
    "#### Таблица \"Информация об услугах телефонии\""
   ]
  },
  {
   "cell_type": "code",
   "execution_count": 17,
   "metadata": {},
   "outputs": [
    {
     "data": {
      "text/html": [
       "<div>\n",
       "<style scoped>\n",
       "    .dataframe tbody tr th:only-of-type {\n",
       "        vertical-align: middle;\n",
       "    }\n",
       "\n",
       "    .dataframe tbody tr th {\n",
       "        vertical-align: top;\n",
       "    }\n",
       "\n",
       "    .dataframe thead th {\n",
       "        text-align: right;\n",
       "    }\n",
       "</style>\n",
       "<table border=\"1\" class=\"dataframe\">\n",
       "  <thead>\n",
       "    <tr style=\"text-align: right;\">\n",
       "      <th></th>\n",
       "      <th>customerID</th>\n",
       "      <th>MultipleLines</th>\n",
       "    </tr>\n",
       "  </thead>\n",
       "  <tbody>\n",
       "    <tr>\n",
       "      <th>0</th>\n",
       "      <td>5575-GNVDE</td>\n",
       "      <td>No</td>\n",
       "    </tr>\n",
       "    <tr>\n",
       "      <th>1</th>\n",
       "      <td>3668-QPYBK</td>\n",
       "      <td>No</td>\n",
       "    </tr>\n",
       "    <tr>\n",
       "      <th>2</th>\n",
       "      <td>9237-HQITU</td>\n",
       "      <td>No</td>\n",
       "    </tr>\n",
       "    <tr>\n",
       "      <th>3</th>\n",
       "      <td>9305-CDSKC</td>\n",
       "      <td>Yes</td>\n",
       "    </tr>\n",
       "    <tr>\n",
       "      <th>4</th>\n",
       "      <td>1452-KIOVK</td>\n",
       "      <td>Yes</td>\n",
       "    </tr>\n",
       "    <tr>\n",
       "      <th>...</th>\n",
       "      <td>...</td>\n",
       "      <td>...</td>\n",
       "    </tr>\n",
       "    <tr>\n",
       "      <th>6356</th>\n",
       "      <td>2569-WGERO</td>\n",
       "      <td>No</td>\n",
       "    </tr>\n",
       "    <tr>\n",
       "      <th>6357</th>\n",
       "      <td>6840-RESVB</td>\n",
       "      <td>Yes</td>\n",
       "    </tr>\n",
       "    <tr>\n",
       "      <th>6358</th>\n",
       "      <td>2234-XADUH</td>\n",
       "      <td>Yes</td>\n",
       "    </tr>\n",
       "    <tr>\n",
       "      <th>6359</th>\n",
       "      <td>8361-LTMKD</td>\n",
       "      <td>Yes</td>\n",
       "    </tr>\n",
       "    <tr>\n",
       "      <th>6360</th>\n",
       "      <td>3186-AJIEK</td>\n",
       "      <td>No</td>\n",
       "    </tr>\n",
       "  </tbody>\n",
       "</table>\n",
       "<p>6361 rows × 2 columns</p>\n",
       "</div>"
      ],
      "text/plain": [
       "      customerID MultipleLines\n",
       "0     5575-GNVDE            No\n",
       "1     3668-QPYBK            No\n",
       "2     9237-HQITU            No\n",
       "3     9305-CDSKC           Yes\n",
       "4     1452-KIOVK           Yes\n",
       "...          ...           ...\n",
       "6356  2569-WGERO            No\n",
       "6357  6840-RESVB           Yes\n",
       "6358  2234-XADUH           Yes\n",
       "6359  8361-LTMKD           Yes\n",
       "6360  3186-AJIEK            No\n",
       "\n",
       "[6361 rows x 2 columns]"
      ]
     },
     "execution_count": 17,
     "metadata": {},
     "output_type": "execute_result"
    }
   ],
   "source": [
    "phone"
   ]
  },
  {
   "cell_type": "markdown",
   "metadata": {},
   "source": [
    "В таблице содержится 6361 объект исследования и 2 признака объектов."
   ]
  },
  {
   "cell_type": "markdown",
   "metadata": {},
   "source": [
    "Приведём названия столбцов к единому стилю."
   ]
  },
  {
   "cell_type": "code",
   "execution_count": 18,
   "metadata": {},
   "outputs": [
    {
     "data": {
      "text/plain": [
       "Index(['CustomerID', 'MultipleLines'], dtype='object')"
      ]
     },
     "execution_count": 18,
     "metadata": {},
     "output_type": "execute_result"
    }
   ],
   "source": [
    "phone.rename(columns={'customerID': 'CustomerID'}, inplace=True)\n",
    "phone.columns"
   ]
  },
  {
   "cell_type": "markdown",
   "metadata": {},
   "source": [
    "Посмотрим на базовую информацию"
   ]
  },
  {
   "cell_type": "code",
   "execution_count": 19,
   "metadata": {},
   "outputs": [
    {
     "name": "stdout",
     "output_type": "stream",
     "text": [
      "<class 'pandas.core.frame.DataFrame'>\n",
      "RangeIndex: 6361 entries, 0 to 6360\n",
      "Data columns (total 2 columns):\n",
      " #   Column         Non-Null Count  Dtype \n",
      "---  ------         --------------  ----- \n",
      " 0   CustomerID     6361 non-null   object\n",
      " 1   MultipleLines  6361 non-null   object\n",
      "dtypes: object(2)\n",
      "memory usage: 99.5+ KB\n"
     ]
    }
   ],
   "source": [
    "phone.info()"
   ]
  },
  {
   "cell_type": "markdown",
   "metadata": {},
   "source": [
    "Пропуски отсутствуют. Все типы данных корректны."
   ]
  },
  {
   "cell_type": "markdown",
   "metadata": {},
   "source": [
    "Посмотрим на количество дубликатов"
   ]
  },
  {
   "cell_type": "code",
   "execution_count": 20,
   "metadata": {},
   "outputs": [
    {
     "data": {
      "text/plain": [
       "0"
      ]
     },
     "execution_count": 20,
     "metadata": {},
     "output_type": "execute_result"
    }
   ],
   "source": [
    "phone.duplicated().sum()"
   ]
  },
  {
   "cell_type": "markdown",
   "metadata": {},
   "source": [
    "Дубликаты отсутствуют. "
   ]
  },
  {
   "cell_type": "markdown",
   "metadata": {},
   "source": [
    "#### Вывод:\n",
    "\n",
    "В процессе исследовательского анализа мы посмотрели все предоставленные таблицы и установили следующее:\n",
    "\n",
    "* Все таблицы содержат уникальный код клиента `customerID`. В дальнейшем таблицы можно будет объединить в одну по данному признаку.\n",
    "* Таблицы с информацией об интернет-услугах и услугах телефонии содержат значительно меньше строк, чем таблица с контактами клиентов. Это означает, что не каждый клиент пользуется сразу всеми видами услуг. \n",
    "* На основе столбца `EndDate` в дальнейшем необходимо будет сформировать новый столбец с целевым признаком.\n",
    "* Пропуски в данных не обнаружены.\n",
    "* Неверные типы данных были заменены."
   ]
  },
  {
   "cell_type": "markdown",
   "metadata": {},
   "source": [
    "## 2. Предобработка данных"
   ]
  },
  {
   "cell_type": "markdown",
   "metadata": {},
   "source": [
    "Объединим все четыре таблицы в одну и далее будем работать со всеми признаками вместе."
   ]
  },
  {
   "cell_type": "code",
   "execution_count": 21,
   "metadata": {},
   "outputs": [
    {
     "data": {
      "text/html": [
       "<div>\n",
       "<style scoped>\n",
       "    .dataframe tbody tr th:only-of-type {\n",
       "        vertical-align: middle;\n",
       "    }\n",
       "\n",
       "    .dataframe tbody tr th {\n",
       "        vertical-align: top;\n",
       "    }\n",
       "\n",
       "    .dataframe thead th {\n",
       "        text-align: right;\n",
       "    }\n",
       "</style>\n",
       "<table border=\"1\" class=\"dataframe\">\n",
       "  <thead>\n",
       "    <tr style=\"text-align: right;\">\n",
       "      <th></th>\n",
       "      <th>CustomerID</th>\n",
       "      <th>BeginDate</th>\n",
       "      <th>EndDate</th>\n",
       "      <th>Type</th>\n",
       "      <th>PaperlessBilling</th>\n",
       "      <th>PaymentMethod</th>\n",
       "      <th>MonthlyCharges</th>\n",
       "      <th>TotalCharges</th>\n",
       "      <th>Gender</th>\n",
       "      <th>SeniorCitizen</th>\n",
       "      <th>Partner</th>\n",
       "      <th>Dependents</th>\n",
       "      <th>InternetService</th>\n",
       "      <th>OnlineSecurity</th>\n",
       "      <th>OnlineBackup</th>\n",
       "      <th>DeviceProtection</th>\n",
       "      <th>TechSupport</th>\n",
       "      <th>StreamingTV</th>\n",
       "      <th>StreamingMovies</th>\n",
       "      <th>MultipleLines</th>\n",
       "    </tr>\n",
       "  </thead>\n",
       "  <tbody>\n",
       "    <tr>\n",
       "      <th>0</th>\n",
       "      <td>7590-VHVEG</td>\n",
       "      <td>2020-01-01</td>\n",
       "      <td>No</td>\n",
       "      <td>Month-to-month</td>\n",
       "      <td>Yes</td>\n",
       "      <td>Electronic check</td>\n",
       "      <td>29.85</td>\n",
       "      <td>29.85</td>\n",
       "      <td>Female</td>\n",
       "      <td>0</td>\n",
       "      <td>Yes</td>\n",
       "      <td>No</td>\n",
       "      <td>DSL</td>\n",
       "      <td>No</td>\n",
       "      <td>Yes</td>\n",
       "      <td>No</td>\n",
       "      <td>No</td>\n",
       "      <td>No</td>\n",
       "      <td>No</td>\n",
       "      <td>NaN</td>\n",
       "    </tr>\n",
       "    <tr>\n",
       "      <th>1</th>\n",
       "      <td>5575-GNVDE</td>\n",
       "      <td>2017-04-01</td>\n",
       "      <td>No</td>\n",
       "      <td>One year</td>\n",
       "      <td>No</td>\n",
       "      <td>Mailed check</td>\n",
       "      <td>56.95</td>\n",
       "      <td>1889.50</td>\n",
       "      <td>Male</td>\n",
       "      <td>0</td>\n",
       "      <td>No</td>\n",
       "      <td>No</td>\n",
       "      <td>DSL</td>\n",
       "      <td>Yes</td>\n",
       "      <td>No</td>\n",
       "      <td>Yes</td>\n",
       "      <td>No</td>\n",
       "      <td>No</td>\n",
       "      <td>No</td>\n",
       "      <td>No</td>\n",
       "    </tr>\n",
       "    <tr>\n",
       "      <th>2</th>\n",
       "      <td>3668-QPYBK</td>\n",
       "      <td>2019-10-01</td>\n",
       "      <td>2019-12-01 00:00:00</td>\n",
       "      <td>Month-to-month</td>\n",
       "      <td>Yes</td>\n",
       "      <td>Mailed check</td>\n",
       "      <td>53.85</td>\n",
       "      <td>108.15</td>\n",
       "      <td>Male</td>\n",
       "      <td>0</td>\n",
       "      <td>No</td>\n",
       "      <td>No</td>\n",
       "      <td>DSL</td>\n",
       "      <td>Yes</td>\n",
       "      <td>Yes</td>\n",
       "      <td>No</td>\n",
       "      <td>No</td>\n",
       "      <td>No</td>\n",
       "      <td>No</td>\n",
       "      <td>No</td>\n",
       "    </tr>\n",
       "    <tr>\n",
       "      <th>3</th>\n",
       "      <td>7795-CFOCW</td>\n",
       "      <td>2016-05-01</td>\n",
       "      <td>No</td>\n",
       "      <td>One year</td>\n",
       "      <td>No</td>\n",
       "      <td>Bank transfer (automatic)</td>\n",
       "      <td>42.30</td>\n",
       "      <td>1840.75</td>\n",
       "      <td>Male</td>\n",
       "      <td>0</td>\n",
       "      <td>No</td>\n",
       "      <td>No</td>\n",
       "      <td>DSL</td>\n",
       "      <td>Yes</td>\n",
       "      <td>No</td>\n",
       "      <td>Yes</td>\n",
       "      <td>Yes</td>\n",
       "      <td>No</td>\n",
       "      <td>No</td>\n",
       "      <td>NaN</td>\n",
       "    </tr>\n",
       "    <tr>\n",
       "      <th>4</th>\n",
       "      <td>9237-HQITU</td>\n",
       "      <td>2019-09-01</td>\n",
       "      <td>2019-11-01 00:00:00</td>\n",
       "      <td>Month-to-month</td>\n",
       "      <td>Yes</td>\n",
       "      <td>Electronic check</td>\n",
       "      <td>70.70</td>\n",
       "      <td>151.65</td>\n",
       "      <td>Female</td>\n",
       "      <td>0</td>\n",
       "      <td>No</td>\n",
       "      <td>No</td>\n",
       "      <td>Fiber optic</td>\n",
       "      <td>No</td>\n",
       "      <td>No</td>\n",
       "      <td>No</td>\n",
       "      <td>No</td>\n",
       "      <td>No</td>\n",
       "      <td>No</td>\n",
       "      <td>No</td>\n",
       "    </tr>\n",
       "  </tbody>\n",
       "</table>\n",
       "</div>"
      ],
      "text/plain": [
       "   CustomerID  BeginDate              EndDate            Type  \\\n",
       "0  7590-VHVEG 2020-01-01                   No  Month-to-month   \n",
       "1  5575-GNVDE 2017-04-01                   No        One year   \n",
       "2  3668-QPYBK 2019-10-01  2019-12-01 00:00:00  Month-to-month   \n",
       "3  7795-CFOCW 2016-05-01                   No        One year   \n",
       "4  9237-HQITU 2019-09-01  2019-11-01 00:00:00  Month-to-month   \n",
       "\n",
       "  PaperlessBilling              PaymentMethod  MonthlyCharges  TotalCharges  \\\n",
       "0              Yes           Electronic check           29.85         29.85   \n",
       "1               No               Mailed check           56.95       1889.50   \n",
       "2              Yes               Mailed check           53.85        108.15   \n",
       "3               No  Bank transfer (automatic)           42.30       1840.75   \n",
       "4              Yes           Electronic check           70.70        151.65   \n",
       "\n",
       "   Gender  SeniorCitizen Partner Dependents InternetService OnlineSecurity  \\\n",
       "0  Female              0     Yes         No             DSL             No   \n",
       "1    Male              0      No         No             DSL            Yes   \n",
       "2    Male              0      No         No             DSL            Yes   \n",
       "3    Male              0      No         No             DSL            Yes   \n",
       "4  Female              0      No         No     Fiber optic             No   \n",
       "\n",
       "  OnlineBackup DeviceProtection TechSupport StreamingTV StreamingMovies  \\\n",
       "0          Yes               No          No          No              No   \n",
       "1           No              Yes          No          No              No   \n",
       "2          Yes               No          No          No              No   \n",
       "3           No              Yes         Yes          No              No   \n",
       "4           No               No          No          No              No   \n",
       "\n",
       "  MultipleLines  \n",
       "0           NaN  \n",
       "1            No  \n",
       "2            No  \n",
       "3           NaN  \n",
       "4            No  "
      ]
     },
     "execution_count": 21,
     "metadata": {},
     "output_type": "execute_result"
    }
   ],
   "source": [
    "df = contract.merge(personal, how='left', on='CustomerID').merge(\n",
    "                    internet, how='left', on='CustomerID').merge(\n",
    "                    phone, how='left', on='CustomerID')\n",
    "df.head(5)"
   ]
  },
  {
   "cell_type": "code",
   "execution_count": 22,
   "metadata": {},
   "outputs": [
    {
     "data": {
      "text/plain": [
       "(7043, 20)"
      ]
     },
     "execution_count": 22,
     "metadata": {},
     "output_type": "execute_result"
    }
   ],
   "source": [
    "df.shape"
   ]
  },
  {
   "cell_type": "markdown",
   "metadata": {},
   "source": [
    "Все данные на месте, ни чего не потерялось. Отлично."
   ]
  },
  {
   "cell_type": "code",
   "execution_count": 23,
   "metadata": {},
   "outputs": [
    {
     "data": {
      "text/plain": [
       "7043"
      ]
     },
     "execution_count": 23,
     "metadata": {},
     "output_type": "execute_result"
    }
   ],
   "source": [
    "df.CustomerID.nunique()"
   ]
  },
  {
   "cell_type": "markdown",
   "metadata": {},
   "source": [
    "Все объекты уникальны, дублей нет."
   ]
  },
  {
   "cell_type": "markdown",
   "metadata": {},
   "source": [
    "#### Обработаем пропуски"
   ]
  },
  {
   "cell_type": "code",
   "execution_count": 24,
   "metadata": {},
   "outputs": [
    {
     "data": {
      "text/plain": [
       "CustomerID             0\n",
       "BeginDate              0\n",
       "EndDate                0\n",
       "Type                   0\n",
       "PaperlessBilling       0\n",
       "PaymentMethod          0\n",
       "MonthlyCharges         0\n",
       "TotalCharges          11\n",
       "Gender                 0\n",
       "SeniorCitizen          0\n",
       "Partner                0\n",
       "Dependents             0\n",
       "InternetService     1526\n",
       "OnlineSecurity      1526\n",
       "OnlineBackup        1526\n",
       "DeviceProtection    1526\n",
       "TechSupport         1526\n",
       "StreamingTV         1526\n",
       "StreamingMovies     1526\n",
       "MultipleLines        682\n",
       "dtype: int64"
      ]
     },
     "execution_count": 24,
     "metadata": {},
     "output_type": "execute_result"
    }
   ],
   "source": [
    "df.isna().sum()"
   ]
  },
  {
   "cell_type": "markdown",
   "metadata": {},
   "source": [
    "Посмотрим на строки с отсутствующим значением `TotalCharges`"
   ]
  },
  {
   "cell_type": "code",
   "execution_count": 25,
   "metadata": {},
   "outputs": [
    {
     "data": {
      "text/html": [
       "<div>\n",
       "<style scoped>\n",
       "    .dataframe tbody tr th:only-of-type {\n",
       "        vertical-align: middle;\n",
       "    }\n",
       "\n",
       "    .dataframe tbody tr th {\n",
       "        vertical-align: top;\n",
       "    }\n",
       "\n",
       "    .dataframe thead th {\n",
       "        text-align: right;\n",
       "    }\n",
       "</style>\n",
       "<table border=\"1\" class=\"dataframe\">\n",
       "  <thead>\n",
       "    <tr style=\"text-align: right;\">\n",
       "      <th></th>\n",
       "      <th>CustomerID</th>\n",
       "      <th>BeginDate</th>\n",
       "      <th>EndDate</th>\n",
       "      <th>Type</th>\n",
       "      <th>PaperlessBilling</th>\n",
       "      <th>PaymentMethod</th>\n",
       "      <th>MonthlyCharges</th>\n",
       "      <th>TotalCharges</th>\n",
       "      <th>Gender</th>\n",
       "      <th>SeniorCitizen</th>\n",
       "      <th>Partner</th>\n",
       "      <th>Dependents</th>\n",
       "      <th>InternetService</th>\n",
       "      <th>OnlineSecurity</th>\n",
       "      <th>OnlineBackup</th>\n",
       "      <th>DeviceProtection</th>\n",
       "      <th>TechSupport</th>\n",
       "      <th>StreamingTV</th>\n",
       "      <th>StreamingMovies</th>\n",
       "      <th>MultipleLines</th>\n",
       "    </tr>\n",
       "  </thead>\n",
       "  <tbody>\n",
       "    <tr>\n",
       "      <th>488</th>\n",
       "      <td>4472-LVYGI</td>\n",
       "      <td>2020-02-01</td>\n",
       "      <td>No</td>\n",
       "      <td>Two year</td>\n",
       "      <td>Yes</td>\n",
       "      <td>Bank transfer (automatic)</td>\n",
       "      <td>52.55</td>\n",
       "      <td>NaN</td>\n",
       "      <td>Female</td>\n",
       "      <td>0</td>\n",
       "      <td>Yes</td>\n",
       "      <td>Yes</td>\n",
       "      <td>DSL</td>\n",
       "      <td>Yes</td>\n",
       "      <td>No</td>\n",
       "      <td>Yes</td>\n",
       "      <td>Yes</td>\n",
       "      <td>Yes</td>\n",
       "      <td>No</td>\n",
       "      <td>NaN</td>\n",
       "    </tr>\n",
       "    <tr>\n",
       "      <th>753</th>\n",
       "      <td>3115-CZMZD</td>\n",
       "      <td>2020-02-01</td>\n",
       "      <td>No</td>\n",
       "      <td>Two year</td>\n",
       "      <td>No</td>\n",
       "      <td>Mailed check</td>\n",
       "      <td>20.25</td>\n",
       "      <td>NaN</td>\n",
       "      <td>Male</td>\n",
       "      <td>0</td>\n",
       "      <td>No</td>\n",
       "      <td>Yes</td>\n",
       "      <td>NaN</td>\n",
       "      <td>NaN</td>\n",
       "      <td>NaN</td>\n",
       "      <td>NaN</td>\n",
       "      <td>NaN</td>\n",
       "      <td>NaN</td>\n",
       "      <td>NaN</td>\n",
       "      <td>No</td>\n",
       "    </tr>\n",
       "    <tr>\n",
       "      <th>936</th>\n",
       "      <td>5709-LVOEQ</td>\n",
       "      <td>2020-02-01</td>\n",
       "      <td>No</td>\n",
       "      <td>Two year</td>\n",
       "      <td>No</td>\n",
       "      <td>Mailed check</td>\n",
       "      <td>80.85</td>\n",
       "      <td>NaN</td>\n",
       "      <td>Female</td>\n",
       "      <td>0</td>\n",
       "      <td>Yes</td>\n",
       "      <td>Yes</td>\n",
       "      <td>DSL</td>\n",
       "      <td>Yes</td>\n",
       "      <td>Yes</td>\n",
       "      <td>Yes</td>\n",
       "      <td>No</td>\n",
       "      <td>Yes</td>\n",
       "      <td>Yes</td>\n",
       "      <td>No</td>\n",
       "    </tr>\n",
       "    <tr>\n",
       "      <th>1082</th>\n",
       "      <td>4367-NUYAO</td>\n",
       "      <td>2020-02-01</td>\n",
       "      <td>No</td>\n",
       "      <td>Two year</td>\n",
       "      <td>No</td>\n",
       "      <td>Mailed check</td>\n",
       "      <td>25.75</td>\n",
       "      <td>NaN</td>\n",
       "      <td>Male</td>\n",
       "      <td>0</td>\n",
       "      <td>Yes</td>\n",
       "      <td>Yes</td>\n",
       "      <td>NaN</td>\n",
       "      <td>NaN</td>\n",
       "      <td>NaN</td>\n",
       "      <td>NaN</td>\n",
       "      <td>NaN</td>\n",
       "      <td>NaN</td>\n",
       "      <td>NaN</td>\n",
       "      <td>Yes</td>\n",
       "    </tr>\n",
       "    <tr>\n",
       "      <th>1340</th>\n",
       "      <td>1371-DWPAZ</td>\n",
       "      <td>2020-02-01</td>\n",
       "      <td>No</td>\n",
       "      <td>Two year</td>\n",
       "      <td>No</td>\n",
       "      <td>Credit card (automatic)</td>\n",
       "      <td>56.05</td>\n",
       "      <td>NaN</td>\n",
       "      <td>Female</td>\n",
       "      <td>0</td>\n",
       "      <td>Yes</td>\n",
       "      <td>Yes</td>\n",
       "      <td>DSL</td>\n",
       "      <td>Yes</td>\n",
       "      <td>Yes</td>\n",
       "      <td>Yes</td>\n",
       "      <td>Yes</td>\n",
       "      <td>Yes</td>\n",
       "      <td>No</td>\n",
       "      <td>NaN</td>\n",
       "    </tr>\n",
       "    <tr>\n",
       "      <th>3331</th>\n",
       "      <td>7644-OMVMY</td>\n",
       "      <td>2020-02-01</td>\n",
       "      <td>No</td>\n",
       "      <td>Two year</td>\n",
       "      <td>No</td>\n",
       "      <td>Mailed check</td>\n",
       "      <td>19.85</td>\n",
       "      <td>NaN</td>\n",
       "      <td>Male</td>\n",
       "      <td>0</td>\n",
       "      <td>Yes</td>\n",
       "      <td>Yes</td>\n",
       "      <td>NaN</td>\n",
       "      <td>NaN</td>\n",
       "      <td>NaN</td>\n",
       "      <td>NaN</td>\n",
       "      <td>NaN</td>\n",
       "      <td>NaN</td>\n",
       "      <td>NaN</td>\n",
       "      <td>No</td>\n",
       "    </tr>\n",
       "    <tr>\n",
       "      <th>3826</th>\n",
       "      <td>3213-VVOLG</td>\n",
       "      <td>2020-02-01</td>\n",
       "      <td>No</td>\n",
       "      <td>Two year</td>\n",
       "      <td>No</td>\n",
       "      <td>Mailed check</td>\n",
       "      <td>25.35</td>\n",
       "      <td>NaN</td>\n",
       "      <td>Male</td>\n",
       "      <td>0</td>\n",
       "      <td>Yes</td>\n",
       "      <td>Yes</td>\n",
       "      <td>NaN</td>\n",
       "      <td>NaN</td>\n",
       "      <td>NaN</td>\n",
       "      <td>NaN</td>\n",
       "      <td>NaN</td>\n",
       "      <td>NaN</td>\n",
       "      <td>NaN</td>\n",
       "      <td>Yes</td>\n",
       "    </tr>\n",
       "    <tr>\n",
       "      <th>4380</th>\n",
       "      <td>2520-SGTTA</td>\n",
       "      <td>2020-02-01</td>\n",
       "      <td>No</td>\n",
       "      <td>Two year</td>\n",
       "      <td>No</td>\n",
       "      <td>Mailed check</td>\n",
       "      <td>20.00</td>\n",
       "      <td>NaN</td>\n",
       "      <td>Female</td>\n",
       "      <td>0</td>\n",
       "      <td>Yes</td>\n",
       "      <td>Yes</td>\n",
       "      <td>NaN</td>\n",
       "      <td>NaN</td>\n",
       "      <td>NaN</td>\n",
       "      <td>NaN</td>\n",
       "      <td>NaN</td>\n",
       "      <td>NaN</td>\n",
       "      <td>NaN</td>\n",
       "      <td>No</td>\n",
       "    </tr>\n",
       "    <tr>\n",
       "      <th>5218</th>\n",
       "      <td>2923-ARZLG</td>\n",
       "      <td>2020-02-01</td>\n",
       "      <td>No</td>\n",
       "      <td>One year</td>\n",
       "      <td>Yes</td>\n",
       "      <td>Mailed check</td>\n",
       "      <td>19.70</td>\n",
       "      <td>NaN</td>\n",
       "      <td>Male</td>\n",
       "      <td>0</td>\n",
       "      <td>Yes</td>\n",
       "      <td>Yes</td>\n",
       "      <td>NaN</td>\n",
       "      <td>NaN</td>\n",
       "      <td>NaN</td>\n",
       "      <td>NaN</td>\n",
       "      <td>NaN</td>\n",
       "      <td>NaN</td>\n",
       "      <td>NaN</td>\n",
       "      <td>No</td>\n",
       "    </tr>\n",
       "    <tr>\n",
       "      <th>6670</th>\n",
       "      <td>4075-WKNIU</td>\n",
       "      <td>2020-02-01</td>\n",
       "      <td>No</td>\n",
       "      <td>Two year</td>\n",
       "      <td>No</td>\n",
       "      <td>Mailed check</td>\n",
       "      <td>73.35</td>\n",
       "      <td>NaN</td>\n",
       "      <td>Female</td>\n",
       "      <td>0</td>\n",
       "      <td>Yes</td>\n",
       "      <td>Yes</td>\n",
       "      <td>DSL</td>\n",
       "      <td>No</td>\n",
       "      <td>Yes</td>\n",
       "      <td>Yes</td>\n",
       "      <td>Yes</td>\n",
       "      <td>Yes</td>\n",
       "      <td>No</td>\n",
       "      <td>Yes</td>\n",
       "    </tr>\n",
       "    <tr>\n",
       "      <th>6754</th>\n",
       "      <td>2775-SEFEE</td>\n",
       "      <td>2020-02-01</td>\n",
       "      <td>No</td>\n",
       "      <td>Two year</td>\n",
       "      <td>Yes</td>\n",
       "      <td>Bank transfer (automatic)</td>\n",
       "      <td>61.90</td>\n",
       "      <td>NaN</td>\n",
       "      <td>Male</td>\n",
       "      <td>0</td>\n",
       "      <td>No</td>\n",
       "      <td>Yes</td>\n",
       "      <td>DSL</td>\n",
       "      <td>Yes</td>\n",
       "      <td>Yes</td>\n",
       "      <td>No</td>\n",
       "      <td>Yes</td>\n",
       "      <td>No</td>\n",
       "      <td>No</td>\n",
       "      <td>Yes</td>\n",
       "    </tr>\n",
       "  </tbody>\n",
       "</table>\n",
       "</div>"
      ],
      "text/plain": [
       "      CustomerID  BeginDate EndDate      Type PaperlessBilling  \\\n",
       "488   4472-LVYGI 2020-02-01      No  Two year              Yes   \n",
       "753   3115-CZMZD 2020-02-01      No  Two year               No   \n",
       "936   5709-LVOEQ 2020-02-01      No  Two year               No   \n",
       "1082  4367-NUYAO 2020-02-01      No  Two year               No   \n",
       "1340  1371-DWPAZ 2020-02-01      No  Two year               No   \n",
       "3331  7644-OMVMY 2020-02-01      No  Two year               No   \n",
       "3826  3213-VVOLG 2020-02-01      No  Two year               No   \n",
       "4380  2520-SGTTA 2020-02-01      No  Two year               No   \n",
       "5218  2923-ARZLG 2020-02-01      No  One year              Yes   \n",
       "6670  4075-WKNIU 2020-02-01      No  Two year               No   \n",
       "6754  2775-SEFEE 2020-02-01      No  Two year              Yes   \n",
       "\n",
       "                  PaymentMethod  MonthlyCharges  TotalCharges  Gender  \\\n",
       "488   Bank transfer (automatic)           52.55           NaN  Female   \n",
       "753                Mailed check           20.25           NaN    Male   \n",
       "936                Mailed check           80.85           NaN  Female   \n",
       "1082               Mailed check           25.75           NaN    Male   \n",
       "1340    Credit card (automatic)           56.05           NaN  Female   \n",
       "3331               Mailed check           19.85           NaN    Male   \n",
       "3826               Mailed check           25.35           NaN    Male   \n",
       "4380               Mailed check           20.00           NaN  Female   \n",
       "5218               Mailed check           19.70           NaN    Male   \n",
       "6670               Mailed check           73.35           NaN  Female   \n",
       "6754  Bank transfer (automatic)           61.90           NaN    Male   \n",
       "\n",
       "      SeniorCitizen Partner Dependents InternetService OnlineSecurity  \\\n",
       "488               0     Yes        Yes             DSL            Yes   \n",
       "753               0      No        Yes             NaN            NaN   \n",
       "936               0     Yes        Yes             DSL            Yes   \n",
       "1082              0     Yes        Yes             NaN            NaN   \n",
       "1340              0     Yes        Yes             DSL            Yes   \n",
       "3331              0     Yes        Yes             NaN            NaN   \n",
       "3826              0     Yes        Yes             NaN            NaN   \n",
       "4380              0     Yes        Yes             NaN            NaN   \n",
       "5218              0     Yes        Yes             NaN            NaN   \n",
       "6670              0     Yes        Yes             DSL             No   \n",
       "6754              0      No        Yes             DSL            Yes   \n",
       "\n",
       "     OnlineBackup DeviceProtection TechSupport StreamingTV StreamingMovies  \\\n",
       "488            No              Yes         Yes         Yes              No   \n",
       "753           NaN              NaN         NaN         NaN             NaN   \n",
       "936           Yes              Yes          No         Yes             Yes   \n",
       "1082          NaN              NaN         NaN         NaN             NaN   \n",
       "1340          Yes              Yes         Yes         Yes              No   \n",
       "3331          NaN              NaN         NaN         NaN             NaN   \n",
       "3826          NaN              NaN         NaN         NaN             NaN   \n",
       "4380          NaN              NaN         NaN         NaN             NaN   \n",
       "5218          NaN              NaN         NaN         NaN             NaN   \n",
       "6670          Yes              Yes         Yes         Yes              No   \n",
       "6754          Yes               No         Yes          No              No   \n",
       "\n",
       "     MultipleLines  \n",
       "488            NaN  \n",
       "753             No  \n",
       "936             No  \n",
       "1082           Yes  \n",
       "1340           NaN  \n",
       "3331            No  \n",
       "3826           Yes  \n",
       "4380            No  \n",
       "5218            No  \n",
       "6670           Yes  \n",
       "6754           Yes  "
      ]
     },
     "execution_count": 25,
     "metadata": {},
     "output_type": "execute_result"
    }
   ],
   "source": [
    "df[df['TotalCharges'].isnull()]"
   ]
  },
  {
   "cell_type": "markdown",
   "metadata": {},
   "source": [
    "Дата заключения договора у всех этих клиентов - 01 февраля 2020г. Это крайняя дата записи информации в датафрейм. Возможно данные клиенты ещё не успели внести оплату по договору. Так как их совсем не много (11 объектов), просто удалим данные строки."
   ]
  },
  {
   "cell_type": "code",
   "execution_count": 26,
   "metadata": {},
   "outputs": [
    {
     "data": {
      "text/plain": [
       "(7032, 20)"
      ]
     },
     "execution_count": 26,
     "metadata": {},
     "output_type": "execute_result"
    }
   ],
   "source": [
    "df.dropna(subset =['TotalCharges'], inplace = True)\n",
    "df.shape"
   ]
  },
  {
   "cell_type": "markdown",
   "metadata": {},
   "source": [
    "Пропуски в интернет-услугах и услугах телефонии появились предположительно из-за того, что клиенты данными услугами просто не пользуются. Заменим их на \"No\"."
   ]
  },
  {
   "cell_type": "code",
   "execution_count": 27,
   "metadata": {},
   "outputs": [
    {
     "data": {
      "text/plain": [
       "CustomerID          0\n",
       "BeginDate           0\n",
       "EndDate             0\n",
       "Type                0\n",
       "PaperlessBilling    0\n",
       "PaymentMethod       0\n",
       "MonthlyCharges      0\n",
       "TotalCharges        0\n",
       "Gender              0\n",
       "SeniorCitizen       0\n",
       "Partner             0\n",
       "Dependents          0\n",
       "InternetService     0\n",
       "OnlineSecurity      0\n",
       "OnlineBackup        0\n",
       "DeviceProtection    0\n",
       "TechSupport         0\n",
       "StreamingTV         0\n",
       "StreamingMovies     0\n",
       "MultipleLines       0\n",
       "dtype: int64"
      ]
     },
     "execution_count": 27,
     "metadata": {},
     "output_type": "execute_result"
    }
   ],
   "source": [
    "df = df.fillna('No')\n",
    "\n",
    "df.isna().sum()"
   ]
  },
  {
   "cell_type": "markdown",
   "metadata": {},
   "source": [
    "Отлично, с пропусками разобрались."
   ]
  },
  {
   "cell_type": "markdown",
   "metadata": {},
   "source": [
    "#### Создание целевого признака"
   ]
  },
  {
   "cell_type": "markdown",
   "metadata": {},
   "source": [
    "Целевой признак создадим на основе столбца `EndDate`. Наличие даты в данном столбце означает что клент потерян. Обозначим признак как `LostCustomer`."
   ]
  },
  {
   "cell_type": "code",
   "execution_count": 28,
   "metadata": {},
   "outputs": [
    {
     "data": {
      "text/plain": [
       "0    5163\n",
       "1    1869\n",
       "Name: LostCustomer, dtype: int64"
      ]
     },
     "execution_count": 28,
     "metadata": {},
     "output_type": "execute_result"
    }
   ],
   "source": [
    "df['LostCustomer'] = df['EndDate'].copy()\n",
    "df.LostCustomer[df['LostCustomer'] != 'No'] = 1\n",
    "df.LostCustomer[df['LostCustomer'] == 'No'] = 0\n",
    "\n",
    "df['LostCustomer'] = pd.to_numeric(df['LostCustomer'])\n",
    "\n",
    "df.LostCustomer.value_counts()"
   ]
  },
  {
   "cell_type": "markdown",
   "metadata": {},
   "source": [
    "Создадим дополнительно столбец с общим временем обслуживания клиента в компании. Он будет более информативен, чем даты начальной и конечной регистрации клиента. Обозначим признак как `UsageTime`."
   ]
  },
  {
   "cell_type": "code",
   "execution_count": 29,
   "metadata": {},
   "outputs": [],
   "source": [
    "# Заменим все значения \"No\" на крайнюю дату отчета (01.02.2020).\n",
    "\n",
    "df['EndDate'] = df['EndDate'].replace('No','2020-02-01')\n",
    "df['EndDate'] = pd.to_datetime(df['EndDate'])"
   ]
  },
  {
   "cell_type": "code",
   "execution_count": 30,
   "metadata": {},
   "outputs": [],
   "source": [
    "# Создадим дополнительный столбец с общим временем обслуживания клиента.\n",
    "\n",
    "df['UsageTime'] = (pd.to_datetime(df['EndDate']) - pd.to_datetime(df['BeginDate'])).dt.days\n",
    "df['UsageTime'] = df['UsageTime'].astype('int')"
   ]
  },
  {
   "cell_type": "markdown",
   "metadata": {},
   "source": [
    "Удалим признаки `BeginDate` и `EndDate`, они нам больше не понадобятся."
   ]
  },
  {
   "cell_type": "code",
   "execution_count": 31,
   "metadata": {},
   "outputs": [],
   "source": [
    "df.drop(['EndDate', 'BeginDate'], axis='columns', inplace=True)"
   ]
  },
  {
   "cell_type": "markdown",
   "metadata": {},
   "source": [
    "Так же можно удалить столбец `PaperlessBilling`. Так как запрос чека на оплату услуг абсолютно не влияет на вероятность ухода клиента из компании."
   ]
  },
  {
   "cell_type": "code",
   "execution_count": 32,
   "metadata": {},
   "outputs": [],
   "source": [
    "df.drop('PaperlessBilling', axis='columns', inplace=True)"
   ]
  },
  {
   "cell_type": "code",
   "execution_count": 33,
   "metadata": {},
   "outputs": [],
   "source": [
    "# В заключении предобработки, определим код клиента как индекс нашего датафрейма.\n",
    "\n",
    "df = df.set_index('CustomerID')"
   ]
  },
  {
   "cell_type": "code",
   "execution_count": 34,
   "metadata": {
    "scrolled": false
   },
   "outputs": [
    {
     "data": {
      "text/html": [
       "<div>\n",
       "<style scoped>\n",
       "    .dataframe tbody tr th:only-of-type {\n",
       "        vertical-align: middle;\n",
       "    }\n",
       "\n",
       "    .dataframe tbody tr th {\n",
       "        vertical-align: top;\n",
       "    }\n",
       "\n",
       "    .dataframe thead th {\n",
       "        text-align: right;\n",
       "    }\n",
       "</style>\n",
       "<table border=\"1\" class=\"dataframe\">\n",
       "  <thead>\n",
       "    <tr style=\"text-align: right;\">\n",
       "      <th></th>\n",
       "      <th>Type</th>\n",
       "      <th>PaymentMethod</th>\n",
       "      <th>MonthlyCharges</th>\n",
       "      <th>TotalCharges</th>\n",
       "      <th>Gender</th>\n",
       "      <th>SeniorCitizen</th>\n",
       "      <th>Partner</th>\n",
       "      <th>Dependents</th>\n",
       "      <th>InternetService</th>\n",
       "      <th>OnlineSecurity</th>\n",
       "      <th>OnlineBackup</th>\n",
       "      <th>DeviceProtection</th>\n",
       "      <th>TechSupport</th>\n",
       "      <th>StreamingTV</th>\n",
       "      <th>StreamingMovies</th>\n",
       "      <th>MultipleLines</th>\n",
       "      <th>LostCustomer</th>\n",
       "      <th>UsageTime</th>\n",
       "    </tr>\n",
       "    <tr>\n",
       "      <th>CustomerID</th>\n",
       "      <th></th>\n",
       "      <th></th>\n",
       "      <th></th>\n",
       "      <th></th>\n",
       "      <th></th>\n",
       "      <th></th>\n",
       "      <th></th>\n",
       "      <th></th>\n",
       "      <th></th>\n",
       "      <th></th>\n",
       "      <th></th>\n",
       "      <th></th>\n",
       "      <th></th>\n",
       "      <th></th>\n",
       "      <th></th>\n",
       "      <th></th>\n",
       "      <th></th>\n",
       "      <th></th>\n",
       "    </tr>\n",
       "  </thead>\n",
       "  <tbody>\n",
       "    <tr>\n",
       "      <th>7590-VHVEG</th>\n",
       "      <td>Month-to-month</td>\n",
       "      <td>Electronic check</td>\n",
       "      <td>29.85</td>\n",
       "      <td>29.85</td>\n",
       "      <td>Female</td>\n",
       "      <td>0</td>\n",
       "      <td>Yes</td>\n",
       "      <td>No</td>\n",
       "      <td>DSL</td>\n",
       "      <td>No</td>\n",
       "      <td>Yes</td>\n",
       "      <td>No</td>\n",
       "      <td>No</td>\n",
       "      <td>No</td>\n",
       "      <td>No</td>\n",
       "      <td>No</td>\n",
       "      <td>0</td>\n",
       "      <td>31</td>\n",
       "    </tr>\n",
       "    <tr>\n",
       "      <th>5575-GNVDE</th>\n",
       "      <td>One year</td>\n",
       "      <td>Mailed check</td>\n",
       "      <td>56.95</td>\n",
       "      <td>1889.50</td>\n",
       "      <td>Male</td>\n",
       "      <td>0</td>\n",
       "      <td>No</td>\n",
       "      <td>No</td>\n",
       "      <td>DSL</td>\n",
       "      <td>Yes</td>\n",
       "      <td>No</td>\n",
       "      <td>Yes</td>\n",
       "      <td>No</td>\n",
       "      <td>No</td>\n",
       "      <td>No</td>\n",
       "      <td>No</td>\n",
       "      <td>0</td>\n",
       "      <td>1036</td>\n",
       "    </tr>\n",
       "    <tr>\n",
       "      <th>3668-QPYBK</th>\n",
       "      <td>Month-to-month</td>\n",
       "      <td>Mailed check</td>\n",
       "      <td>53.85</td>\n",
       "      <td>108.15</td>\n",
       "      <td>Male</td>\n",
       "      <td>0</td>\n",
       "      <td>No</td>\n",
       "      <td>No</td>\n",
       "      <td>DSL</td>\n",
       "      <td>Yes</td>\n",
       "      <td>Yes</td>\n",
       "      <td>No</td>\n",
       "      <td>No</td>\n",
       "      <td>No</td>\n",
       "      <td>No</td>\n",
       "      <td>No</td>\n",
       "      <td>1</td>\n",
       "      <td>61</td>\n",
       "    </tr>\n",
       "    <tr>\n",
       "      <th>7795-CFOCW</th>\n",
       "      <td>One year</td>\n",
       "      <td>Bank transfer (automatic)</td>\n",
       "      <td>42.30</td>\n",
       "      <td>1840.75</td>\n",
       "      <td>Male</td>\n",
       "      <td>0</td>\n",
       "      <td>No</td>\n",
       "      <td>No</td>\n",
       "      <td>DSL</td>\n",
       "      <td>Yes</td>\n",
       "      <td>No</td>\n",
       "      <td>Yes</td>\n",
       "      <td>Yes</td>\n",
       "      <td>No</td>\n",
       "      <td>No</td>\n",
       "      <td>No</td>\n",
       "      <td>0</td>\n",
       "      <td>1371</td>\n",
       "    </tr>\n",
       "    <tr>\n",
       "      <th>9237-HQITU</th>\n",
       "      <td>Month-to-month</td>\n",
       "      <td>Electronic check</td>\n",
       "      <td>70.70</td>\n",
       "      <td>151.65</td>\n",
       "      <td>Female</td>\n",
       "      <td>0</td>\n",
       "      <td>No</td>\n",
       "      <td>No</td>\n",
       "      <td>Fiber optic</td>\n",
       "      <td>No</td>\n",
       "      <td>No</td>\n",
       "      <td>No</td>\n",
       "      <td>No</td>\n",
       "      <td>No</td>\n",
       "      <td>No</td>\n",
       "      <td>No</td>\n",
       "      <td>1</td>\n",
       "      <td>61</td>\n",
       "    </tr>\n",
       "    <tr>\n",
       "      <th>...</th>\n",
       "      <td>...</td>\n",
       "      <td>...</td>\n",
       "      <td>...</td>\n",
       "      <td>...</td>\n",
       "      <td>...</td>\n",
       "      <td>...</td>\n",
       "      <td>...</td>\n",
       "      <td>...</td>\n",
       "      <td>...</td>\n",
       "      <td>...</td>\n",
       "      <td>...</td>\n",
       "      <td>...</td>\n",
       "      <td>...</td>\n",
       "      <td>...</td>\n",
       "      <td>...</td>\n",
       "      <td>...</td>\n",
       "      <td>...</td>\n",
       "      <td>...</td>\n",
       "    </tr>\n",
       "    <tr>\n",
       "      <th>6840-RESVB</th>\n",
       "      <td>One year</td>\n",
       "      <td>Mailed check</td>\n",
       "      <td>84.80</td>\n",
       "      <td>1990.50</td>\n",
       "      <td>Male</td>\n",
       "      <td>0</td>\n",
       "      <td>Yes</td>\n",
       "      <td>Yes</td>\n",
       "      <td>DSL</td>\n",
       "      <td>Yes</td>\n",
       "      <td>No</td>\n",
       "      <td>Yes</td>\n",
       "      <td>Yes</td>\n",
       "      <td>Yes</td>\n",
       "      <td>Yes</td>\n",
       "      <td>Yes</td>\n",
       "      <td>0</td>\n",
       "      <td>730</td>\n",
       "    </tr>\n",
       "    <tr>\n",
       "      <th>2234-XADUH</th>\n",
       "      <td>One year</td>\n",
       "      <td>Credit card (automatic)</td>\n",
       "      <td>103.20</td>\n",
       "      <td>7362.90</td>\n",
       "      <td>Female</td>\n",
       "      <td>0</td>\n",
       "      <td>Yes</td>\n",
       "      <td>Yes</td>\n",
       "      <td>Fiber optic</td>\n",
       "      <td>No</td>\n",
       "      <td>Yes</td>\n",
       "      <td>Yes</td>\n",
       "      <td>No</td>\n",
       "      <td>Yes</td>\n",
       "      <td>Yes</td>\n",
       "      <td>Yes</td>\n",
       "      <td>0</td>\n",
       "      <td>2191</td>\n",
       "    </tr>\n",
       "    <tr>\n",
       "      <th>4801-JZAZL</th>\n",
       "      <td>Month-to-month</td>\n",
       "      <td>Electronic check</td>\n",
       "      <td>29.60</td>\n",
       "      <td>346.45</td>\n",
       "      <td>Female</td>\n",
       "      <td>0</td>\n",
       "      <td>Yes</td>\n",
       "      <td>Yes</td>\n",
       "      <td>DSL</td>\n",
       "      <td>Yes</td>\n",
       "      <td>No</td>\n",
       "      <td>No</td>\n",
       "      <td>No</td>\n",
       "      <td>No</td>\n",
       "      <td>No</td>\n",
       "      <td>No</td>\n",
       "      <td>0</td>\n",
       "      <td>337</td>\n",
       "    </tr>\n",
       "    <tr>\n",
       "      <th>8361-LTMKD</th>\n",
       "      <td>Month-to-month</td>\n",
       "      <td>Mailed check</td>\n",
       "      <td>74.40</td>\n",
       "      <td>306.60</td>\n",
       "      <td>Male</td>\n",
       "      <td>1</td>\n",
       "      <td>Yes</td>\n",
       "      <td>No</td>\n",
       "      <td>Fiber optic</td>\n",
       "      <td>No</td>\n",
       "      <td>No</td>\n",
       "      <td>No</td>\n",
       "      <td>No</td>\n",
       "      <td>No</td>\n",
       "      <td>No</td>\n",
       "      <td>Yes</td>\n",
       "      <td>1</td>\n",
       "      <td>123</td>\n",
       "    </tr>\n",
       "    <tr>\n",
       "      <th>3186-AJIEK</th>\n",
       "      <td>Two year</td>\n",
       "      <td>Bank transfer (automatic)</td>\n",
       "      <td>105.65</td>\n",
       "      <td>6844.50</td>\n",
       "      <td>Male</td>\n",
       "      <td>0</td>\n",
       "      <td>No</td>\n",
       "      <td>No</td>\n",
       "      <td>Fiber optic</td>\n",
       "      <td>Yes</td>\n",
       "      <td>No</td>\n",
       "      <td>Yes</td>\n",
       "      <td>Yes</td>\n",
       "      <td>Yes</td>\n",
       "      <td>Yes</td>\n",
       "      <td>No</td>\n",
       "      <td>0</td>\n",
       "      <td>2010</td>\n",
       "    </tr>\n",
       "  </tbody>\n",
       "</table>\n",
       "<p>7032 rows × 18 columns</p>\n",
       "</div>"
      ],
      "text/plain": [
       "                      Type              PaymentMethod  MonthlyCharges  \\\n",
       "CustomerID                                                              \n",
       "7590-VHVEG  Month-to-month           Electronic check           29.85   \n",
       "5575-GNVDE        One year               Mailed check           56.95   \n",
       "3668-QPYBK  Month-to-month               Mailed check           53.85   \n",
       "7795-CFOCW        One year  Bank transfer (automatic)           42.30   \n",
       "9237-HQITU  Month-to-month           Electronic check           70.70   \n",
       "...                    ...                        ...             ...   \n",
       "6840-RESVB        One year               Mailed check           84.80   \n",
       "2234-XADUH        One year    Credit card (automatic)          103.20   \n",
       "4801-JZAZL  Month-to-month           Electronic check           29.60   \n",
       "8361-LTMKD  Month-to-month               Mailed check           74.40   \n",
       "3186-AJIEK        Two year  Bank transfer (automatic)          105.65   \n",
       "\n",
       "            TotalCharges  Gender  SeniorCitizen Partner Dependents  \\\n",
       "CustomerID                                                           \n",
       "7590-VHVEG         29.85  Female              0     Yes         No   \n",
       "5575-GNVDE       1889.50    Male              0      No         No   \n",
       "3668-QPYBK        108.15    Male              0      No         No   \n",
       "7795-CFOCW       1840.75    Male              0      No         No   \n",
       "9237-HQITU        151.65  Female              0      No         No   \n",
       "...                  ...     ...            ...     ...        ...   \n",
       "6840-RESVB       1990.50    Male              0     Yes        Yes   \n",
       "2234-XADUH       7362.90  Female              0     Yes        Yes   \n",
       "4801-JZAZL        346.45  Female              0     Yes        Yes   \n",
       "8361-LTMKD        306.60    Male              1     Yes         No   \n",
       "3186-AJIEK       6844.50    Male              0      No         No   \n",
       "\n",
       "           InternetService OnlineSecurity OnlineBackup DeviceProtection  \\\n",
       "CustomerID                                                                \n",
       "7590-VHVEG             DSL             No          Yes               No   \n",
       "5575-GNVDE             DSL            Yes           No              Yes   \n",
       "3668-QPYBK             DSL            Yes          Yes               No   \n",
       "7795-CFOCW             DSL            Yes           No              Yes   \n",
       "9237-HQITU     Fiber optic             No           No               No   \n",
       "...                    ...            ...          ...              ...   \n",
       "6840-RESVB             DSL            Yes           No              Yes   \n",
       "2234-XADUH     Fiber optic             No          Yes              Yes   \n",
       "4801-JZAZL             DSL            Yes           No               No   \n",
       "8361-LTMKD     Fiber optic             No           No               No   \n",
       "3186-AJIEK     Fiber optic            Yes           No              Yes   \n",
       "\n",
       "           TechSupport StreamingTV StreamingMovies MultipleLines  \\\n",
       "CustomerID                                                         \n",
       "7590-VHVEG          No          No              No            No   \n",
       "5575-GNVDE          No          No              No            No   \n",
       "3668-QPYBK          No          No              No            No   \n",
       "7795-CFOCW         Yes          No              No            No   \n",
       "9237-HQITU          No          No              No            No   \n",
       "...                ...         ...             ...           ...   \n",
       "6840-RESVB         Yes         Yes             Yes           Yes   \n",
       "2234-XADUH          No         Yes             Yes           Yes   \n",
       "4801-JZAZL          No          No              No            No   \n",
       "8361-LTMKD          No          No              No           Yes   \n",
       "3186-AJIEK         Yes         Yes             Yes            No   \n",
       "\n",
       "            LostCustomer  UsageTime  \n",
       "CustomerID                           \n",
       "7590-VHVEG             0         31  \n",
       "5575-GNVDE             0       1036  \n",
       "3668-QPYBK             1         61  \n",
       "7795-CFOCW             0       1371  \n",
       "9237-HQITU             1         61  \n",
       "...                  ...        ...  \n",
       "6840-RESVB             0        730  \n",
       "2234-XADUH             0       2191  \n",
       "4801-JZAZL             0        337  \n",
       "8361-LTMKD             1        123  \n",
       "3186-AJIEK             0       2010  \n",
       "\n",
       "[7032 rows x 18 columns]"
      ]
     },
     "execution_count": 34,
     "metadata": {},
     "output_type": "execute_result"
    }
   ],
   "source": [
    "df"
   ]
  },
  {
   "cell_type": "markdown",
   "metadata": {},
   "source": [
    "#### Вывод:\n",
    "\n",
    "В данном блоке мы провели предобработку данных.\n",
    "* Объединили все таблицы в одну. \n",
    "* Разобрались с пропущенными значениями. \n",
    "* Добавили новые признаки `LostCustomer` - наш целевой признак и `UsageTime` - общее время обслуживания клиента в компании.\n",
    "* Удалены лишние признаки: `BeginDate`, `EndDate` и `PaperlessBilling`."
   ]
  },
  {
   "cell_type": "markdown",
   "metadata": {},
   "source": [
    "## 3. Подготовка данных для моделей"
   ]
  },
  {
   "cell_type": "markdown",
   "metadata": {},
   "source": [
    "#### Разделим наш датасет на `target` и `features`"
   ]
  },
  {
   "cell_type": "code",
   "execution_count": 35,
   "metadata": {},
   "outputs": [
    {
     "name": "stdout",
     "output_type": "stream",
     "text": [
      "Размер исходного датафрейма: (7032, 18) \n",
      "Размер features: (7032, 17) \n",
      "Размер target: (7032,)\n"
     ]
    }
   ],
   "source": [
    "features = df.drop(['LostCustomer'], axis=1)\n",
    "target = df['LostCustomer']\n",
    "\n",
    "print('Размер исходного датафрейма:', df.shape,\n",
    "      '\\nРазмер features:', features.shape,\n",
    "      '\\nРазмер target:', target.shape)"
   ]
  },
  {
   "cell_type": "markdown",
   "metadata": {},
   "source": [
    "Создадим список категорийных признаков "
   ]
  },
  {
   "cell_type": "code",
   "execution_count": 36,
   "metadata": {},
   "outputs": [
    {
     "data": {
      "text/plain": [
       "Type                   3\n",
       "PaymentMethod          4\n",
       "MonthlyCharges      1584\n",
       "TotalCharges        6530\n",
       "Gender                 2\n",
       "SeniorCitizen          2\n",
       "Partner                2\n",
       "Dependents             2\n",
       "InternetService        3\n",
       "OnlineSecurity         2\n",
       "OnlineBackup           2\n",
       "DeviceProtection       2\n",
       "TechSupport            2\n",
       "StreamingTV            2\n",
       "StreamingMovies        2\n",
       "MultipleLines          2\n",
       "UsageTime            155\n",
       "dtype: int64"
      ]
     },
     "execution_count": 36,
     "metadata": {},
     "output_type": "execute_result"
    }
   ],
   "source": [
    "features.nunique()"
   ]
  },
  {
   "cell_type": "code",
   "execution_count": 37,
   "metadata": {},
   "outputs": [
    {
     "data": {
      "text/plain": [
       "['Type',\n",
       " 'PaymentMethod',\n",
       " 'Gender',\n",
       " 'SeniorCitizen',\n",
       " 'Partner',\n",
       " 'Dependents',\n",
       " 'InternetService',\n",
       " 'OnlineSecurity',\n",
       " 'OnlineBackup',\n",
       " 'DeviceProtection',\n",
       " 'TechSupport',\n",
       " 'StreamingTV',\n",
       " 'StreamingMovies',\n",
       " 'MultipleLines']"
      ]
     },
     "execution_count": 37,
     "metadata": {},
     "output_type": "execute_result"
    }
   ],
   "source": [
    "cat_features = features.nunique()[features.nunique() < 5].keys().tolist()\n",
    "cat_features"
   ]
  },
  {
   "cell_type": "markdown",
   "metadata": {},
   "source": [
    "Кодирование категориальных признаков произведем методом порядкового кодирования OrdinalEncoder"
   ]
  },
  {
   "cell_type": "code",
   "execution_count": 38,
   "metadata": {
    "scrolled": true
   },
   "outputs": [
    {
     "data": {
      "text/html": [
       "<div>\n",
       "<style scoped>\n",
       "    .dataframe tbody tr th:only-of-type {\n",
       "        vertical-align: middle;\n",
       "    }\n",
       "\n",
       "    .dataframe tbody tr th {\n",
       "        vertical-align: top;\n",
       "    }\n",
       "\n",
       "    .dataframe thead th {\n",
       "        text-align: right;\n",
       "    }\n",
       "</style>\n",
       "<table border=\"1\" class=\"dataframe\">\n",
       "  <thead>\n",
       "    <tr style=\"text-align: right;\">\n",
       "      <th></th>\n",
       "      <th>Type</th>\n",
       "      <th>PaymentMethod</th>\n",
       "      <th>MonthlyCharges</th>\n",
       "      <th>TotalCharges</th>\n",
       "      <th>Gender</th>\n",
       "      <th>SeniorCitizen</th>\n",
       "      <th>Partner</th>\n",
       "      <th>Dependents</th>\n",
       "      <th>InternetService</th>\n",
       "      <th>OnlineSecurity</th>\n",
       "      <th>OnlineBackup</th>\n",
       "      <th>DeviceProtection</th>\n",
       "      <th>TechSupport</th>\n",
       "      <th>StreamingTV</th>\n",
       "      <th>StreamingMovies</th>\n",
       "      <th>MultipleLines</th>\n",
       "      <th>UsageTime</th>\n",
       "    </tr>\n",
       "    <tr>\n",
       "      <th>CustomerID</th>\n",
       "      <th></th>\n",
       "      <th></th>\n",
       "      <th></th>\n",
       "      <th></th>\n",
       "      <th></th>\n",
       "      <th></th>\n",
       "      <th></th>\n",
       "      <th></th>\n",
       "      <th></th>\n",
       "      <th></th>\n",
       "      <th></th>\n",
       "      <th></th>\n",
       "      <th></th>\n",
       "      <th></th>\n",
       "      <th></th>\n",
       "      <th></th>\n",
       "      <th></th>\n",
       "    </tr>\n",
       "  </thead>\n",
       "  <tbody>\n",
       "    <tr>\n",
       "      <th>7590-VHVEG</th>\n",
       "      <td>0.0</td>\n",
       "      <td>2.0</td>\n",
       "      <td>29.85</td>\n",
       "      <td>29.85</td>\n",
       "      <td>0.0</td>\n",
       "      <td>0.0</td>\n",
       "      <td>1.0</td>\n",
       "      <td>0.0</td>\n",
       "      <td>0.0</td>\n",
       "      <td>0.0</td>\n",
       "      <td>1.0</td>\n",
       "      <td>0.0</td>\n",
       "      <td>0.0</td>\n",
       "      <td>0.0</td>\n",
       "      <td>0.0</td>\n",
       "      <td>0.0</td>\n",
       "      <td>31</td>\n",
       "    </tr>\n",
       "    <tr>\n",
       "      <th>5575-GNVDE</th>\n",
       "      <td>1.0</td>\n",
       "      <td>3.0</td>\n",
       "      <td>56.95</td>\n",
       "      <td>1889.50</td>\n",
       "      <td>1.0</td>\n",
       "      <td>0.0</td>\n",
       "      <td>0.0</td>\n",
       "      <td>0.0</td>\n",
       "      <td>0.0</td>\n",
       "      <td>1.0</td>\n",
       "      <td>0.0</td>\n",
       "      <td>1.0</td>\n",
       "      <td>0.0</td>\n",
       "      <td>0.0</td>\n",
       "      <td>0.0</td>\n",
       "      <td>0.0</td>\n",
       "      <td>1036</td>\n",
       "    </tr>\n",
       "    <tr>\n",
       "      <th>3668-QPYBK</th>\n",
       "      <td>0.0</td>\n",
       "      <td>3.0</td>\n",
       "      <td>53.85</td>\n",
       "      <td>108.15</td>\n",
       "      <td>1.0</td>\n",
       "      <td>0.0</td>\n",
       "      <td>0.0</td>\n",
       "      <td>0.0</td>\n",
       "      <td>0.0</td>\n",
       "      <td>1.0</td>\n",
       "      <td>1.0</td>\n",
       "      <td>0.0</td>\n",
       "      <td>0.0</td>\n",
       "      <td>0.0</td>\n",
       "      <td>0.0</td>\n",
       "      <td>0.0</td>\n",
       "      <td>61</td>\n",
       "    </tr>\n",
       "    <tr>\n",
       "      <th>7795-CFOCW</th>\n",
       "      <td>1.0</td>\n",
       "      <td>0.0</td>\n",
       "      <td>42.30</td>\n",
       "      <td>1840.75</td>\n",
       "      <td>1.0</td>\n",
       "      <td>0.0</td>\n",
       "      <td>0.0</td>\n",
       "      <td>0.0</td>\n",
       "      <td>0.0</td>\n",
       "      <td>1.0</td>\n",
       "      <td>0.0</td>\n",
       "      <td>1.0</td>\n",
       "      <td>1.0</td>\n",
       "      <td>0.0</td>\n",
       "      <td>0.0</td>\n",
       "      <td>0.0</td>\n",
       "      <td>1371</td>\n",
       "    </tr>\n",
       "    <tr>\n",
       "      <th>9237-HQITU</th>\n",
       "      <td>0.0</td>\n",
       "      <td>2.0</td>\n",
       "      <td>70.70</td>\n",
       "      <td>151.65</td>\n",
       "      <td>0.0</td>\n",
       "      <td>0.0</td>\n",
       "      <td>0.0</td>\n",
       "      <td>0.0</td>\n",
       "      <td>1.0</td>\n",
       "      <td>0.0</td>\n",
       "      <td>0.0</td>\n",
       "      <td>0.0</td>\n",
       "      <td>0.0</td>\n",
       "      <td>0.0</td>\n",
       "      <td>0.0</td>\n",
       "      <td>0.0</td>\n",
       "      <td>61</td>\n",
       "    </tr>\n",
       "  </tbody>\n",
       "</table>\n",
       "</div>"
      ],
      "text/plain": [
       "            Type  PaymentMethod  MonthlyCharges  TotalCharges  Gender  \\\n",
       "CustomerID                                                              \n",
       "7590-VHVEG   0.0            2.0           29.85         29.85     0.0   \n",
       "5575-GNVDE   1.0            3.0           56.95       1889.50     1.0   \n",
       "3668-QPYBK   0.0            3.0           53.85        108.15     1.0   \n",
       "7795-CFOCW   1.0            0.0           42.30       1840.75     1.0   \n",
       "9237-HQITU   0.0            2.0           70.70        151.65     0.0   \n",
       "\n",
       "            SeniorCitizen  Partner  Dependents  InternetService  \\\n",
       "CustomerID                                                        \n",
       "7590-VHVEG            0.0      1.0         0.0              0.0   \n",
       "5575-GNVDE            0.0      0.0         0.0              0.0   \n",
       "3668-QPYBK            0.0      0.0         0.0              0.0   \n",
       "7795-CFOCW            0.0      0.0         0.0              0.0   \n",
       "9237-HQITU            0.0      0.0         0.0              1.0   \n",
       "\n",
       "            OnlineSecurity  OnlineBackup  DeviceProtection  TechSupport  \\\n",
       "CustomerID                                                                \n",
       "7590-VHVEG             0.0           1.0               0.0          0.0   \n",
       "5575-GNVDE             1.0           0.0               1.0          0.0   \n",
       "3668-QPYBK             1.0           1.0               0.0          0.0   \n",
       "7795-CFOCW             1.0           0.0               1.0          1.0   \n",
       "9237-HQITU             0.0           0.0               0.0          0.0   \n",
       "\n",
       "            StreamingTV  StreamingMovies  MultipleLines  UsageTime  \n",
       "CustomerID                                                          \n",
       "7590-VHVEG          0.0              0.0            0.0         31  \n",
       "5575-GNVDE          0.0              0.0            0.0       1036  \n",
       "3668-QPYBK          0.0              0.0            0.0         61  \n",
       "7795-CFOCW          0.0              0.0            0.0       1371  \n",
       "9237-HQITU          0.0              0.0            0.0         61  "
      ]
     },
     "execution_count": 38,
     "metadata": {},
     "output_type": "execute_result"
    }
   ],
   "source": [
    "encoder = OrdinalEncoder()\n",
    "features[cat_features] = encoder.fit_transform(features[cat_features])\n",
    "features.head()"
   ]
  },
  {
   "cell_type": "markdown",
   "metadata": {},
   "source": [
    "#### Проверка корреляции"
   ]
  },
  {
   "cell_type": "markdown",
   "metadata": {},
   "source": [
    "Выделим количественные признаки"
   ]
  },
  {
   "cell_type": "code",
   "execution_count": 39,
   "metadata": {},
   "outputs": [
    {
     "data": {
      "text/plain": [
       "['MonthlyCharges', 'TotalCharges', 'UsageTime']"
      ]
     },
     "execution_count": 39,
     "metadata": {},
     "output_type": "execute_result"
    }
   ],
   "source": [
    "numeric = features.nunique()[features.nunique() > 5].keys().tolist()\n",
    "numeric"
   ]
  },
  {
   "cell_type": "markdown",
   "metadata": {},
   "source": [
    "Построим матрицу количественных признаков"
   ]
  },
  {
   "cell_type": "code",
   "execution_count": 40,
   "metadata": {},
   "outputs": [
    {
     "data": {
      "image/png": "[encoded data removed]",
      "text/plain": [
       "<Figure size 720x720 with 2 Axes>"
      ]
     },
     "metadata": {
      "needs_background": "light"
     },
     "output_type": "display_data"
    }
   ],
   "source": [
    "corr_matrix = features[numeric].corr()\n",
    "\n",
    "plt.figure(figsize=(10, 10))\n",
    "sns.heatmap(corr_matrix, robust=True, square=True, annot=True)\n",
    "\n",
    "plt.title('Тепловая карта корреляции')\n",
    "plt.show()"
   ]
  },
  {
   "cell_type": "markdown",
   "metadata": {},
   "source": [
    "Из матрицы видно, что у нас присутствует проблема мультиколлинеарности. Признаки `TotalCharges` и `UsageTime` имеют сильную корреляцию друг с другом `0,83`. Из-за этого наша будущая модель может переобучиться. Чтобы избежать этого, нужно удалить один из признаков. Удалим `TotalCharges`, так как у него есть высокая корреляция и с признаком `MonthlyCharges`."
   ]
  },
  {
   "cell_type": "code",
   "execution_count": 41,
   "metadata": {},
   "outputs": [],
   "source": [
    "features.drop('TotalCharges', axis='columns', inplace=True)"
   ]
  },
  {
   "cell_type": "markdown",
   "metadata": {},
   "source": [
    "#### Разделим данные на тренировочную, валидационную и тестовую выборки"
   ]
  },
  {
   "cell_type": "code",
   "execution_count": 42,
   "metadata": {},
   "outputs": [
    {
     "name": "stdout",
     "output_type": "stream",
     "text": [
      "Размер обучающей выборки 4219\n",
      "Размер валидационной выборки 1406\n",
      "Размер тестовой выборки 1407\n"
     ]
    }
   ],
   "source": [
    "train_features, valid_test_features, train_target, valid_test_target = train_test_split(\n",
    "    features, target, test_size=0.4, random_state=42)\n",
    "\n",
    "valid_features, test_features, valid_target, test_target = train_test_split(\n",
    "    valid_test_features, valid_test_target, test_size=0.5, random_state=42)\n",
    "\n",
    "print('Размер обучающей выборки', train_features.shape[0])\n",
    "print('Размер валидационной выборки', valid_features.shape[0])\n",
    "print('Размер тестовой выборки', test_features.shape[0])"
   ]
  },
  {
   "cell_type": "code",
   "execution_count": 43,
   "metadata": {},
   "outputs": [
    {
     "data": {
      "text/plain": [
       "7032"
      ]
     },
     "execution_count": 43,
     "metadata": {},
     "output_type": "execute_result"
    }
   ],
   "source": [
    "# Пороверим корректность разделения на выборки\n",
    "\n",
    "train_features.shape[0] + valid_features.shape[0] + test_features.shape[0]"
   ]
  },
  {
   "cell_type": "markdown",
   "metadata": {},
   "source": [
    "Так как в данных присутствуют количественные признаки с разными разбросами значений, их нужно масштабировать.\\\n",
    "Приведем данные к одному масштабу методом стандартизации."
   ]
  },
  {
   "cell_type": "code",
   "execution_count": 44,
   "metadata": {},
   "outputs": [
    {
     "data": {
      "text/plain": [
       "['MonthlyCharges', 'UsageTime']"
      ]
     },
     "execution_count": 44,
     "metadata": {},
     "output_type": "execute_result"
    }
   ],
   "source": [
    "numeric = features.nunique()[features.nunique() > 5].keys().tolist()\n",
    "numeric"
   ]
  },
  {
   "cell_type": "code",
   "execution_count": 45,
   "metadata": {},
   "outputs": [],
   "source": [
    "# Чтобы избежать переобучения: обучим стандартизатор на тренировочных данных, а затем стандартизируем всё.\n",
    "\n",
    "scaler = StandardScaler()\n",
    "scaler.fit(train_features[numeric])\n",
    "pd.options.mode.chained_assignment = None\n",
    "train_features[numeric] = scaler.transform(train_features[numeric])\n",
    "valid_features[numeric] = scaler.transform(valid_features[numeric])\n",
    "test_features[numeric] = scaler.transform(test_features[numeric])"
   ]
  },
  {
   "cell_type": "code",
   "execution_count": 46,
   "metadata": {},
   "outputs": [
    {
     "data": {
      "text/html": [
       "<div>\n",
       "<style scoped>\n",
       "    .dataframe tbody tr th:only-of-type {\n",
       "        vertical-align: middle;\n",
       "    }\n",
       "\n",
       "    .dataframe tbody tr th {\n",
       "        vertical-align: top;\n",
       "    }\n",
       "\n",
       "    .dataframe thead th {\n",
       "        text-align: right;\n",
       "    }\n",
       "</style>\n",
       "<table border=\"1\" class=\"dataframe\">\n",
       "  <thead>\n",
       "    <tr style=\"text-align: right;\">\n",
       "      <th></th>\n",
       "      <th>Type</th>\n",
       "      <th>PaymentMethod</th>\n",
       "      <th>MonthlyCharges</th>\n",
       "      <th>Gender</th>\n",
       "      <th>SeniorCitizen</th>\n",
       "      <th>Partner</th>\n",
       "      <th>Dependents</th>\n",
       "      <th>InternetService</th>\n",
       "      <th>OnlineSecurity</th>\n",
       "      <th>OnlineBackup</th>\n",
       "      <th>DeviceProtection</th>\n",
       "      <th>TechSupport</th>\n",
       "      <th>StreamingTV</th>\n",
       "      <th>StreamingMovies</th>\n",
       "      <th>MultipleLines</th>\n",
       "      <th>UsageTime</th>\n",
       "    </tr>\n",
       "    <tr>\n",
       "      <th>CustomerID</th>\n",
       "      <th></th>\n",
       "      <th></th>\n",
       "      <th></th>\n",
       "      <th></th>\n",
       "      <th></th>\n",
       "      <th></th>\n",
       "      <th></th>\n",
       "      <th></th>\n",
       "      <th></th>\n",
       "      <th></th>\n",
       "      <th></th>\n",
       "      <th></th>\n",
       "      <th></th>\n",
       "      <th></th>\n",
       "      <th></th>\n",
       "      <th></th>\n",
       "    </tr>\n",
       "  </thead>\n",
       "  <tbody>\n",
       "    <tr>\n",
       "      <th>9242-TKFSV</th>\n",
       "      <td>2.0</td>\n",
       "      <td>1.0</td>\n",
       "      <td>0.020409</td>\n",
       "      <td>1.0</td>\n",
       "      <td>0.0</td>\n",
       "      <td>1.0</td>\n",
       "      <td>1.0</td>\n",
       "      <td>0.0</td>\n",
       "      <td>1.0</td>\n",
       "      <td>1.0</td>\n",
       "      <td>1.0</td>\n",
       "      <td>1.0</td>\n",
       "      <td>1.0</td>\n",
       "      <td>1.0</td>\n",
       "      <td>0.0</td>\n",
       "      <td>1.618936</td>\n",
       "    </tr>\n",
       "    <tr>\n",
       "      <th>6050-FFXES</th>\n",
       "      <td>2.0</td>\n",
       "      <td>0.0</td>\n",
       "      <td>1.356846</td>\n",
       "      <td>0.0</td>\n",
       "      <td>0.0</td>\n",
       "      <td>1.0</td>\n",
       "      <td>0.0</td>\n",
       "      <td>1.0</td>\n",
       "      <td>0.0</td>\n",
       "      <td>0.0</td>\n",
       "      <td>1.0</td>\n",
       "      <td>1.0</td>\n",
       "      <td>1.0</td>\n",
       "      <td>1.0</td>\n",
       "      <td>1.0</td>\n",
       "      <td>1.500053</td>\n",
       "    </tr>\n",
       "    <tr>\n",
       "      <th>4558-FANTW</th>\n",
       "      <td>0.0</td>\n",
       "      <td>2.0</td>\n",
       "      <td>0.908600</td>\n",
       "      <td>0.0</td>\n",
       "      <td>0.0</td>\n",
       "      <td>1.0</td>\n",
       "      <td>1.0</td>\n",
       "      <td>1.0</td>\n",
       "      <td>1.0</td>\n",
       "      <td>0.0</td>\n",
       "      <td>0.0</td>\n",
       "      <td>1.0</td>\n",
       "      <td>1.0</td>\n",
       "      <td>0.0</td>\n",
       "      <td>0.0</td>\n",
       "      <td>-0.615793</td>\n",
       "    </tr>\n",
       "    <tr>\n",
       "      <th>7798-JVXYM</th>\n",
       "      <td>0.0</td>\n",
       "      <td>2.0</td>\n",
       "      <td>0.171484</td>\n",
       "      <td>0.0</td>\n",
       "      <td>0.0</td>\n",
       "      <td>0.0</td>\n",
       "      <td>0.0</td>\n",
       "      <td>0.0</td>\n",
       "      <td>0.0</td>\n",
       "      <td>0.0</td>\n",
       "      <td>0.0</td>\n",
       "      <td>1.0</td>\n",
       "      <td>1.0</td>\n",
       "      <td>1.0</td>\n",
       "      <td>0.0</td>\n",
       "      <td>-0.737347</td>\n",
       "    </tr>\n",
       "    <tr>\n",
       "      <th>2968-SSGAA</th>\n",
       "      <td>0.0</td>\n",
       "      <td>2.0</td>\n",
       "      <td>1.199130</td>\n",
       "      <td>0.0</td>\n",
       "      <td>0.0</td>\n",
       "      <td>0.0</td>\n",
       "      <td>0.0</td>\n",
       "      <td>1.0</td>\n",
       "      <td>0.0</td>\n",
       "      <td>0.0</td>\n",
       "      <td>1.0</td>\n",
       "      <td>0.0</td>\n",
       "      <td>1.0</td>\n",
       "      <td>1.0</td>\n",
       "      <td>1.0</td>\n",
       "      <td>-0.901646</td>\n",
       "    </tr>\n",
       "  </tbody>\n",
       "</table>\n",
       "</div>"
      ],
      "text/plain": [
       "            Type  PaymentMethod  MonthlyCharges  Gender  SeniorCitizen  \\\n",
       "CustomerID                                                               \n",
       "9242-TKFSV   2.0            1.0        0.020409     1.0            0.0   \n",
       "6050-FFXES   2.0            0.0        1.356846     0.0            0.0   \n",
       "4558-FANTW   0.0            2.0        0.908600     0.0            0.0   \n",
       "7798-JVXYM   0.0            2.0        0.171484     0.0            0.0   \n",
       "2968-SSGAA   0.0            2.0        1.199130     0.0            0.0   \n",
       "\n",
       "            Partner  Dependents  InternetService  OnlineSecurity  \\\n",
       "CustomerID                                                         \n",
       "9242-TKFSV      1.0         1.0              0.0             1.0   \n",
       "6050-FFXES      1.0         0.0              1.0             0.0   \n",
       "4558-FANTW      1.0         1.0              1.0             1.0   \n",
       "7798-JVXYM      0.0         0.0              0.0             0.0   \n",
       "2968-SSGAA      0.0         0.0              1.0             0.0   \n",
       "\n",
       "            OnlineBackup  DeviceProtection  TechSupport  StreamingTV  \\\n",
       "CustomerID                                                             \n",
       "9242-TKFSV           1.0               1.0          1.0          1.0   \n",
       "6050-FFXES           0.0               1.0          1.0          1.0   \n",
       "4558-FANTW           0.0               0.0          1.0          1.0   \n",
       "7798-JVXYM           0.0               0.0          1.0          1.0   \n",
       "2968-SSGAA           0.0               1.0          0.0          1.0   \n",
       "\n",
       "            StreamingMovies  MultipleLines  UsageTime  \n",
       "CustomerID                                             \n",
       "9242-TKFSV              1.0            0.0   1.618936  \n",
       "6050-FFXES              1.0            1.0   1.500053  \n",
       "4558-FANTW              0.0            0.0  -0.615793  \n",
       "7798-JVXYM              1.0            0.0  -0.737347  \n",
       "2968-SSGAA              1.0            1.0  -0.901646  "
      ]
     },
     "execution_count": 46,
     "metadata": {},
     "output_type": "execute_result"
    }
   ],
   "source": [
    "train_features.head()"
   ]
  },
  {
   "cell_type": "markdown",
   "metadata": {},
   "source": [
    "#### Вывод:\n",
    "\n",
    "Данные подготовлены, корректно поделены на выборки. \\\n",
    "Было произведено кодирование категориальных признаков методом порядкового кодирования OrdinalEncoder. \\\n",
    "Количественные признаки проверили на корреляцию и удалили лишние, чтобы избежать переобучения модели в будущем. \\\n",
    "Количественные признаки, с разными разбросами значений, масштабировали методом стандартизации. \\\n",
    "Можно переходить к следующему этапу."
   ]
  },
  {
   "cell_type": "markdown",
   "metadata": {},
   "source": [
    "## 4. Модели машинного обучения"
   ]
  },
  {
   "cell_type": "markdown",
   "metadata": {},
   "source": [
    "Посмотрим на баланс классов"
   ]
  },
  {
   "cell_type": "code",
   "execution_count": 47,
   "metadata": {},
   "outputs": [
    {
     "data": {
      "text/plain": [
       "0    5163\n",
       "1    1869\n",
       "Name: LostCustomer, dtype: int64"
      ]
     },
     "execution_count": 47,
     "metadata": {},
     "output_type": "execute_result"
    }
   ],
   "source": [
    "target.value_counts()"
   ]
  },
  {
   "cell_type": "code",
   "execution_count": 48,
   "metadata": {},
   "outputs": [
    {
     "data": {
      "text/plain": [
       "2.7624398073836276"
      ]
     },
     "execution_count": 48,
     "metadata": {},
     "output_type": "execute_result"
    }
   ],
   "source": [
    "(target[target == 0].count())/(target[target == 1].count())"
   ]
  },
  {
   "cell_type": "markdown",
   "metadata": {},
   "source": [
    "Объектов отрицательного класса почти в 3 раза больше."
   ]
  },
  {
   "cell_type": "markdown",
   "metadata": {},
   "source": [
    "### Логистическая регрессия"
   ]
  },
  {
   "cell_type": "markdown",
   "metadata": {},
   "source": [
    "Обучим модель логистической регрессии и посмотрим на итоговые метрики"
   ]
  },
  {
   "cell_type": "code",
   "execution_count": 49,
   "metadata": {},
   "outputs": [
    {
     "name": "stdout",
     "output_type": "stream",
     "text": [
      "Accuracy: 0.789\n",
      "AUC-ROC: 0.821\n",
      "CPU times: user 309 ms, sys: 278 ms, total: 587 ms\n",
      "Wall time: 527 ms\n"
     ]
    }
   ],
   "source": [
    "%%time\n",
    "\n",
    "lr_model = LogisticRegression(random_state=42)\n",
    "lr_model = lr_model.fit(train_features, train_target)\n",
    "predict = lr_model.predict(valid_features)\n",
    "\n",
    "probabilities_valid = lr_model.predict_proba(valid_features)\n",
    "probabilities_one_valid = probabilities_valid[:, 1]\n",
    "\n",
    "lr_model_accuracy = accuracy_score(valid_target, predict)\n",
    "lr_model_roc_auc = roc_auc_score(valid_target, probabilities_one_valid)\n",
    "\n",
    "print(\"Accuracy:\", lr_model_accuracy.round(3))\n",
    "print(\"AUC-ROC:\", lr_model_roc_auc.round(3))"
   ]
  },
  {
   "cell_type": "markdown",
   "metadata": {},
   "source": [
    "### Случайный лес"
   ]
  },
  {
   "cell_type": "markdown",
   "metadata": {},
   "source": [
    "Подберём оптимальные параметры модели"
   ]
  },
  {
   "cell_type": "code",
   "execution_count": 50,
   "metadata": {},
   "outputs": [
    {
     "data": {
      "text/plain": [
       "'\\nAccuracy лучшей модели: 0.806 \\nКоличество деревьев: 61 \\nМаксимальная глубина: 16\\nWall time: 1min 12s\\n'"
      ]
     },
     "execution_count": 50,
     "metadata": {},
     "output_type": "execute_result"
    }
   ],
   "source": [
    "# Закомментировал подбор лучших параметров для экономии времени. Найденные параметры указаны ниже.\n",
    "\n",
    "#%%time\n",
    "\n",
    "#rfc_model = RandomForestClassifier()\n",
    "\n",
    "#best_ACC = 0\n",
    "#best_est = 0\n",
    "#best_depth = 0\n",
    "#for est in range(1, 100, 5):\n",
    "#    for depth in range (1, 20, 5):\n",
    "#        model = RandomForestClassifier(random_state=42, n_estimators=est ,max_depth=depth)\n",
    "#        ACC = cross_val_score(rfc_model, train_features, train_target, cv = 3, scoring=make_scorer(accuracy_score))\n",
    "#        ACC = ACC.mean()\n",
    "#        if ACC > best_ACC:\n",
    "#            best_ACC = ACC\n",
    "#            best_est = est\n",
    "#            best_depth = depth\n",
    "\n",
    "#print(\"Accuracy лучшей модели:\", best_ACC.round(3), \"\\nКоличество деревьев:\", best_est, \"\\nМаксимальная глубина:\", depth)\n",
    "\n",
    "'''\n",
    "Accuracy лучшей модели: 0.806 \n",
    "Количество деревьев: 61 \n",
    "Максимальная глубина: 16\n",
    "Wall time: 1min 12s\n",
    "'''"
   ]
  },
  {
   "cell_type": "markdown",
   "metadata": {},
   "source": [
    "Протестируем модель с найденными параметрами"
   ]
  },
  {
   "cell_type": "code",
   "execution_count": 51,
   "metadata": {},
   "outputs": [
    {
     "name": "stdout",
     "output_type": "stream",
     "text": [
      "Accuracy: 0.802\n",
      "AUC-ROC: 0.83\n",
      "CPU times: user 279 ms, sys: 7.37 ms, total: 287 ms\n",
      "Wall time: 285 ms\n"
     ]
    }
   ],
   "source": [
    "%%time\n",
    "\n",
    "rfc_model = RandomForestClassifier(random_state=42, n_estimators=61, max_depth=16)\n",
    "\n",
    "rfc_model = rfc_model.fit(train_features, train_target)\n",
    "predict = rfc_model.predict(valid_features)\n",
    "\n",
    "probabilities_valid = rfc_model.predict_proba(valid_features)\n",
    "probabilities_one_valid = probabilities_valid[:, 1]\n",
    "\n",
    "rfc_accuracy = accuracy_score(valid_target, predict)\n",
    "rfc_roc_auc = roc_auc_score(valid_target, probabilities_one_valid)\n",
    "\n",
    "print(\"Accuracy:\", rfc_accuracy.round(3))\n",
    "print(\"AUC-ROC:\", rfc_roc_auc.round(3))"
   ]
  },
  {
   "cell_type": "markdown",
   "metadata": {},
   "source": [
    "### CatBoostClassifier"
   ]
  },
  {
   "cell_type": "markdown",
   "metadata": {},
   "source": [
    "Обучим модель CatBoost и посмотрим на итоговые метрики"
   ]
  },
  {
   "cell_type": "code",
   "execution_count": 52,
   "metadata": {
    "scrolled": true
   },
   "outputs": [
    {
     "name": "stdout",
     "output_type": "stream",
     "text": [
      "Accuracy: 0.85\n",
      "AUC-ROC: 0.891\n",
      "CPU times: user 683 ms, sys: 55 ms, total: 738 ms\n",
      "Wall time: 2.14 s\n"
     ]
    }
   ],
   "source": [
    "%%time\n",
    "\n",
    "cbc_model = CatBoostClassifier(loss_function=\"Logloss\", verbose=False, random_seed=42,  iterations=300)\n",
    "cbc_model = cbc_model.fit(train_features, train_target)\n",
    "predict = cbc_model.predict(valid_features)\n",
    "\n",
    "probabilities_valid = cbc_model.predict_proba(valid_features)\n",
    "probabilities_one_valid = probabilities_valid[:, 1]\n",
    "\n",
    "cbc_accuracy = accuracy_score(valid_target, predict)\n",
    "cbc_roc_auc = roc_auc_score(valid_target, probabilities_one_valid)\n",
    "\n",
    "print(\"Accuracy:\", cbc_accuracy.round(3))\n",
    "print(\"AUC-ROC:\", cbc_roc_auc.round(3))"
   ]
  },
  {
   "cell_type": "markdown",
   "metadata": {},
   "source": [
    "#### Вывод:\n",
    "\n",
    "Мы попробовали и обучили разные модели. Полученные результаты сведём в общую таблицу."
   ]
  },
  {
   "cell_type": "code",
   "execution_count": 53,
   "metadata": {},
   "outputs": [
    {
     "data": {
      "text/html": [
       "<div>\n",
       "<style scoped>\n",
       "    .dataframe tbody tr th:only-of-type {\n",
       "        vertical-align: middle;\n",
       "    }\n",
       "\n",
       "    .dataframe tbody tr th {\n",
       "        vertical-align: top;\n",
       "    }\n",
       "\n",
       "    .dataframe thead th {\n",
       "        text-align: right;\n",
       "    }\n",
       "</style>\n",
       "<table border=\"1\" class=\"dataframe\">\n",
       "  <thead>\n",
       "    <tr style=\"text-align: right;\">\n",
       "      <th></th>\n",
       "      <th>Accuracy</th>\n",
       "      <th>AUC-ROC</th>\n",
       "    </tr>\n",
       "    <tr>\n",
       "      <th>Модель</th>\n",
       "      <th></th>\n",
       "      <th></th>\n",
       "    </tr>\n",
       "  </thead>\n",
       "  <tbody>\n",
       "    <tr>\n",
       "      <th>LogisticRegression</th>\n",
       "      <td>0.789474</td>\n",
       "      <td>0.821407</td>\n",
       "    </tr>\n",
       "    <tr>\n",
       "      <th>RandomForestClassifier</th>\n",
       "      <td>0.801565</td>\n",
       "      <td>0.830267</td>\n",
       "    </tr>\n",
       "    <tr>\n",
       "      <th>CatBoostClassifier</th>\n",
       "      <td>0.849929</td>\n",
       "      <td>0.890562</td>\n",
       "    </tr>\n",
       "  </tbody>\n",
       "</table>\n",
       "</div>"
      ],
      "text/plain": [
       "                        Accuracy   AUC-ROC\n",
       "Модель                                    \n",
       "LogisticRegression      0.789474  0.821407\n",
       "RandomForestClassifier  0.801565  0.830267\n",
       "CatBoostClassifier      0.849929  0.890562"
      ]
     },
     "execution_count": 53,
     "metadata": {},
     "output_type": "execute_result"
    }
   ],
   "source": [
    "models = pd.DataFrame({\n",
    "    'Модель': ['LogisticRegression', 'RandomForestClassifier', 'CatBoostClassifier'], \n",
    "    'Accuracy': [lr_model_accuracy  , rfc_accuracy  , cbc_accuracy],\n",
    "    'AUC-ROC': [lr_model_roc_auc, rfc_roc_auc, cbc_roc_auc]\n",
    "\n",
    "}).set_index('Модель')\n",
    "models"
   ]
  },
  {
   "cell_type": "markdown",
   "metadata": {},
   "source": [
    "Наилучшие предсказания показала модель CatBoostClassifier, **AUC-ROC = 0.89** на валидационных данных."
   ]
  },
  {
   "cell_type": "markdown",
   "metadata": {},
   "source": [
    "## 5. Тестирование и проверка адекватности"
   ]
  },
  {
   "cell_type": "markdown",
   "metadata": {},
   "source": [
    "Протестируем нашу лучшую модель CatBoost. "
   ]
  },
  {
   "cell_type": "code",
   "execution_count": 54,
   "metadata": {},
   "outputs": [
    {
     "name": "stdout",
     "output_type": "stream",
     "text": [
      "AUC-ROC: 0.89651 \n",
      "Accuracy: 0.85359\n"
     ]
    }
   ],
   "source": [
    "cb_preds_test = cbc_model.predict_proba(test_features)\n",
    "prediction_cb_one_test = cb_preds_test[:, 1]\n",
    "\n",
    "auc_roc_cb_test = roc_auc_score(test_target, prediction_cb_one_test).round(5)\n",
    "\n",
    "cb_preds_test_acc = cbc_model.predict(test_features)\n",
    "accuracy_cb_test = accuracy_score(test_target, cb_preds_test_acc).round(5)\n",
    "\n",
    "print('AUC-ROC:', auc_roc_cb_test,\n",
    "      '\\nAccuracy:', accuracy_cb_test)"
   ]
  },
  {
   "cell_type": "markdown",
   "metadata": {},
   "source": [
    "Значение метрик, на тестовых данных, немного увеличилось. Модель удачно прошла тест."
   ]
  },
  {
   "cell_type": "markdown",
   "metadata": {},
   "source": [
    "Сравним нашу модель с базисной. В качестве базисной модели возьмем DummyClassifier."
   ]
  },
  {
   "cell_type": "code",
   "execution_count": 55,
   "metadata": {},
   "outputs": [
    {
     "name": "stdout",
     "output_type": "stream",
     "text": [
      "AUC-ROC: 0.5 \n",
      "Accuracy: 0.743\n"
     ]
    }
   ],
   "source": [
    "dummy_model = DummyClassifier(random_state=42)\n",
    "dummy_model.fit(train_features, train_target)\n",
    "dummy_predict = dummy_model.predict(test_features)\n",
    "\n",
    "auc_roc_dummy = roc_auc_score(test_target, dummy_predict)\n",
    "accuracy_dummy = accuracy_score(test_target, dummy_predict)\n",
    "\n",
    "print('AUC-ROC:', auc_roc_dummy.round(3),\n",
    "      '\\nAccuracy:', accuracy_dummy.round(3))"
   ]
  },
  {
   "cell_type": "markdown",
   "metadata": {},
   "source": [
    "Метрики нашей модели значительно выше, чем у базисной модели. Следовательно наша модель адекватна."
   ]
  },
  {
   "cell_type": "markdown",
   "metadata": {},
   "source": [
    "#### Важность факторов нашей модели"
   ]
  },
  {
   "cell_type": "code",
   "execution_count": 56,
   "metadata": {
    "scrolled": false
   },
   "outputs": [
    {
     "data": {
      "text/html": [
       "<div>\n",
       "<style scoped>\n",
       "    .dataframe tbody tr th:only-of-type {\n",
       "        vertical-align: middle;\n",
       "    }\n",
       "\n",
       "    .dataframe tbody tr th {\n",
       "        vertical-align: top;\n",
       "    }\n",
       "\n",
       "    .dataframe thead th {\n",
       "        text-align: right;\n",
       "    }\n",
       "</style>\n",
       "<table border=\"1\" class=\"dataframe\">\n",
       "  <thead>\n",
       "    <tr style=\"text-align: right;\">\n",
       "      <th></th>\n",
       "      <th>importance</th>\n",
       "    </tr>\n",
       "  </thead>\n",
       "  <tbody>\n",
       "    <tr>\n",
       "      <th>UsageTime</th>\n",
       "      <td>47.4</td>\n",
       "    </tr>\n",
       "    <tr>\n",
       "      <th>MonthlyCharges</th>\n",
       "      <td>13.2</td>\n",
       "    </tr>\n",
       "    <tr>\n",
       "      <th>Type</th>\n",
       "      <td>10.0</td>\n",
       "    </tr>\n",
       "    <tr>\n",
       "      <th>InternetService</th>\n",
       "      <td>6.3</td>\n",
       "    </tr>\n",
       "    <tr>\n",
       "      <th>PaymentMethod</th>\n",
       "      <td>6.1</td>\n",
       "    </tr>\n",
       "    <tr>\n",
       "      <th>Dependents</th>\n",
       "      <td>2.4</td>\n",
       "    </tr>\n",
       "    <tr>\n",
       "      <th>Partner</th>\n",
       "      <td>1.8</td>\n",
       "    </tr>\n",
       "    <tr>\n",
       "      <th>StreamingTV</th>\n",
       "      <td>1.8</td>\n",
       "    </tr>\n",
       "    <tr>\n",
       "      <th>Gender</th>\n",
       "      <td>1.8</td>\n",
       "    </tr>\n",
       "    <tr>\n",
       "      <th>MultipleLines</th>\n",
       "      <td>1.8</td>\n",
       "    </tr>\n",
       "    <tr>\n",
       "      <th>OnlineSecurity</th>\n",
       "      <td>1.7</td>\n",
       "    </tr>\n",
       "    <tr>\n",
       "      <th>StreamingMovies</th>\n",
       "      <td>1.7</td>\n",
       "    </tr>\n",
       "    <tr>\n",
       "      <th>TechSupport</th>\n",
       "      <td>1.3</td>\n",
       "    </tr>\n",
       "    <tr>\n",
       "      <th>SeniorCitizen</th>\n",
       "      <td>1.0</td>\n",
       "    </tr>\n",
       "    <tr>\n",
       "      <th>DeviceProtection</th>\n",
       "      <td>0.9</td>\n",
       "    </tr>\n",
       "    <tr>\n",
       "      <th>OnlineBackup</th>\n",
       "      <td>0.8</td>\n",
       "    </tr>\n",
       "  </tbody>\n",
       "</table>\n",
       "</div>"
      ],
      "text/plain": [
       "                  importance\n",
       "UsageTime               47.4\n",
       "MonthlyCharges          13.2\n",
       "Type                    10.0\n",
       "InternetService          6.3\n",
       "PaymentMethod            6.1\n",
       "Dependents               2.4\n",
       "Partner                  1.8\n",
       "StreamingTV              1.8\n",
       "Gender                   1.8\n",
       "MultipleLines            1.8\n",
       "OnlineSecurity           1.7\n",
       "StreamingMovies          1.7\n",
       "TechSupport              1.3\n",
       "SeniorCitizen            1.0\n",
       "DeviceProtection         0.9\n",
       "OnlineBackup             0.8"
      ]
     },
     "execution_count": 56,
     "metadata": {},
     "output_type": "execute_result"
    }
   ],
   "source": [
    "important_factors = pd.DataFrame(cbc_model.feature_importances_, index = features.columns, columns = ['importance'])\n",
    "important_factors = important_factors.sort_values(by ='importance', ascending = False).round(1)\n",
    "important_factors"
   ]
  },
  {
   "cell_type": "code",
   "execution_count": 57,
   "metadata": {},
   "outputs": [
    {
     "data": {
      "image/png": "[encoded data removed]",
      "text/plain": [
       "<Figure size 1008x504 with 1 Axes>"
      ]
     },
     "metadata": {},
     "output_type": "display_data"
    }
   ],
   "source": [
    "sns.set_style(\"dark\")\n",
    "important_factors.sort_values(by ='importance', ascending = True).plot(\n",
    "    kind = 'barh', figsize = (14,7), grid = True, y = 'importance')\n",
    "plt.title('График важности факторов')\n",
    "plt.show()"
   ]
  },
  {
   "cell_type": "markdown",
   "metadata": {},
   "source": [
    "На графике видно, что самые значимые факторы в нашей модели этом: `UsageTime`, `MonthlyCharges`, `Type`, `InternetService` и `PaymentMethod`."
   ]
  },
  {
   "cell_type": "markdown",
   "metadata": {},
   "source": [
    "## 6. Общий вывод"
   ]
  },
  {
   "cell_type": "markdown",
   "metadata": {},
   "source": [
    "В ходе проекта мы проанализировали и подготовили данные телеком кампании. Обучили несколько моделей и выбрали лучшую. Самый высокий результат показала модель **CatBoostClassifier**. Достигнутые значения итоговых метрик на тестовых данных: **AUC-ROC: 0.896**, **Accuracy: 0.853**. \\\n",
    "Модель успешно прошла тестирование и проверку адекватности. По этому мы можем рекомендовать данную модель для прогнозирования оттока клиентов телеком кампании."
   ]
  }
 ],
 "metadata": {
  "ExecuteTimeLog": [
   {
    "duration": 1628,
    "start_time": "2022-04-19T21:40:55.043Z"
   },
   {
    "duration": 175,
    "start_time": "2022-04-19T21:40:56.673Z"
   },
   {
    "duration": 33,
    "start_time": "2022-04-19T21:40:56.850Z"
   },
   {
    "duration": 4,
    "start_time": "2022-04-19T21:40:56.886Z"
   },
   {
    "duration": 7,
    "start_time": "2022-04-19T21:40:56.892Z"
   },
   {
    "duration": 27,
    "start_time": "2022-04-19T21:40:56.902Z"
   },
   {
    "duration": 13,
    "start_time": "2022-04-19T21:40:56.931Z"
   },
   {
    "duration": 13,
    "start_time": "2022-04-19T21:40:56.947Z"
   },
   {
    "duration": 17,
    "start_time": "2022-04-19T21:40:56.963Z"
   },
   {
    "duration": 42,
    "start_time": "2022-04-19T21:40:56.984Z"
   },
   {
    "duration": 16,
    "start_time": "2022-04-19T21:40:57.028Z"
   },
   {
    "duration": 12,
    "start_time": "2022-04-19T21:40:57.046Z"
   },
   {
    "duration": 20,
    "start_time": "2022-04-19T21:40:57.059Z"
   },
   {
    "duration": 46,
    "start_time": "2022-04-19T21:40:57.081Z"
   },
   {
    "duration": 17,
    "start_time": "2022-04-19T21:40:57.129Z"
   },
   {
    "duration": 15,
    "start_time": "2022-04-19T21:40:57.148Z"
   },
   {
    "duration": 12,
    "start_time": "2022-04-19T21:40:57.165Z"
   },
   {
    "duration": 11,
    "start_time": "2022-04-19T21:40:57.178Z"
   },
   {
    "duration": 16,
    "start_time": "2022-04-19T21:40:57.223Z"
   },
   {
    "duration": 13,
    "start_time": "2022-04-19T21:40:57.241Z"
   },
   {
    "duration": 82,
    "start_time": "2022-04-19T21:40:57.256Z"
   },
   {
    "duration": 5,
    "start_time": "2022-04-19T21:40:57.340Z"
   },
   {
    "duration": 10,
    "start_time": "2022-04-19T21:40:57.347Z"
   },
   {
    "duration": 17,
    "start_time": "2022-04-19T21:40:57.359Z"
   },
   {
    "duration": 72,
    "start_time": "2022-04-19T21:40:57.379Z"
   },
   {
    "duration": 13,
    "start_time": "2022-04-19T21:40:57.453Z"
   },
   {
    "duration": 25,
    "start_time": "2022-04-19T21:40:57.468Z"
   },
   {
    "duration": 21,
    "start_time": "2022-04-19T21:40:57.528Z"
   },
   {
    "duration": 11,
    "start_time": "2022-04-19T21:40:57.552Z"
   },
   {
    "duration": 121,
    "start_time": "2022-04-19T21:40:57.565Z"
   },
   {
    "duration": 12,
    "start_time": "2022-04-19T21:40:57.688Z"
   },
   {
    "duration": 29,
    "start_time": "2022-04-19T21:40:57.702Z"
   },
   {
    "duration": 10,
    "start_time": "2022-04-19T21:40:57.733Z"
   },
   {
    "duration": 37,
    "start_time": "2022-04-19T21:40:57.746Z"
   },
   {
    "duration": 42,
    "start_time": "2022-04-19T21:40:57.786Z"
   },
   {
    "duration": 38,
    "start_time": "2022-04-19T21:40:57.830Z"
   },
   {
    "duration": 71,
    "start_time": "2022-04-19T21:40:57.870Z"
   },
   {
    "duration": 114,
    "start_time": "2022-04-19T21:40:57.944Z"
   },
   {
    "duration": 17,
    "start_time": "2022-04-19T21:40:58.061Z"
   },
   {
    "duration": 10,
    "start_time": "2022-04-19T21:40:58.080Z"
   },
   {
    "duration": 62,
    "start_time": "2022-04-19T21:40:58.092Z"
   },
   {
    "duration": 30,
    "start_time": "2022-04-19T21:40:58.157Z"
   },
   {
    "duration": 56,
    "start_time": "2022-04-19T21:40:58.189Z"
   },
   {
    "duration": 18,
    "start_time": "2022-04-19T21:40:58.248Z"
   },
   {
    "duration": 14,
    "start_time": "2022-04-19T21:40:58.269Z"
   },
   {
    "duration": 542,
    "start_time": "2022-04-19T21:40:58.285Z"
   },
   {
    "duration": 96,
    "start_time": "2022-04-19T21:40:58.831Z"
   },
   {
    "duration": 577,
    "start_time": "2022-04-19T21:40:58.929Z"
   },
   {
    "duration": 240,
    "start_time": "2022-04-19T21:40:59.508Z"
   },
   {
    "duration": 1369,
    "start_time": "2022-04-19T21:42:08.021Z"
   },
   {
    "duration": 1559,
    "start_time": "2022-04-19T21:43:34.701Z"
   },
   {
    "duration": 1913,
    "start_time": "2022-04-19T21:43:58.465Z"
   },
   {
    "duration": 2633,
    "start_time": "2022-04-19T21:44:18.532Z"
   },
   {
    "duration": 2017,
    "start_time": "2022-04-19T21:45:30.601Z"
   },
   {
    "duration": 2084,
    "start_time": "2022-04-19T21:49:27.420Z"
   },
   {
    "duration": 1940,
    "start_time": "2022-04-19T21:49:47.045Z"
   },
   {
    "duration": 1999,
    "start_time": "2022-04-19T21:50:40.761Z"
   },
   {
    "duration": 1961,
    "start_time": "2022-04-19T21:50:59.141Z"
   },
   {
    "duration": 142,
    "start_time": "2022-04-19T21:51:33.657Z"
   },
   {
    "duration": 1784,
    "start_time": "2022-04-19T21:52:02.406Z"
   },
   {
    "duration": 1965,
    "start_time": "2022-04-19T21:52:30.020Z"
   },
   {
    "duration": 125,
    "start_time": "2022-04-19T21:53:48.860Z"
   },
   {
    "duration": 113,
    "start_time": "2022-04-19T21:53:54.325Z"
   },
   {
    "duration": 1804,
    "start_time": "2022-04-19T21:55:47.657Z"
   },
   {
    "duration": 1835,
    "start_time": "2022-04-19T21:55:53.402Z"
   },
   {
    "duration": 1854,
    "start_time": "2022-04-19T21:56:07.743Z"
   },
   {
    "duration": 1831,
    "start_time": "2022-04-19T21:56:24.190Z"
   },
   {
    "duration": 1755,
    "start_time": "2022-04-19T21:56:47.769Z"
   },
   {
    "duration": 15,
    "start_time": "2022-04-19T22:01:57.328Z"
   },
   {
    "duration": 16,
    "start_time": "2022-04-19T22:05:12.701Z"
   },
   {
    "duration": 6,
    "start_time": "2022-04-19T22:05:40.778Z"
   },
   {
    "duration": 12,
    "start_time": "2022-04-19T22:05:46.682Z"
   },
   {
    "duration": 46,
    "start_time": "2022-04-20T09:46:56.091Z"
   },
   {
    "duration": 1341,
    "start_time": "2022-04-20T09:47:29.601Z"
   },
   {
    "duration": 455,
    "start_time": "2022-04-20T09:47:30.944Z"
   },
   {
    "duration": 21,
    "start_time": "2022-04-20T09:47:31.401Z"
   },
   {
    "duration": 3,
    "start_time": "2022-04-20T09:47:31.424Z"
   },
   {
    "duration": 13,
    "start_time": "2022-04-20T09:47:31.429Z"
   },
   {
    "duration": 24,
    "start_time": "2022-04-20T09:47:31.444Z"
   },
   {
    "duration": 9,
    "start_time": "2022-04-20T09:47:31.470Z"
   },
   {
    "duration": 22,
    "start_time": "2022-04-20T09:47:31.481Z"
   },
   {
    "duration": 22,
    "start_time": "2022-04-20T09:47:31.505Z"
   },
   {
    "duration": 21,
    "start_time": "2022-04-20T09:47:31.530Z"
   },
   {
    "duration": 15,
    "start_time": "2022-04-20T09:47:31.553Z"
   },
   {
    "duration": 8,
    "start_time": "2022-04-20T09:47:31.570Z"
   },
   {
    "duration": 24,
    "start_time": "2022-04-20T09:47:31.580Z"
   },
   {
    "duration": 16,
    "start_time": "2022-04-20T09:47:31.606Z"
   },
   {
    "duration": 14,
    "start_time": "2022-04-20T09:47:31.623Z"
   },
   {
    "duration": 13,
    "start_time": "2022-04-20T09:47:31.639Z"
   },
   {
    "duration": 14,
    "start_time": "2022-04-20T09:47:31.654Z"
   },
   {
    "duration": 7,
    "start_time": "2022-04-20T09:47:31.669Z"
   },
   {
    "duration": 19,
    "start_time": "2022-04-20T09:47:31.677Z"
   },
   {
    "duration": 11,
    "start_time": "2022-04-20T09:47:31.698Z"
   },
   {
    "duration": 38,
    "start_time": "2022-04-20T09:47:31.710Z"
   },
   {
    "duration": 3,
    "start_time": "2022-04-20T09:47:31.750Z"
   },
   {
    "duration": 8,
    "start_time": "2022-04-20T09:47:31.754Z"
   },
   {
    "duration": 11,
    "start_time": "2022-04-20T09:47:31.763Z"
   },
   {
    "duration": 36,
    "start_time": "2022-04-20T09:47:31.775Z"
   },
   {
    "duration": 8,
    "start_time": "2022-04-20T09:47:31.812Z"
   },
   {
    "duration": 20,
    "start_time": "2022-04-20T09:47:31.822Z"
   },
   {
    "duration": 12,
    "start_time": "2022-04-20T09:47:31.845Z"
   },
   {
    "duration": 5,
    "start_time": "2022-04-20T09:47:31.858Z"
   },
   {
    "duration": 89,
    "start_time": "2022-04-20T09:47:31.865Z"
   },
   {
    "duration": 17,
    "start_time": "2022-04-20T09:47:31.956Z"
   },
   {
    "duration": 8,
    "start_time": "2022-04-20T09:47:31.974Z"
   },
   {
    "duration": 8,
    "start_time": "2022-04-20T09:47:31.983Z"
   },
   {
    "duration": 28,
    "start_time": "2022-04-20T09:47:31.992Z"
   },
   {
    "duration": 6,
    "start_time": "2022-04-20T09:47:32.021Z"
   },
   {
    "duration": 24,
    "start_time": "2022-04-20T09:47:32.028Z"
   },
   {
    "duration": 31,
    "start_time": "2022-04-20T09:47:32.053Z"
   },
   {
    "duration": 59,
    "start_time": "2022-04-20T09:47:32.100Z"
   },
   {
    "duration": 12,
    "start_time": "2022-04-20T09:47:32.160Z"
   },
   {
    "duration": 4,
    "start_time": "2022-04-20T09:47:32.174Z"
   },
   {
    "duration": 18,
    "start_time": "2022-04-20T09:47:32.199Z"
   },
   {
    "duration": 19,
    "start_time": "2022-04-20T09:47:32.218Z"
   },
   {
    "duration": 17,
    "start_time": "2022-04-20T09:47:32.238Z"
   },
   {
    "duration": 6,
    "start_time": "2022-04-20T09:47:32.257Z"
   },
   {
    "duration": 37,
    "start_time": "2022-04-20T09:47:32.264Z"
   },
   {
    "duration": 300,
    "start_time": "2022-04-20T09:47:32.302Z"
   },
   {
    "duration": 6,
    "start_time": "2022-04-20T09:47:32.604Z"
   },
   {
    "duration": 352,
    "start_time": "2022-04-20T09:47:32.700Z"
   },
   {
    "duration": 2004,
    "start_time": "2022-04-20T09:47:33.054Z"
   },
   {
    "duration": 8,
    "start_time": "2022-04-20T09:47:35.060Z"
   },
   {
    "duration": 9,
    "start_time": "2022-04-20T09:47:35.070Z"
   },
   {
    "duration": 6,
    "start_time": "2022-04-20T09:47:35.080Z"
   },
   {
    "duration": 9,
    "start_time": "2022-04-20T09:50:22.348Z"
   },
   {
    "duration": 9,
    "start_time": "2022-04-20T10:55:04.490Z"
   },
   {
    "duration": 101,
    "start_time": "2022-04-20T11:25:40.977Z"
   },
   {
    "duration": 8,
    "start_time": "2022-04-20T11:25:58.936Z"
   },
   {
    "duration": 1232,
    "start_time": "2022-04-20T12:38:57.268Z"
   },
   {
    "duration": 87,
    "start_time": "2022-04-20T12:38:58.502Z"
   },
   {
    "duration": 21,
    "start_time": "2022-04-20T12:38:58.591Z"
   },
   {
    "duration": 6,
    "start_time": "2022-04-20T12:38:58.614Z"
   },
   {
    "duration": 12,
    "start_time": "2022-04-20T12:38:58.622Z"
   },
   {
    "duration": 15,
    "start_time": "2022-04-20T12:38:58.636Z"
   },
   {
    "duration": 18,
    "start_time": "2022-04-20T12:38:58.653Z"
   },
   {
    "duration": 17,
    "start_time": "2022-04-20T12:38:58.672Z"
   },
   {
    "duration": 14,
    "start_time": "2022-04-20T12:38:58.691Z"
   },
   {
    "duration": 5,
    "start_time": "2022-04-20T12:38:58.707Z"
   },
   {
    "duration": 11,
    "start_time": "2022-04-20T12:38:58.714Z"
   },
   {
    "duration": 10,
    "start_time": "2022-04-20T12:38:58.726Z"
   },
   {
    "duration": 22,
    "start_time": "2022-04-20T12:38:58.737Z"
   },
   {
    "duration": 10,
    "start_time": "2022-04-20T12:38:58.762Z"
   },
   {
    "duration": 22,
    "start_time": "2022-04-20T12:38:58.773Z"
   },
   {
    "duration": 19,
    "start_time": "2022-04-20T12:38:58.796Z"
   },
   {
    "duration": 11,
    "start_time": "2022-04-20T12:38:58.816Z"
   },
   {
    "duration": 18,
    "start_time": "2022-04-20T12:38:58.829Z"
   },
   {
    "duration": 18,
    "start_time": "2022-04-20T12:38:58.848Z"
   },
   {
    "duration": 11,
    "start_time": "2022-04-20T12:38:58.868Z"
   },
   {
    "duration": 49,
    "start_time": "2022-04-20T12:38:58.880Z"
   },
   {
    "duration": 3,
    "start_time": "2022-04-20T12:38:58.931Z"
   },
   {
    "duration": 16,
    "start_time": "2022-04-20T12:38:58.936Z"
   },
   {
    "duration": 11,
    "start_time": "2022-04-20T12:38:58.953Z"
   },
   {
    "duration": 30,
    "start_time": "2022-04-20T12:38:58.966Z"
   },
   {
    "duration": 8,
    "start_time": "2022-04-20T12:38:58.998Z"
   },
   {
    "duration": 21,
    "start_time": "2022-04-20T12:38:59.008Z"
   },
   {
    "duration": 13,
    "start_time": "2022-04-20T12:38:59.030Z"
   },
   {
    "duration": 7,
    "start_time": "2022-04-20T12:38:59.044Z"
   },
   {
    "duration": 74,
    "start_time": "2022-04-20T12:38:59.052Z"
   },
   {
    "duration": 6,
    "start_time": "2022-04-20T12:38:59.128Z"
   },
   {
    "duration": 4,
    "start_time": "2022-04-20T12:38:59.136Z"
   },
   {
    "duration": 6,
    "start_time": "2022-04-20T12:38:59.142Z"
   },
   {
    "duration": 22,
    "start_time": "2022-04-20T12:38:59.150Z"
   },
   {
    "duration": 30,
    "start_time": "2022-04-20T12:38:59.174Z"
   },
   {
    "duration": 20,
    "start_time": "2022-04-20T12:38:59.206Z"
   },
   {
    "duration": 30,
    "start_time": "2022-04-20T12:38:59.228Z"
   },
   {
    "duration": 76,
    "start_time": "2022-04-20T12:38:59.260Z"
   },
   {
    "duration": 10,
    "start_time": "2022-04-20T12:38:59.338Z"
   },
   {
    "duration": 3,
    "start_time": "2022-04-20T12:38:59.350Z"
   },
   {
    "duration": 17,
    "start_time": "2022-04-20T12:38:59.356Z"
   },
   {
    "duration": 40,
    "start_time": "2022-04-20T12:38:59.375Z"
   },
   {
    "duration": 17,
    "start_time": "2022-04-20T12:38:59.417Z"
   },
   {
    "duration": 6,
    "start_time": "2022-04-20T12:38:59.436Z"
   },
   {
    "duration": 9,
    "start_time": "2022-04-20T12:38:59.443Z"
   },
   {
    "duration": 256,
    "start_time": "2022-04-20T12:38:59.453Z"
   },
   {
    "duration": 95,
    "start_time": "2022-04-20T12:38:59.710Z"
   },
   {
    "duration": 445,
    "start_time": "2022-04-20T12:38:59.807Z"
   },
   {
    "duration": 2107,
    "start_time": "2022-04-20T12:39:00.254Z"
   },
   {
    "duration": 8,
    "start_time": "2022-04-20T12:39:02.363Z"
   },
   {
    "duration": 21,
    "start_time": "2022-04-20T12:39:02.372Z"
   },
   {
    "duration": 13,
    "start_time": "2022-04-20T12:39:02.394Z"
   },
   {
    "duration": 82629,
    "start_time": "2022-04-22T11:43:59.578Z"
   },
   {
    "duration": 81,
    "start_time": "2022-04-22T11:45:22.209Z"
   },
   {
    "duration": 40,
    "start_time": "2022-04-22T11:45:22.292Z"
   },
   {
    "duration": 4,
    "start_time": "2022-04-22T11:45:22.335Z"
   },
   {
    "duration": 8,
    "start_time": "2022-04-22T11:45:22.341Z"
   },
   {
    "duration": 18,
    "start_time": "2022-04-22T11:45:22.351Z"
   },
   {
    "duration": 12,
    "start_time": "2022-04-22T11:45:22.370Z"
   },
   {
    "duration": 13,
    "start_time": "2022-04-22T11:45:22.384Z"
   },
   {
    "duration": 17,
    "start_time": "2022-04-22T11:45:27.141Z"
   },
   {
    "duration": 5,
    "start_time": "2022-04-22T11:45:28.516Z"
   },
   {
    "duration": 12,
    "start_time": "2022-04-22T11:45:29.054Z"
   },
   {
    "duration": 9,
    "start_time": "2022-04-22T11:45:30.432Z"
   },
   {
    "duration": 19,
    "start_time": "2022-04-22T11:45:30.891Z"
   },
   {
    "duration": 10,
    "start_time": "2022-04-22T11:45:31.706Z"
   },
   {
    "duration": 19,
    "start_time": "2022-04-22T11:45:32.077Z"
   },
   {
    "duration": 14,
    "start_time": "2022-04-22T11:45:33.407Z"
   },
   {
    "duration": 10,
    "start_time": "2022-04-22T11:45:33.890Z"
   },
   {
    "duration": 7,
    "start_time": "2022-04-22T11:45:34.356Z"
   },
   {
    "duration": 10,
    "start_time": "2022-04-22T11:45:34.667Z"
   },
   {
    "duration": 8,
    "start_time": "2022-04-22T11:45:35.207Z"
   },
   {
    "duration": 63,
    "start_time": "2022-04-22T11:46:18.197Z"
   },
   {
    "duration": 4,
    "start_time": "2022-04-22T11:46:18.919Z"
   },
   {
    "duration": 7,
    "start_time": "2022-04-22T11:46:20.372Z"
   },
   {
    "duration": 12,
    "start_time": "2022-04-22T11:46:57.142Z"
   },
   {
    "duration": 13,
    "start_time": "2022-04-22T11:47:23.978Z"
   },
   {
    "duration": 21,
    "start_time": "2022-04-22T11:47:25.426Z"
   },
   {
    "duration": 14,
    "start_time": "2022-04-22T11:48:12.873Z"
   },
   {
    "duration": 6,
    "start_time": "2022-04-22T11:48:14.256Z"
   },
   {
    "duration": 83,
    "start_time": "2022-04-22T11:48:14.431Z"
   },
   {
    "duration": 9,
    "start_time": "2022-04-22T11:48:14.818Z"
   },
   {
    "duration": 5,
    "start_time": "2022-04-22T11:48:15.347Z"
   },
   {
    "duration": 4,
    "start_time": "2022-04-22T11:48:15.752Z"
   },
   {
    "duration": 25,
    "start_time": "2022-04-22T11:48:15.964Z"
   },
   {
    "duration": 30,
    "start_time": "2022-04-22T11:48:35.014Z"
   },
   {
    "duration": 12,
    "start_time": "2022-04-22T11:50:03.722Z"
   },
   {
    "duration": 43,
    "start_time": "2022-04-22T11:50:05.073Z"
   },
   {
    "duration": 49,
    "start_time": "2022-04-22T11:50:07.874Z"
   },
   {
    "duration": 73,
    "start_time": "2022-04-22T11:50:17.430Z"
   },
   {
    "duration": 12,
    "start_time": "2022-04-22T11:50:18.747Z"
   },
   {
    "duration": 4,
    "start_time": "2022-04-22T11:50:19.306Z"
   },
   {
    "duration": 23,
    "start_time": "2022-04-22T11:50:20.474Z"
   },
   {
    "duration": 28,
    "start_time": "2022-04-22T11:50:21.083Z"
   },
   {
    "duration": 21,
    "start_time": "2022-04-22T11:50:36.632Z"
   },
   {
    "duration": 5,
    "start_time": "2022-04-22T11:51:20.454Z"
   },
   {
    "duration": 6,
    "start_time": "2022-04-22T11:51:20.666Z"
   },
   {
    "duration": 1033,
    "start_time": "2022-04-22T11:52:12.900Z"
   },
   {
    "duration": 46,
    "start_time": "2022-04-22T19:20:20.586Z"
   },
   {
    "duration": 1316,
    "start_time": "2022-04-22T19:20:45.671Z"
   },
   {
    "duration": 62,
    "start_time": "2022-04-22T19:20:46.989Z"
   },
   {
    "duration": 25,
    "start_time": "2022-04-22T19:20:47.053Z"
   },
   {
    "duration": 4,
    "start_time": "2022-04-22T19:20:47.080Z"
   },
   {
    "duration": 7,
    "start_time": "2022-04-22T19:20:47.085Z"
   },
   {
    "duration": 13,
    "start_time": "2022-04-22T19:20:47.094Z"
   },
   {
    "duration": 8,
    "start_time": "2022-04-22T19:20:47.109Z"
   },
   {
    "duration": 11,
    "start_time": "2022-04-22T19:20:47.119Z"
   },
   {
    "duration": 13,
    "start_time": "2022-04-22T19:20:47.163Z"
   },
   {
    "duration": 4,
    "start_time": "2022-04-22T19:20:47.179Z"
   },
   {
    "duration": 12,
    "start_time": "2022-04-22T19:20:47.185Z"
   },
   {
    "duration": 7,
    "start_time": "2022-04-22T19:20:47.199Z"
   },
   {
    "duration": 12,
    "start_time": "2022-04-22T19:20:47.207Z"
   },
   {
    "duration": 7,
    "start_time": "2022-04-22T19:20:47.220Z"
   },
   {
    "duration": 19,
    "start_time": "2022-04-22T19:20:47.254Z"
   },
   {
    "duration": 9,
    "start_time": "2022-04-22T19:20:47.275Z"
   },
   {
    "duration": 8,
    "start_time": "2022-04-22T19:20:47.286Z"
   },
   {
    "duration": 5,
    "start_time": "2022-04-22T19:20:47.296Z"
   },
   {
    "duration": 11,
    "start_time": "2022-04-22T19:20:47.303Z"
   },
   {
    "duration": 8,
    "start_time": "2022-04-22T19:20:47.316Z"
   },
   {
    "duration": 72,
    "start_time": "2022-04-22T19:20:47.326Z"
   },
   {
    "duration": 5,
    "start_time": "2022-04-22T19:20:47.400Z"
   },
   {
    "duration": 8,
    "start_time": "2022-04-22T19:20:47.406Z"
   },
   {
    "duration": 11,
    "start_time": "2022-04-22T19:20:47.415Z"
   },
   {
    "duration": 51,
    "start_time": "2022-04-22T19:20:47.428Z"
   },
   {
    "duration": 9,
    "start_time": "2022-04-22T19:20:47.481Z"
   },
   {
    "duration": 18,
    "start_time": "2022-04-22T19:20:47.491Z"
   },
   {
    "duration": 13,
    "start_time": "2022-04-22T19:20:47.513Z"
   },
   {
    "duration": 34,
    "start_time": "2022-04-22T19:20:47.527Z"
   },
   {
    "duration": 83,
    "start_time": "2022-04-22T19:20:47.564Z"
   },
   {
    "duration": 8,
    "start_time": "2022-04-22T19:20:47.655Z"
   },
   {
    "duration": 9,
    "start_time": "2022-04-22T19:20:47.666Z"
   },
   {
    "duration": 8,
    "start_time": "2022-04-22T19:20:47.677Z"
   },
   {
    "duration": 22,
    "start_time": "2022-04-22T19:20:47.686Z"
   },
   {
    "duration": 8,
    "start_time": "2022-04-22T19:20:47.710Z"
   },
   {
    "duration": 35,
    "start_time": "2022-04-22T19:20:47.720Z"
   },
   {
    "duration": 32,
    "start_time": "2022-04-22T19:20:47.767Z"
   },
   {
    "duration": 76,
    "start_time": "2022-04-22T19:20:47.802Z"
   },
   {
    "duration": 19,
    "start_time": "2022-04-22T19:20:47.880Z"
   },
   {
    "duration": 125,
    "start_time": "2022-04-22T19:20:47.901Z"
   },
   {
    "duration": 0,
    "start_time": "2022-04-22T19:20:48.027Z"
   },
   {
    "duration": 0,
    "start_time": "2022-04-22T19:20:48.029Z"
   },
   {
    "duration": 0,
    "start_time": "2022-04-22T19:20:48.030Z"
   },
   {
    "duration": 0,
    "start_time": "2022-04-22T19:20:48.032Z"
   },
   {
    "duration": 0,
    "start_time": "2022-04-22T19:20:48.033Z"
   },
   {
    "duration": 1,
    "start_time": "2022-04-22T19:20:48.034Z"
   },
   {
    "duration": 0,
    "start_time": "2022-04-22T19:20:48.036Z"
   },
   {
    "duration": 0,
    "start_time": "2022-04-22T19:20:48.037Z"
   },
   {
    "duration": 0,
    "start_time": "2022-04-22T19:20:48.054Z"
   },
   {
    "duration": 0,
    "start_time": "2022-04-22T19:20:48.056Z"
   },
   {
    "duration": 0,
    "start_time": "2022-04-22T19:20:48.058Z"
   },
   {
    "duration": 0,
    "start_time": "2022-04-22T19:20:48.059Z"
   },
   {
    "duration": 0,
    "start_time": "2022-04-22T19:20:48.061Z"
   },
   {
    "duration": 0,
    "start_time": "2022-04-22T19:20:48.062Z"
   },
   {
    "duration": 411,
    "start_time": "2022-04-22T19:21:42.197Z"
   },
   {
    "duration": 24,
    "start_time": "2022-04-22T19:22:07.585Z"
   },
   {
    "duration": 26,
    "start_time": "2022-04-22T19:22:32.400Z"
   },
   {
    "duration": 452,
    "start_time": "2022-04-22T19:22:45.944Z"
   },
   {
    "duration": 318,
    "start_time": "2022-04-22T19:22:59.130Z"
   },
   {
    "duration": 348,
    "start_time": "2022-04-22T19:25:57.252Z"
   },
   {
    "duration": 6,
    "start_time": "2022-04-22T19:38:40.851Z"
   },
   {
    "duration": 20,
    "start_time": "2022-04-22T19:39:12.011Z"
   },
   {
    "duration": 1602,
    "start_time": "2022-04-22T19:39:33.735Z"
   },
   {
    "duration": 61,
    "start_time": "2022-04-22T19:39:35.339Z"
   },
   {
    "duration": 17,
    "start_time": "2022-04-22T19:39:35.401Z"
   },
   {
    "duration": 3,
    "start_time": "2022-04-22T19:39:35.420Z"
   },
   {
    "duration": 9,
    "start_time": "2022-04-22T19:39:35.425Z"
   },
   {
    "duration": 19,
    "start_time": "2022-04-22T19:39:35.435Z"
   },
   {
    "duration": 11,
    "start_time": "2022-04-22T19:39:35.456Z"
   },
   {
    "duration": 8,
    "start_time": "2022-04-22T19:39:35.469Z"
   },
   {
    "duration": 10,
    "start_time": "2022-04-22T19:39:35.479Z"
   },
   {
    "duration": 7,
    "start_time": "2022-04-22T19:39:35.492Z"
   },
   {
    "duration": 11,
    "start_time": "2022-04-22T19:39:35.500Z"
   },
   {
    "duration": 10,
    "start_time": "2022-04-22T19:39:35.513Z"
   },
   {
    "duration": 35,
    "start_time": "2022-04-22T19:39:35.524Z"
   },
   {
    "duration": 8,
    "start_time": "2022-04-22T19:39:35.560Z"
   },
   {
    "duration": 15,
    "start_time": "2022-04-22T19:39:35.570Z"
   },
   {
    "duration": 10,
    "start_time": "2022-04-22T19:39:35.586Z"
   },
   {
    "duration": 8,
    "start_time": "2022-04-22T19:39:35.597Z"
   },
   {
    "duration": 6,
    "start_time": "2022-04-22T19:39:35.607Z"
   },
   {
    "duration": 9,
    "start_time": "2022-04-22T19:39:35.615Z"
   },
   {
    "duration": 29,
    "start_time": "2022-04-22T19:39:35.626Z"
   },
   {
    "duration": 45,
    "start_time": "2022-04-22T19:39:35.657Z"
   },
   {
    "duration": 4,
    "start_time": "2022-04-22T19:39:35.703Z"
   },
   {
    "duration": 9,
    "start_time": "2022-04-22T19:39:35.709Z"
   },
   {
    "duration": 32,
    "start_time": "2022-04-22T19:39:35.719Z"
   },
   {
    "duration": 22,
    "start_time": "2022-04-22T19:39:35.753Z"
   },
   {
    "duration": 8,
    "start_time": "2022-04-22T19:39:35.776Z"
   },
   {
    "duration": 26,
    "start_time": "2022-04-22T19:39:35.785Z"
   },
   {
    "duration": 12,
    "start_time": "2022-04-22T19:39:35.814Z"
   },
   {
    "duration": 31,
    "start_time": "2022-04-22T19:39:35.827Z"
   },
   {
    "duration": 46,
    "start_time": "2022-04-22T19:39:35.860Z"
   },
   {
    "duration": 12,
    "start_time": "2022-04-22T19:39:35.908Z"
   },
   {
    "duration": 4,
    "start_time": "2022-04-22T19:39:35.922Z"
   },
   {
    "duration": 7,
    "start_time": "2022-04-22T19:39:35.928Z"
   },
   {
    "duration": 22,
    "start_time": "2022-04-22T19:39:35.936Z"
   },
   {
    "duration": 5,
    "start_time": "2022-04-22T19:39:35.959Z"
   },
   {
    "duration": 19,
    "start_time": "2022-04-22T19:39:35.965Z"
   },
   {
    "duration": 30,
    "start_time": "2022-04-22T19:39:35.986Z"
   },
   {
    "duration": 85,
    "start_time": "2022-04-22T19:39:36.018Z"
   },
   {
    "duration": 16,
    "start_time": "2022-04-22T19:39:36.104Z"
   },
   {
    "duration": 322,
    "start_time": "2022-04-22T19:39:36.122Z"
   },
   {
    "duration": 10,
    "start_time": "2022-04-22T19:39:36.445Z"
   },
   {
    "duration": 11,
    "start_time": "2022-04-22T19:39:36.456Z"
   },
   {
    "duration": 4,
    "start_time": "2022-04-22T19:39:36.468Z"
   },
   {
    "duration": 18,
    "start_time": "2022-04-22T19:39:36.473Z"
   },
   {
    "duration": 18,
    "start_time": "2022-04-22T19:39:36.493Z"
   },
   {
    "duration": 116,
    "start_time": "2022-04-22T19:39:36.513Z"
   },
   {
    "duration": 10,
    "start_time": "2022-04-22T19:39:36.631Z"
   },
   {
    "duration": 12,
    "start_time": "2022-04-22T19:39:36.643Z"
   },
   {
    "duration": 205,
    "start_time": "2022-04-22T19:39:36.657Z"
   },
   {
    "duration": 94,
    "start_time": "2022-04-22T19:39:36.864Z"
   },
   {
    "duration": 387,
    "start_time": "2022-04-22T19:39:36.961Z"
   },
   {
    "duration": 1817,
    "start_time": "2022-04-22T19:39:37.353Z"
   },
   {
    "duration": 10,
    "start_time": "2022-04-22T19:39:39.172Z"
   },
   {
    "duration": 13,
    "start_time": "2022-04-22T19:39:39.183Z"
   },
   {
    "duration": 7,
    "start_time": "2022-04-22T19:39:39.198Z"
   },
   {
    "duration": 1648,
    "start_time": "2022-04-22T19:40:22.131Z"
   },
   {
    "duration": 61,
    "start_time": "2022-04-22T19:40:23.781Z"
   },
   {
    "duration": 17,
    "start_time": "2022-04-22T19:40:23.844Z"
   },
   {
    "duration": 3,
    "start_time": "2022-04-22T19:40:23.863Z"
   },
   {
    "duration": 10,
    "start_time": "2022-04-22T19:40:23.867Z"
   },
   {
    "duration": 13,
    "start_time": "2022-04-22T19:40:23.879Z"
   },
   {
    "duration": 8,
    "start_time": "2022-04-22T19:40:23.894Z"
   },
   {
    "duration": 9,
    "start_time": "2022-04-22T19:40:23.903Z"
   },
   {
    "duration": 11,
    "start_time": "2022-04-22T19:40:23.914Z"
   },
   {
    "duration": 6,
    "start_time": "2022-04-22T19:40:23.956Z"
   },
   {
    "duration": 14,
    "start_time": "2022-04-22T19:40:23.964Z"
   },
   {
    "duration": 8,
    "start_time": "2022-04-22T19:40:23.980Z"
   },
   {
    "duration": 13,
    "start_time": "2022-04-22T19:40:23.990Z"
   },
   {
    "duration": 7,
    "start_time": "2022-04-22T19:40:24.005Z"
   },
   {
    "duration": 50,
    "start_time": "2022-04-22T19:40:24.014Z"
   },
   {
    "duration": 8,
    "start_time": "2022-04-22T19:40:24.066Z"
   },
   {
    "duration": 9,
    "start_time": "2022-04-22T19:40:24.076Z"
   },
   {
    "duration": 6,
    "start_time": "2022-04-22T19:40:24.086Z"
   },
   {
    "duration": 11,
    "start_time": "2022-04-22T19:40:24.093Z"
   },
   {
    "duration": 6,
    "start_time": "2022-04-22T19:40:24.108Z"
   },
   {
    "duration": 75,
    "start_time": "2022-04-22T19:40:24.116Z"
   },
   {
    "duration": 4,
    "start_time": "2022-04-22T19:40:24.193Z"
   },
   {
    "duration": 10,
    "start_time": "2022-04-22T19:40:24.199Z"
   },
   {
    "duration": 16,
    "start_time": "2022-04-22T19:40:24.211Z"
   },
   {
    "duration": 34,
    "start_time": "2022-04-22T19:40:24.256Z"
   },
   {
    "duration": 10,
    "start_time": "2022-04-22T19:40:24.293Z"
   },
   {
    "duration": 51,
    "start_time": "2022-04-22T19:40:24.305Z"
   },
   {
    "duration": 16,
    "start_time": "2022-04-22T19:40:24.362Z"
   },
   {
    "duration": 8,
    "start_time": "2022-04-22T19:40:24.380Z"
   },
   {
    "duration": 18,
    "start_time": "2022-04-22T19:40:24.389Z"
   },
   {
    "duration": 7,
    "start_time": "2022-04-22T19:40:24.409Z"
   },
   {
    "duration": 5,
    "start_time": "2022-04-22T19:40:24.417Z"
   },
   {
    "duration": 32,
    "start_time": "2022-04-22T19:40:24.423Z"
   },
   {
    "duration": 24,
    "start_time": "2022-04-22T19:40:24.456Z"
   },
   {
    "duration": 7,
    "start_time": "2022-04-22T19:40:24.482Z"
   },
   {
    "duration": 24,
    "start_time": "2022-04-22T19:40:24.490Z"
   },
   {
    "duration": 56,
    "start_time": "2022-04-22T19:40:24.516Z"
   },
   {
    "duration": 66,
    "start_time": "2022-04-22T19:40:24.574Z"
   },
   {
    "duration": 30,
    "start_time": "2022-04-22T19:40:24.642Z"
   },
   {
    "duration": 292,
    "start_time": "2022-04-22T19:40:24.674Z"
   },
   {
    "duration": 4,
    "start_time": "2022-04-22T19:40:24.968Z"
   },
   {
    "duration": 17,
    "start_time": "2022-04-22T19:40:24.973Z"
   },
   {
    "duration": 8,
    "start_time": "2022-04-22T19:40:24.992Z"
   },
   {
    "duration": 26,
    "start_time": "2022-04-22T19:40:25.002Z"
   },
   {
    "duration": 36,
    "start_time": "2022-04-22T19:40:25.030Z"
   },
   {
    "duration": 97,
    "start_time": "2022-04-22T19:40:25.068Z"
   },
   {
    "duration": 8,
    "start_time": "2022-04-22T19:40:25.167Z"
   },
   {
    "duration": 8,
    "start_time": "2022-04-22T19:40:25.177Z"
   },
   {
    "duration": 174,
    "start_time": "2022-04-22T19:40:25.187Z"
   },
   {
    "duration": 6,
    "start_time": "2022-04-22T19:40:25.363Z"
   },
   {
    "duration": 547,
    "start_time": "2022-04-22T19:40:25.456Z"
   },
   {
    "duration": 1818,
    "start_time": "2022-04-22T19:40:26.005Z"
   },
   {
    "duration": 9,
    "start_time": "2022-04-22T19:40:27.825Z"
   },
   {
    "duration": 12,
    "start_time": "2022-04-22T19:40:27.835Z"
   },
   {
    "duration": 7,
    "start_time": "2022-04-22T19:40:27.848Z"
   },
   {
    "duration": 152,
    "start_time": "2022-04-22T19:45:22.627Z"
   },
   {
    "duration": 7,
    "start_time": "2022-04-22T19:58:36.957Z"
   },
   {
    "duration": 72312,
    "start_time": "2022-04-22T19:58:57.028Z"
   },
   {
    "duration": 4,
    "start_time": "2022-04-22T20:02:05.992Z"
   },
   {
    "duration": 106,
    "start_time": "2022-04-22T20:02:25.376Z"
   },
   {
    "duration": 10,
    "start_time": "2022-04-22T20:02:52.443Z"
   },
   {
    "duration": 259,
    "start_time": "2022-04-22T20:03:29.485Z"
   },
   {
    "duration": 320,
    "start_time": "2022-04-22T20:03:52.756Z"
   },
   {
    "duration": 236,
    "start_time": "2022-04-22T20:04:00.689Z"
   },
   {
    "duration": 260,
    "start_time": "2022-04-22T20:04:08.174Z"
   },
   {
    "duration": 269,
    "start_time": "2022-04-22T20:04:30.999Z"
   },
   {
    "duration": 263,
    "start_time": "2022-04-22T20:04:41.670Z"
   },
   {
    "duration": 9,
    "start_time": "2022-04-22T20:04:46.436Z"
   },
   {
    "duration": 1841,
    "start_time": "2022-04-22T20:16:58.539Z"
   },
   {
    "duration": 64,
    "start_time": "2022-04-22T20:17:00.382Z"
   },
   {
    "duration": 24,
    "start_time": "2022-04-22T20:17:00.448Z"
   },
   {
    "duration": 13,
    "start_time": "2022-04-22T20:17:00.474Z"
   },
   {
    "duration": 22,
    "start_time": "2022-04-22T20:17:00.489Z"
   },
   {
    "duration": 14,
    "start_time": "2022-04-22T20:17:00.513Z"
   },
   {
    "duration": 9,
    "start_time": "2022-04-22T20:17:00.529Z"
   },
   {
    "duration": 34,
    "start_time": "2022-04-22T20:17:00.540Z"
   },
   {
    "duration": 20,
    "start_time": "2022-04-22T20:17:00.576Z"
   },
   {
    "duration": 5,
    "start_time": "2022-04-22T20:17:00.599Z"
   },
   {
    "duration": 15,
    "start_time": "2022-04-22T20:17:00.605Z"
   },
   {
    "duration": 9,
    "start_time": "2022-04-22T20:17:00.622Z"
   },
   {
    "duration": 11,
    "start_time": "2022-04-22T20:17:00.633Z"
   },
   {
    "duration": 11,
    "start_time": "2022-04-22T20:17:00.646Z"
   },
   {
    "duration": 39,
    "start_time": "2022-04-22T20:17:00.659Z"
   },
   {
    "duration": 27,
    "start_time": "2022-04-22T20:17:00.700Z"
   },
   {
    "duration": 12,
    "start_time": "2022-04-22T20:17:00.729Z"
   },
   {
    "duration": 39,
    "start_time": "2022-04-22T20:17:00.742Z"
   },
   {
    "duration": 40,
    "start_time": "2022-04-22T20:17:00.783Z"
   },
   {
    "duration": 15,
    "start_time": "2022-04-22T20:17:00.825Z"
   },
   {
    "duration": 59,
    "start_time": "2022-04-22T20:17:00.842Z"
   },
   {
    "duration": 3,
    "start_time": "2022-04-22T20:17:00.903Z"
   },
   {
    "duration": 20,
    "start_time": "2022-04-22T20:17:00.908Z"
   },
   {
    "duration": 32,
    "start_time": "2022-04-22T20:17:00.929Z"
   },
   {
    "duration": 54,
    "start_time": "2022-04-22T20:17:00.966Z"
   },
   {
    "duration": 28,
    "start_time": "2022-04-22T20:17:01.021Z"
   },
   {
    "duration": 67,
    "start_time": "2022-04-22T20:17:01.050Z"
   },
   {
    "duration": 15,
    "start_time": "2022-04-22T20:17:01.121Z"
   },
   {
    "duration": 13,
    "start_time": "2022-04-22T20:17:01.138Z"
   },
   {
    "duration": 43,
    "start_time": "2022-04-22T20:17:01.152Z"
   },
   {
    "duration": 7,
    "start_time": "2022-04-22T20:17:01.197Z"
   },
   {
    "duration": 7,
    "start_time": "2022-04-22T20:17:01.205Z"
   },
   {
    "duration": 8,
    "start_time": "2022-04-22T20:17:01.214Z"
   },
   {
    "duration": 24,
    "start_time": "2022-04-22T20:17:01.224Z"
   },
   {
    "duration": 34,
    "start_time": "2022-04-22T20:17:01.249Z"
   },
   {
    "duration": 25,
    "start_time": "2022-04-22T20:17:01.284Z"
   },
   {
    "duration": 32,
    "start_time": "2022-04-22T20:17:01.311Z"
   },
   {
    "duration": 76,
    "start_time": "2022-04-22T20:17:01.345Z"
   },
   {
    "duration": 32,
    "start_time": "2022-04-22T20:17:01.424Z"
   },
   {
    "duration": 332,
    "start_time": "2022-04-22T20:17:01.458Z"
   },
   {
    "duration": 4,
    "start_time": "2022-04-22T20:17:01.792Z"
   },
   {
    "duration": 30,
    "start_time": "2022-04-22T20:17:01.798Z"
   },
   {
    "duration": 10,
    "start_time": "2022-04-22T20:17:01.830Z"
   },
   {
    "duration": 63,
    "start_time": "2022-04-22T20:17:01.842Z"
   },
   {
    "duration": 41,
    "start_time": "2022-04-22T20:17:01.907Z"
   },
   {
    "duration": 130,
    "start_time": "2022-04-22T20:17:01.950Z"
   },
   {
    "duration": 15,
    "start_time": "2022-04-22T20:17:02.083Z"
   },
   {
    "duration": 10,
    "start_time": "2022-04-22T20:17:02.099Z"
   },
   {
    "duration": 466,
    "start_time": "2022-04-22T20:17:02.111Z"
   },
   {
    "duration": 80,
    "start_time": "2022-04-22T20:17:02.582Z"
   },
   {
    "duration": 360,
    "start_time": "2022-04-22T20:17:02.664Z"
   },
   {
    "duration": 2026,
    "start_time": "2022-04-22T20:17:03.025Z"
   },
   {
    "duration": 12,
    "start_time": "2022-04-22T20:17:05.052Z"
   },
   {
    "duration": 21,
    "start_time": "2022-04-22T20:17:05.069Z"
   },
   {
    "duration": 7,
    "start_time": "2022-04-22T20:17:05.092Z"
   },
   {
    "duration": 108,
    "start_time": "2022-04-22T20:42:52.870Z"
   },
   {
    "duration": 9,
    "start_time": "2022-04-22T20:43:44.778Z"
   },
   {
    "duration": 9,
    "start_time": "2022-04-22T20:45:00.457Z"
   },
   {
    "duration": 10,
    "start_time": "2022-04-22T20:45:45.763Z"
   },
   {
    "duration": 10,
    "start_time": "2022-04-22T20:46:03.331Z"
   },
   {
    "duration": 178,
    "start_time": "2022-04-22T20:49:52.044Z"
   },
   {
    "duration": 116,
    "start_time": "2022-04-22T20:53:24.740Z"
   },
   {
    "duration": 180,
    "start_time": "2022-04-22T20:53:39.427Z"
   },
   {
    "duration": 181,
    "start_time": "2022-04-22T20:54:37.162Z"
   },
   {
    "duration": 170,
    "start_time": "2022-04-22T20:54:43.545Z"
   },
   {
    "duration": 168,
    "start_time": "2022-04-22T20:54:50.125Z"
   },
   {
    "duration": 187,
    "start_time": "2022-04-22T20:55:01.133Z"
   },
   {
    "duration": 186,
    "start_time": "2022-04-22T20:55:16.109Z"
   },
   {
    "duration": 9,
    "start_time": "2022-04-22T20:58:24.002Z"
   },
   {
    "duration": 121,
    "start_time": "2022-04-22T20:58:32.511Z"
   },
   {
    "duration": 200,
    "start_time": "2022-04-22T21:00:48.159Z"
   },
   {
    "duration": 291,
    "start_time": "2022-04-22T21:01:11.725Z"
   },
   {
    "duration": 126,
    "start_time": "2022-04-22T21:05:21.283Z"
   },
   {
    "duration": 204,
    "start_time": "2022-04-22T21:05:48.317Z"
   },
   {
    "duration": 214,
    "start_time": "2022-04-22T21:11:41.561Z"
   },
   {
    "duration": 194,
    "start_time": "2022-04-22T21:11:48.752Z"
   },
   {
    "duration": 222,
    "start_time": "2022-04-22T21:17:13.658Z"
   },
   {
    "duration": 223,
    "start_time": "2022-04-22T21:17:47.638Z"
   },
   {
    "duration": 217,
    "start_time": "2022-04-22T21:20:24.695Z"
   },
   {
    "duration": 243,
    "start_time": "2022-04-22T21:21:03.418Z"
   },
   {
    "duration": 227,
    "start_time": "2022-04-22T21:21:13.264Z"
   },
   {
    "duration": 19,
    "start_time": "2022-04-22T21:23:56.102Z"
   },
   {
    "duration": 16,
    "start_time": "2022-04-22T21:24:28.832Z"
   },
   {
    "duration": 225,
    "start_time": "2022-04-22T21:24:38.882Z"
   },
   {
    "duration": 194,
    "start_time": "2022-04-22T21:25:12.173Z"
   },
   {
    "duration": 405,
    "start_time": "2022-04-22T21:25:18.053Z"
   },
   {
    "duration": 206,
    "start_time": "2022-04-22T21:25:34.330Z"
   },
   {
    "duration": 137,
    "start_time": "2022-04-22T21:27:58.380Z"
   },
   {
    "duration": 249,
    "start_time": "2022-04-22T21:28:06.484Z"
   },
   {
    "duration": 11,
    "start_time": "2022-04-22T21:28:24.792Z"
   },
   {
    "duration": 206,
    "start_time": "2022-04-22T21:28:28.897Z"
   },
   {
    "duration": 212,
    "start_time": "2022-04-22T21:32:20.305Z"
   },
   {
    "duration": 213,
    "start_time": "2022-04-22T21:32:46.831Z"
   },
   {
    "duration": 11,
    "start_time": "2022-04-22T21:33:22.696Z"
   },
   {
    "duration": 214,
    "start_time": "2022-04-22T21:33:45.943Z"
   },
   {
    "duration": 211,
    "start_time": "2022-04-22T21:34:45.556Z"
   },
   {
    "duration": 196,
    "start_time": "2022-04-22T21:35:47.381Z"
   },
   {
    "duration": 11,
    "start_time": "2022-04-22T21:36:01.875Z"
   },
   {
    "duration": 201,
    "start_time": "2022-04-22T21:36:04.769Z"
   },
   {
    "duration": 16,
    "start_time": "2022-04-22T21:36:35.874Z"
   },
   {
    "duration": 204,
    "start_time": "2022-04-22T21:36:57.692Z"
   },
   {
    "duration": 206,
    "start_time": "2022-04-22T21:37:08.866Z"
   },
   {
    "duration": 209,
    "start_time": "2022-04-22T21:38:48.233Z"
   },
   {
    "duration": 379,
    "start_time": "2022-04-22T21:39:14.233Z"
   },
   {
    "duration": 17,
    "start_time": "2022-04-22T21:39:20.450Z"
   },
   {
    "duration": 210,
    "start_time": "2022-04-22T21:39:25.568Z"
   },
   {
    "duration": 181,
    "start_time": "2022-04-22T21:39:54.280Z"
   },
   {
    "duration": 205,
    "start_time": "2022-04-22T21:40:14.743Z"
   },
   {
    "duration": 217,
    "start_time": "2022-04-22T21:41:01.149Z"
   },
   {
    "duration": 208,
    "start_time": "2022-04-22T21:41:09.283Z"
   },
   {
    "duration": 216,
    "start_time": "2022-04-22T21:41:23.631Z"
   },
   {
    "duration": 1619,
    "start_time": "2022-04-22T21:51:51.837Z"
   },
   {
    "duration": 64,
    "start_time": "2022-04-22T21:51:53.458Z"
   },
   {
    "duration": 19,
    "start_time": "2022-04-22T21:51:53.524Z"
   },
   {
    "duration": 3,
    "start_time": "2022-04-22T21:51:53.546Z"
   },
   {
    "duration": 6,
    "start_time": "2022-04-22T21:51:53.551Z"
   },
   {
    "duration": 14,
    "start_time": "2022-04-22T21:51:53.559Z"
   },
   {
    "duration": 10,
    "start_time": "2022-04-22T21:51:53.575Z"
   },
   {
    "duration": 11,
    "start_time": "2022-04-22T21:51:53.587Z"
   },
   {
    "duration": 11,
    "start_time": "2022-04-22T21:51:53.600Z"
   },
   {
    "duration": 5,
    "start_time": "2022-04-22T21:51:53.614Z"
   },
   {
    "duration": 39,
    "start_time": "2022-04-22T21:51:53.620Z"
   },
   {
    "duration": 14,
    "start_time": "2022-04-22T21:51:53.661Z"
   },
   {
    "duration": 13,
    "start_time": "2022-04-22T21:51:53.676Z"
   },
   {
    "duration": 8,
    "start_time": "2022-04-22T21:51:53.691Z"
   },
   {
    "duration": 15,
    "start_time": "2022-04-22T21:51:53.700Z"
   },
   {
    "duration": 10,
    "start_time": "2022-04-22T21:51:53.716Z"
   },
   {
    "duration": 9,
    "start_time": "2022-04-22T21:51:53.755Z"
   },
   {
    "duration": 7,
    "start_time": "2022-04-22T21:51:53.766Z"
   },
   {
    "duration": 15,
    "start_time": "2022-04-22T21:51:53.775Z"
   },
   {
    "duration": 9,
    "start_time": "2022-04-22T21:51:53.792Z"
   },
   {
    "duration": 59,
    "start_time": "2022-04-22T21:51:53.802Z"
   },
   {
    "duration": 4,
    "start_time": "2022-04-22T21:51:53.862Z"
   },
   {
    "duration": 8,
    "start_time": "2022-04-22T21:51:53.868Z"
   },
   {
    "duration": 12,
    "start_time": "2022-04-22T21:51:53.877Z"
   },
   {
    "duration": 22,
    "start_time": "2022-04-22T21:51:53.891Z"
   },
   {
    "duration": 42,
    "start_time": "2022-04-22T21:51:53.915Z"
   },
   {
    "duration": 19,
    "start_time": "2022-04-22T21:51:53.959Z"
   },
   {
    "duration": 13,
    "start_time": "2022-04-22T21:51:53.982Z"
   },
   {
    "duration": 8,
    "start_time": "2022-04-22T21:51:53.997Z"
   },
   {
    "duration": 19,
    "start_time": "2022-04-22T21:51:54.006Z"
   },
   {
    "duration": 33,
    "start_time": "2022-04-22T21:51:54.027Z"
   },
   {
    "duration": 5,
    "start_time": "2022-04-22T21:51:54.062Z"
   },
   {
    "duration": 7,
    "start_time": "2022-04-22T21:51:54.069Z"
   },
   {
    "duration": 22,
    "start_time": "2022-04-22T21:51:54.078Z"
   },
   {
    "duration": 6,
    "start_time": "2022-04-22T21:51:54.101Z"
   },
   {
    "duration": 51,
    "start_time": "2022-04-22T21:51:54.109Z"
   },
   {
    "duration": 30,
    "start_time": "2022-04-22T21:51:54.162Z"
   },
   {
    "duration": 83,
    "start_time": "2022-04-22T21:51:54.194Z"
   },
   {
    "duration": 17,
    "start_time": "2022-04-22T21:51:54.279Z"
   },
   {
    "duration": 332,
    "start_time": "2022-04-22T21:51:54.298Z"
   },
   {
    "duration": 4,
    "start_time": "2022-04-22T21:51:54.631Z"
   },
   {
    "duration": 23,
    "start_time": "2022-04-22T21:51:54.637Z"
   },
   {
    "duration": 4,
    "start_time": "2022-04-22T21:51:54.662Z"
   },
   {
    "duration": 18,
    "start_time": "2022-04-22T21:51:54.668Z"
   },
   {
    "duration": 18,
    "start_time": "2022-04-22T21:51:54.688Z"
   },
   {
    "duration": 118,
    "start_time": "2022-04-22T21:51:54.708Z"
   },
   {
    "duration": 7,
    "start_time": "2022-04-22T21:51:54.828Z"
   },
   {
    "duration": 6,
    "start_time": "2022-04-22T21:51:54.854Z"
   },
   {
    "duration": 314,
    "start_time": "2022-04-22T21:51:54.862Z"
   },
   {
    "duration": 7,
    "start_time": "2022-04-22T21:51:55.256Z"
   },
   {
    "duration": 361,
    "start_time": "2022-04-22T21:51:55.266Z"
   },
   {
    "duration": 1726,
    "start_time": "2022-04-22T21:51:55.630Z"
   },
   {
    "duration": 9,
    "start_time": "2022-04-22T21:51:57.358Z"
   },
   {
    "duration": 12,
    "start_time": "2022-04-22T21:51:57.369Z"
   },
   {
    "duration": 6,
    "start_time": "2022-04-22T21:51:57.383Z"
   },
   {
    "duration": 16,
    "start_time": "2022-04-22T21:51:57.390Z"
   },
   {
    "duration": 239,
    "start_time": "2022-04-22T21:51:57.408Z"
   },
   {
    "duration": 2174,
    "start_time": "2022-04-24T08:11:11.943Z"
   },
   {
    "duration": 83,
    "start_time": "2022-04-24T08:11:14.120Z"
   },
   {
    "duration": 29,
    "start_time": "2022-04-24T08:11:14.206Z"
   },
   {
    "duration": 4,
    "start_time": "2022-04-24T08:11:14.238Z"
   },
   {
    "duration": 15,
    "start_time": "2022-04-24T08:11:14.244Z"
   },
   {
    "duration": 29,
    "start_time": "2022-04-24T08:11:14.262Z"
   },
   {
    "duration": 12,
    "start_time": "2022-04-24T08:11:14.294Z"
   },
   {
    "duration": 10,
    "start_time": "2022-04-24T08:11:14.308Z"
   },
   {
    "duration": 12,
    "start_time": "2022-04-24T08:11:14.319Z"
   },
   {
    "duration": 21,
    "start_time": "2022-04-24T08:11:14.334Z"
   },
   {
    "duration": 20,
    "start_time": "2022-04-24T08:11:14.357Z"
   },
   {
    "duration": 14,
    "start_time": "2022-04-24T08:11:14.380Z"
   },
   {
    "duration": 15,
    "start_time": "2022-04-24T08:11:14.396Z"
   },
   {
    "duration": 7,
    "start_time": "2022-04-24T08:11:14.413Z"
   },
   {
    "duration": 45,
    "start_time": "2022-04-24T08:11:14.422Z"
   },
   {
    "duration": 12,
    "start_time": "2022-04-24T08:11:14.469Z"
   },
   {
    "duration": 13,
    "start_time": "2022-04-24T08:11:14.483Z"
   },
   {
    "duration": 10,
    "start_time": "2022-04-24T08:11:14.498Z"
   },
   {
    "duration": 18,
    "start_time": "2022-04-24T08:11:14.510Z"
   },
   {
    "duration": 33,
    "start_time": "2022-04-24T08:11:14.530Z"
   },
   {
    "duration": 69,
    "start_time": "2022-04-24T08:11:14.565Z"
   },
   {
    "duration": 5,
    "start_time": "2022-04-24T08:11:14.637Z"
   },
   {
    "duration": 10,
    "start_time": "2022-04-24T08:11:14.654Z"
   },
   {
    "duration": 26,
    "start_time": "2022-04-24T08:11:14.666Z"
   },
   {
    "duration": 25,
    "start_time": "2022-04-24T08:11:14.694Z"
   },
   {
    "duration": 9,
    "start_time": "2022-04-24T08:11:14.721Z"
   },
   {
    "duration": 43,
    "start_time": "2022-04-24T08:11:14.732Z"
   },
   {
    "duration": 17,
    "start_time": "2022-04-24T08:11:14.781Z"
   },
   {
    "duration": 8,
    "start_time": "2022-04-24T08:11:14.800Z"
   },
   {
    "duration": 48,
    "start_time": "2022-04-24T08:11:14.811Z"
   },
   {
    "duration": 10,
    "start_time": "2022-04-24T08:11:14.862Z"
   },
   {
    "duration": 28,
    "start_time": "2022-04-24T08:11:14.874Z"
   },
   {
    "duration": 8,
    "start_time": "2022-04-24T08:11:14.904Z"
   },
   {
    "duration": 32,
    "start_time": "2022-04-24T08:11:14.915Z"
   },
   {
    "duration": 7,
    "start_time": "2022-04-24T08:11:14.954Z"
   },
   {
    "duration": 34,
    "start_time": "2022-04-24T08:11:14.964Z"
   },
   {
    "duration": 36,
    "start_time": "2022-04-24T08:11:15.000Z"
   },
   {
    "duration": 126,
    "start_time": "2022-04-24T08:11:15.038Z"
   },
   {
    "duration": 24,
    "start_time": "2022-04-24T08:11:15.166Z"
   },
   {
    "duration": 503,
    "start_time": "2022-04-24T08:11:15.193Z"
   },
   {
    "duration": 5,
    "start_time": "2022-04-24T08:11:15.699Z"
   },
   {
    "duration": 20,
    "start_time": "2022-04-24T08:11:15.707Z"
   },
   {
    "duration": 5,
    "start_time": "2022-04-24T08:11:15.730Z"
   },
   {
    "duration": 20,
    "start_time": "2022-04-24T08:11:15.757Z"
   },
   {
    "duration": 19,
    "start_time": "2022-04-24T08:11:15.779Z"
   },
   {
    "duration": 115,
    "start_time": "2022-04-24T08:11:15.800Z"
   },
   {
    "duration": 7,
    "start_time": "2022-04-24T08:11:15.916Z"
   },
   {
    "duration": 8,
    "start_time": "2022-04-24T08:11:15.925Z"
   },
   {
    "duration": 625,
    "start_time": "2022-04-24T08:11:15.934Z"
   },
   {
    "duration": 13,
    "start_time": "2022-04-24T08:11:16.568Z"
   },
   {
    "duration": 376,
    "start_time": "2022-04-24T08:11:16.585Z"
   },
   {
    "duration": 2142,
    "start_time": "2022-04-24T08:11:16.964Z"
   },
   {
    "duration": 14,
    "start_time": "2022-04-24T08:11:19.108Z"
   },
   {
    "duration": 29,
    "start_time": "2022-04-24T08:11:19.123Z"
   },
   {
    "duration": 32,
    "start_time": "2022-04-24T08:11:19.153Z"
   },
   {
    "duration": 39,
    "start_time": "2022-04-24T08:11:19.187Z"
   },
   {
    "duration": 407,
    "start_time": "2022-04-24T08:11:19.228Z"
   }
  ],
  "kernelspec": {
   "display_name": "Python 3",
   "language": "python",
   "name": "python3"
  },
  "language_info": {
   "codemirror_mode": {
    "name": "ipython",
    "version": 3
   },
   "file_extension": ".py",
   "mimetype": "text/x-python",
   "name": "python",
   "nbconvert_exporter": "python",
   "pygments_lexer": "ipython3",
   "version": "3.8.5"
  },
  "toc": {
   "base_numbering": 1,
   "nav_menu": {},
   "number_sections": false,
   "sideBar": true,
   "skip_h1_title": true,
   "title_cell": "Table of Contents",
   "title_sidebar": "Contents",
   "toc_cell": false,
   "toc_position": {},
   "toc_section_display": true,
   "toc_window_display": false
  }
 },
 "nbformat": 4,
 "nbformat_minor": 4
}
