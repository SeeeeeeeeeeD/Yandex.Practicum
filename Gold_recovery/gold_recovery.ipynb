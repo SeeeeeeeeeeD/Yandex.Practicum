{
 "cells": [
  {
   "cell_type": "markdown",
   "metadata": {},
   "source": [
    "# Восстановление золота из руды"
   ]
  },
  {
   "cell_type": "markdown",
   "metadata": {},
   "source": [
    "Подготовьте прототип модели машинного обучения для «Цифры». Компания разрабатывает решения для эффективной работы промышленных предприятий.\n",
    "\n",
    "Модель должна предсказать коэффициент восстановления золота из золотосодержащей руды. Используйте данные с параметрами добычи и очистки. \n",
    "\n",
    "Модель поможет оптимизировать производство, чтобы не запускать предприятие с убыточными характеристиками.\n",
    "\n",
    "Вам нужно:\n",
    "\n",
    "1. Подготовить данные;\n",
    "2. Провести исследовательский анализ данных;\n",
    "3. Построить и обучить модель.\n",
    "\n",
    "Чтобы выполнить проект, обращайтесь к библиотекам *pandas*, *matplotlib* и *sklearn.* Вам поможет их документация."
   ]
  },
  {
   "cell_type": "markdown",
   "metadata": {},
   "source": [
    "**Описание данных**  \n",
    "\n",
    "Данные находятся в трёх файлах:\n",
    "\n",
    "* gold_recovery_train.csv — обучающая выборка;\n",
    "* gold_recovery_test.csv — тестовая выборка;\n",
    "* gold_recovery_full.csv — исходные данные.  \n",
    "\n",
    "Данные индексируются датой и временем получения информации (признак date). Соседние по времени параметры часто похожи.  \n",
    "Некоторые параметры недоступны, потому что замеряются и/или рассчитываются значительно позже. Из-за этого в тестовой выборке отсутствуют некоторые признаки, которые могут быть в обучающей. Также в тестовом наборе нет целевых признаков.  \n",
    "Исходный датасет содержит обучающую и тестовую выборки со всеми признаками.\n",
    "\n",
    "Технологический процесс\n",
    "\n",
    "* Rougher feed — исходное сырье\n",
    "* Rougher additions (или reagent additions) — флотационные реагенты: Xanthate, Sulphate, Depressant\n",
    "  * Xanthate — ксантогенат (промотер, или активатор флотации);\n",
    "  * Sulphate — сульфат (на данном производстве сульфид натрия);\n",
    "  * Depressant — депрессант (силикат натрия).\n",
    "* Rougher process (англ. «грубый процесс») — флотация\n",
    "* Rougher tails — отвальные хвосты\n",
    "* Float banks — флотационная установка\n",
    "* Cleaner process — очистка\n",
    "* Rougher Au — черновой концентрат золота\n",
    "* Final Au — финальный концентрат золота\n",
    "\n",
    "Параметры этапов\n",
    "\n",
    "* air amount — объём воздуха\n",
    "* fluid levels — уровень жидкости\n",
    "* feed size — размер гранул сырья\n",
    "* feed rate — скорость подачи"
   ]
  },
  {
   "cell_type": "markdown",
   "metadata": {},
   "source": [
    "**Наименование признаков** \n",
    "\n",
    "Наименование признаков должно быть такое:\n",
    "\n",
    "[этап].[тип_параметра].[название_параметра]\n",
    "\n",
    "Пример: rougher.input.feed_ag\n",
    "\n",
    "Возможные значения для блока [этап]:\n",
    "\n",
    "* rougher — флотация\n",
    "* primary_cleaner — первичная очистка\n",
    "* secondary_cleaner — вторичная очистка\n",
    "* final — финальные характеристики Возможные значения для блока [тип_параметра]:\n",
    "* input — параметры сырья\n",
    "* output — параметры продукта\n",
    "* state — параметры, характеризующие текущее состояние этапа\n",
    "* calculation — расчётные характеристики"
   ]
  },
  {
   "cell_type": "markdown",
   "metadata": {},
   "source": [
    "**Расчёт эффективности**  \n",
    "\n",
    "Нужно смоделировать процесс восстановления золота из золотосодержащей руды.  \n",
    "Эффективность обогащения рассчитывается по формуле\n",
    "\n",
    "$$\\begin{align}\n",
    "{Recovery} = \\frac{C\\times(F-T)}{F\\times(C-T)}\\times100\\%\n",
    "\\end{align}$$\n",
    "где:\n",
    "\n",
    "* C — доля золота в концентрате после флотации/очистки;\n",
    "* F — доля золота в сырье/концентрате до флотации/очистки;\n",
    "* T — доля золота в отвальных хвостах после флотации/очистки.\n",
    "\n",
    "Для прогноза коэффициента нужно найти долю золота в концентратах и хвостах. Причём важен не только финальный продукт, но и черновой концентрат."
   ]
  },
  {
   "cell_type": "markdown",
   "metadata": {},
   "source": [
    "**Метрика качества**\n",
    "\n",
    "Для решения задачи введём новую метрику качества — sMAPE (англ. Symmetric Mean Absolute Percentage Error, «симметричное среднее абсолютное процентное отклонение»).\n",
    "\n",
    "Метрика sMAPE вычисляется так:\n",
    "\n",
    "<img alt=\"image\" class=\"image image_expandable\" src=\"https://pictures.s3.yandex.net/resources/smape_1576239058.jpg\">\n",
    "\n",
    "Нужно спрогнозировать сразу две величины:\n",
    "\n",
    "эффективность обогащения чернового концентрата rougher.output.recovery;  \n",
    "эффективность обогащения финального концентрата final.output.recovery.\n",
    "\n",
    "Итоговая метрика складывается из двух величин:\n",
    "\n",
    "<img alt=\"image\" class=\"image image_expandable\" src=\"https://pictures.s3.yandex.net/resources/_smape_1576239054.jpg\" style=\"\">"
   ]
  },
  {
   "cell_type": "markdown",
   "metadata": {},
   "source": [
    "## Подготовка данных"
   ]
  },
  {
   "cell_type": "markdown",
   "metadata": {},
   "source": [
    "Импортируем необходимые библиотеки"
   ]
  },
  {
   "cell_type": "code",
   "execution_count": 1,
   "metadata": {},
   "outputs": [],
   "source": [
    "import pandas as pd\n",
    "import numpy as np\n",
    "\n",
    "import matplotlib.pyplot as plt\n",
    "import seaborn as sns\n",
    "\n",
    "from sklearn.metrics import make_scorer, mean_squared_error\n",
    "from scipy import stats as st\n",
    "from sklearn.preprocessing import StandardScaler\n",
    "from sklearn.model_selection import cross_val_score\n",
    "\n",
    "from catboost import CatBoostRegressor\n",
    "from sklearn.ensemble import RandomForestRegressor\n",
    "from sklearn.linear_model import LinearRegression\n",
    "from sklearn.tree import DecisionTreeRegressor\n",
    "from sklearn.dummy import DummyRegressor\n",
    "\n",
    "from tqdm.notebook import tqdm"
   ]
  },
  {
   "cell_type": "markdown",
   "metadata": {},
   "source": [
    "Загрузим исходные дата-фреймы"
   ]
  },
  {
   "cell_type": "code",
   "execution_count": 2,
   "metadata": {},
   "outputs": [],
   "source": [
    "df_train = pd.read_csv('/datasets/gold_recovery_train.csv')\n",
    "df_test = pd.read_csv('/datasets/gold_recovery_test.csv')\n",
    "df_full = pd.read_csv('/datasets/gold_recovery_full.csv')"
   ]
  },
  {
   "cell_type": "markdown",
   "metadata": {},
   "source": [
    "* Посмотрим информацию о данных"
   ]
  },
  {
   "cell_type": "code",
   "execution_count": 3,
   "metadata": {},
   "outputs": [
    {
     "data": {
      "text/html": [
       "<div>\n",
       "<style scoped>\n",
       "    .dataframe tbody tr th:only-of-type {\n",
       "        vertical-align: middle;\n",
       "    }\n",
       "\n",
       "    .dataframe tbody tr th {\n",
       "        vertical-align: top;\n",
       "    }\n",
       "\n",
       "    .dataframe thead th {\n",
       "        text-align: right;\n",
       "    }\n",
       "</style>\n",
       "<table border=\"1\" class=\"dataframe\">\n",
       "  <thead>\n",
       "    <tr style=\"text-align: right;\">\n",
       "      <th></th>\n",
       "      <th>date</th>\n",
       "      <th>final.output.concentrate_ag</th>\n",
       "      <th>final.output.concentrate_pb</th>\n",
       "      <th>final.output.concentrate_sol</th>\n",
       "      <th>final.output.concentrate_au</th>\n",
       "      <th>final.output.recovery</th>\n",
       "      <th>final.output.tail_ag</th>\n",
       "      <th>final.output.tail_pb</th>\n",
       "      <th>final.output.tail_sol</th>\n",
       "      <th>final.output.tail_au</th>\n",
       "      <th>...</th>\n",
       "      <th>secondary_cleaner.state.floatbank4_a_air</th>\n",
       "      <th>secondary_cleaner.state.floatbank4_a_level</th>\n",
       "      <th>secondary_cleaner.state.floatbank4_b_air</th>\n",
       "      <th>secondary_cleaner.state.floatbank4_b_level</th>\n",
       "      <th>secondary_cleaner.state.floatbank5_a_air</th>\n",
       "      <th>secondary_cleaner.state.floatbank5_a_level</th>\n",
       "      <th>secondary_cleaner.state.floatbank5_b_air</th>\n",
       "      <th>secondary_cleaner.state.floatbank5_b_level</th>\n",
       "      <th>secondary_cleaner.state.floatbank6_a_air</th>\n",
       "      <th>secondary_cleaner.state.floatbank6_a_level</th>\n",
       "    </tr>\n",
       "  </thead>\n",
       "  <tbody>\n",
       "    <tr>\n",
       "      <td>0</td>\n",
       "      <td>2016-01-15 00:00:00</td>\n",
       "      <td>6.055403</td>\n",
       "      <td>9.889648</td>\n",
       "      <td>5.507324</td>\n",
       "      <td>42.192020</td>\n",
       "      <td>70.541216</td>\n",
       "      <td>10.411962</td>\n",
       "      <td>0.895447</td>\n",
       "      <td>16.904297</td>\n",
       "      <td>2.143149</td>\n",
       "      <td>...</td>\n",
       "      <td>14.016835</td>\n",
       "      <td>-502.488007</td>\n",
       "      <td>12.099931</td>\n",
       "      <td>-504.715942</td>\n",
       "      <td>9.925633</td>\n",
       "      <td>-498.310211</td>\n",
       "      <td>8.079666</td>\n",
       "      <td>-500.470978</td>\n",
       "      <td>14.151341</td>\n",
       "      <td>-605.841980</td>\n",
       "    </tr>\n",
       "    <tr>\n",
       "      <td>1</td>\n",
       "      <td>2016-01-15 01:00:00</td>\n",
       "      <td>6.029369</td>\n",
       "      <td>9.968944</td>\n",
       "      <td>5.257781</td>\n",
       "      <td>42.701629</td>\n",
       "      <td>69.266198</td>\n",
       "      <td>10.462676</td>\n",
       "      <td>0.927452</td>\n",
       "      <td>16.634514</td>\n",
       "      <td>2.224930</td>\n",
       "      <td>...</td>\n",
       "      <td>13.992281</td>\n",
       "      <td>-505.503262</td>\n",
       "      <td>11.950531</td>\n",
       "      <td>-501.331529</td>\n",
       "      <td>10.039245</td>\n",
       "      <td>-500.169983</td>\n",
       "      <td>7.984757</td>\n",
       "      <td>-500.582168</td>\n",
       "      <td>13.998353</td>\n",
       "      <td>-599.787184</td>\n",
       "    </tr>\n",
       "    <tr>\n",
       "      <td>2</td>\n",
       "      <td>2016-01-15 02:00:00</td>\n",
       "      <td>6.055926</td>\n",
       "      <td>10.213995</td>\n",
       "      <td>5.383759</td>\n",
       "      <td>42.657501</td>\n",
       "      <td>68.116445</td>\n",
       "      <td>10.507046</td>\n",
       "      <td>0.953716</td>\n",
       "      <td>16.208849</td>\n",
       "      <td>2.257889</td>\n",
       "      <td>...</td>\n",
       "      <td>14.015015</td>\n",
       "      <td>-502.520901</td>\n",
       "      <td>11.912783</td>\n",
       "      <td>-501.133383</td>\n",
       "      <td>10.070913</td>\n",
       "      <td>-500.129135</td>\n",
       "      <td>8.013877</td>\n",
       "      <td>-500.517572</td>\n",
       "      <td>14.028663</td>\n",
       "      <td>-601.427363</td>\n",
       "    </tr>\n",
       "    <tr>\n",
       "      <td>3</td>\n",
       "      <td>2016-01-15 03:00:00</td>\n",
       "      <td>6.047977</td>\n",
       "      <td>9.977019</td>\n",
       "      <td>4.858634</td>\n",
       "      <td>42.689819</td>\n",
       "      <td>68.347543</td>\n",
       "      <td>10.422762</td>\n",
       "      <td>0.883763</td>\n",
       "      <td>16.532835</td>\n",
       "      <td>2.146849</td>\n",
       "      <td>...</td>\n",
       "      <td>14.036510</td>\n",
       "      <td>-500.857308</td>\n",
       "      <td>11.999550</td>\n",
       "      <td>-501.193686</td>\n",
       "      <td>9.970366</td>\n",
       "      <td>-499.201640</td>\n",
       "      <td>7.977324</td>\n",
       "      <td>-500.255908</td>\n",
       "      <td>14.005551</td>\n",
       "      <td>-599.996129</td>\n",
       "    </tr>\n",
       "    <tr>\n",
       "      <td>4</td>\n",
       "      <td>2016-01-15 04:00:00</td>\n",
       "      <td>6.148599</td>\n",
       "      <td>10.142511</td>\n",
       "      <td>4.939416</td>\n",
       "      <td>42.774141</td>\n",
       "      <td>66.927016</td>\n",
       "      <td>10.360302</td>\n",
       "      <td>0.792826</td>\n",
       "      <td>16.525686</td>\n",
       "      <td>2.055292</td>\n",
       "      <td>...</td>\n",
       "      <td>14.027298</td>\n",
       "      <td>-499.838632</td>\n",
       "      <td>11.953070</td>\n",
       "      <td>-501.053894</td>\n",
       "      <td>9.925709</td>\n",
       "      <td>-501.686727</td>\n",
       "      <td>7.894242</td>\n",
       "      <td>-500.356035</td>\n",
       "      <td>13.996647</td>\n",
       "      <td>-601.496691</td>\n",
       "    </tr>\n",
       "    <tr>\n",
       "      <td>...</td>\n",
       "      <td>...</td>\n",
       "      <td>...</td>\n",
       "      <td>...</td>\n",
       "      <td>...</td>\n",
       "      <td>...</td>\n",
       "      <td>...</td>\n",
       "      <td>...</td>\n",
       "      <td>...</td>\n",
       "      <td>...</td>\n",
       "      <td>...</td>\n",
       "      <td>...</td>\n",
       "      <td>...</td>\n",
       "      <td>...</td>\n",
       "      <td>...</td>\n",
       "      <td>...</td>\n",
       "      <td>...</td>\n",
       "      <td>...</td>\n",
       "      <td>...</td>\n",
       "      <td>...</td>\n",
       "      <td>...</td>\n",
       "      <td>...</td>\n",
       "    </tr>\n",
       "    <tr>\n",
       "      <td>22711</td>\n",
       "      <td>2018-08-18 06:59:59</td>\n",
       "      <td>3.224920</td>\n",
       "      <td>11.356233</td>\n",
       "      <td>6.803482</td>\n",
       "      <td>46.713954</td>\n",
       "      <td>73.755150</td>\n",
       "      <td>8.769645</td>\n",
       "      <td>3.141541</td>\n",
       "      <td>10.403181</td>\n",
       "      <td>1.529220</td>\n",
       "      <td>...</td>\n",
       "      <td>23.031497</td>\n",
       "      <td>-501.167942</td>\n",
       "      <td>20.007571</td>\n",
       "      <td>-499.740028</td>\n",
       "      <td>18.006038</td>\n",
       "      <td>-499.834374</td>\n",
       "      <td>13.001114</td>\n",
       "      <td>-500.155694</td>\n",
       "      <td>20.007840</td>\n",
       "      <td>-501.296428</td>\n",
       "    </tr>\n",
       "    <tr>\n",
       "      <td>22712</td>\n",
       "      <td>2018-08-18 07:59:59</td>\n",
       "      <td>3.195978</td>\n",
       "      <td>11.349355</td>\n",
       "      <td>6.862249</td>\n",
       "      <td>46.866780</td>\n",
       "      <td>69.049291</td>\n",
       "      <td>8.897321</td>\n",
       "      <td>3.130493</td>\n",
       "      <td>10.549470</td>\n",
       "      <td>1.612542</td>\n",
       "      <td>...</td>\n",
       "      <td>22.960095</td>\n",
       "      <td>-501.612783</td>\n",
       "      <td>20.035660</td>\n",
       "      <td>-500.251357</td>\n",
       "      <td>17.998535</td>\n",
       "      <td>-500.395178</td>\n",
       "      <td>12.954048</td>\n",
       "      <td>-499.895163</td>\n",
       "      <td>19.968498</td>\n",
       "      <td>-501.041608</td>\n",
       "    </tr>\n",
       "    <tr>\n",
       "      <td>22713</td>\n",
       "      <td>2018-08-18 08:59:59</td>\n",
       "      <td>3.109998</td>\n",
       "      <td>11.434366</td>\n",
       "      <td>6.886013</td>\n",
       "      <td>46.795691</td>\n",
       "      <td>67.002189</td>\n",
       "      <td>8.529606</td>\n",
       "      <td>2.911418</td>\n",
       "      <td>11.115147</td>\n",
       "      <td>1.596616</td>\n",
       "      <td>...</td>\n",
       "      <td>23.015718</td>\n",
       "      <td>-501.711599</td>\n",
       "      <td>19.951231</td>\n",
       "      <td>-499.857027</td>\n",
       "      <td>18.019543</td>\n",
       "      <td>-500.451156</td>\n",
       "      <td>13.023431</td>\n",
       "      <td>-499.914391</td>\n",
       "      <td>19.990885</td>\n",
       "      <td>-501.518452</td>\n",
       "    </tr>\n",
       "    <tr>\n",
       "      <td>22714</td>\n",
       "      <td>2018-08-18 09:59:59</td>\n",
       "      <td>3.367241</td>\n",
       "      <td>11.625587</td>\n",
       "      <td>6.799433</td>\n",
       "      <td>46.408188</td>\n",
       "      <td>65.523246</td>\n",
       "      <td>8.777171</td>\n",
       "      <td>2.819214</td>\n",
       "      <td>10.463847</td>\n",
       "      <td>1.602879</td>\n",
       "      <td>...</td>\n",
       "      <td>23.024963</td>\n",
       "      <td>-501.153409</td>\n",
       "      <td>20.054122</td>\n",
       "      <td>-500.314711</td>\n",
       "      <td>17.979515</td>\n",
       "      <td>-499.272871</td>\n",
       "      <td>12.992404</td>\n",
       "      <td>-499.976268</td>\n",
       "      <td>20.013986</td>\n",
       "      <td>-500.625471</td>\n",
       "    </tr>\n",
       "    <tr>\n",
       "      <td>22715</td>\n",
       "      <td>2018-08-18 10:59:59</td>\n",
       "      <td>3.598375</td>\n",
       "      <td>11.737832</td>\n",
       "      <td>6.717509</td>\n",
       "      <td>46.299438</td>\n",
       "      <td>70.281454</td>\n",
       "      <td>8.406690</td>\n",
       "      <td>2.517518</td>\n",
       "      <td>10.652193</td>\n",
       "      <td>1.389434</td>\n",
       "      <td>...</td>\n",
       "      <td>23.018622</td>\n",
       "      <td>-500.492702</td>\n",
       "      <td>20.020205</td>\n",
       "      <td>-500.220296</td>\n",
       "      <td>17.963512</td>\n",
       "      <td>-499.939490</td>\n",
       "      <td>12.990306</td>\n",
       "      <td>-500.080993</td>\n",
       "      <td>19.990336</td>\n",
       "      <td>-499.191575</td>\n",
       "    </tr>\n",
       "  </tbody>\n",
       "</table>\n",
       "<p>22716 rows × 87 columns</p>\n",
       "</div>"
      ],
      "text/plain": [
       "                      date  final.output.concentrate_ag  \\\n",
       "0      2016-01-15 00:00:00                     6.055403   \n",
       "1      2016-01-15 01:00:00                     6.029369   \n",
       "2      2016-01-15 02:00:00                     6.055926   \n",
       "3      2016-01-15 03:00:00                     6.047977   \n",
       "4      2016-01-15 04:00:00                     6.148599   \n",
       "...                    ...                          ...   \n",
       "22711  2018-08-18 06:59:59                     3.224920   \n",
       "22712  2018-08-18 07:59:59                     3.195978   \n",
       "22713  2018-08-18 08:59:59                     3.109998   \n",
       "22714  2018-08-18 09:59:59                     3.367241   \n",
       "22715  2018-08-18 10:59:59                     3.598375   \n",
       "\n",
       "       final.output.concentrate_pb  final.output.concentrate_sol  \\\n",
       "0                         9.889648                      5.507324   \n",
       "1                         9.968944                      5.257781   \n",
       "2                        10.213995                      5.383759   \n",
       "3                         9.977019                      4.858634   \n",
       "4                        10.142511                      4.939416   \n",
       "...                            ...                           ...   \n",
       "22711                    11.356233                      6.803482   \n",
       "22712                    11.349355                      6.862249   \n",
       "22713                    11.434366                      6.886013   \n",
       "22714                    11.625587                      6.799433   \n",
       "22715                    11.737832                      6.717509   \n",
       "\n",
       "       final.output.concentrate_au  final.output.recovery  \\\n",
       "0                        42.192020              70.541216   \n",
       "1                        42.701629              69.266198   \n",
       "2                        42.657501              68.116445   \n",
       "3                        42.689819              68.347543   \n",
       "4                        42.774141              66.927016   \n",
       "...                            ...                    ...   \n",
       "22711                    46.713954              73.755150   \n",
       "22712                    46.866780              69.049291   \n",
       "22713                    46.795691              67.002189   \n",
       "22714                    46.408188              65.523246   \n",
       "22715                    46.299438              70.281454   \n",
       "\n",
       "       final.output.tail_ag  final.output.tail_pb  final.output.tail_sol  \\\n",
       "0                 10.411962              0.895447              16.904297   \n",
       "1                 10.462676              0.927452              16.634514   \n",
       "2                 10.507046              0.953716              16.208849   \n",
       "3                 10.422762              0.883763              16.532835   \n",
       "4                 10.360302              0.792826              16.525686   \n",
       "...                     ...                   ...                    ...   \n",
       "22711              8.769645              3.141541              10.403181   \n",
       "22712              8.897321              3.130493              10.549470   \n",
       "22713              8.529606              2.911418              11.115147   \n",
       "22714              8.777171              2.819214              10.463847   \n",
       "22715              8.406690              2.517518              10.652193   \n",
       "\n",
       "       final.output.tail_au  ...  secondary_cleaner.state.floatbank4_a_air  \\\n",
       "0                  2.143149  ...                                 14.016835   \n",
       "1                  2.224930  ...                                 13.992281   \n",
       "2                  2.257889  ...                                 14.015015   \n",
       "3                  2.146849  ...                                 14.036510   \n",
       "4                  2.055292  ...                                 14.027298   \n",
       "...                     ...  ...                                       ...   \n",
       "22711              1.529220  ...                                 23.031497   \n",
       "22712              1.612542  ...                                 22.960095   \n",
       "22713              1.596616  ...                                 23.015718   \n",
       "22714              1.602879  ...                                 23.024963   \n",
       "22715              1.389434  ...                                 23.018622   \n",
       "\n",
       "       secondary_cleaner.state.floatbank4_a_level  \\\n",
       "0                                     -502.488007   \n",
       "1                                     -505.503262   \n",
       "2                                     -502.520901   \n",
       "3                                     -500.857308   \n",
       "4                                     -499.838632   \n",
       "...                                           ...   \n",
       "22711                                 -501.167942   \n",
       "22712                                 -501.612783   \n",
       "22713                                 -501.711599   \n",
       "22714                                 -501.153409   \n",
       "22715                                 -500.492702   \n",
       "\n",
       "       secondary_cleaner.state.floatbank4_b_air  \\\n",
       "0                                     12.099931   \n",
       "1                                     11.950531   \n",
       "2                                     11.912783   \n",
       "3                                     11.999550   \n",
       "4                                     11.953070   \n",
       "...                                         ...   \n",
       "22711                                 20.007571   \n",
       "22712                                 20.035660   \n",
       "22713                                 19.951231   \n",
       "22714                                 20.054122   \n",
       "22715                                 20.020205   \n",
       "\n",
       "       secondary_cleaner.state.floatbank4_b_level  \\\n",
       "0                                     -504.715942   \n",
       "1                                     -501.331529   \n",
       "2                                     -501.133383   \n",
       "3                                     -501.193686   \n",
       "4                                     -501.053894   \n",
       "...                                           ...   \n",
       "22711                                 -499.740028   \n",
       "22712                                 -500.251357   \n",
       "22713                                 -499.857027   \n",
       "22714                                 -500.314711   \n",
       "22715                                 -500.220296   \n",
       "\n",
       "       secondary_cleaner.state.floatbank5_a_air  \\\n",
       "0                                      9.925633   \n",
       "1                                     10.039245   \n",
       "2                                     10.070913   \n",
       "3                                      9.970366   \n",
       "4                                      9.925709   \n",
       "...                                         ...   \n",
       "22711                                 18.006038   \n",
       "22712                                 17.998535   \n",
       "22713                                 18.019543   \n",
       "22714                                 17.979515   \n",
       "22715                                 17.963512   \n",
       "\n",
       "       secondary_cleaner.state.floatbank5_a_level  \\\n",
       "0                                     -498.310211   \n",
       "1                                     -500.169983   \n",
       "2                                     -500.129135   \n",
       "3                                     -499.201640   \n",
       "4                                     -501.686727   \n",
       "...                                           ...   \n",
       "22711                                 -499.834374   \n",
       "22712                                 -500.395178   \n",
       "22713                                 -500.451156   \n",
       "22714                                 -499.272871   \n",
       "22715                                 -499.939490   \n",
       "\n",
       "       secondary_cleaner.state.floatbank5_b_air  \\\n",
       "0                                      8.079666   \n",
       "1                                      7.984757   \n",
       "2                                      8.013877   \n",
       "3                                      7.977324   \n",
       "4                                      7.894242   \n",
       "...                                         ...   \n",
       "22711                                 13.001114   \n",
       "22712                                 12.954048   \n",
       "22713                                 13.023431   \n",
       "22714                                 12.992404   \n",
       "22715                                 12.990306   \n",
       "\n",
       "       secondary_cleaner.state.floatbank5_b_level  \\\n",
       "0                                     -500.470978   \n",
       "1                                     -500.582168   \n",
       "2                                     -500.517572   \n",
       "3                                     -500.255908   \n",
       "4                                     -500.356035   \n",
       "...                                           ...   \n",
       "22711                                 -500.155694   \n",
       "22712                                 -499.895163   \n",
       "22713                                 -499.914391   \n",
       "22714                                 -499.976268   \n",
       "22715                                 -500.080993   \n",
       "\n",
       "       secondary_cleaner.state.floatbank6_a_air  \\\n",
       "0                                     14.151341   \n",
       "1                                     13.998353   \n",
       "2                                     14.028663   \n",
       "3                                     14.005551   \n",
       "4                                     13.996647   \n",
       "...                                         ...   \n",
       "22711                                 20.007840   \n",
       "22712                                 19.968498   \n",
       "22713                                 19.990885   \n",
       "22714                                 20.013986   \n",
       "22715                                 19.990336   \n",
       "\n",
       "       secondary_cleaner.state.floatbank6_a_level  \n",
       "0                                     -605.841980  \n",
       "1                                     -599.787184  \n",
       "2                                     -601.427363  \n",
       "3                                     -599.996129  \n",
       "4                                     -601.496691  \n",
       "...                                           ...  \n",
       "22711                                 -501.296428  \n",
       "22712                                 -501.041608  \n",
       "22713                                 -501.518452  \n",
       "22714                                 -500.625471  \n",
       "22715                                 -499.191575  \n",
       "\n",
       "[22716 rows x 87 columns]"
      ]
     },
     "execution_count": 3,
     "metadata": {},
     "output_type": "execute_result"
    }
   ],
   "source": [
    "df_full"
   ]
  },
  {
   "cell_type": "code",
   "execution_count": 4,
   "metadata": {},
   "outputs": [
    {
     "name": "stdout",
     "output_type": "stream",
     "text": [
      "<class 'pandas.core.frame.DataFrame'>\n",
      "RangeIndex: 22716 entries, 0 to 22715\n",
      "Data columns (total 87 columns):\n",
      "date                                                  22716 non-null object\n",
      "final.output.concentrate_ag                           22627 non-null float64\n",
      "final.output.concentrate_pb                           22629 non-null float64\n",
      "final.output.concentrate_sol                          22331 non-null float64\n",
      "final.output.concentrate_au                           22630 non-null float64\n",
      "final.output.recovery                                 20753 non-null float64\n",
      "final.output.tail_ag                                  22633 non-null float64\n",
      "final.output.tail_pb                                  22516 non-null float64\n",
      "final.output.tail_sol                                 22445 non-null float64\n",
      "final.output.tail_au                                  22635 non-null float64\n",
      "primary_cleaner.input.sulfate                         21107 non-null float64\n",
      "primary_cleaner.input.depressant                      21170 non-null float64\n",
      "primary_cleaner.input.feed_size                       22716 non-null float64\n",
      "primary_cleaner.input.xanthate                        21565 non-null float64\n",
      "primary_cleaner.output.concentrate_ag                 22618 non-null float64\n",
      "primary_cleaner.output.concentrate_pb                 22268 non-null float64\n",
      "primary_cleaner.output.concentrate_sol                21918 non-null float64\n",
      "primary_cleaner.output.concentrate_au                 22618 non-null float64\n",
      "primary_cleaner.output.tail_ag                        22614 non-null float64\n",
      "primary_cleaner.output.tail_pb                        22594 non-null float64\n",
      "primary_cleaner.output.tail_sol                       22365 non-null float64\n",
      "primary_cleaner.output.tail_au                        22617 non-null float64\n",
      "primary_cleaner.state.floatbank8_a_air                22660 non-null float64\n",
      "primary_cleaner.state.floatbank8_a_level              22667 non-null float64\n",
      "primary_cleaner.state.floatbank8_b_air                22660 non-null float64\n",
      "primary_cleaner.state.floatbank8_b_level              22673 non-null float64\n",
      "primary_cleaner.state.floatbank8_c_air                22662 non-null float64\n",
      "primary_cleaner.state.floatbank8_c_level              22673 non-null float64\n",
      "primary_cleaner.state.floatbank8_d_air                22661 non-null float64\n",
      "primary_cleaner.state.floatbank8_d_level              22673 non-null float64\n",
      "rougher.calculation.sulfate_to_au_concentrate         22672 non-null float64\n",
      "rougher.calculation.floatbank10_sulfate_to_au_feed    22672 non-null float64\n",
      "rougher.calculation.floatbank11_sulfate_to_au_feed    22672 non-null float64\n",
      "rougher.calculation.au_pb_ratio                       21089 non-null float64\n",
      "rougher.input.feed_ag                                 22618 non-null float64\n",
      "rougher.input.feed_pb                                 22472 non-null float64\n",
      "rougher.input.feed_rate                               22163 non-null float64\n",
      "rougher.input.feed_size                               22277 non-null float64\n",
      "rougher.input.feed_sol                                22357 non-null float64\n",
      "rougher.input.feed_au                                 22617 non-null float64\n",
      "rougher.input.floatbank10_sulfate                     21415 non-null float64\n",
      "rougher.input.floatbank10_xanthate                    22247 non-null float64\n",
      "rougher.input.floatbank11_sulfate                     22038 non-null float64\n",
      "rougher.input.floatbank11_xanthate                    20459 non-null float64\n",
      "rougher.output.concentrate_ag                         22618 non-null float64\n",
      "rougher.output.concentrate_pb                         22618 non-null float64\n",
      "rougher.output.concentrate_sol                        22526 non-null float64\n",
      "rougher.output.concentrate_au                         22618 non-null float64\n",
      "rougher.output.recovery                               19597 non-null float64\n",
      "rougher.output.tail_ag                                19979 non-null float64\n",
      "rougher.output.tail_pb                                22618 non-null float64\n",
      "rougher.output.tail_sol                               19980 non-null float64\n",
      "rougher.output.tail_au                                19980 non-null float64\n",
      "rougher.state.floatbank10_a_air                       22646 non-null float64\n",
      "rougher.state.floatbank10_a_level                     22647 non-null float64\n",
      "rougher.state.floatbank10_b_air                       22646 non-null float64\n",
      "rougher.state.floatbank10_b_level                     22647 non-null float64\n",
      "rougher.state.floatbank10_c_air                       22646 non-null float64\n",
      "rougher.state.floatbank10_c_level                     22654 non-null float64\n",
      "rougher.state.floatbank10_d_air                       22641 non-null float64\n",
      "rougher.state.floatbank10_d_level                     22649 non-null float64\n",
      "rougher.state.floatbank10_e_air                       22096 non-null float64\n",
      "rougher.state.floatbank10_e_level                     22649 non-null float64\n",
      "rougher.state.floatbank10_f_air                       22641 non-null float64\n",
      "rougher.state.floatbank10_f_level                     22642 non-null float64\n",
      "secondary_cleaner.output.tail_ag                      22616 non-null float64\n",
      "secondary_cleaner.output.tail_pb                      22600 non-null float64\n",
      "secondary_cleaner.output.tail_sol                     20501 non-null float64\n",
      "secondary_cleaner.output.tail_au                      22618 non-null float64\n",
      "secondary_cleaner.state.floatbank2_a_air              22333 non-null float64\n",
      "secondary_cleaner.state.floatbank2_a_level            22591 non-null float64\n",
      "secondary_cleaner.state.floatbank2_b_air              22538 non-null float64\n",
      "secondary_cleaner.state.floatbank2_b_level            22588 non-null float64\n",
      "secondary_cleaner.state.floatbank3_a_air              22585 non-null float64\n",
      "secondary_cleaner.state.floatbank3_a_level            22587 non-null float64\n",
      "secondary_cleaner.state.floatbank3_b_air              22592 non-null float64\n",
      "secondary_cleaner.state.floatbank3_b_level            22590 non-null float64\n",
      "secondary_cleaner.state.floatbank4_a_air              22571 non-null float64\n",
      "secondary_cleaner.state.floatbank4_a_level            22587 non-null float64\n",
      "secondary_cleaner.state.floatbank4_b_air              22608 non-null float64\n",
      "secondary_cleaner.state.floatbank4_b_level            22607 non-null float64\n",
      "secondary_cleaner.state.floatbank5_a_air              22615 non-null float64\n",
      "secondary_cleaner.state.floatbank5_a_level            22615 non-null float64\n",
      "secondary_cleaner.state.floatbank5_b_air              22615 non-null float64\n",
      "secondary_cleaner.state.floatbank5_b_level            22616 non-null float64\n",
      "secondary_cleaner.state.floatbank6_a_air              22597 non-null float64\n",
      "secondary_cleaner.state.floatbank6_a_level            22615 non-null float64\n",
      "dtypes: float64(86), object(1)\n",
      "memory usage: 15.1+ MB\n"
     ]
    }
   ],
   "source": [
    "df_full.info()"
   ]
  },
  {
   "cell_type": "markdown",
   "metadata": {},
   "source": [
    "Взглянем на пропуски"
   ]
  },
  {
   "cell_type": "code",
   "execution_count": 5,
   "metadata": {},
   "outputs": [
    {
     "data": {
      "text/plain": [
       "rougher.output.recovery                               2573\n",
       "rougher.output.tail_ag                                2250\n",
       "rougher.output.tail_sol                               2249\n",
       "rougher.output.tail_au                                2249\n",
       "secondary_cleaner.output.tail_sol                     1986\n",
       "                                                      ... \n",
       "rougher.calculation.sulfate_to_au_concentrate           27\n",
       "rougher.calculation.floatbank10_sulfate_to_au_feed      27\n",
       "rougher.calculation.floatbank11_sulfate_to_au_feed      27\n",
       "primary_cleaner.input.feed_size                          0\n",
       "date                                                     0\n",
       "Length: 87, dtype: int64"
      ]
     },
     "execution_count": 5,
     "metadata": {},
     "output_type": "execute_result"
    }
   ],
   "source": [
    "df_train.isna().sum().sort_values(ascending=False)"
   ]
  },
  {
   "cell_type": "markdown",
   "metadata": {},
   "source": [
    "В обучающем датасете очень много пропусков и они в целевых признаках. "
   ]
  },
  {
   "cell_type": "code",
   "execution_count": 6,
   "metadata": {},
   "outputs": [
    {
     "data": {
      "text/plain": [
       "rougher.input.floatbank11_xanthate            353\n",
       "primary_cleaner.input.sulfate                 302\n",
       "primary_cleaner.input.depressant              284\n",
       "rougher.input.floatbank10_sulfate             257\n",
       "primary_cleaner.input.xanthate                166\n",
       "rougher.input.floatbank10_xanthate            123\n",
       "rougher.input.feed_sol                         67\n",
       "rougher.input.floatbank11_sulfate              55\n",
       "rougher.input.feed_rate                        40\n",
       "secondary_cleaner.state.floatbank3_a_air       34\n",
       "secondary_cleaner.state.floatbank2_b_air       23\n",
       "rougher.input.feed_size                        22\n",
       "secondary_cleaner.state.floatbank2_a_air       20\n",
       "rougher.state.floatbank10_e_air                17\n",
       "rougher.state.floatbank10_d_air                17\n",
       "rougher.state.floatbank10_a_air                17\n",
       "rougher.state.floatbank10_b_air                17\n",
       "rougher.state.floatbank10_c_air                17\n",
       "rougher.state.floatbank10_f_air                17\n",
       "primary_cleaner.state.floatbank8_a_air         16\n",
       "primary_cleaner.state.floatbank8_a_level       16\n",
       "rougher.input.feed_au                          16\n",
       "primary_cleaner.state.floatbank8_d_air         16\n",
       "primary_cleaner.state.floatbank8_b_air         16\n",
       "primary_cleaner.state.floatbank8_d_level       16\n",
       "primary_cleaner.state.floatbank8_b_level       16\n",
       "rougher.input.feed_pb                          16\n",
       "primary_cleaner.state.floatbank8_c_air         16\n",
       "rougher.input.feed_ag                          16\n",
       "primary_cleaner.state.floatbank8_c_level       16\n",
       "secondary_cleaner.state.floatbank6_a_level     16\n",
       "rougher.state.floatbank10_b_level              16\n",
       "rougher.state.floatbank10_a_level              16\n",
       "secondary_cleaner.state.floatbank6_a_air       16\n",
       "secondary_cleaner.state.floatbank5_b_level     16\n",
       "secondary_cleaner.state.floatbank5_b_air       16\n",
       "secondary_cleaner.state.floatbank5_a_level     16\n",
       "secondary_cleaner.state.floatbank5_a_air       16\n",
       "secondary_cleaner.state.floatbank4_b_level     16\n",
       "secondary_cleaner.state.floatbank4_b_air       16\n",
       "secondary_cleaner.state.floatbank4_a_level     16\n",
       "secondary_cleaner.state.floatbank4_a_air       16\n",
       "secondary_cleaner.state.floatbank3_b_level     16\n",
       "secondary_cleaner.state.floatbank3_b_air       16\n",
       "secondary_cleaner.state.floatbank3_a_level     16\n",
       "secondary_cleaner.state.floatbank2_b_level     16\n",
       "secondary_cleaner.state.floatbank2_a_level     16\n",
       "rougher.state.floatbank10_f_level              16\n",
       "rougher.state.floatbank10_e_level              16\n",
       "rougher.state.floatbank10_d_level              16\n",
       "rougher.state.floatbank10_c_level              16\n",
       "primary_cleaner.input.feed_size                 0\n",
       "date                                            0\n",
       "dtype: int64"
      ]
     },
     "execution_count": 6,
     "metadata": {},
     "output_type": "execute_result"
    }
   ],
   "source": [
    "df_test.isna().sum().sort_values(ascending=False)"
   ]
  },
  {
   "cell_type": "markdown",
   "metadata": {},
   "source": [
    "В тестовом датасете пропусков меньше, но они так же имеются."
   ]
  },
  {
   "cell_type": "markdown",
   "metadata": {},
   "source": [
    "Оценим размеры датасетов"
   ]
  },
  {
   "cell_type": "code",
   "execution_count": 7,
   "metadata": {},
   "outputs": [
    {
     "data": {
      "text/plain": [
       "((22716, 87), (16860, 87), (5856, 53))"
      ]
     },
     "execution_count": 7,
     "metadata": {},
     "output_type": "execute_result"
    }
   ],
   "source": [
    "df_full.shape, df_train.shape, df_test.shape"
   ]
  },
  {
   "cell_type": "markdown",
   "metadata": {},
   "source": [
    "В датасете df_test на много меньше признаков, чем в df_train."
   ]
  },
  {
   "cell_type": "markdown",
   "metadata": {},
   "source": [
    "* Проанализируем признаки, недоступные в тестовой выборке"
   ]
  },
  {
   "cell_type": "code",
   "execution_count": 8,
   "metadata": {},
   "outputs": [
    {
     "data": {
      "text/plain": [
       "{'final.output.concentrate_ag',\n",
       " 'final.output.concentrate_au',\n",
       " 'final.output.concentrate_pb',\n",
       " 'final.output.concentrate_sol',\n",
       " 'final.output.recovery',\n",
       " 'final.output.tail_ag',\n",
       " 'final.output.tail_au',\n",
       " 'final.output.tail_pb',\n",
       " 'final.output.tail_sol',\n",
       " 'primary_cleaner.output.concentrate_ag',\n",
       " 'primary_cleaner.output.concentrate_au',\n",
       " 'primary_cleaner.output.concentrate_pb',\n",
       " 'primary_cleaner.output.concentrate_sol',\n",
       " 'primary_cleaner.output.tail_ag',\n",
       " 'primary_cleaner.output.tail_au',\n",
       " 'primary_cleaner.output.tail_pb',\n",
       " 'primary_cleaner.output.tail_sol',\n",
       " 'rougher.calculation.au_pb_ratio',\n",
       " 'rougher.calculation.floatbank10_sulfate_to_au_feed',\n",
       " 'rougher.calculation.floatbank11_sulfate_to_au_feed',\n",
       " 'rougher.calculation.sulfate_to_au_concentrate',\n",
       " 'rougher.output.concentrate_ag',\n",
       " 'rougher.output.concentrate_au',\n",
       " 'rougher.output.concentrate_pb',\n",
       " 'rougher.output.concentrate_sol',\n",
       " 'rougher.output.recovery',\n",
       " 'rougher.output.tail_ag',\n",
       " 'rougher.output.tail_au',\n",
       " 'rougher.output.tail_pb',\n",
       " 'rougher.output.tail_sol',\n",
       " 'secondary_cleaner.output.tail_ag',\n",
       " 'secondary_cleaner.output.tail_au',\n",
       " 'secondary_cleaner.output.tail_pb',\n",
       " 'secondary_cleaner.output.tail_sol'}"
      ]
     },
     "execution_count": 8,
     "metadata": {},
     "output_type": "execute_result"
    }
   ],
   "source": [
    "set(df_train.columns) - set(df_test.columns)"
   ]
  },
  {
   "cell_type": "markdown",
   "metadata": {},
   "source": [
    "*В тестовой выборке у нас нет признаков output (параметры продукта), так как это целевые признаки.  \n",
    "Так же в тестовой выборке нет признаков calculation (расчётные характеристики) для этапа rougher (флотация), скорее всего эти данные рассчитываются позднее.*"
   ]
  },
  {
   "cell_type": "markdown",
   "metadata": {},
   "source": [
    "* Проверим, что эффективность обогащения рассчитана правильно"
   ]
  },
  {
   "cell_type": "code",
   "execution_count": 9,
   "metadata": {},
   "outputs": [],
   "source": [
    "def recovery(C, F, T):\n",
    "    value = (((C * (F - T))) / (F * (C - T))) * 100\n",
    "    # Так как в данных имеются пропуски, наша функция может выдать ошибочное значение. \n",
    "    # Отсечем эти случаи, ограничив recovery в промежутке от 0 до 100.\n",
    "    value[value<0] = np.nan\n",
    "    value[value>100] = np.nan\n",
    "    return value"
   ]
  },
  {
   "cell_type": "markdown",
   "metadata": {},
   "source": [
    "Вычислим эффективность на обучающей выборке для признака rougher.output.recovery. Найдем MAE между нашими расчётами и значением признака."
   ]
  },
  {
   "cell_type": "code",
   "execution_count": 10,
   "metadata": {},
   "outputs": [
    {
     "data": {
      "text/plain": [
       "2.0435431534920925e-28"
      ]
     },
     "execution_count": 10,
     "metadata": {},
     "output_type": "execute_result"
    }
   ],
   "source": [
    "# Зададим необходимые переменные\n",
    "C = df_train['rougher.output.concentrate_au']\n",
    "F = df_train['rougher.input.feed_au']\n",
    "T = df_train['rougher.output.tail_au']\n",
    "recovery_real = df_train['rougher.output.recovery']\n",
    "\n",
    "# Откинем все NaN, для оценки среднеквадратичной ошибки\n",
    "mean_squared_error(recovery_real.dropna(), recovery(C, F, T).dropna())"
   ]
  },
  {
   "cell_type": "markdown",
   "metadata": {},
   "source": [
    "*Среднеквадратичная ошибка очень маленькая. Следовательно можно сделать вывод, что наша функция эффективности обогащения работает корректно.*"
   ]
  },
  {
   "cell_type": "markdown",
   "metadata": {},
   "source": [
    "* Проведём предобработку данных"
   ]
  },
  {
   "cell_type": "markdown",
   "metadata": {},
   "source": [
    "Для удобства дальнейшей работы, индексируем наши данные по столбцу даты."
   ]
  },
  {
   "cell_type": "code",
   "execution_count": 11,
   "metadata": {},
   "outputs": [],
   "source": [
    "df_train.index = pd.DatetimeIndex(df_train['date'])\n",
    "df_train = df_train.drop(['date'], axis=1)\n",
    "\n",
    "df_test.index = pd.DatetimeIndex(df_test['date'])\n",
    "df_test = df_test.drop(['date'], axis=1)\n",
    "\n",
    "df_full.index = pd.DatetimeIndex(df_full['date'])\n",
    "df_full = df_full.drop(['date'], axis=1)"
   ]
  },
  {
   "cell_type": "markdown",
   "metadata": {},
   "source": [
    "Обработаем пропуски. \n",
    "\n",
    "Из условий проекта нам известно, что данные индексируются датой и временем получения информации (признак date). Соседние по времени параметры часто похожи. Поэтому для замены пропусков мы воспользуемся методом 'ffill'."
   ]
  },
  {
   "cell_type": "code",
   "execution_count": 12,
   "metadata": {},
   "outputs": [],
   "source": [
    "df_train = df_train.fillna(method='ffill')\n",
    "df_test = df_test.fillna(method='ffill')\n",
    "df_full = df_full.fillna(method='ffill')"
   ]
  },
  {
   "cell_type": "markdown",
   "metadata": {},
   "source": [
    "Проверим остались ли пропуски в наших данных"
   ]
  },
  {
   "cell_type": "code",
   "execution_count": 13,
   "metadata": {},
   "outputs": [
    {
     "data": {
      "text/plain": [
       "(0, 0, 0)"
      ]
     },
     "execution_count": 13,
     "metadata": {},
     "output_type": "execute_result"
    }
   ],
   "source": [
    "df_train.isna().sum().sum(), df_test.isna().sum().sum(), df_full.isna().sum().sum()"
   ]
  },
  {
   "cell_type": "markdown",
   "metadata": {},
   "source": [
    "*Пропуски отсутствуют, можно переходить к следующему этапу.*"
   ]
  },
  {
   "cell_type": "markdown",
   "metadata": {},
   "source": [
    "## Анализ данных"
   ]
  },
  {
   "cell_type": "markdown",
   "metadata": {},
   "source": [
    "* Посмотрим, как меняется концентрация металлов (Au, Ag, Pb) на различных этапах очистки"
   ]
  },
  {
   "cell_type": "code",
   "execution_count": 14,
   "metadata": {},
   "outputs": [
    {
     "name": "stdout",
     "output_type": "stream",
     "text": [
      "Концентрация металлов на разных стадиях обработки\n"
     ]
    },
    {
     "data": {
      "text/html": [
       "<div>\n",
       "<style scoped>\n",
       "    .dataframe tbody tr th:only-of-type {\n",
       "        vertical-align: middle;\n",
       "    }\n",
       "\n",
       "    .dataframe tbody tr th {\n",
       "        vertical-align: top;\n",
       "    }\n",
       "\n",
       "    .dataframe thead th {\n",
       "        text-align: right;\n",
       "    }\n",
       "</style>\n",
       "<table border=\"1\" class=\"dataframe\">\n",
       "  <thead>\n",
       "    <tr style=\"text-align: right;\">\n",
       "      <th></th>\n",
       "      <th>Au</th>\n",
       "      <th>Ag</th>\n",
       "      <th>Pb</th>\n",
       "    </tr>\n",
       "  </thead>\n",
       "  <tbody>\n",
       "    <tr>\n",
       "      <td>Исходное сырье</td>\n",
       "      <td>8.000</td>\n",
       "      <td>8.000</td>\n",
       "      <td>3.000</td>\n",
       "    </tr>\n",
       "    <tr>\n",
       "      <td>Флотация</td>\n",
       "      <td>17.832</td>\n",
       "      <td>10.846</td>\n",
       "      <td>6.887</td>\n",
       "    </tr>\n",
       "    <tr>\n",
       "      <td>Первая очистка</td>\n",
       "      <td>29.120</td>\n",
       "      <td>7.667</td>\n",
       "      <td>8.809</td>\n",
       "    </tr>\n",
       "    <tr>\n",
       "      <td>Вторая очистка</td>\n",
       "      <td>39.892</td>\n",
       "      <td>4.768</td>\n",
       "      <td>9.071</td>\n",
       "    </tr>\n",
       "  </tbody>\n",
       "</table>\n",
       "</div>"
      ],
      "text/plain": [
       "                    Au      Ag     Pb\n",
       "Исходное сырье   8.000   8.000  3.000\n",
       "Флотация        17.832  10.846  6.887\n",
       "Первая очистка  29.120   7.667  8.809\n",
       "Вторая очистка  39.892   4.768  9.071"
      ]
     },
     "metadata": {},
     "output_type": "display_data"
    },
    {
     "data": {
      "image/png": "[encoded data removed]",
      "text/plain": [
       "<Figure size 720x480 with 1 Axes>"
      ]
     },
     "metadata": {},
     "output_type": "display_data"
    }
   ],
   "source": [
    "au_1 = df_full['rougher.input.feed_au'].mean()\n",
    "au_2 = df_full['rougher.output.concentrate_au'].mean()\n",
    "au_3 = df_full['primary_cleaner.output.concentrate_au'].mean()\n",
    "au_4 = df_full['final.output.concentrate_au'].mean()\n",
    "\n",
    "ag_1 = df_full['rougher.input.feed_ag'].mean()\n",
    "ag_2 = df_full['rougher.output.concentrate_ag'].mean()\n",
    "ag_3 = df_full['primary_cleaner.output.concentrate_ag'].mean()\n",
    "ag_4 = df_full['final.output.concentrate_ag'].mean()\n",
    "\n",
    "pb_1 = df_full['rougher.input.feed_pb'].mean()\n",
    "pb_2 = df_full['rougher.output.concentrate_pb'].mean()\n",
    "pb_3 = df_full['primary_cleaner.output.concentrate_pb'].mean()\n",
    "pb_4 = df_full['final.output.concentrate_pb'].mean()\n",
    "\n",
    "concentration_index = pd.Series(['Исходное сырье', 'Флотация', 'Первая очистка', 'Вторая очистка'])\n",
    "concentration_data = {'Au': [round(au_1,0), round(au_2,3), round(au_3,3), round(au_4,3)],\\\n",
    "                 'Ag': [round(ag_1,0), round(ag_2,3), round(ag_3,3), round(ag_4,3)],\\\n",
    "                 'Pb': [round(pb_1,0), round(pb_2,3), round(pb_3,3), round(pb_4,3)]}\n",
    "\n",
    "concentration_df = pd.DataFrame(data = concentration_data).set_index(concentration_index)\n",
    "print('Концентрация металлов на разных стадиях обработки')\n",
    "display(concentration_df)\n",
    "\n",
    "plt.figure(num=None, figsize=(9, 6), dpi=80, facecolor='w', edgecolor='k')\n",
    "\n",
    "for metal in concentration_df.columns:\n",
    "    plt.plot(concentration_df.index.tolist(), concentration_df.loc[:, metal], 'o-')\n",
    "    \n",
    "plt.legend(concentration_df.columns)\n",
    "plt.grid()\n",
    "plt.xlabel('Этапы обработки')\n",
    "plt.ylabel('Концентрация металла')\n",
    "plt.show()"
   ]
  },
  {
   "cell_type": "markdown",
   "metadata": {},
   "source": [
    "*Концентрация золота повышается с каждым этапом. Цель флотации и очисток увеличить концентрацию золота.  \n",
    "Конецентрация серебра возрастает после флотации, а на последующих этапах понижается с каждым шагом очистки. Концентрация свинца не значительно повышается до этапа первой очистки, затем усредняется. Так как основным благородным металом является золото, то остальные металлы и соединения должны быть отфильтрованы.*"
   ]
  },
  {
   "cell_type": "markdown",
   "metadata": {},
   "source": [
    "* Сравним распределения размеров гранул сырья на обучающей и тестовой выборках"
   ]
  },
  {
   "cell_type": "code",
   "execution_count": 15,
   "metadata": {},
   "outputs": [
    {
     "data": {
      "image/png": "[encoded data removed]",
      "text/plain": [
       "<Figure size 576x360 with 1 Axes>"
      ]
     },
     "metadata": {
      "needs_background": "light"
     },
     "output_type": "display_data"
    }
   ],
   "source": [
    "fig = plt.figure(figsize=(8, 5))\n",
    "\n",
    "rougher_size_train = df_train['rougher.input.feed_size']\n",
    "rougher_size_test = df_test['rougher.input.feed_size']\n",
    "\n",
    "with sns.axes_style(\"white\"):\n",
    "    sns.kdeplot(rougher_size_train)\n",
    "    sns.kdeplot(rougher_size_test)\n",
    "    plt.legend(['train', 'test'])\n",
    "    plt.grid()\n",
    "    plt.title('Сравнение распределений размеров гранул исходного сырья')"
   ]
  },
  {
   "cell_type": "markdown",
   "metadata": {},
   "source": [
    "\n",
    "<div class=\"alert alert-warning\">\n",
    "<h1>Комментарий ревьюера <a class=\"tocSkip\"></a></h1>\n",
    "Стоило еще посмотреть на форму графиков без хвостов (выбросов)</div>"
   ]
  },
  {
   "cell_type": "markdown",
   "metadata": {},
   "source": [
    "Визуально распределения очень похожи.\n",
    "\n",
    "Проверим гипотезу о равенстве двух средних генеральных совокупностей."
   ]
  },
  {
   "cell_type": "code",
   "execution_count": 16,
   "metadata": {},
   "outputs": [
    {
     "name": "stdout",
     "output_type": "stream",
     "text": [
      "Дисперсия rougher_size_train: 931.61\n",
      "Дисперсия rougher_size_test: 515.65\n"
     ]
    }
   ],
   "source": [
    "# Сравним дисперсии выборок\n",
    "rougher_size_train_var = np.var(rougher_size_train, ddof=1)\n",
    "rougher_size_test_var = np.var(rougher_size_test, ddof=1)\n",
    "\n",
    "print('Дисперсия rougher_size_train:', round(rougher_size_train_var, 2))\n",
    "print('Дисперсия rougher_size_test:', round(rougher_size_test_var, 2))"
   ]
  },
  {
   "cell_type": "markdown",
   "metadata": {},
   "source": [
    "Дисперсии выборок не равны, поэтому зададим аргумент equal_var = False. Уровень значимости примем 5%."
   ]
  },
  {
   "cell_type": "code",
   "execution_count": 17,
   "metadata": {},
   "outputs": [
    {
     "name": "stdout",
     "output_type": "stream",
     "text": [
      "Распределения размеров гранул в двух выборках не отличаются\n"
     ]
    }
   ],
   "source": [
    "alpha = 0.05\n",
    "results = st.ttest_ind(rougher_size_train, rougher_size_test, equal_var=False)\n",
    "if (results.pvalue < alpha):\n",
    "    print(\"Распределения размеров гранул в двух выборках не отличаются\")\n",
    "else:\n",
    "    print(\"Распределения размеров гранул в двух выборках отличаются\")"
   ]
  },
  {
   "cell_type": "markdown",
   "metadata": {},
   "source": [
    "* Исследуем суммарную концентрацию всех веществ на разных стадиях: в сырье, в черновом и финальном концентратах. "
   ]
  },
  {
   "cell_type": "code",
   "execution_count": 18,
   "metadata": {},
   "outputs": [
    {
     "data": {
      "image/png": "[encoded data removed]",
      "text/plain": [
       "<Figure size 1008x432 with 1 Axes>"
      ]
     },
     "metadata": {
      "needs_background": "light"
     },
     "output_type": "display_data"
    }
   ],
   "source": [
    "# Вычислим суммарную концентрацию\n",
    "final_output_concentrate_sum_train = (df_train['final.output.concentrate_au'] + \n",
    "                                      df_train['final.output.concentrate_ag'] + \n",
    "                                      df_train['final.output.concentrate_pb'] +\n",
    "                                      df_train['final.output.concentrate_sol'])\n",
    "primary_cleaner_output_concentrate_sum_train = (df_train['primary_cleaner.output.concentrate_au'] + \n",
    "                                                df_train['primary_cleaner.output.concentrate_ag'] + \n",
    "                                                df_train['primary_cleaner.output.concentrate_pb'] +\n",
    "                                                df_train['primary_cleaner.output.concentrate_sol'])\n",
    "rougher_output_concentrate_sum_train = (df_train['rougher.output.concentrate_au'] + \n",
    "                                        df_train['rougher.output.concentrate_ag'] + \n",
    "                                        df_train['rougher.output.concentrate_pb'] +\n",
    "                                        df_train['rougher.output.concentrate_sol'])\n",
    "\n",
    "# Отобразим значения на графике\n",
    "plt.figure(figsize=[14,6])\n",
    "\n",
    "plt.hist(final_output_concentrate_sum_train, bins=100, label = 'final_output', alpha=.5)\n",
    "plt.hist(primary_cleaner_output_concentrate_sum_train, bins=100, label = 'primary_cleaner_output', alpha=.5)\n",
    "plt.hist(rougher_output_concentrate_sum_train, bins=100, label = 'rougher_output', alpha=.5)\n",
    "\n",
    "plt.xlim([0, 100])\n",
    "plt.ylim([0, 2100])\n",
    "\n",
    "plt.xlabel(\"Суммарная концентраця\")\n",
    "plt.ylabel(\"Количество результатов\")\n",
    "\n",
    "plt.legend(loc='upper left', fontsize='x-large')\n",
    "\n",
    "plt.title(\"Распределение суммарной концентрации веществ на разных этапах очистки\")\n",
    "plt.grid()\n",
    "plt.show()"
   ]
  },
  {
   "cell_type": "markdown",
   "metadata": {},
   "source": [
    "При анализе суммарной концентрации металлов на разных стадиях, мы видим что имеется большое количество нулевых значений. Пик нулевых значений очень далек от общего распределения, его следует удалить. "
   ]
  },
  {
   "cell_type": "code",
   "execution_count": 19,
   "metadata": {},
   "outputs": [],
   "source": [
    "# Создадим список из названия процессов производства\n",
    "processes = ['rougher.input.feed_', \n",
    "             'rougher.output.concentrate_', \n",
    "             'primary_cleaner.output.concentrate_', \n",
    "             'final.output.concentrate_']\n",
    "\n",
    "# Отдельно выделим тип металлов, чтобы потом соединить их с производственными процессами\n",
    "metals = ['au', 'pb', 'ag']\n",
    "\n",
    "# Удалим из обучающей и тестовой выборки нулевые значения\n",
    "for process in processes:\n",
    "    for metal in metals:\n",
    "        df_train = df_train.loc[df_train[process+metal] != 0]\n",
    "        if process==processes[0]:\n",
    "            df_test = df_test.loc[df_test[process+metal] != 0]"
   ]
  },
  {
   "cell_type": "markdown",
   "metadata": {},
   "source": [
    "Посмотрим на получившиеся размеры датасетов"
   ]
  },
  {
   "cell_type": "code",
   "execution_count": 20,
   "metadata": {},
   "outputs": [
    {
     "data": {
      "text/plain": [
       "((14973, 86), (5485, 52))"
      ]
     },
     "execution_count": 20,
     "metadata": {},
     "output_type": "execute_result"
    }
   ],
   "source": [
    "df_train.shape, df_test.shape"
   ]
  },
  {
   "cell_type": "markdown",
   "metadata": {},
   "source": [
    "Размеры выборок сократились. Взглянем ещё раз на суммарную концентрацию веществ"
   ]
  },
  {
   "cell_type": "code",
   "execution_count": 21,
   "metadata": {},
   "outputs": [
    {
     "data": {
      "image/png": "[encoded data removed]",
      "text/plain": [
       "<Figure size 1008x432 with 1 Axes>"
      ]
     },
     "metadata": {
      "needs_background": "light"
     },
     "output_type": "display_data"
    }
   ],
   "source": [
    "# Вычислим суммарную концентрацию\n",
    "final_output_concentrate_sum_train = (df_train['final.output.concentrate_au'] + \n",
    "                                      df_train['final.output.concentrate_ag'] + \n",
    "                                      df_train['final.output.concentrate_pb'] +\n",
    "                                      df_train['final.output.concentrate_sol'])\n",
    "primary_cleaner_output_concentrate_sum_train = (df_train['primary_cleaner.output.concentrate_au'] + \n",
    "                                                df_train['primary_cleaner.output.concentrate_ag'] + \n",
    "                                                df_train['primary_cleaner.output.concentrate_pb'] +\n",
    "                                                df_train['primary_cleaner.output.concentrate_sol'])\n",
    "rougher_output_concentrate_sum_train = (df_train['rougher.output.concentrate_au'] + \n",
    "                                        df_train['rougher.output.concentrate_ag'] + \n",
    "                                        df_train['rougher.output.concentrate_pb'] +\n",
    "                                        df_train['rougher.output.concentrate_sol'])\n",
    "\n",
    "# Отобразим значения на графике\n",
    "plt.figure(figsize=[14,6])\n",
    "\n",
    "plt.hist(final_output_concentrate_sum_train, bins=100, label = 'final_output', alpha=.5)\n",
    "plt.hist(primary_cleaner_output_concentrate_sum_train, bins=100, label = 'primary_cleaner_output', alpha=.5)\n",
    "plt.hist(rougher_output_concentrate_sum_train, bins=100, label = 'rougher_output', alpha=.5)\n",
    "\n",
    "plt.xlim([0, 100])\n",
    "plt.ylim([0, 2100])\n",
    "\n",
    "plt.xlabel(\"Суммарная концентраця\")\n",
    "plt.ylabel(\"Количество результатов\")\n",
    "\n",
    "plt.legend(loc='upper left', fontsize='x-large')\n",
    "\n",
    "plt.title(\"График распределения суммарной концентрации веществ (после удаления аномалий)\")\n",
    "plt.grid()\n",
    "plt.show()"
   ]
  },
  {
   "cell_type": "markdown",
   "metadata": {},
   "source": [
    "Видим, что количество нулевых значений значительно сократилось.  \n",
    "Оставшиеся значения, близкие к 0, оставим без изменений, так как неизвестна их природа, возможно, они часть реального производственного процесса."
   ]
  },
  {
   "cell_type": "markdown",
   "metadata": {},
   "source": [
    "## Модель"
   ]
  },
  {
   "cell_type": "markdown",
   "metadata": {},
   "source": [
    "* Напишем функцию для вычисления sMAPE и итоговой sMAPE"
   ]
  },
  {
   "cell_type": "code",
   "execution_count": 22,
   "metadata": {},
   "outputs": [],
   "source": [
    "def smape(target, pred):\n",
    "    return 1/len(target) * np.sum(2 * np.abs(target - pred) / (np.abs(target) + np.abs(pred))*100)"
   ]
  },
  {
   "cell_type": "code",
   "execution_count": 23,
   "metadata": {},
   "outputs": [],
   "source": [
    "def smape_final(rougher, final):\n",
    "    return 0.25 * rougher + 0.75 * final"
   ]
  },
  {
   "cell_type": "code",
   "execution_count": 24,
   "metadata": {},
   "outputs": [],
   "source": [
    "scorer = make_scorer(smape, greater_is_better=True)"
   ]
  },
  {
   "cell_type": "markdown",
   "metadata": {},
   "source": [
    "Разделим данные на target и features, а так же масштабируем признаки."
   ]
  },
  {
   "cell_type": "code",
   "execution_count": 25,
   "metadata": {},
   "outputs": [],
   "source": [
    "features = df_test.columns.values\n",
    "features_train = df_train[features].reset_index(drop=True)\n",
    "features_test = df_test\n",
    "\n",
    "target_train_r = df_train['rougher.output.recovery']\n",
    "target_train_f = df_train['final.output.recovery']"
   ]
  },
  {
   "cell_type": "code",
   "execution_count": 26,
   "metadata": {},
   "outputs": [],
   "source": [
    "scaler = StandardScaler()\n",
    "scaler.fit(features_train)\n",
    "\n",
    "features_train = scaler.transform(features_train)\n",
    "features_test = scaler.transform(features_test)"
   ]
  },
  {
   "cell_type": "markdown",
   "metadata": {},
   "source": [
    "* Обучим модели и оценим их качество кросс-валидацией"
   ]
  },
  {
   "cell_type": "markdown",
   "metadata": {},
   "source": [
    "**DecisionTreeRegressor**"
   ]
  },
  {
   "cell_type": "code",
   "execution_count": 27,
   "metadata": {},
   "outputs": [
    {
     "data": {
      "application/vnd.jupyter.widget-view+json": {
       "model_id": "281aa8ef21a7492092ec1409e3578008",
       "version_major": 2,
       "version_minor": 0
      },
      "text/plain": [
       "HBox(children=(FloatProgress(value=0.0, max=8.0), HTML(value='')))"
      ]
     },
     "metadata": {},
     "output_type": "display_data"
    },
    {
     "name": "stdout",
     "output_type": "stream",
     "text": [
      "\n",
      "Итоговое sMAPE 10.053 при max_depth = 2\n"
     ]
    }
   ],
   "source": [
    "sMAPE_best = 100\n",
    "for depth in tqdm(range(2, 10)):\n",
    "    model_one = DecisionTreeRegressor(random_state=42, max_depth=depth)\n",
    "    cvs_r = cross_val_score(model_one, features_train, target_train_r, scoring=scorer, cv=5).mean()\n",
    "    cvs_f = cross_val_score(model_one, features_train, target_train_f, scoring=scorer, cv=5).mean()\n",
    "    sMAPE = smape_final(cvs_r,cvs_f)\n",
    "    if sMAPE < sMAPE_best:\n",
    "        sMAPE_best = round(sMAPE, 3)\n",
    "        best_depth = depth\n",
    "print('Итоговое sMAPE', sMAPE_best, 'при max_depth =', best_depth)"
   ]
  },
  {
   "cell_type": "markdown",
   "metadata": {},
   "source": [
    "**RandomForestRegressor**"
   ]
  },
  {
   "cell_type": "code",
   "execution_count": 28,
   "metadata": {},
   "outputs": [
    {
     "data": {
      "application/vnd.jupyter.widget-view+json": {
       "model_id": "e0247527a7c14989a0438e489519888d",
       "version_major": 2,
       "version_minor": 0
      },
      "text/plain": [
       "HBox(children=(FloatProgress(value=0.0, max=8.0), HTML(value='')))"
      ]
     },
     "metadata": {},
     "output_type": "display_data"
    },
    {
     "name": "stdout",
     "output_type": "stream",
     "text": [
      "\n",
      "Итоговое sMAPE 9.648 при max_depth = 5 и n_estimators = 9\n"
     ]
    }
   ],
   "source": [
    "sMAPE_best = 100\n",
    "for depth in tqdm(range(2, 10)):\n",
    "    for est in range(2, 10):\n",
    "        model_two = RandomForestRegressor(random_state=42, max_depth=depth, n_estimators=est)\n",
    "        cvs_r = cross_val_score(model_two, features_train, target_train_r, scoring=scorer, cv=5).mean()\n",
    "        cvs_f = cross_val_score(model_two, features_train, target_train_f, scoring=scorer, cv=5).mean()\n",
    "        sMAPE = smape_final(cvs_r,cvs_f)\n",
    "        if sMAPE < sMAPE_best:\n",
    "            sMAPE_best = round(sMAPE, 3)\n",
    "            best_depth = depth\n",
    "            best_est = est\n",
    "print('Итоговое sMAPE', sMAPE_best, \"при max_depth =\", best_depth, \"и n_estimators =\", best_est)  "
   ]
  },
  {
   "cell_type": "markdown",
   "metadata": {},
   "source": [
    "**LinearRegression**"
   ]
  },
  {
   "cell_type": "code",
   "execution_count": 29,
   "metadata": {},
   "outputs": [
    {
     "name": "stdout",
     "output_type": "stream",
     "text": [
      "Итоговое sMAPE 11.826\n"
     ]
    }
   ],
   "source": [
    "model_three = LinearRegression()\n",
    "\n",
    "cvs_r = cross_val_score(model_three, features_train, target_train_r, scoring=scorer, cv=5).mean()\n",
    "cvs_f = cross_val_score(model_three, features_train, target_train_f, scoring=scorer, cv=5).mean()\n",
    "sMAPE = smape_final(cvs_r,cvs_f)\n",
    "print('Итоговое sMAPE', round(sMAPE, 3)) "
   ]
  },
  {
   "cell_type": "code",
   "execution_count": 30,
   "metadata": {},
   "outputs": [
    {
     "name": "stdout",
     "output_type": "stream",
     "text": [
      "Итоговое sMAPE 11.826\n"
     ]
    }
   ],
   "source": [
    "model_three_normalized = LinearRegression(normalize=True)\n",
    "\n",
    "cvs_r = cross_val_score(model_three_normalized, features_train, target_train_r, scoring=scorer, cv=5).mean()\n",
    "cvs_f = cross_val_score(model_three_normalized, features_train, target_train_f, scoring=scorer, cv=5).mean()\n",
    "sMAPE = smape_final(cvs_r,cvs_f)\n",
    "print('Итоговое sMAPE', round(sMAPE, 3))"
   ]
  },
  {
   "cell_type": "markdown",
   "metadata": {},
   "source": [
    "**CatBoostRegressor**"
   ]
  },
  {
   "cell_type": "code",
   "execution_count": 31,
   "metadata": {},
   "outputs": [
    {
     "name": "stdout",
     "output_type": "stream",
     "text": [
      "0:\tlearn: 9.2776877\ttotal: 57.6ms\tremaining: 17.2s\n",
      "100:\tlearn: 6.2874588\ttotal: 7.95s\tremaining: 15.7s\n",
      "200:\tlearn: 5.6945647\ttotal: 15.4s\tremaining: 7.58s\n",
      "299:\tlearn: 5.3169242\ttotal: 22.7s\tremaining: 0us\n",
      "0:\tlearn: 9.6937337\ttotal: 16.9ms\tremaining: 5.04s\n",
      "100:\tlearn: 6.5812268\ttotal: 7.93s\tremaining: 15.6s\n",
      "200:\tlearn: 5.9527793\ttotal: 15.5s\tremaining: 7.62s\n",
      "299:\tlearn: 5.5545354\ttotal: 23.1s\tremaining: 0us\n",
      "0:\tlearn: 9.8062380\ttotal: 21.5ms\tremaining: 6.42s\n",
      "100:\tlearn: 6.3392501\ttotal: 7.84s\tremaining: 15.4s\n",
      "200:\tlearn: 5.6938612\ttotal: 15.6s\tremaining: 7.67s\n",
      "299:\tlearn: 5.2958303\ttotal: 23.6s\tremaining: 0us\n",
      "0:\tlearn: 9.2215080\ttotal: 8.57ms\tremaining: 2.56s\n",
      "100:\tlearn: 6.0967029\ttotal: 7.71s\tremaining: 15.2s\n",
      "200:\tlearn: 5.5155072\ttotal: 15.1s\tremaining: 7.46s\n",
      "299:\tlearn: 5.1480391\ttotal: 22.3s\tremaining: 0us\n",
      "0:\tlearn: 9.3446765\ttotal: 12.5ms\tremaining: 3.74s\n",
      "100:\tlearn: 6.3923109\ttotal: 7.56s\tremaining: 14.9s\n",
      "200:\tlearn: 5.8455701\ttotal: 15s\tremaining: 7.39s\n",
      "299:\tlearn: 5.4457130\ttotal: 22.6s\tremaining: 0us\n",
      "0:\tlearn: 11.2248078\ttotal: 7.58ms\tremaining: 2.26s\n",
      "100:\tlearn: 7.5166166\ttotal: 7.75s\tremaining: 15.3s\n",
      "200:\tlearn: 6.9561295\ttotal: 15.3s\tremaining: 7.54s\n",
      "299:\tlearn: 6.5577306\ttotal: 22.9s\tremaining: 0us\n",
      "0:\tlearn: 11.5963916\ttotal: 8ms\tremaining: 2.39s\n",
      "100:\tlearn: 7.7405163\ttotal: 7.82s\tremaining: 15.4s\n",
      "200:\tlearn: 7.1899467\ttotal: 15.5s\tremaining: 7.61s\n",
      "299:\tlearn: 6.8013464\ttotal: 22.8s\tremaining: 0us\n",
      "0:\tlearn: 11.1248697\ttotal: 7.56ms\tremaining: 2.26s\n",
      "100:\tlearn: 7.4193904\ttotal: 7.54s\tremaining: 14.9s\n",
      "200:\tlearn: 6.8523044\ttotal: 14.9s\tremaining: 7.36s\n",
      "299:\tlearn: 6.4685066\ttotal: 22.5s\tremaining: 0us\n",
      "0:\tlearn: 10.7769351\ttotal: 34.1ms\tremaining: 10.2s\n",
      "100:\tlearn: 7.5269493\ttotal: 8.23s\tremaining: 16.2s\n",
      "200:\tlearn: 6.8941132\ttotal: 17.7s\tremaining: 8.72s\n",
      "299:\tlearn: 6.4800803\ttotal: 25.7s\tremaining: 0us\n",
      "0:\tlearn: 9.9779603\ttotal: 9.07ms\tremaining: 2.71s\n",
      "100:\tlearn: 6.9810015\ttotal: 7.69s\tremaining: 15.2s\n",
      "200:\tlearn: 6.3760583\ttotal: 15.2s\tremaining: 7.49s\n",
      "299:\tlearn: 5.9976156\ttotal: 22.9s\tremaining: 0us\n",
      "Итоговое sMAPE 9.606\n"
     ]
    }
   ],
   "source": [
    "cat_model = CatBoostRegressor(iterations=300, verbose=100, early_stopping_rounds=100, random_state=42)\n",
    "\n",
    "cvs_r = cross_val_score(cat_model, features_train, target_train_r, scoring=scorer, cv=5).mean()\n",
    "cvs_f = cross_val_score(cat_model, features_train, target_train_f, scoring=scorer, cv=5).mean()\n",
    "sMAPE = smape_final(cvs_r,cvs_f)\n",
    "print('Итоговое sMAPE', round(sMAPE, 3))"
   ]
  },
  {
   "cell_type": "markdown",
   "metadata": {},
   "source": [
    "**Из всех моделей CatBoostRegressor показал наилучший результат.**"
   ]
  },
  {
   "cell_type": "markdown",
   "metadata": {},
   "source": [
    "* Используем модель CatBoostRegressor для обучения и проверим её на тестовой выборке."
   ]
  },
  {
   "cell_type": "code",
   "execution_count": 32,
   "metadata": {},
   "outputs": [
    {
     "name": "stdout",
     "output_type": "stream",
     "text": [
      "0:\tlearn: 9.5098032\ttotal: 9.77ms\tremaining: 2.92s\n",
      "100:\tlearn: 6.4657511\ttotal: 8.01s\tremaining: 15.8s\n",
      "200:\tlearn: 5.9019544\ttotal: 15.9s\tremaining: 7.83s\n",
      "299:\tlearn: 5.5310078\ttotal: 23.6s\tremaining: 0us\n"
     ]
    },
    {
     "data": {
      "text/plain": [
       "array([86.58639165, 86.26339545, 86.54632566, ..., 91.16419199,\n",
       "       91.31852286, 91.22247986])"
      ]
     },
     "execution_count": 32,
     "metadata": {},
     "output_type": "execute_result"
    }
   ],
   "source": [
    "cat_model_r = CatBoostRegressor(iterations=300, verbose=100, early_stopping_rounds=100, random_state=42)\n",
    "cat_model_r.fit(features_train, target_train_r)\n",
    "predicted_r = cat_model_r.predict(features_test)\n",
    "predicted_r"
   ]
  },
  {
   "cell_type": "code",
   "execution_count": 33,
   "metadata": {},
   "outputs": [
    {
     "name": "stdout",
     "output_type": "stream",
     "text": [
      "0:\tlearn: 10.9839062\ttotal: 8.42ms\tremaining: 2.52s\n",
      "100:\tlearn: 7.5822953\ttotal: 7.77s\tremaining: 15.3s\n",
      "200:\tlearn: 7.0200999\ttotal: 15.5s\tremaining: 7.63s\n",
      "299:\tlearn: 6.6601177\ttotal: 23.4s\tremaining: 0us\n"
     ]
    },
    {
     "data": {
      "text/plain": [
       "array([68.03406058, 67.54198279, 67.47493174, ..., 72.082989  ,\n",
       "       72.51258082, 72.84842878])"
      ]
     },
     "execution_count": 33,
     "metadata": {},
     "output_type": "execute_result"
    }
   ],
   "source": [
    "cat_model_f = CatBoostRegressor(iterations=300, verbose=100,early_stopping_rounds=100, random_state=12345)\n",
    "cat_model_f.fit(features_train, target_train_f)\n",
    "predicted_f = cat_model_f.predict(features_test)\n",
    "predicted_f"
   ]
  },
  {
   "cell_type": "markdown",
   "metadata": {},
   "source": [
    "Возьмем из полного датафрейма значения 'rougher.output.recovery' и 'final.output.recovery' для того, что бы узнать sMAPE"
   ]
  },
  {
   "cell_type": "code",
   "execution_count": 34,
   "metadata": {},
   "outputs": [],
   "source": [
    "target_test_df_r = df_full[df_full.index.isin(df_test.index)]['rougher.output.recovery']\n",
    "target_test_df_f = df_full[df_full.index.isin(df_test.index)]['final.output.recovery']"
   ]
  },
  {
   "cell_type": "markdown",
   "metadata": {},
   "source": [
    "Подсчитаем итоговую sMAPE для тестовой выборки"
   ]
  },
  {
   "cell_type": "code",
   "execution_count": 35,
   "metadata": {},
   "outputs": [
    {
     "name": "stdout",
     "output_type": "stream",
     "text": [
      "Значение итоговой sMAPE для тестовой выборки: 10.022\n"
     ]
    }
   ],
   "source": [
    "r_smape = smape(target_test_df_r, predicted_r)\n",
    "f_smape = smape(target_test_df_f, predicted_f)\n",
    "print('Значение итоговой sMAPE для тестовой выборки:', round(smape_final(r_smape, f_smape), 3))"
   ]
  },
  {
   "cell_type": "markdown",
   "metadata": {},
   "source": [
    "* Сделаем сравнение нашей модели с константными моделями"
   ]
  },
  {
   "cell_type": "code",
   "execution_count": 36,
   "metadata": {},
   "outputs": [],
   "source": [
    "const_mean = DummyRegressor(strategy=\"mean\")\n",
    "const_median = DummyRegressor(strategy=\"median\")"
   ]
  },
  {
   "cell_type": "code",
   "execution_count": 37,
   "metadata": {},
   "outputs": [
    {
     "name": "stdout",
     "output_type": "stream",
     "text": [
      "Значение итоговой sMAPE по константному среднему: 10.727\n"
     ]
    }
   ],
   "source": [
    "const_mean.fit(features_train, target_train_r)\n",
    "preds_rough = const_mean.predict(features_test)\n",
    "const_mean.fit(features_train, target_train_f)\n",
    "preds_final = const_mean.predict(features_test)\n",
    "\n",
    "r_smape = smape(target_test_df_r, preds_rough)\n",
    "f_smape = smape(target_test_df_f, preds_final)\n",
    "\n",
    "print('Значение итоговой sMAPE по константному среднему:', round(smape_final(r_smape, f_smape), 3))"
   ]
  },
  {
   "cell_type": "code",
   "execution_count": 38,
   "metadata": {},
   "outputs": [
    {
     "name": "stdout",
     "output_type": "stream",
     "text": [
      "Значение итоговой sMAPE по константному медианному: 10.504\n"
     ]
    }
   ],
   "source": [
    "const_median.fit(features_train, target_train_r)\n",
    "preds_rough = const_median.predict(features_test)\n",
    "const_median.fit(features_train, target_train_f)\n",
    "preds_final = const_median.predict(features_test)\n",
    "\n",
    "r_smape = smape(target_test_df_r, preds_rough)\n",
    "f_smape = smape(target_test_df_f, preds_final)\n",
    "\n",
    "print('Значение итоговой sMAPE по константному медианному:', round(smape_final(r_smape, f_smape), 3))"
   ]
  },
  {
   "cell_type": "markdown",
   "metadata": {},
   "source": [
    "*Значение итоговой sMAPE у константной модели получилось хуже, чем у выбранной нами. Следовательно наша модель лучше константной.*"
   ]
  },
  {
   "cell_type": "code",
   "execution_count": 40,
   "metadata": {},
   "outputs": [
    {
     "name": "stdout",
     "output_type": "stream",
     "text": [
      "Значение итоговой sMAPE у разных моделей\n"
     ]
    },
    {
     "data": {
      "text/html": [
       "<div>\n",
       "<style scoped>\n",
       "    .dataframe tbody tr th:only-of-type {\n",
       "        vertical-align: middle;\n",
       "    }\n",
       "\n",
       "    .dataframe tbody tr th {\n",
       "        vertical-align: top;\n",
       "    }\n",
       "\n",
       "    .dataframe thead th {\n",
       "        text-align: right;\n",
       "    }\n",
       "</style>\n",
       "<table border=\"1\" class=\"dataframe\">\n",
       "  <thead>\n",
       "    <tr style=\"text-align: right;\">\n",
       "      <th></th>\n",
       "      <th>Итоговая sMAPE</th>\n",
       "    </tr>\n",
       "  </thead>\n",
       "  <tbody>\n",
       "    <tr>\n",
       "      <td>DecisionTree</td>\n",
       "      <td>10.053</td>\n",
       "    </tr>\n",
       "    <tr>\n",
       "      <td>RandomForest</td>\n",
       "      <td>9.648</td>\n",
       "    </tr>\n",
       "    <tr>\n",
       "      <td>LinearRegression</td>\n",
       "      <td>11.826</td>\n",
       "    </tr>\n",
       "    <tr>\n",
       "      <td>CatBoost</td>\n",
       "      <td>9.606</td>\n",
       "    </tr>\n",
       "    <tr>\n",
       "      <td>CatBoost (тест)</td>\n",
       "      <td>10.022</td>\n",
       "    </tr>\n",
       "    <tr>\n",
       "      <td>const_mean</td>\n",
       "      <td>10.727</td>\n",
       "    </tr>\n",
       "    <tr>\n",
       "      <td>const_median</td>\n",
       "      <td>10.504</td>\n",
       "    </tr>\n",
       "  </tbody>\n",
       "</table>\n",
       "</div>"
      ],
      "text/plain": [
       "                  Итоговая sMAPE\n",
       "DecisionTree              10.053\n",
       "RandomForest               9.648\n",
       "LinearRegression          11.826\n",
       "CatBoost                   9.606\n",
       "CatBoost (тест)           10.022\n",
       "const_mean                10.727\n",
       "const_median              10.504"
      ]
     },
     "metadata": {},
     "output_type": "display_data"
    }
   ],
   "source": [
    "smape_final_index = pd.Series(['DecisionTree', 'RandomForest', 'LinearRegression', 'CatBoost', \n",
    "                               'CatBoost (тест)', 'const_mean', 'const_median'])\n",
    "smape_final_data = {'Итоговая sMAPE': [10.053, 9.648, 11.826, 9.606, 10.022, 10.727, 10.504]}\n",
    "\n",
    "smape_final_df = pd.DataFrame(data = smape_final_data).set_index(smape_final_index)\n",
    "print('Значение итоговой sMAPE у разных моделей')\n",
    "display(smape_final_df)"
   ]
  },
  {
   "cell_type": "markdown",
   "metadata": {},
   "source": [
    "## Общий вывод"
   ]
  },
  {
   "cell_type": "markdown",
   "metadata": {},
   "source": [
    "В начале проекта мы проанализировали и обработали исходные данные. Далее, на основе обучающей выборки были построены модели: дерева решений, случайного леса, линейной регрессии и CatBoost. Качество моделей было проверено кросс-валидацией. Наилучшее значение целевой метрики показала модель **CatBoostRegressor**, со значением итоговой sМАРЕ 9.606.\n",
    "\n",
    "При проверке модели на тестовой выборке значение метрики ухудшилось. **Итоговое отклонение sМАРЕ составило 10.022**, что свидетельствует о небольшом переобучении модели."
   ]
  }
 ],
 "metadata": {
  "kernelspec": {
   "display_name": "Python 3 (ipykernel)",
   "language": "python",
   "name": "python3"
  },
  "language_info": {
   "codemirror_mode": {
    "name": "ipython",
    "version": 3
   },
   "file_extension": ".py",
   "mimetype": "text/x-python",
   "name": "python",
   "nbconvert_exporter": "python",
   "pygments_lexer": "ipython3",
   "version": "3.9.5"
  },
  "toc": {
   "base_numbering": 1,
   "nav_menu": {},
   "number_sections": true,
   "sideBar": true,
   "skip_h1_title": true,
   "title_cell": "Содержание",
   "title_sidebar": "Contents",
   "toc_cell": true,
   "toc_position": {},
   "toc_section_display": true,
   "toc_window_display": false
  }
 },
 "nbformat": 4,
 "nbformat_minor": 2
}
