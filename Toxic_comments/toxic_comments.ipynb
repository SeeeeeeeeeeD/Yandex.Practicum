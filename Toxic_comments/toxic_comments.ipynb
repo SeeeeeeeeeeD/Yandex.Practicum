{
 "cells": [
  {
   "cell_type": "markdown",
   "metadata": {},
   "source": [
    "# Проект для «Викишоп»"
   ]
  },
  {
   "cell_type": "markdown",
   "metadata": {},
   "source": [
    "Интернет-магазин «Викишоп» запускает новый сервис. Теперь пользователи могут редактировать и дополнять описания товаров, как в вики-сообществах. То есть клиенты предлагают свои правки и комментируют изменения других. Магазину нужен инструмент, который будет искать токсичные комментарии и отправлять их на модерацию. \n",
    "\n",
    "Обучите модель классифицировать комментарии на позитивные и негативные. В вашем распоряжении набор данных с разметкой о токсичности правок.\n",
    "\n",
    "Постройте модель со значением метрики качества *F1* не меньше 0.75. \n",
    "\n",
    "**Инструкция по выполнению проекта**\n",
    "\n",
    "1. Загрузите и подготовьте данные.\n",
    "2. Обучите разные модели. \n",
    "3. Сделайте выводы.\n",
    "\n",
    "Для выполнения проекта применять *BERT* необязательно, но вы можете попробовать.\n",
    "\n",
    "**Описание данных**\n",
    "\n",
    "Данные находятся в файле `toxic_comments.csv`. Столбец *text* в нём содержит текст комментария, а *toxic* — целевой признак."
   ]
  },
  {
   "cell_type": "markdown",
   "metadata": {},
   "source": [
    "## Подготовка"
   ]
  },
  {
   "cell_type": "markdown",
   "metadata": {},
   "source": [
    "* Импортируем необходимые библиотеки"
   ]
  },
  {
   "cell_type": "code",
   "execution_count": 1,
   "metadata": {},
   "outputs": [],
   "source": [
    "import pandas as pd\n",
    "import re\n",
    "\n",
    "import nltk\n",
    "from nltk.stem import WordNetLemmatizer\n",
    "from nltk.corpus import wordnet\n",
    "from nltk.corpus import stopwords\n",
    "\n",
    "from sklearn.model_selection import cross_val_score, train_test_split\n",
    "from sklearn.feature_extraction.text import TfidfVectorizer\n",
    "from sklearn.linear_model import LogisticRegression\n",
    "from sklearn.metrics import f1_score\n",
    "from sklearn.pipeline import Pipeline\n",
    "from sklearn.model_selection import GridSearchCV\n",
    "from sklearn.ensemble import RandomForestClassifier\n",
    "from sklearn.tree import DecisionTreeClassifier\n",
    "\n",
    "from catboost import CatBoostClassifier\n",
    "\n",
    "from tqdm import tqdm, tqdm_notebook, notebook\n",
    "import time\n",
    "\n",
    "import warnings\n",
    "warnings.filterwarnings('ignore')"
   ]
  },
  {
   "cell_type": "markdown",
   "metadata": {},
   "source": [
    "* Прочитаем предоставленные данные и сделаем первичный анализ"
   ]
  },
  {
   "cell_type": "code",
   "execution_count": 2,
   "metadata": {},
   "outputs": [
    {
     "data": {
      "text/html": [
       "<div>\n",
       "<style scoped>\n",
       "    .dataframe tbody tr th:only-of-type {\n",
       "        vertical-align: middle;\n",
       "    }\n",
       "\n",
       "    .dataframe tbody tr th {\n",
       "        vertical-align: top;\n",
       "    }\n",
       "\n",
       "    .dataframe thead th {\n",
       "        text-align: right;\n",
       "    }\n",
       "</style>\n",
       "<table border=\"1\" class=\"dataframe\">\n",
       "  <thead>\n",
       "    <tr style=\"text-align: right;\">\n",
       "      <th></th>\n",
       "      <th>text</th>\n",
       "      <th>toxic</th>\n",
       "    </tr>\n",
       "  </thead>\n",
       "  <tbody>\n",
       "    <tr>\n",
       "      <td>0</td>\n",
       "      <td>Explanation\\nWhy the edits made under my usern...</td>\n",
       "      <td>0</td>\n",
       "    </tr>\n",
       "    <tr>\n",
       "      <td>1</td>\n",
       "      <td>D'aww! He matches this background colour I'm s...</td>\n",
       "      <td>0</td>\n",
       "    </tr>\n",
       "    <tr>\n",
       "      <td>2</td>\n",
       "      <td>Hey man, I'm really not trying to edit war. It...</td>\n",
       "      <td>0</td>\n",
       "    </tr>\n",
       "    <tr>\n",
       "      <td>3</td>\n",
       "      <td>\"\\nMore\\nI can't make any real suggestions on ...</td>\n",
       "      <td>0</td>\n",
       "    </tr>\n",
       "    <tr>\n",
       "      <td>4</td>\n",
       "      <td>You, sir, are my hero. Any chance you remember...</td>\n",
       "      <td>0</td>\n",
       "    </tr>\n",
       "  </tbody>\n",
       "</table>\n",
       "</div>"
      ],
      "text/plain": [
       "                                                text  toxic\n",
       "0  Explanation\\nWhy the edits made under my usern...      0\n",
       "1  D'aww! He matches this background colour I'm s...      0\n",
       "2  Hey man, I'm really not trying to edit war. It...      0\n",
       "3  \"\\nMore\\nI can't make any real suggestions on ...      0\n",
       "4  You, sir, are my hero. Any chance you remember...      0"
      ]
     },
     "execution_count": 2,
     "metadata": {},
     "output_type": "execute_result"
    }
   ],
   "source": [
    "data = pd.read_csv('/datasets/toxic_comments.csv')\n",
    "#data = data.sample(10000)\n",
    "data.head()"
   ]
  },
  {
   "cell_type": "code",
   "execution_count": 3,
   "metadata": {},
   "outputs": [
    {
     "name": "stdout",
     "output_type": "stream",
     "text": [
      "<class 'pandas.core.frame.DataFrame'>\n",
      "RangeIndex: 159571 entries, 0 to 159570\n",
      "Data columns (total 2 columns):\n",
      "text     159571 non-null object\n",
      "toxic    159571 non-null int64\n",
      "dtypes: int64(1), object(1)\n",
      "memory usage: 2.4+ MB\n"
     ]
    }
   ],
   "source": [
    "data.info()"
   ]
  },
  {
   "cell_type": "code",
   "execution_count": 4,
   "metadata": {},
   "outputs": [
    {
     "data": {
      "text/plain": [
       "0"
      ]
     },
     "execution_count": 4,
     "metadata": {},
     "output_type": "execute_result"
    }
   ],
   "source": [
    "data.duplicated().sum()"
   ]
  },
  {
   "cell_type": "markdown",
   "metadata": {},
   "source": [
    "Пропусков и дубликатов в данных нет."
   ]
  },
  {
   "cell_type": "code",
   "execution_count": 5,
   "metadata": {
    "scrolled": true
   },
   "outputs": [
    {
     "name": "stdout",
     "output_type": "stream",
     "text": [
      "Доля токсичных коментариев: 10.2%\n"
     ]
    }
   ],
   "source": [
    "print('Доля токсичных коментариев: {0:.1%}'.format(data['toxic'].mean()))"
   ]
  },
  {
   "cell_type": "markdown",
   "metadata": {},
   "source": [
    "Целевые классы несбалансированы."
   ]
  },
  {
   "cell_type": "markdown",
   "metadata": {},
   "source": [
    "* Обработаем текст с помощью регулярных выражений, а затем лемматизируем его"
   ]
  },
  {
   "cell_type": "code",
   "execution_count": 6,
   "metadata": {},
   "outputs": [
    {
     "name": "stderr",
     "output_type": "stream",
     "text": [
      "[nltk_data] Downloading package wordnet to /home/jovyan/nltk_data...\n",
      "[nltk_data]   Package wordnet is already up-to-date!\n"
     ]
    }
   ],
   "source": [
    "nltk.download('wordnet')\n",
    "\n",
    "m = WordNetLemmatizer()\n",
    "\n",
    "def clear_lemmatize(text):\n",
    "    re_list = re.sub(r\"[^a-zA-Z']\", ' ', text)\n",
    "    re_list = re_list.split()\n",
    "    re_list = \" \".join(re_list)\n",
    "    lemm_list = nltk.word_tokenize(re_list)\n",
    "    \n",
    "    return ' '.join(m.lemmatize(i, wordnet.VERB) for i in lemm_list)"
   ]
  },
  {
   "cell_type": "code",
   "execution_count": 7,
   "metadata": {},
   "outputs": [
    {
     "name": "stderr",
     "output_type": "stream",
     "text": [
      "100%|██████████| 159571/159571 [02:25<00:00, 1099.15it/s]"
     ]
    },
    {
     "name": "stdout",
     "output_type": "stream",
     "text": [
      "CPU times: user 2min 19s, sys: 2.63 s, total: 2min 22s\n",
      "Wall time: 2min 25s\n"
     ]
    },
    {
     "name": "stderr",
     "output_type": "stream",
     "text": [
      "\n"
     ]
    }
   ],
   "source": [
    "%%time\n",
    "\n",
    "tqdm.pandas()\n",
    "data['lemm_text'] = data['text'].progress_apply(clear_lemmatize)"
   ]
  },
  {
   "cell_type": "code",
   "execution_count": 8,
   "metadata": {
    "scrolled": true
   },
   "outputs": [
    {
     "data": {
      "text/html": [
       "<div>\n",
       "<style scoped>\n",
       "    .dataframe tbody tr th:only-of-type {\n",
       "        vertical-align: middle;\n",
       "    }\n",
       "\n",
       "    .dataframe tbody tr th {\n",
       "        vertical-align: top;\n",
       "    }\n",
       "\n",
       "    .dataframe thead th {\n",
       "        text-align: right;\n",
       "    }\n",
       "</style>\n",
       "<table border=\"1\" class=\"dataframe\">\n",
       "  <thead>\n",
       "    <tr style=\"text-align: right;\">\n",
       "      <th></th>\n",
       "      <th>text</th>\n",
       "      <th>toxic</th>\n",
       "      <th>lemm_text</th>\n",
       "    </tr>\n",
       "  </thead>\n",
       "  <tbody>\n",
       "    <tr>\n",
       "      <td>0</td>\n",
       "      <td>Explanation\\nWhy the edits made under my usern...</td>\n",
       "      <td>0</td>\n",
       "      <td>Explanation Why the edit make under my usernam...</td>\n",
       "    </tr>\n",
       "    <tr>\n",
       "      <td>1</td>\n",
       "      <td>D'aww! He matches this background colour I'm s...</td>\n",
       "      <td>0</td>\n",
       "      <td>D'aww He match this background colour I 'm see...</td>\n",
       "    </tr>\n",
       "    <tr>\n",
       "      <td>2</td>\n",
       "      <td>Hey man, I'm really not trying to edit war. It...</td>\n",
       "      <td>0</td>\n",
       "      <td>Hey man I 'm really not try to edit war It 's ...</td>\n",
       "    </tr>\n",
       "    <tr>\n",
       "      <td>3</td>\n",
       "      <td>\"\\nMore\\nI can't make any real suggestions on ...</td>\n",
       "      <td>0</td>\n",
       "      <td>More I ca n't make any real suggestions on imp...</td>\n",
       "    </tr>\n",
       "    <tr>\n",
       "      <td>4</td>\n",
       "      <td>You, sir, are my hero. Any chance you remember...</td>\n",
       "      <td>0</td>\n",
       "      <td>You sir be my hero Any chance you remember wha...</td>\n",
       "    </tr>\n",
       "  </tbody>\n",
       "</table>\n",
       "</div>"
      ],
      "text/plain": [
       "                                                text  toxic  \\\n",
       "0  Explanation\\nWhy the edits made under my usern...      0   \n",
       "1  D'aww! He matches this background colour I'm s...      0   \n",
       "2  Hey man, I'm really not trying to edit war. It...      0   \n",
       "3  \"\\nMore\\nI can't make any real suggestions on ...      0   \n",
       "4  You, sir, are my hero. Any chance you remember...      0   \n",
       "\n",
       "                                           lemm_text  \n",
       "0  Explanation Why the edit make under my usernam...  \n",
       "1  D'aww He match this background colour I 'm see...  \n",
       "2  Hey man I 'm really not try to edit war It 's ...  \n",
       "3  More I ca n't make any real suggestions on imp...  \n",
       "4  You sir be my hero Any chance you remember wha...  "
      ]
     },
     "execution_count": 8,
     "metadata": {},
     "output_type": "execute_result"
    }
   ],
   "source": [
    "data.head()"
   ]
  },
  {
   "cell_type": "markdown",
   "metadata": {},
   "source": [
    "* Разделим выборки"
   ]
  },
  {
   "cell_type": "markdown",
   "metadata": {},
   "source": [
    "Разделим целевые значения и признаки"
   ]
  },
  {
   "cell_type": "code",
   "execution_count": 9,
   "metadata": {},
   "outputs": [],
   "source": [
    "x = data['lemm_text']\n",
    "y = data['toxic']"
   ]
  },
  {
   "cell_type": "markdown",
   "metadata": {},
   "source": [
    "Выполним разделение на тестовые, валидационные и тренировочные данные"
   ]
  },
  {
   "cell_type": "code",
   "execution_count": 10,
   "metadata": {},
   "outputs": [],
   "source": [
    "X_train, X_test, y_train, y_test = train_test_split(x, y, test_size=0.2, random_state=42)\n",
    "X_valid, X_test, y_valid, y_test = train_test_split(X_test, y_test, test_size=0.5, random_state=42)"
   ]
  },
  {
   "cell_type": "code",
   "execution_count": 11,
   "metadata": {},
   "outputs": [
    {
     "name": "stdout",
     "output_type": "stream",
     "text": [
      "Размер тренировочной выборки- 80%\n",
      "Размер валидационной выборки - 10%\n",
      "Размер тестовой выборки - 10%\n"
     ]
    }
   ],
   "source": [
    "print('Размер тренировочной выборки- {:.0%}'.format(X_train.shape[0]/x.shape[0]))\n",
    "print('Размер валидационной выборки - {:.0%}'.format(X_valid.shape[0]/x.shape[0]))\n",
    "print('Размер тестовой выборки - {:.0%}'.format(X_test.shape[0]/x.shape[0]))"
   ]
  },
  {
   "cell_type": "markdown",
   "metadata": {},
   "source": [
    "* Выполним векторизацию счетчика слов с учетом обработки стоп слов"
   ]
  },
  {
   "cell_type": "code",
   "execution_count": 12,
   "metadata": {},
   "outputs": [],
   "source": [
    "stopwords = set(stopwords.words('english'))\n",
    "count_tf_idf = TfidfVectorizer(stop_words = stopwords)\n",
    "X_train = count_tf_idf.fit_transform(X_train)"
   ]
  },
  {
   "cell_type": "markdown",
   "metadata": {},
   "source": [
    "Лишние символы убраны, комментарии лемматизированы, текст преобразован в векторный вид. Можно переходить к обучению моделей."
   ]
  },
  {
   "cell_type": "markdown",
   "metadata": {},
   "source": [
    "## Обучение"
   ]
  },
  {
   "cell_type": "markdown",
   "metadata": {},
   "source": [
    "* DecisionTreeClassifier"
   ]
  },
  {
   "cell_type": "code",
   "execution_count": 13,
   "metadata": {},
   "outputs": [
    {
     "name": "stderr",
     "output_type": "stream",
     "text": [
      "100%|██████████| 24/24 [05:57<00:00, 14.88s/it]"
     ]
    },
    {
     "name": "stdout",
     "output_type": "stream",
     "text": [
      "F1 наилучшей модели равно: 0.622 C глубиной: 24\n",
      "CPU times: user 5min 53s, sys: 281 ms, total: 5min 54s\n",
      "Wall time: 5min 57s\n"
     ]
    },
    {
     "name": "stderr",
     "output_type": "stream",
     "text": [
      "\n"
     ]
    }
   ],
   "source": [
    "%%time\n",
    "\n",
    "best_model_dt = None\n",
    "best_result_dt = 0\n",
    "best_depth_dt=0\n",
    "for depth in tqdm(range(1, 25)):\n",
    "      \n",
    "    model_dt = DecisionTreeClassifier(random_state=42, max_depth=depth,class_weight='balanced') \n",
    "    model_dt.fit(X_train, y_train) \n",
    "    X_valid_dt = count_tf_idf.transform(X_valid)   \n",
    "    predict_dt=model_dt.predict(X_valid_dt) \n",
    "    result_dt = f1_score(y_valid, predict_dt)\n",
    "    if result_dt > best_result_dt:\n",
    "        best_model_dt = model_dt\n",
    "        best_result_dt = result_dt \n",
    "          \n",
    "        best_depth_dt = depth\n",
    "f1_dt_vl = best_result_dt.round(3)       \n",
    "print(\"F1 наилучшей модели равно:\", f1_dt_vl, end='')\n",
    "print(' C глубиной:',best_depth_dt)"
   ]
  },
  {
   "cell_type": "code",
   "execution_count": 14,
   "metadata": {},
   "outputs": [
    {
     "name": "stdout",
     "output_type": "stream",
     "text": [
      "F1 = 0.621 (тестовая выборка)\n"
     ]
    }
   ],
   "source": [
    "X_test_DT = count_tf_idf.transform(X_test)\n",
    "prediction = best_model_dt.predict(X_test_DT)\n",
    "f1_dt_ts = f1_score(y_test, prediction).round(3)\n",
    "print('F1 =', f1_dt_ts, '(тестовая выборка)')"
   ]
  },
  {
   "cell_type": "markdown",
   "metadata": {},
   "source": [
    "* LogisticRegression"
   ]
  },
  {
   "cell_type": "code",
   "execution_count": 15,
   "metadata": {},
   "outputs": [
    {
     "name": "stdout",
     "output_type": "stream",
     "text": [
      "F1 = 0.744 (валидационная выборка)\n"
     ]
    }
   ],
   "source": [
    "model_LR = LogisticRegression(class_weight = 'balanced', random_state=42)\n",
    "model_LR.fit(X_train, y_train)\n",
    "X_valid_LR = count_tf_idf.transform(X_valid)\n",
    "pred_LR = model_LR.predict(X_valid_LR)\n",
    "f1 = f1_score(y_valid, pred_LR)\n",
    "print('F1 =', round(f1, 3), '(валидационная выборка)')"
   ]
  },
  {
   "cell_type": "markdown",
   "metadata": {},
   "source": [
    "Подберем параметры модели, чтобы поднять значение метрики."
   ]
  },
  {
   "cell_type": "code",
   "execution_count": 16,
   "metadata": {},
   "outputs": [
    {
     "name": "stdout",
     "output_type": "stream",
     "text": [
      "Fitting 3 folds for each of 10 candidates, totalling 30 fits\n"
     ]
    },
    {
     "name": "stderr",
     "output_type": "stream",
     "text": [
      "[Parallel(n_jobs=-1)]: Using backend SequentialBackend with 1 concurrent workers.\n",
      "[Parallel(n_jobs=-1)]: Done  30 out of  30 | elapsed:  3.9min finished\n"
     ]
    },
    {
     "name": "stdout",
     "output_type": "stream",
     "text": [
      "Best parameters is: {'model': LogisticRegression(C=4, class_weight=None, dual=False, fit_intercept=True,\n",
      "                   intercept_scaling=1, l1_ratio=None, max_iter=100,\n",
      "                   multi_class='warn', n_jobs=None, penalty='l1',\n",
      "                   random_state=42, solver='liblinear', tol=0.0001, verbose=0,\n",
      "                   warm_start=False), 'model__C': 4, 'model__penalty': 'l1'}\n",
      "Best score is: 0.7719618425844303\n",
      "CPU times: user 2min 39s, sys: 1min 19s, total: 3min 58s\n",
      "Wall time: 3min 59s\n"
     ]
    }
   ],
   "source": [
    "%%time\n",
    "\n",
    "pipe = Pipeline([\n",
    "    (\n",
    "    ('model', LogisticRegression(random_state=42, solver='liblinear', max_iter=200))\n",
    "    )\n",
    "])\n",
    "\n",
    "param_grid = [\n",
    "    {\n",
    "        'model' : [LogisticRegression(random_state=42, solver='liblinear')],\n",
    "        'model__penalty' : ['l1', 'l2'],\n",
    "        'model__C' : list(range(1, 15, 3))\n",
    "    }\n",
    "]\n",
    "\n",
    "grid = GridSearchCV(pipe, param_grid=param_grid, scoring='f1', \n",
    "                    cv=3, verbose=True, n_jobs=-1)\n",
    "\n",
    "best_grid = grid.fit(X_train, y_train)\n",
    "print('Best parameters is:', grid.best_params_)\n",
    "print('Best score is:', grid.best_score_)"
   ]
  },
  {
   "cell_type": "code",
   "execution_count": 17,
   "metadata": {},
   "outputs": [
    {
     "name": "stdout",
     "output_type": "stream",
     "text": [
      "F1 = 0.773 (валидационная выборка)\n"
     ]
    }
   ],
   "source": [
    "model_LR_1 = LogisticRegression(random_state=42, C=13, penalty='l1', solver='liblinear', max_iter=200)\n",
    "model_LR_1.fit(X_train, y_train)\n",
    "X_valid_LR_1 = count_tf_idf.transform(X_valid)\n",
    "pred_LR_1 = model_LR_1.predict(X_valid_LR_1)\n",
    "f1_lr_vl = f1_score(y_valid, pred_LR_1).round(3)\n",
    "print('F1 =', f1_lr_vl, '(валидационная выборка)')"
   ]
  },
  {
   "cell_type": "code",
   "execution_count": 18,
   "metadata": {},
   "outputs": [
    {
     "name": "stdout",
     "output_type": "stream",
     "text": [
      "F1 = 0.78 (тестовая выборка)\n"
     ]
    }
   ],
   "source": [
    "X_test_LR_1 = count_tf_idf.transform(X_test)\n",
    "prediction = model_LR_1.predict(X_test_LR_1)\n",
    "f1_lr_ts = f1_score(y_test, prediction).round(3)\n",
    "print('F1 =', f1_lr_ts, '(тестовая выборка)')"
   ]
  },
  {
   "cell_type": "markdown",
   "metadata": {},
   "source": [
    "* CatBoost"
   ]
  },
  {
   "cell_type": "code",
   "execution_count": 19,
   "metadata": {},
   "outputs": [
    {
     "name": "stdout",
     "output_type": "stream",
     "text": [
      "0:\tlearn: 0.4943519\ttotal: 5.75s\tremaining: 9m 29s\n",
      "10:\tlearn: 0.6911182\ttotal: 52.6s\tremaining: 7m 5s\n",
      "20:\tlearn: 0.7389273\ttotal: 1m 39s\tremaining: 6m 12s\n",
      "30:\tlearn: 0.7626121\ttotal: 2m 25s\tremaining: 5m 22s\n",
      "40:\tlearn: 0.7733612\ttotal: 3m 11s\tremaining: 4m 35s\n",
      "50:\tlearn: 0.7858495\ttotal: 3m 58s\tremaining: 3m 48s\n",
      "60:\tlearn: 0.7933601\ttotal: 4m 45s\tremaining: 3m 2s\n",
      "70:\tlearn: 0.7951238\ttotal: 5m 33s\tremaining: 2m 16s\n",
      "80:\tlearn: 0.7998460\ttotal: 6m 20s\tremaining: 1m 29s\n",
      "90:\tlearn: 0.8045693\ttotal: 7m 7s\tremaining: 42.3s\n",
      "99:\tlearn: 0.8077267\ttotal: 7m 50s\tremaining: 0us\n",
      "F1 = 0.765 (валидационная выборка)\n",
      "CPU times: user 9min 11s, sys: 16 s, total: 9min 27s\n",
      "Wall time: 9min 29s\n"
     ]
    }
   ],
   "source": [
    "%%time\n",
    "\n",
    "cat_model = CatBoostClassifier(eval_metric=\"F1\", \n",
    "                                   iterations=100, \n",
    "                                   max_depth=6, \n",
    "                                   learning_rate=0.9, \n",
    "                                   random_state=12345)\n",
    "cat_model.fit(X_train, y_train, verbose=10)\n",
    "X_valid_cat = count_tf_idf.transform(X_valid)\n",
    "prediction = cat_model.predict(X_valid_cat)\n",
    "f1_cb_vl = f1_score(y_valid, prediction).round(3)\n",
    "print('F1 =', f1_cb_vl, '(валидационная выборка)')"
   ]
  },
  {
   "cell_type": "code",
   "execution_count": 20,
   "metadata": {},
   "outputs": [
    {
     "name": "stdout",
     "output_type": "stream",
     "text": [
      "F1 = 0.756 (тестовая выборка)\n"
     ]
    }
   ],
   "source": [
    "X_test_cat = count_tf_idf.transform(X_test)\n",
    "prediction = cat_model.predict(X_test_cat)\n",
    "f1_cb_ts = f1_score(y_test, prediction).round(3)\n",
    "print('F1 =', f1_cb_ts, '(тестовая выборка)')"
   ]
  },
  {
   "cell_type": "markdown",
   "metadata": {},
   "source": [
    "## Выводы"
   ]
  },
  {
   "cell_type": "markdown",
   "metadata": {},
   "source": [
    "Сведём полученные результаты в одну таблицу для наглядности"
   ]
  },
  {
   "cell_type": "code",
   "execution_count": 21,
   "metadata": {},
   "outputs": [
    {
     "data": {
      "text/html": [
       "<div>\n",
       "<style scoped>\n",
       "    .dataframe tbody tr th:only-of-type {\n",
       "        vertical-align: middle;\n",
       "    }\n",
       "\n",
       "    .dataframe tbody tr th {\n",
       "        vertical-align: top;\n",
       "    }\n",
       "\n",
       "    .dataframe thead th {\n",
       "        text-align: right;\n",
       "    }\n",
       "</style>\n",
       "<table border=\"1\" class=\"dataframe\">\n",
       "  <thead>\n",
       "    <tr style=\"text-align: right;\">\n",
       "      <th></th>\n",
       "      <th>F1_valid</th>\n",
       "      <th>F1_test</th>\n",
       "    </tr>\n",
       "  </thead>\n",
       "  <tbody>\n",
       "    <tr>\n",
       "      <td>Дерево решений</td>\n",
       "      <td>0.622</td>\n",
       "      <td>0.621</td>\n",
       "    </tr>\n",
       "    <tr>\n",
       "      <td>Логистическая регрессия</td>\n",
       "      <td>0.773</td>\n",
       "      <td>0.780</td>\n",
       "    </tr>\n",
       "    <tr>\n",
       "      <td>CatBoost</td>\n",
       "      <td>0.765</td>\n",
       "      <td>0.756</td>\n",
       "    </tr>\n",
       "  </tbody>\n",
       "</table>\n",
       "</div>"
      ],
      "text/plain": [
       "                         F1_valid  F1_test\n",
       "Дерево решений              0.622    0.621\n",
       "Логистическая регрессия     0.773    0.780\n",
       "CatBoost                    0.765    0.756"
      ]
     },
     "execution_count": 21,
     "metadata": {},
     "output_type": "execute_result"
    }
   ],
   "source": [
    "final_tabl_index = pd.Series(['Дерево решений','Логистическая регрессия','CatBoost'])\n",
    "final_tabl_data = {'F1_valid': [f1_dt_vl, f1_lr_vl, f1_cb_vl],\n",
    "                   'F1_test': [f1_dt_ts, f1_lr_ts, f1_cb_ts]}\n",
    "\n",
    "final_tabl_df = pd.DataFrame(data = final_tabl_data).set_index(final_tabl_index)\n",
    "final_tabl_df"
   ]
  },
  {
   "cell_type": "markdown",
   "metadata": {},
   "source": [
    "Mодель LogisticRegression показала наилучший результат, набрав пороговое значение метрики $F1 = 0.78$.  \n",
    "Данную модель мы можем порекомендовать магазину \"ВИКИШОП\" для классификации комментариев на позитивные и негативные."
   ]
  }
 ],
 "metadata": {
  "ExecuteTimeLog": [
   {
    "duration": 109,
    "start_time": "2021-07-22T08:11:36.960Z"
   },
   {
    "duration": 8,
    "start_time": "2021-07-22T08:11:59.605Z"
   },
   {
    "duration": 544,
    "start_time": "2021-07-22T08:12:33.299Z"
   },
   {
    "duration": 3160,
    "start_time": "2021-07-22T08:13:34.979Z"
   },
   {
    "duration": 26,
    "start_time": "2021-07-22T08:21:39.642Z"
   },
   {
    "duration": 618,
    "start_time": "2021-07-22T08:21:48.804Z"
   },
   {
    "duration": 589,
    "start_time": "2021-07-22T08:21:53.532Z"
   },
   {
    "duration": 551,
    "start_time": "2021-07-22T08:22:01.451Z"
   },
   {
    "duration": 558,
    "start_time": "2021-07-22T08:22:23.720Z"
   },
   {
    "duration": 25,
    "start_time": "2021-07-22T08:27:19.473Z"
   },
   {
    "duration": 207,
    "start_time": "2021-07-22T08:28:51.185Z"
   },
   {
    "duration": 4,
    "start_time": "2021-07-22T08:30:03.336Z"
   },
   {
    "duration": 74,
    "start_time": "2021-07-22T08:31:17.228Z"
   },
   {
    "duration": 273,
    "start_time": "2021-07-22T08:34:54.251Z"
   },
   {
    "duration": 523,
    "start_time": "2021-07-22T08:35:06.304Z"
   },
   {
    "duration": 505,
    "start_time": "2021-07-22T08:35:09.038Z"
   },
   {
    "duration": 4,
    "start_time": "2021-07-22T08:35:34.309Z"
   },
   {
    "duration": 1069,
    "start_time": "2021-07-22T08:35:45.133Z"
   },
   {
    "duration": 4,
    "start_time": "2021-07-22T08:35:54.386Z"
   },
   {
    "duration": 1067,
    "start_time": "2021-07-22T08:35:58.857Z"
   },
   {
    "duration": 4,
    "start_time": "2021-07-22T08:36:16.553Z"
   },
   {
    "duration": 4,
    "start_time": "2021-07-22T08:37:20.002Z"
   },
   {
    "duration": 1328,
    "start_time": "2021-07-22T08:40:21.196Z"
   },
   {
    "duration": 4,
    "start_time": "2021-07-22T08:41:00.474Z"
   },
   {
    "duration": 117729,
    "start_time": "2021-07-22T08:41:04.593Z"
   },
   {
    "duration": 34,
    "start_time": "2021-07-22T08:49:27.335Z"
   },
   {
    "duration": 243,
    "start_time": "2021-07-22T08:50:32.195Z"
   },
   {
    "duration": 116122,
    "start_time": "2021-07-22T08:51:04.240Z"
   },
   {
    "duration": 80,
    "start_time": "2021-07-22T08:58:52.881Z"
   },
   {
    "duration": 4,
    "start_time": "2021-07-22T08:59:15.141Z"
   },
   {
    "duration": 87869,
    "start_time": "2021-07-22T08:59:48.823Z"
   },
   {
    "duration": 4,
    "start_time": "2021-07-22T09:01:31.642Z"
   },
   {
    "duration": 338,
    "start_time": "2021-07-22T09:02:24.733Z"
   },
   {
    "duration": 117483,
    "start_time": "2021-07-22T09:03:01.409Z"
   },
   {
    "duration": 551,
    "start_time": "2021-07-22T10:25:56.892Z"
   },
   {
    "duration": 6141,
    "start_time": "2021-07-22T10:26:15.388Z"
   },
   {
    "duration": 249,
    "start_time": "2021-07-22T10:26:51.102Z"
   },
   {
    "duration": 70252,
    "start_time": "2021-07-22T10:29:19.131Z"
   },
   {
    "duration": 54040,
    "start_time": "2021-07-22T10:30:30.608Z"
   },
   {
    "duration": 84268,
    "start_time": "2021-07-22T10:31:26.499Z"
   },
   {
    "duration": -35,
    "start_time": "2021-07-22T10:33:57.236Z"
   },
   {
    "duration": 115182,
    "start_time": "2021-07-22T10:33:57.342Z"
   },
   {
    "duration": 5,
    "start_time": "2021-07-22T10:40:55.057Z"
   },
   {
    "duration": 4,
    "start_time": "2021-07-22T10:41:43.779Z"
   },
   {
    "duration": 833,
    "start_time": "2021-07-22T10:45:18.524Z"
   },
   {
    "duration": 184,
    "start_time": "2021-07-22T10:45:53.984Z"
   },
   {
    "duration": 865,
    "start_time": "2021-07-22T10:47:09.027Z"
   },
   {
    "duration": 839,
    "start_time": "2021-07-22T10:47:29.173Z"
   },
   {
    "duration": 834,
    "start_time": "2021-07-22T10:47:54.207Z"
   },
   {
    "duration": 5,
    "start_time": "2021-07-22T10:49:22.779Z"
   },
   {
    "duration": 38688,
    "start_time": "2021-07-22T10:49:27.995Z"
   },
   {
    "duration": 4,
    "start_time": "2021-07-22T10:50:13.765Z"
   },
   {
    "duration": 1237,
    "start_time": "2021-07-22T10:50:16.443Z"
   },
   {
    "duration": 4,
    "start_time": "2021-07-22T10:51:00.948Z"
   },
   {
    "duration": 92339,
    "start_time": "2021-07-22T10:51:02.898Z"
   },
   {
    "duration": 4,
    "start_time": "2021-07-22T10:52:35.239Z"
   },
   {
    "duration": 1054,
    "start_time": "2021-07-22T10:52:38.189Z"
   },
   {
    "duration": 4,
    "start_time": "2021-07-22T10:53:24.769Z"
   },
   {
    "duration": 1016,
    "start_time": "2021-07-22T10:53:26.391Z"
   },
   {
    "duration": 4,
    "start_time": "2021-07-22T10:54:31.249Z"
   },
   {
    "duration": 114814,
    "start_time": "2021-07-22T10:54:33.173Z"
   },
   {
    "duration": 160,
    "start_time": "2021-07-22T10:56:44.221Z"
   },
   {
    "duration": 4,
    "start_time": "2021-07-22T10:57:23.932Z"
   },
   {
    "duration": 4,
    "start_time": "2021-07-22T10:57:29.365Z"
   },
   {
    "duration": 160,
    "start_time": "2021-07-22T10:57:33.610Z"
   },
   {
    "duration": 5,
    "start_time": "2021-07-22T10:57:56.639Z"
   },
   {
    "duration": 82067,
    "start_time": "2021-07-22T10:58:02.884Z"
   },
   {
    "duration": 121386,
    "start_time": "2021-07-22T10:59:25.652Z"
   },
   {
    "duration": 8,
    "start_time": "2021-07-22T11:02:15.928Z"
   },
   {
    "duration": 110,
    "start_time": "2021-07-22T11:10:18.268Z"
   },
   {
    "duration": 244,
    "start_time": "2021-07-22T11:13:01.083Z"
   },
   {
    "duration": 3,
    "start_time": "2021-07-22T11:13:03.220Z"
   },
   {
    "duration": 237,
    "start_time": "2021-07-22T11:13:05.570Z"
   },
   {
    "duration": 5,
    "start_time": "2021-07-22T11:14:24.807Z"
   },
   {
    "duration": 35,
    "start_time": "2021-07-22T11:14:28.585Z"
   },
   {
    "duration": 233,
    "start_time": "2021-07-22T11:16:33.791Z"
   },
   {
    "duration": 5,
    "start_time": "2021-07-22T11:18:08.104Z"
   },
   {
    "duration": 231,
    "start_time": "2021-07-22T11:18:13.401Z"
   },
   {
    "duration": 5,
    "start_time": "2021-07-22T11:19:30.512Z"
   },
   {
    "duration": 5893,
    "start_time": "2021-07-22T11:19:35.519Z"
   },
   {
    "duration": 61,
    "start_time": "2021-07-22T11:21:05.750Z"
   },
   {
    "duration": 8,
    "start_time": "2021-07-22T11:21:39.744Z"
   },
   {
    "duration": 122661,
    "start_time": "2021-07-22T11:23:10.401Z"
   },
   {
    "duration": 15,
    "start_time": "2021-07-22T11:26:26.259Z"
   },
   {
    "duration": 45,
    "start_time": "2021-07-22T11:26:27.820Z"
   },
   {
    "duration": 225,
    "start_time": "2021-07-22T11:26:29.083Z"
   },
   {
    "duration": 5,
    "start_time": "2021-07-22T11:27:54.542Z"
   },
   {
    "duration": 5321,
    "start_time": "2021-07-22T11:27:58.913Z"
   },
   {
    "duration": 1180,
    "start_time": "2021-07-22T11:28:25.284Z"
   },
   {
    "duration": 584,
    "start_time": "2021-07-22T11:28:26.466Z"
   },
   {
    "duration": 18,
    "start_time": "2021-07-22T11:28:27.053Z"
   },
   {
    "duration": 223,
    "start_time": "2021-07-22T11:28:27.073Z"
   },
   {
    "duration": 4,
    "start_time": "2021-07-22T11:28:27.298Z"
   },
   {
    "duration": 248,
    "start_time": "2021-07-22T11:28:27.304Z"
   },
   {
    "duration": 254,
    "start_time": "2021-07-22T11:28:27.554Z"
   },
   {
    "duration": 7,
    "start_time": "2021-07-22T11:28:27.810Z"
   },
   {
    "duration": 6072,
    "start_time": "2021-07-22T11:28:27.819Z"
   },
   {
    "duration": -37,
    "start_time": "2021-07-22T11:28:33.929Z"
   },
   {
    "duration": -39,
    "start_time": "2021-07-22T11:28:33.932Z"
   },
   {
    "duration": 151,
    "start_time": "2021-07-22T11:29:18.235Z"
   },
   {
    "duration": 1199,
    "start_time": "2021-07-22T11:30:14.656Z"
   },
   {
    "duration": 611,
    "start_time": "2021-07-22T11:30:15.857Z"
   },
   {
    "duration": 29,
    "start_time": "2021-07-22T11:30:16.470Z"
   },
   {
    "duration": 212,
    "start_time": "2021-07-22T11:30:16.501Z"
   },
   {
    "duration": 4,
    "start_time": "2021-07-22T11:30:16.715Z"
   },
   {
    "duration": 224,
    "start_time": "2021-07-22T11:30:16.721Z"
   },
   {
    "duration": 125186,
    "start_time": "2021-07-22T11:30:16.947Z"
   },
   {
    "duration": 7,
    "start_time": "2021-07-22T11:32:22.135Z"
   },
   {
    "duration": 6,
    "start_time": "2021-07-22T11:32:22.145Z"
   },
   {
    "duration": 55,
    "start_time": "2021-07-22T11:32:22.153Z"
   },
   {
    "duration": 5427,
    "start_time": "2021-07-22T11:32:22.209Z"
   },
   {
    "duration": 559,
    "start_time": "2021-07-22T11:33:36.401Z"
   },
   {
    "duration": 8,
    "start_time": "2021-07-22T11:33:38.259Z"
   },
   {
    "duration": 1132,
    "start_time": "2021-07-22T11:33:58.317Z"
   },
   {
    "duration": 596,
    "start_time": "2021-07-22T11:33:59.451Z"
   },
   {
    "duration": 7,
    "start_time": "2021-07-22T11:34:00.049Z"
   },
   {
    "duration": 25,
    "start_time": "2021-07-22T11:34:00.057Z"
   },
   {
    "duration": 8,
    "start_time": "2021-07-22T11:34:00.083Z"
   },
   {
    "duration": 219,
    "start_time": "2021-07-22T11:34:00.093Z"
   },
   {
    "duration": 8598,
    "start_time": "2021-07-22T11:34:00.314Z"
   },
   {
    "duration": 7,
    "start_time": "2021-07-22T11:34:08.914Z"
   },
   {
    "duration": 8,
    "start_time": "2021-07-22T11:34:08.922Z"
   },
   {
    "duration": 7,
    "start_time": "2021-07-22T11:34:08.932Z"
   },
   {
    "duration": 547,
    "start_time": "2021-07-22T11:34:08.940Z"
   },
   {
    "duration": 341,
    "start_time": "2021-07-22T11:39:13.485Z"
   },
   {
    "duration": 4,
    "start_time": "2021-07-22T11:40:36.867Z"
   },
   {
    "duration": 6,
    "start_time": "2021-07-22T11:40:59.720Z"
   },
   {
    "duration": 5,
    "start_time": "2021-07-22T11:41:42.537Z"
   },
   {
    "duration": 1116,
    "start_time": "2021-07-22T11:41:47.228Z"
   },
   {
    "duration": 5,
    "start_time": "2021-07-22T11:43:17.119Z"
   },
   {
    "duration": 915,
    "start_time": "2021-07-22T11:43:20.219Z"
   },
   {
    "duration": 1600,
    "start_time": "2021-07-22T11:50:32.547Z"
   },
   {
    "duration": 947,
    "start_time": "2021-07-22T11:50:49.984Z"
   },
   {
    "duration": 900,
    "start_time": "2021-07-22T11:51:29.426Z"
   },
   {
    "duration": 1018,
    "start_time": "2021-07-22T11:54:57.610Z"
   },
   {
    "duration": 886,
    "start_time": "2021-07-22T11:55:06.438Z"
   },
   {
    "duration": 152,
    "start_time": "2021-07-22T11:56:39.931Z"
   },
   {
    "duration": 6,
    "start_time": "2021-07-22T11:56:56.159Z"
   },
   {
    "duration": 158,
    "start_time": "2021-07-22T11:57:00.909Z"
   },
   {
    "duration": 6,
    "start_time": "2021-07-22T11:57:39.979Z"
   },
   {
    "duration": 50369,
    "start_time": "2021-07-22T11:57:46.625Z"
   },
   {
    "duration": 31701,
    "start_time": "2021-07-22T12:07:51.315Z"
   },
   {
    "duration": 161,
    "start_time": "2021-07-22T12:09:22.833Z"
   },
   {
    "duration": 1925,
    "start_time": "2021-07-22T12:11:29.206Z"
   },
   {
    "duration": 671,
    "start_time": "2021-07-22T12:12:25.684Z"
   },
   {
    "duration": 38977,
    "start_time": "2021-07-22T12:12:45.606Z"
   },
   {
    "duration": 46,
    "start_time": "2021-07-22T12:13:28.383Z"
   },
   {
    "duration": 20,
    "start_time": "2021-07-22T12:19:01.959Z"
   },
   {
    "duration": 47419,
    "start_time": "2021-07-22T12:19:13.854Z"
   },
   {
    "duration": 46420,
    "start_time": "2021-07-22T12:20:05.596Z"
   },
   {
    "duration": 47071,
    "start_time": "2021-07-22T12:22:19.948Z"
   },
   {
    "duration": 112,
    "start_time": "2021-07-22T12:23:11.604Z"
   },
   {
    "duration": 1221,
    "start_time": "2021-07-22T12:24:00.552Z"
   },
   {
    "duration": 587,
    "start_time": "2021-07-22T12:24:01.775Z"
   },
   {
    "duration": 17,
    "start_time": "2021-07-22T12:24:02.364Z"
   },
   {
    "duration": 217,
    "start_time": "2021-07-22T12:24:02.383Z"
   },
   {
    "duration": 3,
    "start_time": "2021-07-22T12:24:02.602Z"
   },
   {
    "duration": 227,
    "start_time": "2021-07-22T12:24:02.607Z"
   },
   {
    "duration": 124116,
    "start_time": "2021-07-22T12:24:02.835Z"
   },
   {
    "duration": 7,
    "start_time": "2021-07-22T12:26:06.953Z"
   },
   {
    "duration": 5,
    "start_time": "2021-07-22T12:26:06.962Z"
   },
   {
    "duration": 57,
    "start_time": "2021-07-22T12:26:06.968Z"
   },
   {
    "duration": 5353,
    "start_time": "2021-07-22T12:26:07.027Z"
   },
   {
    "duration": 14969,
    "start_time": "2021-07-22T12:26:12.381Z"
   },
   {
    "duration": 226458,
    "start_time": "2021-07-22T12:26:27.352Z"
   },
   {
    "duration": 5927,
    "start_time": "2021-07-22T12:30:13.812Z"
   },
   {
    "duration": 638,
    "start_time": "2021-07-22T12:30:19.740Z"
   },
   {
    "duration": 423612,
    "start_time": "2021-07-22T12:30:20.379Z"
   },
   {
    "duration": 1453,
    "start_time": "2021-07-22T12:37:23.993Z"
   },
   {
    "duration": 1458,
    "start_time": "2021-07-22T12:38:11.002Z"
   },
   {
    "duration": 1155,
    "start_time": "2021-07-22T12:40:25.915Z"
   },
   {
    "duration": 592,
    "start_time": "2021-07-22T12:40:27.072Z"
   },
   {
    "duration": 5,
    "start_time": "2021-07-22T12:40:27.667Z"
   },
   {
    "duration": 18,
    "start_time": "2021-07-22T12:40:27.675Z"
   },
   {
    "duration": 3,
    "start_time": "2021-07-22T12:40:27.694Z"
   },
   {
    "duration": 215,
    "start_time": "2021-07-22T12:40:27.699Z"
   },
   {
    "duration": 2061,
    "start_time": "2021-07-22T12:40:27.916Z"
   },
   {
    "duration": 13,
    "start_time": "2021-07-22T12:40:29.979Z"
   },
   {
    "duration": 3,
    "start_time": "2021-07-22T12:40:29.993Z"
   },
   {
    "duration": 9,
    "start_time": "2021-07-22T12:40:29.997Z"
   },
   {
    "duration": 49,
    "start_time": "2021-07-22T12:40:30.008Z"
   },
   {
    "duration": 35,
    "start_time": "2021-07-22T12:40:30.059Z"
   },
   {
    "duration": 900,
    "start_time": "2021-07-22T12:40:30.096Z"
   },
   {
    "duration": 20,
    "start_time": "2021-07-22T12:40:30.998Z"
   },
   {
    "duration": 9,
    "start_time": "2021-07-22T12:40:31.020Z"
   },
   {
    "duration": 80,
    "start_time": "2021-07-22T12:40:31.031Z"
   },
   {
    "duration": -6,
    "start_time": "2021-07-22T12:40:31.120Z"
   },
   {
    "duration": 1165,
    "start_time": "2021-07-22T12:41:26.521Z"
   },
   {
    "duration": 638,
    "start_time": "2021-07-22T12:41:27.688Z"
   },
   {
    "duration": 8,
    "start_time": "2021-07-22T12:41:28.327Z"
   },
   {
    "duration": 25,
    "start_time": "2021-07-22T12:41:28.337Z"
   },
   {
    "duration": 4,
    "start_time": "2021-07-22T12:41:28.364Z"
   },
   {
    "duration": 241,
    "start_time": "2021-07-22T12:41:28.370Z"
   },
   {
    "duration": 8969,
    "start_time": "2021-07-22T12:41:28.613Z"
   },
   {
    "duration": 11,
    "start_time": "2021-07-22T12:41:37.584Z"
   },
   {
    "duration": 12,
    "start_time": "2021-07-22T12:41:37.597Z"
   },
   {
    "duration": 19,
    "start_time": "2021-07-22T12:41:37.610Z"
   },
   {
    "duration": 346,
    "start_time": "2021-07-22T12:41:37.630Z"
   },
   {
    "duration": 846,
    "start_time": "2021-07-22T12:41:37.977Z"
   },
   {
    "duration": 14029,
    "start_time": "2021-07-22T12:41:38.824Z"
   },
   {
    "duration": 125,
    "start_time": "2021-07-22T12:41:52.854Z"
   },
   {
    "duration": 49,
    "start_time": "2021-07-22T12:41:52.981Z"
   },
   {
    "duration": 45982,
    "start_time": "2021-07-22T12:41:53.032Z"
   },
   {
    "duration": 195,
    "start_time": "2021-07-22T12:42:39.016Z"
   },
   {
    "duration": 15026,
    "start_time": "2021-07-22T12:42:50.722Z"
   },
   {
    "duration": 13185,
    "start_time": "2021-07-22T12:43:11.758Z"
   },
   {
    "duration": 13080,
    "start_time": "2021-07-22T12:43:28.175Z"
   },
   {
    "duration": 319,
    "start_time": "2021-07-22T12:43:59.552Z"
   },
   {
    "duration": 240,
    "start_time": "2021-07-22T12:44:39.458Z"
   },
   {
    "duration": 238,
    "start_time": "2021-07-22T12:44:52.498Z"
   },
   {
    "duration": 223,
    "start_time": "2021-07-22T12:45:37.347Z"
   },
   {
    "duration": 247,
    "start_time": "2021-07-22T12:45:48.011Z"
   },
   {
    "duration": 5559,
    "start_time": "2021-07-22T12:47:47.559Z"
   },
   {
    "duration": 238,
    "start_time": "2021-07-22T12:48:14.634Z"
   },
   {
    "duration": 12368,
    "start_time": "2021-07-22T12:48:43.380Z"
   },
   {
    "duration": 12716,
    "start_time": "2021-07-22T12:49:03.539Z"
   },
   {
    "duration": 12889,
    "start_time": "2021-07-22T12:49:56.759Z"
   },
   {
    "duration": 13225,
    "start_time": "2021-07-22T12:50:13.820Z"
   },
   {
    "duration": 183,
    "start_time": "2021-07-22T12:57:10.947Z"
   },
   {
    "duration": 906,
    "start_time": "2021-07-22T12:58:03.683Z"
   },
   {
    "duration": 1962,
    "start_time": "2021-07-22T12:58:13.569Z"
   },
   {
    "duration": 3,
    "start_time": "2021-07-22T12:58:31.937Z"
   },
   {
    "duration": 181,
    "start_time": "2021-07-22T12:58:37.753Z"
   },
   {
    "duration": 1972,
    "start_time": "2021-07-22T12:58:52.118Z"
   },
   {
    "duration": 3,
    "start_time": "2021-07-22T12:58:56.631Z"
   },
   {
    "duration": 166,
    "start_time": "2021-07-22T12:59:02.680Z"
   },
   {
    "duration": 13540,
    "start_time": "2021-07-22T12:59:24.113Z"
   },
   {
    "duration": 184,
    "start_time": "2021-07-22T13:01:36.624Z"
   },
   {
    "duration": 6,
    "start_time": "2021-07-22T13:01:56.297Z"
   },
   {
    "duration": 164,
    "start_time": "2021-07-22T13:02:00.619Z"
   },
   {
    "duration": 6,
    "start_time": "2021-07-22T13:03:46.764Z"
   },
   {
    "duration": 1318,
    "start_time": "2021-07-22T13:04:13.261Z"
   },
   {
    "duration": 608,
    "start_time": "2021-07-22T13:04:14.581Z"
   },
   {
    "duration": 6,
    "start_time": "2021-07-22T13:04:15.191Z"
   },
   {
    "duration": 19,
    "start_time": "2021-07-22T13:04:15.199Z"
   },
   {
    "duration": 3,
    "start_time": "2021-07-22T13:04:15.219Z"
   },
   {
    "duration": 217,
    "start_time": "2021-07-22T13:04:15.223Z"
   },
   {
    "duration": 8508,
    "start_time": "2021-07-22T13:04:15.442Z"
   },
   {
    "duration": 7,
    "start_time": "2021-07-22T13:04:23.951Z"
   },
   {
    "duration": 4,
    "start_time": "2021-07-22T13:04:23.961Z"
   },
   {
    "duration": 10,
    "start_time": "2021-07-22T13:04:23.966Z"
   },
   {
    "duration": 335,
    "start_time": "2021-07-22T13:04:23.977Z"
   },
   {
    "duration": 1017,
    "start_time": "2021-07-22T13:04:24.314Z"
   },
   {
    "duration": 13410,
    "start_time": "2021-07-22T13:04:25.332Z"
   },
   {
    "duration": 134,
    "start_time": "2021-07-22T13:04:38.743Z"
   },
   {
    "duration": 51,
    "start_time": "2021-07-22T13:04:38.878Z"
   },
   {
    "duration": 45083,
    "start_time": "2021-07-22T13:04:38.931Z"
   },
   {
    "duration": 195,
    "start_time": "2021-07-22T13:05:24.016Z"
   },
   {
    "duration": 25,
    "start_time": "2021-07-22T13:13:23.419Z"
   },
   {
    "duration": 2511,
    "start_time": "2021-07-22T13:15:25.319Z"
   },
   {
    "duration": 7999,
    "start_time": "2021-07-22T13:18:13.810Z"
   },
   {
    "duration": 76,
    "start_time": "2021-07-22T13:18:39.884Z"
   },
   {
    "duration": 3878,
    "start_time": "2021-07-22T13:18:46.572Z"
   },
   {
    "duration": 5994,
    "start_time": "2021-07-22T13:18:59.913Z"
   },
   {
    "duration": 8190,
    "start_time": "2021-07-22T13:19:11.980Z"
   },
   {
    "duration": 8086,
    "start_time": "2021-07-22T13:19:39.772Z"
   },
   {
    "duration": 49,
    "start_time": "2021-07-22T13:22:19.273Z"
   },
   {
    "duration": 8385,
    "start_time": "2021-07-22T13:24:37.772Z"
   },
   {
    "duration": 50,
    "start_time": "2021-07-22T13:25:16.077Z"
   },
   {
    "duration": 5319,
    "start_time": "2021-07-22T13:33:42.568Z"
   },
   {
    "duration": 1469,
    "start_time": "2021-07-22T13:35:01.464Z"
   },
   {
    "duration": 20991,
    "start_time": "2021-07-22T13:35:23.590Z"
   },
   {
    "duration": 21204,
    "start_time": "2021-07-22T13:37:22.429Z"
   },
   {
    "duration": 5643,
    "start_time": "2021-07-22T13:37:52.391Z"
   },
   {
    "duration": 77,
    "start_time": "2021-07-22T13:43:32.085Z"
   },
   {
    "duration": 4463,
    "start_time": "2021-07-22T13:44:01.752Z"
   },
   {
    "duration": 34512,
    "start_time": "2021-07-22T13:45:02.785Z"
   },
   {
    "duration": 19619,
    "start_time": "2021-07-22T13:46:44.044Z"
   },
   {
    "duration": 48413,
    "start_time": "2021-07-22T13:47:43.641Z"
   },
   {
    "duration": 340,
    "start_time": "2021-07-22T14:01:05.137Z"
   },
   {
    "duration": 10,
    "start_time": "2021-07-22T14:01:26.392Z"
   },
   {
    "duration": 9,
    "start_time": "2021-07-22T14:02:08.125Z"
   },
   {
    "duration": 8,
    "start_time": "2021-07-22T14:04:14.600Z"
   },
   {
    "duration": 102,
    "start_time": "2021-07-22T14:04:29.916Z"
   },
   {
    "duration": 9,
    "start_time": "2021-07-22T14:04:34.723Z"
   },
   {
    "duration": 8,
    "start_time": "2021-07-22T14:07:31.977Z"
   },
   {
    "duration": 48,
    "start_time": "2021-07-22T14:11:46.308Z"
   },
   {
    "duration": 126,
    "start_time": "2021-07-22T14:15:05.639Z"
   },
   {
    "duration": 228,
    "start_time": "2021-07-22T14:15:21.155Z"
   },
   {
    "duration": 8479,
    "start_time": "2021-07-22T14:16:06.053Z"
   },
   {
    "duration": 8,
    "start_time": "2021-07-22T14:16:20.659Z"
   },
   {
    "duration": 48,
    "start_time": "2021-07-22T14:17:24.743Z"
   },
   {
    "duration": 50,
    "start_time": "2021-07-22T14:17:38.730Z"
   },
   {
    "duration": 130,
    "start_time": "2021-07-22T14:18:04.140Z"
   },
   {
    "duration": 52,
    "start_time": "2021-07-22T14:18:10.294Z"
   },
   {
    "duration": 9,
    "start_time": "2021-07-22T14:18:23.238Z"
   },
   {
    "duration": 47538,
    "start_time": "2021-07-22T14:19:15.189Z"
   },
   {
    "duration": 177,
    "start_time": "2021-07-22T14:20:16.753Z"
   },
   {
    "duration": 9,
    "start_time": "2021-07-22T14:20:55.680Z"
   },
   {
    "duration": 166,
    "start_time": "2021-07-22T14:21:45.452Z"
   },
   {
    "duration": 269,
    "start_time": "2021-07-22T14:21:48.358Z"
   },
   {
    "duration": 47415,
    "start_time": "2021-07-22T14:21:53.420Z"
   },
   {
    "duration": 9,
    "start_time": "2021-07-22T14:23:19.824Z"
   },
   {
    "duration": 126,
    "start_time": "2021-07-22T14:23:43.942Z"
   },
   {
    "duration": 62,
    "start_time": "2021-07-22T14:23:45.268Z"
   },
   {
    "duration": 15,
    "start_time": "2021-07-22T14:23:50.290Z"
   },
   {
    "duration": 1150,
    "start_time": "2021-07-22T14:25:27.753Z"
   },
   {
    "duration": 631,
    "start_time": "2021-07-22T14:25:28.905Z"
   },
   {
    "duration": 25,
    "start_time": "2021-07-22T14:25:29.538Z"
   },
   {
    "duration": 224,
    "start_time": "2021-07-22T14:25:29.564Z"
   },
   {
    "duration": 4,
    "start_time": "2021-07-22T14:25:29.791Z"
   },
   {
    "duration": 229,
    "start_time": "2021-07-22T14:25:29.797Z"
   },
   {
    "duration": 137638,
    "start_time": "2021-07-22T14:25:30.028Z"
   },
   {
    "duration": 7,
    "start_time": "2021-07-22T14:27:47.668Z"
   },
   {
    "duration": 16,
    "start_time": "2021-07-22T14:27:47.676Z"
   },
   {
    "duration": 48,
    "start_time": "2021-07-22T14:27:47.693Z"
   },
   {
    "duration": 5830,
    "start_time": "2021-07-22T14:27:47.742Z"
   },
   {
    "duration": 231218,
    "start_time": "2021-07-22T14:27:53.574Z"
   },
   {
    "duration": 812,
    "start_time": "2021-07-22T14:31:44.793Z"
   },
   {
    "duration": 15099,
    "start_time": "2021-07-22T14:31:45.606Z"
   },
   {
    "duration": 223876,
    "start_time": "2021-07-22T14:32:00.707Z"
   },
   {
    "duration": 5822,
    "start_time": "2021-07-22T14:35:44.585Z"
   },
   {
    "duration": 673,
    "start_time": "2021-07-22T14:35:50.408Z"
   },
   {
    "duration": 420276,
    "start_time": "2021-07-22T14:35:51.082Z"
   },
   {
    "duration": 1470,
    "start_time": "2021-07-22T14:42:51.360Z"
   },
   {
    "duration": 8,
    "start_time": "2021-07-22T14:42:52.832Z"
   },
   {
    "duration": 1654,
    "start_time": "2021-07-22T17:16:42.921Z"
   },
   {
    "duration": 802,
    "start_time": "2021-07-22T17:16:44.577Z"
   },
   {
    "duration": 31,
    "start_time": "2021-07-22T17:16:45.382Z"
   },
   {
    "duration": 280,
    "start_time": "2021-07-22T17:16:45.917Z"
   },
   {
    "duration": 5,
    "start_time": "2021-07-22T17:16:46.408Z"
   },
   {
    "duration": 274,
    "start_time": "2021-07-22T17:16:47.686Z"
   },
   {
    "duration": 150506,
    "start_time": "2021-07-22T17:16:49.064Z"
   },
   {
    "duration": 11,
    "start_time": "2021-07-22T17:19:35.619Z"
   },
   {
    "duration": 455,
    "start_time": "2021-07-23T07:14:19.519Z"
   },
   {
    "duration": 346,
    "start_time": "2021-07-23T07:27:24.921Z"
   },
   {
    "duration": 1735,
    "start_time": "2021-07-23T07:46:02.553Z"
   },
   {
    "duration": 907,
    "start_time": "2021-07-23T07:46:04.291Z"
   },
   {
    "duration": 29,
    "start_time": "2021-07-23T07:46:05.201Z"
   },
   {
    "duration": 311,
    "start_time": "2021-07-23T07:46:05.233Z"
   },
   {
    "duration": 11,
    "start_time": "2021-07-23T07:46:05.546Z"
   },
   {
    "duration": 246,
    "start_time": "2021-07-23T07:46:05.559Z"
   },
   {
    "duration": 145192,
    "start_time": "2021-07-23T07:46:05.808Z"
   },
   {
    "duration": 13,
    "start_time": "2021-07-23T07:48:31.004Z"
   },
   {
    "duration": 34,
    "start_time": "2021-07-23T07:48:31.021Z"
   },
   {
    "duration": 82,
    "start_time": "2021-07-23T07:48:31.057Z"
   },
   {
    "duration": 7,
    "start_time": "2021-07-23T07:48:31.141Z"
   },
   {
    "duration": 8546,
    "start_time": "2021-07-23T07:48:31.150Z"
   },
   {
    "duration": 357090,
    "start_time": "2021-07-23T07:48:39.699Z"
   },
   {
    "duration": 1025,
    "start_time": "2021-07-23T07:54:36.791Z"
   },
   {
    "duration": 15916,
    "start_time": "2021-07-23T07:54:37.818Z"
   },
   {
    "duration": 239158,
    "start_time": "2021-07-23T07:54:53.737Z"
   },
   {
    "duration": 8372,
    "start_time": "2021-07-23T07:58:52.897Z"
   },
   {
    "duration": 1037,
    "start_time": "2021-07-23T07:59:01.272Z"
   },
   {
    "duration": 570003,
    "start_time": "2021-07-23T07:59:02.311Z"
   },
   {
    "duration": 1986,
    "start_time": "2021-07-23T08:08:32.317Z"
   },
   {
    "duration": 12,
    "start_time": "2021-07-23T08:08:34.306Z"
   }
  ],
  "kernelspec": {
   "display_name": "Python 3 (ipykernel)",
   "language": "python",
   "name": "python3"
  },
  "language_info": {
   "codemirror_mode": {
    "name": "ipython",
    "version": 3
   },
   "file_extension": ".py",
   "mimetype": "text/x-python",
   "name": "python",
   "nbconvert_exporter": "python",
   "pygments_lexer": "ipython3",
   "version": "3.9.5"
  },
  "toc": {
   "base_numbering": 1,
   "nav_menu": {},
   "number_sections": true,
   "sideBar": true,
   "skip_h1_title": true,
   "title_cell": "Содержание",
   "title_sidebar": "Contents",
   "toc_cell": true,
   "toc_position": {
    "height": "calc(100% - 180px)",
    "left": "10px",
    "top": "150px",
    "width": "302.391px"
   },
   "toc_section_display": true,
   "toc_window_display": false
  }
 },
 "nbformat": 4,
 "nbformat_minor": 2
}
