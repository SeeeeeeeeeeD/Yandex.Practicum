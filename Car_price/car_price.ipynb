{
 "cells": [
  {
   "cell_type": "markdown",
   "metadata": {},
   "source": [
    "# Определение стоимости автомобилей"
   ]
  },
  {
   "cell_type": "markdown",
   "metadata": {},
   "source": [
    "Сервис по продаже автомобилей с пробегом «Не бит, не крашен» разрабатывает приложение для привлечения новых клиентов. В нём можно быстро узнать рыночную стоимость своего автомобиля. В вашем распоряжении исторические данные: технические характеристики, комплектации и цены автомобилей. Вам нужно построить модель для определения стоимости. \n",
    "\n",
    "Заказчику важны:\n",
    "\n",
    "- качество предсказания;\n",
    "- скорость предсказания;\n",
    "- время обучения."
   ]
  },
  {
   "cell_type": "markdown",
   "metadata": {},
   "source": [
    "**Описание данных**  \n",
    "\n",
    "*Признаки*  \n",
    "\n",
    "* DateCrawled — дата скачивания анкеты из базы\n",
    "* VehicleType — тип автомобильного кузова\n",
    "* RegistrationYear — год регистрации автомобиля\n",
    "* Gearbox — тип коробки передач\n",
    "* Power — мощность (л. с.)\n",
    "* Model — модель автомобиля\n",
    "* Kilometer — пробег (км)\n",
    "* RegistrationMonth — месяц регистрации автомобиля\n",
    "* FuelType — тип топлива\n",
    "* Brand — марка автомобиля\n",
    "* NotRepaired — была машина в ремонте или нет\n",
    "* DateCreated — дата создания анкеты\n",
    "* NumberOfPictures — количество фотографий автомобиля\n",
    "* PostalCode — почтовый индекс владельца анкеты (пользователя)\n",
    "* LastSeen — дата последней активности пользователя  \n",
    "\n",
    "*Целевой признак*  \n",
    "\n",
    "* Price — цена (евро)"
   ]
  },
  {
   "cell_type": "markdown",
   "metadata": {},
   "source": [
    "## Подготовка данных"
   ]
  },
  {
   "cell_type": "code",
   "execution_count": 1,
   "metadata": {},
   "outputs": [],
   "source": [
    "import pandas as pd\n",
    "import numpy as np\n",
    "\n",
    "import matplotlib.pyplot as plt\n",
    "import seaborn as sns\n",
    "\n",
    "from sklearn.preprocessing import OrdinalEncoder\n",
    "from sklearn.model_selection import train_test_split\n",
    "from sklearn.preprocessing import StandardScaler\n",
    "from sklearn.metrics import mean_absolute_error,mean_squared_error\n",
    "\n",
    "from sklearn.linear_model import LinearRegression\n",
    "from sklearn.ensemble import RandomForestRegressor\n",
    "from catboost import CatBoostRegressor\n",
    "import lightgbm as lgbm\n",
    "\n",
    "import time\n",
    "import warnings\n",
    "warnings.filterwarnings('ignore')"
   ]
  },
  {
   "cell_type": "markdown",
   "metadata": {},
   "source": [
    "* Прочитаем данные и сделаем первичный анализ"
   ]
  },
  {
   "cell_type": "code",
   "execution_count": 2,
   "metadata": {},
   "outputs": [
    {
     "data": {
      "text/html": [
       "<div>\n",
       "<style scoped>\n",
       "    .dataframe tbody tr th:only-of-type {\n",
       "        vertical-align: middle;\n",
       "    }\n",
       "\n",
       "    .dataframe tbody tr th {\n",
       "        vertical-align: top;\n",
       "    }\n",
       "\n",
       "    .dataframe thead th {\n",
       "        text-align: right;\n",
       "    }\n",
       "</style>\n",
       "<table border=\"1\" class=\"dataframe\">\n",
       "  <thead>\n",
       "    <tr style=\"text-align: right;\">\n",
       "      <th></th>\n",
       "      <th>DateCrawled</th>\n",
       "      <th>Price</th>\n",
       "      <th>VehicleType</th>\n",
       "      <th>RegistrationYear</th>\n",
       "      <th>Gearbox</th>\n",
       "      <th>Power</th>\n",
       "      <th>Model</th>\n",
       "      <th>Kilometer</th>\n",
       "      <th>RegistrationMonth</th>\n",
       "      <th>FuelType</th>\n",
       "      <th>Brand</th>\n",
       "      <th>NotRepaired</th>\n",
       "      <th>DateCreated</th>\n",
       "      <th>NumberOfPictures</th>\n",
       "      <th>PostalCode</th>\n",
       "      <th>LastSeen</th>\n",
       "    </tr>\n",
       "  </thead>\n",
       "  <tbody>\n",
       "    <tr>\n",
       "      <td>0</td>\n",
       "      <td>2016-03-24 11:52:17</td>\n",
       "      <td>480</td>\n",
       "      <td>NaN</td>\n",
       "      <td>1993</td>\n",
       "      <td>manual</td>\n",
       "      <td>0</td>\n",
       "      <td>golf</td>\n",
       "      <td>150000</td>\n",
       "      <td>0</td>\n",
       "      <td>petrol</td>\n",
       "      <td>volkswagen</td>\n",
       "      <td>NaN</td>\n",
       "      <td>2016-03-24 00:00:00</td>\n",
       "      <td>0</td>\n",
       "      <td>70435</td>\n",
       "      <td>2016-04-07 03:16:57</td>\n",
       "    </tr>\n",
       "    <tr>\n",
       "      <td>1</td>\n",
       "      <td>2016-03-24 10:58:45</td>\n",
       "      <td>18300</td>\n",
       "      <td>coupe</td>\n",
       "      <td>2011</td>\n",
       "      <td>manual</td>\n",
       "      <td>190</td>\n",
       "      <td>NaN</td>\n",
       "      <td>125000</td>\n",
       "      <td>5</td>\n",
       "      <td>gasoline</td>\n",
       "      <td>audi</td>\n",
       "      <td>yes</td>\n",
       "      <td>2016-03-24 00:00:00</td>\n",
       "      <td>0</td>\n",
       "      <td>66954</td>\n",
       "      <td>2016-04-07 01:46:50</td>\n",
       "    </tr>\n",
       "    <tr>\n",
       "      <td>2</td>\n",
       "      <td>2016-03-14 12:52:21</td>\n",
       "      <td>9800</td>\n",
       "      <td>suv</td>\n",
       "      <td>2004</td>\n",
       "      <td>auto</td>\n",
       "      <td>163</td>\n",
       "      <td>grand</td>\n",
       "      <td>125000</td>\n",
       "      <td>8</td>\n",
       "      <td>gasoline</td>\n",
       "      <td>jeep</td>\n",
       "      <td>NaN</td>\n",
       "      <td>2016-03-14 00:00:00</td>\n",
       "      <td>0</td>\n",
       "      <td>90480</td>\n",
       "      <td>2016-04-05 12:47:46</td>\n",
       "    </tr>\n",
       "    <tr>\n",
       "      <td>3</td>\n",
       "      <td>2016-03-17 16:54:04</td>\n",
       "      <td>1500</td>\n",
       "      <td>small</td>\n",
       "      <td>2001</td>\n",
       "      <td>manual</td>\n",
       "      <td>75</td>\n",
       "      <td>golf</td>\n",
       "      <td>150000</td>\n",
       "      <td>6</td>\n",
       "      <td>petrol</td>\n",
       "      <td>volkswagen</td>\n",
       "      <td>no</td>\n",
       "      <td>2016-03-17 00:00:00</td>\n",
       "      <td>0</td>\n",
       "      <td>91074</td>\n",
       "      <td>2016-03-17 17:40:17</td>\n",
       "    </tr>\n",
       "    <tr>\n",
       "      <td>4</td>\n",
       "      <td>2016-03-31 17:25:20</td>\n",
       "      <td>3600</td>\n",
       "      <td>small</td>\n",
       "      <td>2008</td>\n",
       "      <td>manual</td>\n",
       "      <td>69</td>\n",
       "      <td>fabia</td>\n",
       "      <td>90000</td>\n",
       "      <td>7</td>\n",
       "      <td>gasoline</td>\n",
       "      <td>skoda</td>\n",
       "      <td>no</td>\n",
       "      <td>2016-03-31 00:00:00</td>\n",
       "      <td>0</td>\n",
       "      <td>60437</td>\n",
       "      <td>2016-04-06 10:17:21</td>\n",
       "    </tr>\n",
       "  </tbody>\n",
       "</table>\n",
       "</div>"
      ],
      "text/plain": [
       "           DateCrawled  Price VehicleType  RegistrationYear Gearbox  Power  \\\n",
       "0  2016-03-24 11:52:17    480         NaN              1993  manual      0   \n",
       "1  2016-03-24 10:58:45  18300       coupe              2011  manual    190   \n",
       "2  2016-03-14 12:52:21   9800         suv              2004    auto    163   \n",
       "3  2016-03-17 16:54:04   1500       small              2001  manual     75   \n",
       "4  2016-03-31 17:25:20   3600       small              2008  manual     69   \n",
       "\n",
       "   Model  Kilometer  RegistrationMonth  FuelType       Brand NotRepaired  \\\n",
       "0   golf     150000                  0    petrol  volkswagen         NaN   \n",
       "1    NaN     125000                  5  gasoline        audi         yes   \n",
       "2  grand     125000                  8  gasoline        jeep         NaN   \n",
       "3   golf     150000                  6    petrol  volkswagen          no   \n",
       "4  fabia      90000                  7  gasoline       skoda          no   \n",
       "\n",
       "           DateCreated  NumberOfPictures  PostalCode             LastSeen  \n",
       "0  2016-03-24 00:00:00                 0       70435  2016-04-07 03:16:57  \n",
       "1  2016-03-24 00:00:00                 0       66954  2016-04-07 01:46:50  \n",
       "2  2016-03-14 00:00:00                 0       90480  2016-04-05 12:47:46  \n",
       "3  2016-03-17 00:00:00                 0       91074  2016-03-17 17:40:17  \n",
       "4  2016-03-31 00:00:00                 0       60437  2016-04-06 10:17:21  "
      ]
     },
     "execution_count": 2,
     "metadata": {},
     "output_type": "execute_result"
    }
   ],
   "source": [
    "df = pd.read_csv(\"/datasets/autos.csv\")\n",
    "df.head()"
   ]
  },
  {
   "cell_type": "code",
   "execution_count": 3,
   "metadata": {},
   "outputs": [
    {
     "name": "stdout",
     "output_type": "stream",
     "text": [
      "<class 'pandas.core.frame.DataFrame'>\n",
      "RangeIndex: 354369 entries, 0 to 354368\n",
      "Data columns (total 16 columns):\n",
      "DateCrawled          354369 non-null object\n",
      "Price                354369 non-null int64\n",
      "VehicleType          316879 non-null object\n",
      "RegistrationYear     354369 non-null int64\n",
      "Gearbox              334536 non-null object\n",
      "Power                354369 non-null int64\n",
      "Model                334664 non-null object\n",
      "Kilometer            354369 non-null int64\n",
      "RegistrationMonth    354369 non-null int64\n",
      "FuelType             321474 non-null object\n",
      "Brand                354369 non-null object\n",
      "NotRepaired          283215 non-null object\n",
      "DateCreated          354369 non-null object\n",
      "NumberOfPictures     354369 non-null int64\n",
      "PostalCode           354369 non-null int64\n",
      "LastSeen             354369 non-null object\n",
      "dtypes: int64(7), object(9)\n",
      "memory usage: 43.3+ MB\n"
     ]
    }
   ],
   "source": [
    "df.info()"
   ]
  },
  {
   "cell_type": "code",
   "execution_count": 4,
   "metadata": {},
   "outputs": [
    {
     "data": {
      "text/html": [
       "<div>\n",
       "<style scoped>\n",
       "    .dataframe tbody tr th:only-of-type {\n",
       "        vertical-align: middle;\n",
       "    }\n",
       "\n",
       "    .dataframe tbody tr th {\n",
       "        vertical-align: top;\n",
       "    }\n",
       "\n",
       "    .dataframe thead th {\n",
       "        text-align: right;\n",
       "    }\n",
       "</style>\n",
       "<table border=\"1\" class=\"dataframe\">\n",
       "  <thead>\n",
       "    <tr style=\"text-align: right;\">\n",
       "      <th></th>\n",
       "      <th>Price</th>\n",
       "      <th>RegistrationYear</th>\n",
       "      <th>Power</th>\n",
       "      <th>Kilometer</th>\n",
       "      <th>RegistrationMonth</th>\n",
       "      <th>NumberOfPictures</th>\n",
       "      <th>PostalCode</th>\n",
       "    </tr>\n",
       "  </thead>\n",
       "  <tbody>\n",
       "    <tr>\n",
       "      <td>count</td>\n",
       "      <td>354369.000000</td>\n",
       "      <td>354369.000000</td>\n",
       "      <td>354369.000000</td>\n",
       "      <td>354369.000000</td>\n",
       "      <td>354369.000000</td>\n",
       "      <td>354369.0</td>\n",
       "      <td>354369.000000</td>\n",
       "    </tr>\n",
       "    <tr>\n",
       "      <td>mean</td>\n",
       "      <td>4416.656776</td>\n",
       "      <td>2004.234448</td>\n",
       "      <td>110.094337</td>\n",
       "      <td>128211.172535</td>\n",
       "      <td>5.714645</td>\n",
       "      <td>0.0</td>\n",
       "      <td>50508.689087</td>\n",
       "    </tr>\n",
       "    <tr>\n",
       "      <td>std</td>\n",
       "      <td>4514.158514</td>\n",
       "      <td>90.227958</td>\n",
       "      <td>189.850405</td>\n",
       "      <td>37905.341530</td>\n",
       "      <td>3.726421</td>\n",
       "      <td>0.0</td>\n",
       "      <td>25783.096248</td>\n",
       "    </tr>\n",
       "    <tr>\n",
       "      <td>min</td>\n",
       "      <td>0.000000</td>\n",
       "      <td>1000.000000</td>\n",
       "      <td>0.000000</td>\n",
       "      <td>5000.000000</td>\n",
       "      <td>0.000000</td>\n",
       "      <td>0.0</td>\n",
       "      <td>1067.000000</td>\n",
       "    </tr>\n",
       "    <tr>\n",
       "      <td>25%</td>\n",
       "      <td>1050.000000</td>\n",
       "      <td>1999.000000</td>\n",
       "      <td>69.000000</td>\n",
       "      <td>125000.000000</td>\n",
       "      <td>3.000000</td>\n",
       "      <td>0.0</td>\n",
       "      <td>30165.000000</td>\n",
       "    </tr>\n",
       "    <tr>\n",
       "      <td>50%</td>\n",
       "      <td>2700.000000</td>\n",
       "      <td>2003.000000</td>\n",
       "      <td>105.000000</td>\n",
       "      <td>150000.000000</td>\n",
       "      <td>6.000000</td>\n",
       "      <td>0.0</td>\n",
       "      <td>49413.000000</td>\n",
       "    </tr>\n",
       "    <tr>\n",
       "      <td>75%</td>\n",
       "      <td>6400.000000</td>\n",
       "      <td>2008.000000</td>\n",
       "      <td>143.000000</td>\n",
       "      <td>150000.000000</td>\n",
       "      <td>9.000000</td>\n",
       "      <td>0.0</td>\n",
       "      <td>71083.000000</td>\n",
       "    </tr>\n",
       "    <tr>\n",
       "      <td>max</td>\n",
       "      <td>20000.000000</td>\n",
       "      <td>9999.000000</td>\n",
       "      <td>20000.000000</td>\n",
       "      <td>150000.000000</td>\n",
       "      <td>12.000000</td>\n",
       "      <td>0.0</td>\n",
       "      <td>99998.000000</td>\n",
       "    </tr>\n",
       "  </tbody>\n",
       "</table>\n",
       "</div>"
      ],
      "text/plain": [
       "               Price  RegistrationYear          Power      Kilometer  \\\n",
       "count  354369.000000     354369.000000  354369.000000  354369.000000   \n",
       "mean     4416.656776       2004.234448     110.094337  128211.172535   \n",
       "std      4514.158514         90.227958     189.850405   37905.341530   \n",
       "min         0.000000       1000.000000       0.000000    5000.000000   \n",
       "25%      1050.000000       1999.000000      69.000000  125000.000000   \n",
       "50%      2700.000000       2003.000000     105.000000  150000.000000   \n",
       "75%      6400.000000       2008.000000     143.000000  150000.000000   \n",
       "max     20000.000000       9999.000000   20000.000000  150000.000000   \n",
       "\n",
       "       RegistrationMonth  NumberOfPictures     PostalCode  \n",
       "count      354369.000000          354369.0  354369.000000  \n",
       "mean            5.714645               0.0   50508.689087  \n",
       "std             3.726421               0.0   25783.096248  \n",
       "min             0.000000               0.0    1067.000000  \n",
       "25%             3.000000               0.0   30165.000000  \n",
       "50%             6.000000               0.0   49413.000000  \n",
       "75%             9.000000               0.0   71083.000000  \n",
       "max            12.000000               0.0   99998.000000  "
      ]
     },
     "execution_count": 4,
     "metadata": {},
     "output_type": "execute_result"
    }
   ],
   "source": [
    "df.describe()"
   ]
  },
  {
   "cell_type": "markdown",
   "metadata": {},
   "source": [
    "В предоставленном датафрейме имеются пропуски, артефакты и лишняя информация. "
   ]
  },
  {
   "cell_type": "markdown",
   "metadata": {},
   "source": [
    "Посмотрим на дату формирования списков:"
   ]
  },
  {
   "cell_type": "code",
   "execution_count": 5,
   "metadata": {},
   "outputs": [
    {
     "data": {
      "text/plain": [
       "'2016-04-07 00:00:00'"
      ]
     },
     "execution_count": 5,
     "metadata": {},
     "output_type": "execute_result"
    }
   ],
   "source": [
    "df.DateCreated.max()"
   ]
  },
  {
   "cell_type": "markdown",
   "metadata": {},
   "source": [
    "* Проведём предобработку данных для корректного обучения моделей в последующем"
   ]
  },
  {
   "cell_type": "markdown",
   "metadata": {},
   "source": [
    "*Удалим не информативные (не влияющие на конечную цену автомобиля) столбцы:*"
   ]
  },
  {
   "cell_type": "code",
   "execution_count": 6,
   "metadata": {
    "scrolled": true
   },
   "outputs": [
    {
     "data": {
      "text/html": [
       "<div>\n",
       "<style scoped>\n",
       "    .dataframe tbody tr th:only-of-type {\n",
       "        vertical-align: middle;\n",
       "    }\n",
       "\n",
       "    .dataframe tbody tr th {\n",
       "        vertical-align: top;\n",
       "    }\n",
       "\n",
       "    .dataframe thead th {\n",
       "        text-align: right;\n",
       "    }\n",
       "</style>\n",
       "<table border=\"1\" class=\"dataframe\">\n",
       "  <thead>\n",
       "    <tr style=\"text-align: right;\">\n",
       "      <th></th>\n",
       "      <th>Price</th>\n",
       "      <th>VehicleType</th>\n",
       "      <th>RegistrationYear</th>\n",
       "      <th>Gearbox</th>\n",
       "      <th>Power</th>\n",
       "      <th>Model</th>\n",
       "      <th>Kilometer</th>\n",
       "      <th>FuelType</th>\n",
       "      <th>Brand</th>\n",
       "      <th>NotRepaired</th>\n",
       "    </tr>\n",
       "  </thead>\n",
       "  <tbody>\n",
       "    <tr>\n",
       "      <td>0</td>\n",
       "      <td>480</td>\n",
       "      <td>NaN</td>\n",
       "      <td>1993</td>\n",
       "      <td>manual</td>\n",
       "      <td>0</td>\n",
       "      <td>golf</td>\n",
       "      <td>150000</td>\n",
       "      <td>petrol</td>\n",
       "      <td>volkswagen</td>\n",
       "      <td>NaN</td>\n",
       "    </tr>\n",
       "    <tr>\n",
       "      <td>1</td>\n",
       "      <td>18300</td>\n",
       "      <td>coupe</td>\n",
       "      <td>2011</td>\n",
       "      <td>manual</td>\n",
       "      <td>190</td>\n",
       "      <td>NaN</td>\n",
       "      <td>125000</td>\n",
       "      <td>gasoline</td>\n",
       "      <td>audi</td>\n",
       "      <td>yes</td>\n",
       "    </tr>\n",
       "    <tr>\n",
       "      <td>2</td>\n",
       "      <td>9800</td>\n",
       "      <td>suv</td>\n",
       "      <td>2004</td>\n",
       "      <td>auto</td>\n",
       "      <td>163</td>\n",
       "      <td>grand</td>\n",
       "      <td>125000</td>\n",
       "      <td>gasoline</td>\n",
       "      <td>jeep</td>\n",
       "      <td>NaN</td>\n",
       "    </tr>\n",
       "    <tr>\n",
       "      <td>3</td>\n",
       "      <td>1500</td>\n",
       "      <td>small</td>\n",
       "      <td>2001</td>\n",
       "      <td>manual</td>\n",
       "      <td>75</td>\n",
       "      <td>golf</td>\n",
       "      <td>150000</td>\n",
       "      <td>petrol</td>\n",
       "      <td>volkswagen</td>\n",
       "      <td>no</td>\n",
       "    </tr>\n",
       "    <tr>\n",
       "      <td>4</td>\n",
       "      <td>3600</td>\n",
       "      <td>small</td>\n",
       "      <td>2008</td>\n",
       "      <td>manual</td>\n",
       "      <td>69</td>\n",
       "      <td>fabia</td>\n",
       "      <td>90000</td>\n",
       "      <td>gasoline</td>\n",
       "      <td>skoda</td>\n",
       "      <td>no</td>\n",
       "    </tr>\n",
       "  </tbody>\n",
       "</table>\n",
       "</div>"
      ],
      "text/plain": [
       "   Price VehicleType  RegistrationYear Gearbox  Power  Model  Kilometer  \\\n",
       "0    480         NaN              1993  manual      0   golf     150000   \n",
       "1  18300       coupe              2011  manual    190    NaN     125000   \n",
       "2   9800         suv              2004    auto    163  grand     125000   \n",
       "3   1500       small              2001  manual     75   golf     150000   \n",
       "4   3600       small              2008  manual     69  fabia      90000   \n",
       "\n",
       "   FuelType       Brand NotRepaired  \n",
       "0    petrol  volkswagen         NaN  \n",
       "1  gasoline        audi         yes  \n",
       "2  gasoline        jeep         NaN  \n",
       "3    petrol  volkswagen          no  \n",
       "4  gasoline       skoda          no  "
      ]
     },
     "execution_count": 6,
     "metadata": {},
     "output_type": "execute_result"
    }
   ],
   "source": [
    "df = df.drop([\"DateCrawled\", \"DateCreated\", \"RegistrationMonth\", \"NumberOfPictures\", \"PostalCode\", \"LastSeen\"], axis=1)\n",
    "df.head()"
   ]
  },
  {
   "cell_type": "markdown",
   "metadata": {},
   "source": [
    "Остались только значимые признаки, определяющие итоговую стоимость."
   ]
  },
  {
   "cell_type": "markdown",
   "metadata": {},
   "source": [
    "*Многоие значения пропущены в столбце VehicleType.*"
   ]
  },
  {
   "cell_type": "code",
   "execution_count": 7,
   "metadata": {},
   "outputs": [
    {
     "data": {
      "text/plain": [
       "37490"
      ]
     },
     "execution_count": 7,
     "metadata": {},
     "output_type": "execute_result"
    }
   ],
   "source": [
    "df[\"VehicleType\"].isna().sum()"
   ]
  },
  {
   "cell_type": "markdown",
   "metadata": {},
   "source": [
    "Попробуем восстановить эти данные исходя из модели авто."
   ]
  },
  {
   "cell_type": "code",
   "execution_count": 8,
   "metadata": {},
   "outputs": [],
   "source": [
    "models_vehType = df.groupby(\"Model\")['VehicleType'].agg(lambda x:x.value_counts().index[0]).to_dict()\n",
    "\n",
    "def vehicle_type_inputer(row):\n",
    "    \n",
    "    model = row[\"Model\"]\n",
    "    veh_Type = row[\"VehicleType\"]\n",
    "    \n",
    "    if model == \"another\" and veh_Type == \"another\":\n",
    "        return \"another\"\n",
    "    elif model == \"another\" and veh_Type != \"another\":\n",
    "        return veh_Type\n",
    "    \n",
    "    return models_vehType[model]\n",
    "\n",
    "df[\"Model\"] = df[\"Model\"].fillna(\"another\")\n",
    "df[\"VehicleType\"] = df[\"VehicleType\"].fillna(\"another\")\n",
    "\n",
    "df[\"VehicleType\"] = df[[\"VehicleType\", \"Model\"]].apply(vehicle_type_inputer, axis=1)"
   ]
  },
  {
   "cell_type": "markdown",
   "metadata": {},
   "source": [
    "Проверим пропуски"
   ]
  },
  {
   "cell_type": "code",
   "execution_count": 9,
   "metadata": {},
   "outputs": [
    {
     "data": {
      "text/plain": [
       "6828"
      ]
     },
     "execution_count": 9,
     "metadata": {},
     "output_type": "execute_result"
    }
   ],
   "source": [
    "df[df[\"VehicleType\"]==\"another\"][\"VehicleType\"].count()"
   ]
  },
  {
   "cell_type": "markdown",
   "metadata": {},
   "source": [
    "Удалось избавиться более чем от 30 000 пропусков, отлично."
   ]
  },
  {
   "cell_type": "markdown",
   "metadata": {},
   "source": [
    "*Если значение пропущено в столбце NotRepaired, будем считать что ремонтов на автомобиле не было.*"
   ]
  },
  {
   "cell_type": "code",
   "execution_count": 10,
   "metadata": {},
   "outputs": [],
   "source": [
    "df[\"NotRepaired\"].fillna(\"yes\", inplace=True)"
   ]
  },
  {
   "cell_type": "markdown",
   "metadata": {},
   "source": [
    "*Осталось обработать пропуски в столбцах Gearbox и FuelType.*  \n",
    "Так как данные параметры могут различаться даже у одной и той же модели, по этому просто заменим \"NaN\" на \"another\"."
   ]
  },
  {
   "cell_type": "code",
   "execution_count": 11,
   "metadata": {},
   "outputs": [],
   "source": [
    "df[['Gearbox','FuelType']] = df[['Gearbox','FuelType']].fillna('another')"
   ]
  },
  {
   "cell_type": "code",
   "execution_count": 12,
   "metadata": {},
   "outputs": [
    {
     "data": {
      "text/plain": [
       "Price               0\n",
       "VehicleType         0\n",
       "RegistrationYear    0\n",
       "Gearbox             0\n",
       "Power               0\n",
       "Model               0\n",
       "Kilometer           0\n",
       "FuelType            0\n",
       "Brand               0\n",
       "NotRepaired         0\n",
       "dtype: int64"
      ]
     },
     "execution_count": 12,
     "metadata": {},
     "output_type": "execute_result"
    }
   ],
   "source": [
    "df.isna().sum()"
   ]
  },
  {
   "cell_type": "markdown",
   "metadata": {},
   "source": [
    "С пропусками разобрались."
   ]
  },
  {
   "cell_type": "markdown",
   "metadata": {},
   "source": [
    "* Следующим этапом проанализируем числовые признаки на наличие аномалий."
   ]
  },
  {
   "cell_type": "code",
   "execution_count": 13,
   "metadata": {},
   "outputs": [],
   "source": [
    "numeric_columns = ['Price', 'RegistrationYear', 'Power', 'Kilometer']\n",
    "\n",
    "def plot_numeric(df, numeric_columns):\n",
    "    fig, axes = plt.subplots(2, 2, figsize=(12, 12))\n",
    "    for column, ax in zip(numeric_columns, axes.ravel()):\n",
    "        ax.set_title(column)\n",
    "        sns.distplot(df[column], ax=ax)\n",
    "    \n",
    "    fig, axes = plt.subplots(2, 2, figsize=(12, 12))\n",
    "    for column, ax in zip(numeric_columns, axes.ravel()):\n",
    "        ax.set_title(column)\n",
    "        sns.boxplot(df[column], ax=ax)"
   ]
  },
  {
   "cell_type": "code",
   "execution_count": 14,
   "metadata": {},
   "outputs": [
    {
     "data": {
      "image/png": "[encoded data removed]",
      "text/plain": [
       "<Figure size 864x864 with 4 Axes>"
      ]
     },
     "metadata": {
      "needs_background": "light"
     },
     "output_type": "display_data"
    },
    {
     "data": {
      "image/png": "[encoded data removed]",
      "text/plain": [
       "<Figure size 864x864 with 4 Axes>"
      ]
     },
     "metadata": {
      "needs_background": "light"
     },
     "output_type": "display_data"
    }
   ],
   "source": [
    "plot_numeric(df, numeric_columns)"
   ]
  },
  {
   "cell_type": "markdown",
   "metadata": {},
   "source": [
    "*Price*"
   ]
  },
  {
   "cell_type": "markdown",
   "metadata": {},
   "source": [
    "Удалим строки с 0 ценой, т.к. предсказывать таргет, который не существует - бессмысленно."
   ]
  },
  {
   "cell_type": "code",
   "execution_count": 15,
   "metadata": {},
   "outputs": [],
   "source": [
    "df=df.drop(df.index[df['Price']==0])"
   ]
  },
  {
   "cell_type": "markdown",
   "metadata": {},
   "source": [
    "*RegistrationYear*"
   ]
  },
  {
   "cell_type": "markdown",
   "metadata": {},
   "source": [
    "Определим, что машин младше 2016 года (год подачи самого позднего объявления), а так же старше 1960 года (начало современной эпохи автомобилестроения) - быть не должно."
   ]
  },
  {
   "cell_type": "code",
   "execution_count": 16,
   "metadata": {},
   "outputs": [
    {
     "name": "stdout",
     "output_type": "stream",
     "text": [
      "Процент данных с ошибками по годам: 4.11%\n"
     ]
    }
   ],
   "source": [
    "print(\"Процент данных с ошибками по годам: {:.2%}\".format(df\n",
    "                                                          .query('RegistrationYear<1960 or RegistrationYear>2016')\n",
    "                                                          .shape[0] / df.shape[0]))"
   ]
  },
  {
   "cell_type": "markdown",
   "metadata": {},
   "source": [
    "Удалим данные с ошибками"
   ]
  },
  {
   "cell_type": "code",
   "execution_count": 17,
   "metadata": {},
   "outputs": [
    {
     "name": "stdout",
     "output_type": "stream",
     "text": [
      "Размер датафрейма: (329342, 10)\n"
     ]
    }
   ],
   "source": [
    "df = df.loc[(df['RegistrationYear']>1960) & (df['RegistrationYear']<2017)]\n",
    "print(\"Размер датафрейма:\", df.shape)"
   ]
  },
  {
   "cell_type": "markdown",
   "metadata": {},
   "source": [
    "*Power*"
   ]
  },
  {
   "cell_type": "markdown",
   "metadata": {},
   "source": [
    "Посмотрим, сколько у нас всего значений с нулевой мощностью"
   ]
  },
  {
   "cell_type": "code",
   "execution_count": 18,
   "metadata": {},
   "outputs": [
    {
     "name": "stdout",
     "output_type": "stream",
     "text": [
      "Записей с нулевой мощностью: 32653\n"
     ]
    }
   ],
   "source": [
    "print(\"Записей с нулевой мощностью:\", df[df['Power']==0].shape[0])"
   ]
  },
  {
   "cell_type": "markdown",
   "metadata": {},
   "source": [
    "Посчитаем среднюю мощность по модели, за исключением нулевых значений и 1% квантиля, заполним этими данными нулевую мощность. Обязательно учтем и аномально большую мощность - больше 99% квантиля"
   ]
  },
  {
   "cell_type": "code",
   "execution_count": 19,
   "metadata": {},
   "outputs": [],
   "source": [
    "power_lower_quantile = df[df['Power']!=0]['Power'].quantile(.01)\n",
    "power_higher_quantile = df[df['Power']!=0]['Power'].quantile(.99)\n",
    "\n",
    "Power_dict = {}\n",
    "\n",
    "for i, j in zip(df.query('Power>=@power_lower_quantile and Power<@power_higher_quantile')\n",
    "                .groupby('Model')['Power'].mean().index, \n",
    "                df.query('Power>=@power_lower_quantile and Power<@power_higher_quantile')\n",
    "                .groupby('Model')['Power'].mean().values):\n",
    "    Power_dict[i] = round(j)\n",
    "\n",
    "df.loc[((df['Power']<power_lower_quantile) | (df['Power']>=power_higher_quantile)), 'Power'] = df['Model'].map(Power_dict)\n",
    "df = df.dropna()"
   ]
  },
  {
   "cell_type": "code",
   "execution_count": 20,
   "metadata": {},
   "outputs": [
    {
     "name": "stdout",
     "output_type": "stream",
     "text": [
      "Размер датафрейма: (329341, 10)\n"
     ]
    }
   ],
   "source": [
    "df['Power'] = df['Power'].astype('int')\n",
    "print(\"Размер датафрейма:\", df.shape)"
   ]
  },
  {
   "cell_type": "markdown",
   "metadata": {},
   "source": [
    "Посмотрим на получившиеся распределения"
   ]
  },
  {
   "cell_type": "code",
   "execution_count": 21,
   "metadata": {},
   "outputs": [
    {
     "data": {
      "image/png": "[encoded data removed]",
      "text/plain": [
       "<Figure size 864x864 with 4 Axes>"
      ]
     },
     "metadata": {
      "needs_background": "light"
     },
     "output_type": "display_data"
    },
    {
     "data": {
      "image/png": "[encoded data removed]",
      "text/plain": [
       "<Figure size 864x864 with 4 Axes>"
      ]
     },
     "metadata": {
      "needs_background": "light"
     },
     "output_type": "display_data"
    }
   ],
   "source": [
    "plot_numeric(df, numeric_columns)"
   ]
  },
  {
   "cell_type": "markdown",
   "metadata": {},
   "source": [
    "*Распределения стали больше похожи на нормальные.*"
   ]
  },
  {
   "cell_type": "markdown",
   "metadata": {},
   "source": [
    "Сбросим индексы после удаления лишних значений, и будем переходить к следующему этапу."
   ]
  },
  {
   "cell_type": "code",
   "execution_count": 22,
   "metadata": {},
   "outputs": [
    {
     "data": {
      "text/html": [
       "<div>\n",
       "<style scoped>\n",
       "    .dataframe tbody tr th:only-of-type {\n",
       "        vertical-align: middle;\n",
       "    }\n",
       "\n",
       "    .dataframe tbody tr th {\n",
       "        vertical-align: top;\n",
       "    }\n",
       "\n",
       "    .dataframe thead th {\n",
       "        text-align: right;\n",
       "    }\n",
       "</style>\n",
       "<table border=\"1\" class=\"dataframe\">\n",
       "  <thead>\n",
       "    <tr style=\"text-align: right;\">\n",
       "      <th></th>\n",
       "      <th>Price</th>\n",
       "      <th>VehicleType</th>\n",
       "      <th>RegistrationYear</th>\n",
       "      <th>Gearbox</th>\n",
       "      <th>Power</th>\n",
       "      <th>Model</th>\n",
       "      <th>Kilometer</th>\n",
       "      <th>FuelType</th>\n",
       "      <th>Brand</th>\n",
       "      <th>NotRepaired</th>\n",
       "    </tr>\n",
       "  </thead>\n",
       "  <tbody>\n",
       "    <tr>\n",
       "      <td>0</td>\n",
       "      <td>480</td>\n",
       "      <td>sedan</td>\n",
       "      <td>1993</td>\n",
       "      <td>manual</td>\n",
       "      <td>104</td>\n",
       "      <td>golf</td>\n",
       "      <td>150000</td>\n",
       "      <td>petrol</td>\n",
       "      <td>volkswagen</td>\n",
       "      <td>yes</td>\n",
       "    </tr>\n",
       "    <tr>\n",
       "      <td>1</td>\n",
       "      <td>18300</td>\n",
       "      <td>coupe</td>\n",
       "      <td>2011</td>\n",
       "      <td>manual</td>\n",
       "      <td>190</td>\n",
       "      <td>another</td>\n",
       "      <td>125000</td>\n",
       "      <td>gasoline</td>\n",
       "      <td>audi</td>\n",
       "      <td>yes</td>\n",
       "    </tr>\n",
       "    <tr>\n",
       "      <td>2</td>\n",
       "      <td>9800</td>\n",
       "      <td>suv</td>\n",
       "      <td>2004</td>\n",
       "      <td>auto</td>\n",
       "      <td>163</td>\n",
       "      <td>grand</td>\n",
       "      <td>125000</td>\n",
       "      <td>gasoline</td>\n",
       "      <td>jeep</td>\n",
       "      <td>yes</td>\n",
       "    </tr>\n",
       "    <tr>\n",
       "      <td>3</td>\n",
       "      <td>1500</td>\n",
       "      <td>sedan</td>\n",
       "      <td>2001</td>\n",
       "      <td>manual</td>\n",
       "      <td>75</td>\n",
       "      <td>golf</td>\n",
       "      <td>150000</td>\n",
       "      <td>petrol</td>\n",
       "      <td>volkswagen</td>\n",
       "      <td>no</td>\n",
       "    </tr>\n",
       "    <tr>\n",
       "      <td>4</td>\n",
       "      <td>3600</td>\n",
       "      <td>small</td>\n",
       "      <td>2008</td>\n",
       "      <td>manual</td>\n",
       "      <td>69</td>\n",
       "      <td>fabia</td>\n",
       "      <td>90000</td>\n",
       "      <td>gasoline</td>\n",
       "      <td>skoda</td>\n",
       "      <td>no</td>\n",
       "    </tr>\n",
       "    <tr>\n",
       "      <td>...</td>\n",
       "      <td>...</td>\n",
       "      <td>...</td>\n",
       "      <td>...</td>\n",
       "      <td>...</td>\n",
       "      <td>...</td>\n",
       "      <td>...</td>\n",
       "      <td>...</td>\n",
       "      <td>...</td>\n",
       "      <td>...</td>\n",
       "      <td>...</td>\n",
       "    </tr>\n",
       "    <tr>\n",
       "      <td>329336</td>\n",
       "      <td>1150</td>\n",
       "      <td>bus</td>\n",
       "      <td>2000</td>\n",
       "      <td>manual</td>\n",
       "      <td>125</td>\n",
       "      <td>zafira</td>\n",
       "      <td>150000</td>\n",
       "      <td>petrol</td>\n",
       "      <td>opel</td>\n",
       "      <td>no</td>\n",
       "    </tr>\n",
       "    <tr>\n",
       "      <td>329337</td>\n",
       "      <td>2200</td>\n",
       "      <td>another</td>\n",
       "      <td>2005</td>\n",
       "      <td>another</td>\n",
       "      <td>117</td>\n",
       "      <td>another</td>\n",
       "      <td>20000</td>\n",
       "      <td>another</td>\n",
       "      <td>sonstige_autos</td>\n",
       "      <td>yes</td>\n",
       "    </tr>\n",
       "    <tr>\n",
       "      <td>329338</td>\n",
       "      <td>1199</td>\n",
       "      <td>small</td>\n",
       "      <td>2000</td>\n",
       "      <td>auto</td>\n",
       "      <td>101</td>\n",
       "      <td>fortwo</td>\n",
       "      <td>125000</td>\n",
       "      <td>petrol</td>\n",
       "      <td>smart</td>\n",
       "      <td>no</td>\n",
       "    </tr>\n",
       "    <tr>\n",
       "      <td>329339</td>\n",
       "      <td>9200</td>\n",
       "      <td>bus</td>\n",
       "      <td>1996</td>\n",
       "      <td>manual</td>\n",
       "      <td>102</td>\n",
       "      <td>transporter</td>\n",
       "      <td>150000</td>\n",
       "      <td>gasoline</td>\n",
       "      <td>volkswagen</td>\n",
       "      <td>no</td>\n",
       "    </tr>\n",
       "    <tr>\n",
       "      <td>329340</td>\n",
       "      <td>3400</td>\n",
       "      <td>sedan</td>\n",
       "      <td>2002</td>\n",
       "      <td>manual</td>\n",
       "      <td>100</td>\n",
       "      <td>golf</td>\n",
       "      <td>150000</td>\n",
       "      <td>gasoline</td>\n",
       "      <td>volkswagen</td>\n",
       "      <td>yes</td>\n",
       "    </tr>\n",
       "  </tbody>\n",
       "</table>\n",
       "<p>329341 rows × 10 columns</p>\n",
       "</div>"
      ],
      "text/plain": [
       "        Price VehicleType  RegistrationYear  Gearbox  Power        Model  \\\n",
       "0         480       sedan              1993   manual    104         golf   \n",
       "1       18300       coupe              2011   manual    190      another   \n",
       "2        9800         suv              2004     auto    163        grand   \n",
       "3        1500       sedan              2001   manual     75         golf   \n",
       "4        3600       small              2008   manual     69        fabia   \n",
       "...       ...         ...               ...      ...    ...          ...   \n",
       "329336   1150         bus              2000   manual    125       zafira   \n",
       "329337   2200     another              2005  another    117      another   \n",
       "329338   1199       small              2000     auto    101       fortwo   \n",
       "329339   9200         bus              1996   manual    102  transporter   \n",
       "329340   3400       sedan              2002   manual    100         golf   \n",
       "\n",
       "        Kilometer  FuelType           Brand NotRepaired  \n",
       "0          150000    petrol      volkswagen         yes  \n",
       "1          125000  gasoline            audi         yes  \n",
       "2          125000  gasoline            jeep         yes  \n",
       "3          150000    petrol      volkswagen          no  \n",
       "4           90000  gasoline           skoda          no  \n",
       "...           ...       ...             ...         ...  \n",
       "329336     150000    petrol            opel          no  \n",
       "329337      20000   another  sonstige_autos         yes  \n",
       "329338     125000    petrol           smart          no  \n",
       "329339     150000  gasoline      volkswagen          no  \n",
       "329340     150000  gasoline      volkswagen         yes  \n",
       "\n",
       "[329341 rows x 10 columns]"
      ]
     },
     "execution_count": 22,
     "metadata": {},
     "output_type": "execute_result"
    }
   ],
   "source": [
    "df=df.reset_index(drop=True)\n",
    "df"
   ]
  },
  {
   "cell_type": "markdown",
   "metadata": {},
   "source": [
    "## Обучение моделей"
   ]
  },
  {
   "cell_type": "markdown",
   "metadata": {},
   "source": [
    "* Разделим данные на основную выборку и целевые признаки"
   ]
  },
  {
   "cell_type": "code",
   "execution_count": 23,
   "metadata": {},
   "outputs": [],
   "source": [
    "features=df.drop(['Price'],axis=1)\n",
    "target=df['Price']"
   ]
  },
  {
   "cell_type": "code",
   "execution_count": 24,
   "metadata": {},
   "outputs": [
    {
     "data": {
      "text/plain": [
       "Index(['VehicleType', 'RegistrationYear', 'Gearbox', 'Power', 'Model',\n",
       "       'Kilometer', 'FuelType', 'Brand', 'NotRepaired'],\n",
       "      dtype='object')"
      ]
     },
     "execution_count": 24,
     "metadata": {},
     "output_type": "execute_result"
    }
   ],
   "source": [
    "features.columns"
   ]
  },
  {
   "cell_type": "markdown",
   "metadata": {},
   "source": [
    "Выберем только категориальные признаки"
   ]
  },
  {
   "cell_type": "code",
   "execution_count": 25,
   "metadata": {},
   "outputs": [],
   "source": [
    "col=['VehicleType', 'Gearbox','Model',\n",
    "       'FuelType', 'Brand', 'NotRepaired']"
   ]
  },
  {
   "cell_type": "markdown",
   "metadata": {},
   "source": [
    "* Применим кодирование текстовых данных в категориальные цифровые значения методом OrdinalEncoder"
   ]
  },
  {
   "cell_type": "code",
   "execution_count": 26,
   "metadata": {},
   "outputs": [
    {
     "data": {
      "text/html": [
       "<div>\n",
       "<style scoped>\n",
       "    .dataframe tbody tr th:only-of-type {\n",
       "        vertical-align: middle;\n",
       "    }\n",
       "\n",
       "    .dataframe tbody tr th {\n",
       "        vertical-align: top;\n",
       "    }\n",
       "\n",
       "    .dataframe thead th {\n",
       "        text-align: right;\n",
       "    }\n",
       "</style>\n",
       "<table border=\"1\" class=\"dataframe\">\n",
       "  <thead>\n",
       "    <tr style=\"text-align: right;\">\n",
       "      <th></th>\n",
       "      <th>VehicleType</th>\n",
       "      <th>RegistrationYear</th>\n",
       "      <th>Gearbox</th>\n",
       "      <th>Power</th>\n",
       "      <th>Model</th>\n",
       "      <th>Kilometer</th>\n",
       "      <th>FuelType</th>\n",
       "      <th>Brand</th>\n",
       "      <th>NotRepaired</th>\n",
       "    </tr>\n",
       "  </thead>\n",
       "  <tbody>\n",
       "    <tr>\n",
       "      <td>0</td>\n",
       "      <td>5.0</td>\n",
       "      <td>1993</td>\n",
       "      <td>2.0</td>\n",
       "      <td>104</td>\n",
       "      <td>117.0</td>\n",
       "      <td>150000</td>\n",
       "      <td>7.0</td>\n",
       "      <td>38.0</td>\n",
       "      <td>1.0</td>\n",
       "    </tr>\n",
       "    <tr>\n",
       "      <td>1</td>\n",
       "      <td>3.0</td>\n",
       "      <td>2011</td>\n",
       "      <td>2.0</td>\n",
       "      <td>190</td>\n",
       "      <td>40.0</td>\n",
       "      <td>125000</td>\n",
       "      <td>3.0</td>\n",
       "      <td>1.0</td>\n",
       "      <td>1.0</td>\n",
       "    </tr>\n",
       "    <tr>\n",
       "      <td>2</td>\n",
       "      <td>7.0</td>\n",
       "      <td>2004</td>\n",
       "      <td>1.0</td>\n",
       "      <td>163</td>\n",
       "      <td>118.0</td>\n",
       "      <td>125000</td>\n",
       "      <td>3.0</td>\n",
       "      <td>14.0</td>\n",
       "      <td>1.0</td>\n",
       "    </tr>\n",
       "    <tr>\n",
       "      <td>3</td>\n",
       "      <td>5.0</td>\n",
       "      <td>2001</td>\n",
       "      <td>2.0</td>\n",
       "      <td>75</td>\n",
       "      <td>117.0</td>\n",
       "      <td>150000</td>\n",
       "      <td>7.0</td>\n",
       "      <td>38.0</td>\n",
       "      <td>0.0</td>\n",
       "    </tr>\n",
       "    <tr>\n",
       "      <td>4</td>\n",
       "      <td>6.0</td>\n",
       "      <td>2008</td>\n",
       "      <td>2.0</td>\n",
       "      <td>69</td>\n",
       "      <td>102.0</td>\n",
       "      <td>90000</td>\n",
       "      <td>3.0</td>\n",
       "      <td>31.0</td>\n",
       "      <td>0.0</td>\n",
       "    </tr>\n",
       "  </tbody>\n",
       "</table>\n",
       "</div>"
      ],
      "text/plain": [
       "   VehicleType  RegistrationYear  Gearbox  Power  Model  Kilometer  FuelType  \\\n",
       "0          5.0              1993      2.0    104  117.0     150000       7.0   \n",
       "1          3.0              2011      2.0    190   40.0     125000       3.0   \n",
       "2          7.0              2004      1.0    163  118.0     125000       3.0   \n",
       "3          5.0              2001      2.0     75  117.0     150000       7.0   \n",
       "4          6.0              2008      2.0     69  102.0      90000       3.0   \n",
       "\n",
       "   Brand  NotRepaired  \n",
       "0   38.0          1.0  \n",
       "1    1.0          1.0  \n",
       "2   14.0          1.0  \n",
       "3   38.0          0.0  \n",
       "4   31.0          0.0  "
      ]
     },
     "execution_count": 26,
     "metadata": {},
     "output_type": "execute_result"
    }
   ],
   "source": [
    "encoder = OrdinalEncoder()\n",
    "encoder.fit(features[col])\n",
    "features_ord=features.copy()\n",
    "features_ord[col]= pd.DataFrame(encoder.transform(features[col]), columns = features[col].columns)\n",
    "\n",
    "#Выведем результат\n",
    "features_ord.head()"
   ]
  },
  {
   "cell_type": "markdown",
   "metadata": {},
   "source": [
    "Определим тестовую и тренировочную выборку"
   ]
  },
  {
   "cell_type": "code",
   "execution_count": 27,
   "metadata": {
    "scrolled": true
   },
   "outputs": [
    {
     "name": "stdout",
     "output_type": "stream",
     "text": [
      "Размер тренировочной выборки- 75%\n",
      "Размер тестовой выборки - 25%\n"
     ]
    }
   ],
   "source": [
    "train_features, test_features, train_target, test_target = train_test_split(\n",
    "    features_ord,target, test_size=0.25, random_state=42)\n",
    "\n",
    "#Проверим разделение\n",
    "train_sample=train_features.shape[0]/features.shape[0]\n",
    "test_sample=test_target.shape[0]/target.shape[0]\n",
    "print('Размер тренировочной выборки- {:.0%}'.format(train_sample))\n",
    "print('Размер тестовой выборки - {:.0%}'.format(test_sample))"
   ]
  },
  {
   "cell_type": "markdown",
   "metadata": {},
   "source": [
    "* Применим масштабирование к нашим данным при помощи StandardScaler"
   ]
  },
  {
   "cell_type": "code",
   "execution_count": 28,
   "metadata": {},
   "outputs": [
    {
     "name": "stdout",
     "output_type": "stream",
     "text": [
      "(247005, 9)\n",
      "(82336, 9)\n"
     ]
    },
    {
     "data": {
      "text/html": [
       "<div>\n",
       "<style scoped>\n",
       "    .dataframe tbody tr th:only-of-type {\n",
       "        vertical-align: middle;\n",
       "    }\n",
       "\n",
       "    .dataframe tbody tr th {\n",
       "        vertical-align: top;\n",
       "    }\n",
       "\n",
       "    .dataframe thead th {\n",
       "        text-align: right;\n",
       "    }\n",
       "</style>\n",
       "<table border=\"1\" class=\"dataframe\">\n",
       "  <thead>\n",
       "    <tr style=\"text-align: right;\">\n",
       "      <th></th>\n",
       "      <th>VehicleType</th>\n",
       "      <th>RegistrationYear</th>\n",
       "      <th>Gearbox</th>\n",
       "      <th>Power</th>\n",
       "      <th>Model</th>\n",
       "      <th>Kilometer</th>\n",
       "      <th>FuelType</th>\n",
       "      <th>Brand</th>\n",
       "      <th>NotRepaired</th>\n",
       "    </tr>\n",
       "  </thead>\n",
       "  <tbody>\n",
       "    <tr>\n",
       "      <td>13289</td>\n",
       "      <td>-0.152006</td>\n",
       "      <td>0.503967</td>\n",
       "      <td>-3.143956</td>\n",
       "      <td>-0.308576</td>\n",
       "      <td>0.152608</td>\n",
       "      <td>0.580168</td>\n",
       "      <td>-0.986676</td>\n",
       "      <td>1.292936</td>\n",
       "      <td>-0.625387</td>\n",
       "    </tr>\n",
       "    <tr>\n",
       "      <td>148326</td>\n",
       "      <td>-2.296027</td>\n",
       "      <td>-1.006776</td>\n",
       "      <td>0.522477</td>\n",
       "      <td>-0.350441</td>\n",
       "      <td>1.665687</td>\n",
       "      <td>0.580168</td>\n",
       "      <td>-0.986676</td>\n",
       "      <td>1.292936</td>\n",
       "      <td>-0.625387</td>\n",
       "    </tr>\n",
       "    <tr>\n",
       "      <td>105513</td>\n",
       "      <td>-0.152006</td>\n",
       "      <td>0.806116</td>\n",
       "      <td>0.522477</td>\n",
       "      <td>0.068204</td>\n",
       "      <td>-1.417034</td>\n",
       "      <td>0.580168</td>\n",
       "      <td>0.734224</td>\n",
       "      <td>-1.413741</td>\n",
       "      <td>-0.625387</td>\n",
       "    </tr>\n",
       "    <tr>\n",
       "      <td>322416</td>\n",
       "      <td>0.383999</td>\n",
       "      <td>-0.553553</td>\n",
       "      <td>0.522477</td>\n",
       "      <td>-1.438918</td>\n",
       "      <td>0.958641</td>\n",
       "      <td>0.580168</td>\n",
       "      <td>0.734224</td>\n",
       "      <td>1.292936</td>\n",
       "      <td>-0.625387</td>\n",
       "    </tr>\n",
       "    <tr>\n",
       "      <td>212555</td>\n",
       "      <td>1.456010</td>\n",
       "      <td>-0.100330</td>\n",
       "      <td>0.522477</td>\n",
       "      <td>0.654307</td>\n",
       "      <td>-1.091793</td>\n",
       "      <td>-0.087778</td>\n",
       "      <td>0.734224</td>\n",
       "      <td>-1.488926</td>\n",
       "      <td>-0.625387</td>\n",
       "    </tr>\n",
       "  </tbody>\n",
       "</table>\n",
       "</div>"
      ],
      "text/plain": [
       "        VehicleType  RegistrationYear   Gearbox     Power     Model  \\\n",
       "13289     -0.152006          0.503967 -3.143956 -0.308576  0.152608   \n",
       "148326    -2.296027         -1.006776  0.522477 -0.350441  1.665687   \n",
       "105513    -0.152006          0.806116  0.522477  0.068204 -1.417034   \n",
       "322416     0.383999         -0.553553  0.522477 -1.438918  0.958641   \n",
       "212555     1.456010         -0.100330  0.522477  0.654307 -1.091793   \n",
       "\n",
       "        Kilometer  FuelType     Brand  NotRepaired  \n",
       "13289    0.580168 -0.986676  1.292936    -0.625387  \n",
       "148326   0.580168 -0.986676  1.292936    -0.625387  \n",
       "105513   0.580168  0.734224 -1.413741    -0.625387  \n",
       "322416   0.580168  0.734224  1.292936    -0.625387  \n",
       "212555  -0.087778  0.734224 -1.488926    -0.625387  "
      ]
     },
     "execution_count": 28,
     "metadata": {},
     "output_type": "execute_result"
    }
   ],
   "source": [
    "numeric=['VehicleType','RegistrationYear','Gearbox','Power','Model','Kilometer','FuelType','Brand','NotRepaired']\n",
    "scaler=StandardScaler()\n",
    "scaler.fit(features_ord[numeric])\n",
    "\n",
    "train_features[numeric]=scaler.transform(train_features[numeric])\n",
    "test_features[numeric]=scaler.transform(test_features[numeric])\n",
    "\n",
    "print(train_features.shape)\n",
    "print(test_features.shape)\n",
    "\n",
    "train_features.head()"
   ]
  },
  {
   "cell_type": "markdown",
   "metadata": {},
   "source": [
    "*Текстовые признаки трансформированы в цифровой формат, выборки разделены на тренировочную и тестовую - можно переходить к обучению моделей.*"
   ]
  },
  {
   "cell_type": "markdown",
   "metadata": {},
   "source": [
    "* Для расчёта целевой метрики используем RMSE и напишем функцию."
   ]
  },
  {
   "cell_type": "code",
   "execution_count": 29,
   "metadata": {},
   "outputs": [],
   "source": [
    "def rmse(test,predict):\n",
    "    return ((mean_squared_error(test,predict))**0.5).round(2)"
   ]
  },
  {
   "cell_type": "markdown",
   "metadata": {},
   "source": [
    "Для понимания, какие факторы важны при моделировании, создадим функцию, используя feature_importances_"
   ]
  },
  {
   "cell_type": "code",
   "execution_count": 30,
   "metadata": {},
   "outputs": [],
   "source": [
    "def importances(model,features):\n",
    "    features=features.columns\n",
    "    importances = model.feature_importances_\n",
    "    indices = np.argsort(importances)\n",
    "    \n",
    "    plt.figure(figsize=(11, 5))\n",
    "    plt.title('Важность функции')\n",
    "    plt.barh(range(len(indices)), importances[indices], color='#6495ED', align='center')\n",
    "    plt.yticks(range(len(indices)), features[indices])\n",
    "    plt.grid(True, linewidth = 0.4)\n",
    "    plt.xlabel('Относительная важность')\n",
    "    plt.show()"
   ]
  },
  {
   "cell_type": "markdown",
   "metadata": {},
   "source": [
    "* **LinearRegression**"
   ]
  },
  {
   "cell_type": "code",
   "execution_count": 31,
   "metadata": {},
   "outputs": [
    {
     "name": "stdout",
     "output_type": "stream",
     "text": [
      "CPU times: user 73.5 ms, sys: 4.27 ms, total: 77.8 ms\n",
      "Wall time: 90.6 ms\n"
     ]
    }
   ],
   "source": [
    "%%time\n",
    "start = time.time()\n",
    "model_lr=LinearRegression(normalize=True)\n",
    "model_lr.fit(train_features,train_target)\n",
    "end = time.time()\n",
    "t_lr=round(end-start,2)"
   ]
  },
  {
   "cell_type": "code",
   "execution_count": 32,
   "metadata": {},
   "outputs": [
    {
     "name": "stdout",
     "output_type": "stream",
     "text": [
      "CPU times: user 17.7 ms, sys: 74 µs, total: 17.7 ms\n",
      "Wall time: 6.42 ms\n"
     ]
    }
   ],
   "source": [
    "%%time\n",
    "start = time.time()\n",
    "predict_lr=model_lr.predict(test_features)\n",
    "end = time.time()\n",
    "t_lr_p=round(end-start,2)"
   ]
  },
  {
   "cell_type": "code",
   "execution_count": 33,
   "metadata": {},
   "outputs": [
    {
     "name": "stdout",
     "output_type": "stream",
     "text": [
      " Гиперпараметры модели:\n",
      " LinearRegression(copy_X=True, fit_intercept=True, n_jobs=None, normalize=True)\n"
     ]
    }
   ],
   "source": [
    "print(' Гиперпараметры модели:\\n',model_lr)"
   ]
  },
  {
   "cell_type": "code",
   "execution_count": 34,
   "metadata": {},
   "outputs": [
    {
     "name": "stdout",
     "output_type": "stream",
     "text": [
      "MAE модели LinearRegression равна: 2185.55\n",
      "RMSE модели LinearRegression равна: 3074.12\n"
     ]
    }
   ],
   "source": [
    "mae_lr=mean_absolute_error(test_target, predict_lr)\n",
    "print('MAE модели LinearRegression равна:',mae_lr.round(2))\n",
    "rmse_lr=rmse(test_target, predict_lr)\n",
    "print('RMSE модели LinearRegression равна:', rmse_lr)"
   ]
  },
  {
   "cell_type": "markdown",
   "metadata": {},
   "source": [
    "* **RandomForestRegressor**"
   ]
  },
  {
   "cell_type": "code",
   "execution_count": 35,
   "metadata": {},
   "outputs": [
    {
     "name": "stdout",
     "output_type": "stream",
     "text": [
      "CPU times: user 1min 11s, sys: 598 ms, total: 1min 11s\n",
      "Wall time: 1min 13s\n"
     ]
    }
   ],
   "source": [
    "%%time\n",
    "start = time.time()\n",
    "model_rf = RandomForestRegressor(random_state=42, criterion='mse',warm_start=False, n_estimators=100)\n",
    "model_rf.fit(train_features, train_target)\n",
    "end = time.time()\n",
    "t_rf=round(end-start,2)"
   ]
  },
  {
   "cell_type": "code",
   "execution_count": 36,
   "metadata": {},
   "outputs": [
    {
     "name": "stdout",
     "output_type": "stream",
     "text": [
      " Гиперпараметры модели:\n",
      " RandomForestRegressor(bootstrap=True, criterion='mse', max_depth=None,\n",
      "                      max_features='auto', max_leaf_nodes=None,\n",
      "                      min_impurity_decrease=0.0, min_impurity_split=None,\n",
      "                      min_samples_leaf=1, min_samples_split=2,\n",
      "                      min_weight_fraction_leaf=0.0, n_estimators=100,\n",
      "                      n_jobs=None, oob_score=False, random_state=42, verbose=0,\n",
      "                      warm_start=False)\n"
     ]
    }
   ],
   "source": [
    "print(' Гиперпараметры модели:\\n',model_rf)"
   ]
  },
  {
   "cell_type": "code",
   "execution_count": 37,
   "metadata": {},
   "outputs": [
    {
     "name": "stdout",
     "output_type": "stream",
     "text": [
      "CPU times: user 3.66 s, sys: 0 ns, total: 3.66 s\n",
      "Wall time: 3.67 s\n"
     ]
    }
   ],
   "source": [
    "%%time\n",
    "start = time.time()\n",
    "pred_rf=model_rf.predict(test_features)\n",
    "end = time.time()\n",
    "t_rf_p=round(end-start,2)"
   ]
  },
  {
   "cell_type": "code",
   "execution_count": 38,
   "metadata": {},
   "outputs": [
    {
     "name": "stdout",
     "output_type": "stream",
     "text": [
      "MAE модели RandomForestRegressor равна: 1037.07\n",
      "RMSE модели RandomForestRegressor равна: 1714.97\n"
     ]
    }
   ],
   "source": [
    "mae_rf=mean_absolute_error(test_target, pred_rf)\n",
    "print('MAE модели RandomForestRegressor равна:',mae_rf.round(2))\n",
    "rmse_rf = rmse(test_target,pred_rf)\n",
    "print('RMSE модели RandomForestRegressor равна:', rmse_rf)"
   ]
  },
  {
   "cell_type": "markdown",
   "metadata": {},
   "source": [
    "Факторы важности модели RandomForestRegressor"
   ]
  },
  {
   "cell_type": "code",
   "execution_count": 39,
   "metadata": {},
   "outputs": [
    {
     "data": {
      "image/png": "[encoded data removed]",
      "text/plain": [
       "<Figure size 792x360 with 1 Axes>"
      ]
     },
     "metadata": {
      "needs_background": "light"
     },
     "output_type": "display_data"
    }
   ],
   "source": [
    "importances(model_rf,test_features)"
   ]
  },
  {
   "cell_type": "markdown",
   "metadata": {},
   "source": [
    "* **CatBoostRegressor**"
   ]
  },
  {
   "cell_type": "code",
   "execution_count": 40,
   "metadata": {},
   "outputs": [
    {
     "name": "stdout",
     "output_type": "stream",
     "text": [
      "0:\tlearn: 3499.2163013\ttest: 3507.0507385\tbest: 3507.0507385 (0)\ttotal: 206ms\tremaining: 3m 25s\n",
      "100:\tlearn: 1777.7697262\ttest: 1800.4000180\tbest: 1800.4000180 (100)\ttotal: 19.6s\tremaining: 2m 54s\n",
      "200:\tlearn: 1702.5056146\ttest: 1751.7487419\tbest: 1751.7487419 (200)\ttotal: 37.8s\tremaining: 2m 30s\n",
      "300:\tlearn: 1659.1973943\ttest: 1730.0567523\tbest: 1730.0567523 (300)\ttotal: 55.6s\tremaining: 2m 9s\n",
      "400:\tlearn: 1626.1186630\ttest: 1713.5693608\tbest: 1713.5693608 (400)\ttotal: 1m 13s\tremaining: 1m 49s\n",
      "500:\tlearn: 1601.6796984\ttest: 1704.3646281\tbest: 1704.3646281 (500)\ttotal: 1m 31s\tremaining: 1m 30s\n",
      "600:\tlearn: 1581.1572992\ttest: 1695.8140838\tbest: 1695.5076017 (599)\ttotal: 1m 49s\tremaining: 1m 12s\n",
      "700:\tlearn: 1563.3271446\ttest: 1689.6275042\tbest: 1689.6275042 (700)\ttotal: 2m 6s\tremaining: 54.2s\n",
      "800:\tlearn: 1548.0107366\ttest: 1684.4251708\tbest: 1684.4251708 (800)\ttotal: 2m 25s\tremaining: 36s\n",
      "900:\tlearn: 1535.0825421\ttest: 1680.9255424\tbest: 1680.7366502 (896)\ttotal: 2m 42s\tremaining: 17.8s\n",
      "999:\tlearn: 1522.7038428\ttest: 1678.7149666\tbest: 1678.6592653 (991)\ttotal: 2m 59s\tremaining: 0us\n",
      "\n",
      "bestTest = 1678.659265\n",
      "bestIteration = 991\n",
      "\n",
      "Shrink model to first 992 iterations.\n",
      "CPU times: user 2min 39s, sys: 19.3 s, total: 2min 59s\n",
      "Wall time: 3min 3s\n"
     ]
    }
   ],
   "source": [
    "%%time\n",
    "start = time.time()\n",
    "model_cat = CatBoostRegressor(random_state=42,learning_rate=0.4, verbose=100,n_estimators=1000)\n",
    "model_cat.fit(train_features, train_target, eval_set=(test_features,test_target))\n",
    "end = time.time()\n",
    "t_cat=round(end-start,2)"
   ]
  },
  {
   "cell_type": "code",
   "execution_count": 41,
   "metadata": {},
   "outputs": [
    {
     "name": "stdout",
     "output_type": "stream",
     "text": [
      "CPU times: user 164 ms, sys: 3.66 ms, total: 167 ms\n",
      "Wall time: 132 ms\n"
     ]
    }
   ],
   "source": [
    "%%time\n",
    "start = time.time()\n",
    "predict_cat=model_cat.predict(test_features)\n",
    "end = time.time()\n",
    "t_cat_p=round(end-start,2)"
   ]
  },
  {
   "cell_type": "code",
   "execution_count": 42,
   "metadata": {},
   "outputs": [
    {
     "name": "stdout",
     "output_type": "stream",
     "text": [
      "MAE модели CatBoostRegressor равна: 1042.74\n",
      "RMSE модели CatBoostRegressor равна: 1678.66\n"
     ]
    }
   ],
   "source": [
    "mae_cat=mean_absolute_error(test_target, predict_cat).round(2)\n",
    "print('MAE модели CatBoostRegressor равна:',mae_cat.round(2))\n",
    "rmse_cat=rmse(test_target, predict_cat)\n",
    "print('RMSE модели CatBoostRegressor равна:', rmse_cat)"
   ]
  },
  {
   "cell_type": "markdown",
   "metadata": {},
   "source": [
    "Факторы важности модели CatBoostRegressor"
   ]
  },
  {
   "cell_type": "code",
   "execution_count": 43,
   "metadata": {},
   "outputs": [
    {
     "data": {
      "image/png": "[encoded data removed]",
      "text/plain": [
       "<Figure size 792x360 with 1 Axes>"
      ]
     },
     "metadata": {
      "needs_background": "light"
     },
     "output_type": "display_data"
    }
   ],
   "source": [
    "importances(model_cat,train_features)"
   ]
  },
  {
   "cell_type": "markdown",
   "metadata": {},
   "source": [
    "* **LightGBM**"
   ]
  },
  {
   "cell_type": "code",
   "execution_count": 44,
   "metadata": {},
   "outputs": [
    {
     "name": "stdout",
     "output_type": "stream",
     "text": [
      "[100]\tvalid_0's rmse: 1729.26\n",
      "[200]\tvalid_0's rmse: 1693.85\n",
      "[300]\tvalid_0's rmse: 1678.14\n",
      "[400]\tvalid_0's rmse: 1670.53\n",
      "[500]\tvalid_0's rmse: 1666.77\n",
      "[600]\tvalid_0's rmse: 1662.15\n",
      "[700]\tvalid_0's rmse: 1662.13\n",
      "[800]\tvalid_0's rmse: 1660.42\n",
      "[900]\tvalid_0's rmse: 1659.85\n",
      "[1000]\tvalid_0's rmse: 1659.76\n",
      "CPU times: user 1min 3s, sys: 212 ms, total: 1min 3s\n",
      "Wall time: 1min 4s\n"
     ]
    }
   ],
   "source": [
    "%%time\n",
    "start = time.time()\n",
    "model_LGB = lgbm.sklearn.LGBMRegressor(n_estimators=1000, random_state=42, learning_rate=0.4, objective='rmse')\n",
    "model_LGB.fit(train_features, train_target, eval_set=(test_features,test_target), verbose=100)\n",
    "end = time.time()\n",
    "t_lgb=round(end-start,2)"
   ]
  },
  {
   "cell_type": "code",
   "execution_count": 45,
   "metadata": {},
   "outputs": [
    {
     "name": "stdout",
     "output_type": "stream",
     "text": [
      "CPU times: user 6.93 s, sys: 0 ns, total: 6.93 s\n",
      "Wall time: 7.2 s\n"
     ]
    }
   ],
   "source": [
    "%%time\n",
    "start = time.time()\n",
    "predict_LGB= model_LGB.predict(test_features)\n",
    "end = time.time()\n",
    "t_lgb_p=round(end-start,2)"
   ]
  },
  {
   "cell_type": "code",
   "execution_count": 46,
   "metadata": {},
   "outputs": [
    {
     "name": "stdout",
     "output_type": "stream",
     "text": [
      " Гиперпараметры модели:\n",
      " LGBMRegressor(boosting_type='gbdt', class_weight=None, colsample_bytree=1.0,\n",
      "              importance_type='split', learning_rate=0.4, max_depth=-1,\n",
      "              min_child_samples=20, min_child_weight=0.001, min_split_gain=0.0,\n",
      "              n_estimators=1000, n_jobs=-1, num_leaves=31, objective='rmse',\n",
      "              random_state=42, reg_alpha=0.0, reg_lambda=0.0, silent=True,\n",
      "              subsample=1.0, subsample_for_bin=200000, subsample_freq=0)\n"
     ]
    }
   ],
   "source": [
    "print(' Гиперпараметры модели:\\n',model_LGB)"
   ]
  },
  {
   "cell_type": "code",
   "execution_count": 47,
   "metadata": {},
   "outputs": [
    {
     "name": "stdout",
     "output_type": "stream",
     "text": [
      "MAE модели LightGBM равна: 1021.95\n",
      "RMSE модели LightGBM равна: 1659.76\n"
     ]
    }
   ],
   "source": [
    "mae_gbm=mean_absolute_error(test_target, predict_LGB).round(2)\n",
    "print('MAE модели LightGBM равна:',mae_gbm.round(2))\n",
    "rmse_gbm=rmse(test_target, predict_LGB)\n",
    "print('RMSE модели LightGBM равна:', rmse_gbm)"
   ]
  },
  {
   "cell_type": "markdown",
   "metadata": {},
   "source": [
    "Факторы важности модели LightGBM"
   ]
  },
  {
   "cell_type": "code",
   "execution_count": 48,
   "metadata": {},
   "outputs": [
    {
     "data": {
      "image/png": "[encoded data removed]",
      "text/plain": [
       "<Figure size 792x360 with 1 Axes>"
      ]
     },
     "metadata": {
      "needs_background": "light"
     },
     "output_type": "display_data"
    }
   ],
   "source": [
    "importances(model_LGB,train_features)"
   ]
  },
  {
   "cell_type": "markdown",
   "metadata": {},
   "source": [
    "## Анализ моделей"
   ]
  },
  {
   "cell_type": "markdown",
   "metadata": {},
   "source": [
    "Проанализируем скорость работы и качество моделей."
   ]
  },
  {
   "cell_type": "markdown",
   "metadata": {},
   "source": [
    "Для наглядности сведём все интересующие нас даные в таблицу"
   ]
  },
  {
   "cell_type": "code",
   "execution_count": 49,
   "metadata": {},
   "outputs": [
    {
     "data": {
      "text/html": [
       "<style  type=\"text/css\" >\n",
       "    #T_1893c2f4_da7a_11eb_91d2_02420a391a92row0_col0 {\n",
       "            : ;\n",
       "            : ;\n",
       "            background-color:  coral;\n",
       "        }    #T_1893c2f4_da7a_11eb_91d2_02420a391a92row0_col1 {\n",
       "            : ;\n",
       "            : ;\n",
       "            background-color:  coral;\n",
       "        }    #T_1893c2f4_da7a_11eb_91d2_02420a391a92row0_col2 {\n",
       "            background-color:  yellowgreen;\n",
       "            : ;\n",
       "            : ;\n",
       "        }    #T_1893c2f4_da7a_11eb_91d2_02420a391a92row0_col3 {\n",
       "            background-color:  yellowgreen;\n",
       "            : ;\n",
       "            : ;\n",
       "        }    #T_1893c2f4_da7a_11eb_91d2_02420a391a92row2_col2 {\n",
       "            : ;\n",
       "            : ;\n",
       "            background-color:  coral;\n",
       "        }    #T_1893c2f4_da7a_11eb_91d2_02420a391a92row3_col0 {\n",
       "            background-color:  yellowgreen;\n",
       "            : ;\n",
       "            : ;\n",
       "        }    #T_1893c2f4_da7a_11eb_91d2_02420a391a92row3_col1 {\n",
       "            background-color:  yellowgreen;\n",
       "            : ;\n",
       "            : ;\n",
       "        }    #T_1893c2f4_da7a_11eb_91d2_02420a391a92row3_col3 {\n",
       "            : ;\n",
       "            : ;\n",
       "            background-color:  coral;\n",
       "        }</style><table id=\"T_1893c2f4_da7a_11eb_91d2_02420a391a92\" ><thead>    <tr>        <th class=\"blank level0\" ></th>        <th class=\"col_heading level0 col0\" >RMSE модели</th>        <th class=\"col_heading level0 col1\" >MAE модели</th>        <th class=\"col_heading level0 col2\" >Скорость обучения, s</th>        <th class=\"col_heading level0 col3\" >Скорость предсказания, s</th>    </tr></thead><tbody>\n",
       "                <tr>\n",
       "                        <th id=\"T_1893c2f4_da7a_11eb_91d2_02420a391a92level0_row0\" class=\"row_heading level0 row0\" >LinearRegression</th>\n",
       "                        <td id=\"T_1893c2f4_da7a_11eb_91d2_02420a391a92row0_col0\" class=\"data row0 col0\" >3074.12</td>\n",
       "                        <td id=\"T_1893c2f4_da7a_11eb_91d2_02420a391a92row0_col1\" class=\"data row0 col1\" >2185.55</td>\n",
       "                        <td id=\"T_1893c2f4_da7a_11eb_91d2_02420a391a92row0_col2\" class=\"data row0 col2\" >0.09</td>\n",
       "                        <td id=\"T_1893c2f4_da7a_11eb_91d2_02420a391a92row0_col3\" class=\"data row0 col3\" >0.01</td>\n",
       "            </tr>\n",
       "            <tr>\n",
       "                        <th id=\"T_1893c2f4_da7a_11eb_91d2_02420a391a92level0_row1\" class=\"row_heading level0 row1\" >RandomForestRegressor</th>\n",
       "                        <td id=\"T_1893c2f4_da7a_11eb_91d2_02420a391a92row1_col0\" class=\"data row1 col0\" >1714.97</td>\n",
       "                        <td id=\"T_1893c2f4_da7a_11eb_91d2_02420a391a92row1_col1\" class=\"data row1 col1\" >1037.07</td>\n",
       "                        <td id=\"T_1893c2f4_da7a_11eb_91d2_02420a391a92row1_col2\" class=\"data row1 col2\" >73.03</td>\n",
       "                        <td id=\"T_1893c2f4_da7a_11eb_91d2_02420a391a92row1_col3\" class=\"data row1 col3\" >3.67</td>\n",
       "            </tr>\n",
       "            <tr>\n",
       "                        <th id=\"T_1893c2f4_da7a_11eb_91d2_02420a391a92level0_row2\" class=\"row_heading level0 row2\" >CatBoostRegressor</th>\n",
       "                        <td id=\"T_1893c2f4_da7a_11eb_91d2_02420a391a92row2_col0\" class=\"data row2 col0\" >1678.66</td>\n",
       "                        <td id=\"T_1893c2f4_da7a_11eb_91d2_02420a391a92row2_col1\" class=\"data row2 col1\" >1042.74</td>\n",
       "                        <td id=\"T_1893c2f4_da7a_11eb_91d2_02420a391a92row2_col2\" class=\"data row2 col2\" >183.02</td>\n",
       "                        <td id=\"T_1893c2f4_da7a_11eb_91d2_02420a391a92row2_col3\" class=\"data row2 col3\" >0.13</td>\n",
       "            </tr>\n",
       "            <tr>\n",
       "                        <th id=\"T_1893c2f4_da7a_11eb_91d2_02420a391a92level0_row3\" class=\"row_heading level0 row3\" >LightGBM</th>\n",
       "                        <td id=\"T_1893c2f4_da7a_11eb_91d2_02420a391a92row3_col0\" class=\"data row3 col0\" >1659.76</td>\n",
       "                        <td id=\"T_1893c2f4_da7a_11eb_91d2_02420a391a92row3_col1\" class=\"data row3 col1\" >1021.95</td>\n",
       "                        <td id=\"T_1893c2f4_da7a_11eb_91d2_02420a391a92row3_col2\" class=\"data row3 col2\" >64.8</td>\n",
       "                        <td id=\"T_1893c2f4_da7a_11eb_91d2_02420a391a92row3_col3\" class=\"data row3 col3\" >7.2</td>\n",
       "            </tr>\n",
       "    </tbody></table>"
      ],
      "text/plain": [
       "<pandas.io.formats.style.Styler at 0x7fd9fe047510>"
      ]
     },
     "execution_count": 49,
     "metadata": {},
     "output_type": "execute_result"
    }
   ],
   "source": [
    "column=['RMSE модели','MAE модели','Скорость обучения, s','Скорость предсказания, s']\n",
    "\n",
    "comparison_tabl = pd.DataFrame(index=[\n",
    "    'RMSE модели','MAE модели','Скорость обучения, s', 'Скорость предсказания, s'], columns=[\n",
    "    'LinearRegression','RandomForestRegressor','CatBoostRegressor','LightGBM'])\n",
    "comparison_tabl['LinearRegression'] = rmse_lr, mae_lr, t_lr, t_lr_p\n",
    "comparison_tabl['RandomForestRegressor'] = rmse_rf, mae_rf, t_rf, t_rf_p\n",
    "comparison_tabl['CatBoostRegressor'] = rmse_cat,mae_cat, t_cat, t_cat_p\n",
    "comparison_tabl['LightGBM'] = rmse_gbm,mae_gbm,t_lgb,t_lgb_p\n",
    "\n",
    "comparison_tabl.T.style.highlight_min(color='yellowgreen',subset=column).highlight_null(\n",
    "    null_color='lightgrey').highlight_max(color='coral',subset=column)"
   ]
  },
  {
   "cell_type": "markdown",
   "metadata": {},
   "source": [
    "Из данной таблице, мы видим следующее:\n",
    "\n",
    "* Модель **LightGBM** на наших данных предсказала самую маленькую ошибку, но время предсказания у неё хуже чем у других;  \n",
    "* Модель **CatBoost** так же показала не плохой результат по ошибке, при этом скорость предсказания у модели одна из самых быстрых;  \n",
    "* **RandomForestRegressor** показала средний результат и по качеству предсказания и по скорости;  \n",
    "* **LinearRegression** выдает очень большую ошибку. Не смотря на быстроту предсказаний использовать её в работе не имеет смысла."
   ]
  },
  {
   "cell_type": "markdown",
   "metadata": {},
   "source": [
    "**Общий вывод:**\n",
    "\n",
    "**Для определения стоимости автомобиля, в приложении сервиса «Не бит, не крашен», следует использовать одну из двух моделей: CatBoostRegressor или LightGBM.  \n",
    "CatBoostRegressor показывает хороший результат по точности предсказания и делает это очень быстро, что важно для он-лайн сервисов. Единственный её минус это долгий процесс обучения.   \n",
    "LightGBM это лучший вариант по точности предсказания цены. Модель абсолютно парвильно расставляет приоритет важности факторов и однозначно подойдёт, если сервис будет делать ставку имменно на адекватность предсказания рыночной стоимости автомобиля.**"
   ]
  }
 ],
 "metadata": {
  "ExecuteTimeLog": [
   {
    "duration": 600,
    "start_time": "2021-06-30T08:24:31.339Z"
   },
   {
    "duration": 892,
    "start_time": "2021-06-30T08:25:52.290Z"
   },
   {
    "duration": 143,
    "start_time": "2021-06-30T08:31:43.478Z"
   },
   {
    "duration": 99,
    "start_time": "2021-06-30T08:33:10.576Z"
   },
   {
    "duration": 32,
    "start_time": "2021-06-30T08:59:29.971Z"
   },
   {
    "duration": 15,
    "start_time": "2021-06-30T08:59:42.738Z"
   },
   {
    "duration": 245,
    "start_time": "2021-06-30T10:19:40.834Z"
   },
   {
    "duration": 571,
    "start_time": "2021-06-30T10:19:53.269Z"
   },
   {
    "duration": 765,
    "start_time": "2021-06-30T10:19:53.842Z"
   },
   {
    "duration": 124,
    "start_time": "2021-06-30T10:19:54.609Z"
   },
   {
    "duration": 107,
    "start_time": "2021-06-30T10:19:54.735Z"
   },
   {
    "duration": 46,
    "start_time": "2021-06-30T10:19:54.844Z"
   },
   {
    "duration": 175,
    "start_time": "2021-06-30T10:22:26.961Z"
   },
   {
    "duration": 45,
    "start_time": "2021-06-30T10:23:01.609Z"
   },
   {
    "duration": 12,
    "start_time": "2021-06-30T10:23:31.454Z"
   },
   {
    "duration": 27,
    "start_time": "2021-06-30T10:26:55.589Z"
   },
   {
    "duration": 252,
    "start_time": "2021-06-30T10:27:33.902Z"
   },
   {
    "duration": 12,
    "start_time": "2021-06-30T10:27:44.317Z"
   },
   {
    "duration": 521,
    "start_time": "2021-06-30T10:27:59.134Z"
   },
   {
    "duration": 792,
    "start_time": "2021-06-30T10:27:59.657Z"
   },
   {
    "duration": 129,
    "start_time": "2021-06-30T10:28:00.452Z"
   },
   {
    "duration": 114,
    "start_time": "2021-06-30T10:28:00.583Z"
   },
   {
    "duration": 43,
    "start_time": "2021-06-30T10:28:00.699Z"
   },
   {
    "duration": 218,
    "start_time": "2021-06-30T10:28:00.745Z"
   },
   {
    "duration": 41,
    "start_time": "2021-06-30T10:28:00.965Z"
   },
   {
    "duration": 11,
    "start_time": "2021-06-30T10:28:01.008Z"
   },
   {
    "duration": 551,
    "start_time": "2021-06-30T10:48:33.794Z"
   },
   {
    "duration": 776,
    "start_time": "2021-06-30T10:48:34.347Z"
   },
   {
    "duration": 121,
    "start_time": "2021-06-30T10:48:35.125Z"
   },
   {
    "duration": 108,
    "start_time": "2021-06-30T10:48:35.248Z"
   },
   {
    "duration": 41,
    "start_time": "2021-06-30T10:48:35.358Z"
   },
   {
    "duration": 248,
    "start_time": "2021-06-30T10:55:46.102Z"
   },
   {
    "duration": 551,
    "start_time": "2021-06-30T10:55:56.298Z"
   },
   {
    "duration": 790,
    "start_time": "2021-06-30T10:55:56.851Z"
   },
   {
    "duration": 127,
    "start_time": "2021-06-30T10:55:57.643Z"
   },
   {
    "duration": 99,
    "start_time": "2021-06-30T10:55:57.772Z"
   },
   {
    "duration": 39,
    "start_time": "2021-06-30T10:55:57.873Z"
   },
   {
    "duration": 5635,
    "start_time": "2021-06-30T10:58:12.130Z"
   },
   {
    "duration": 27,
    "start_time": "2021-06-30T10:58:17.767Z"
   },
   {
    "duration": 567,
    "start_time": "2021-06-30T11:01:24.404Z"
   },
   {
    "duration": 821,
    "start_time": "2021-06-30T11:01:24.973Z"
   },
   {
    "duration": 138,
    "start_time": "2021-06-30T11:01:25.796Z"
   },
   {
    "duration": 117,
    "start_time": "2021-06-30T11:01:25.936Z"
   },
   {
    "duration": 38,
    "start_time": "2021-06-30T11:01:26.055Z"
   },
   {
    "duration": 16,
    "start_time": "2021-06-30T11:01:26.095Z"
   },
   {
    "duration": 5478,
    "start_time": "2021-06-30T11:01:26.112Z"
   },
   {
    "duration": 24,
    "start_time": "2021-06-30T11:01:31.592Z"
   },
   {
    "duration": 5511,
    "start_time": "2021-06-30T11:09:08.113Z"
   },
   {
    "duration": 18,
    "start_time": "2021-06-30T11:23:32.939Z"
   },
   {
    "duration": 76,
    "start_time": "2021-06-30T11:37:57.272Z"
   },
   {
    "duration": 560,
    "start_time": "2021-06-30T11:41:51.337Z"
   },
   {
    "duration": 841,
    "start_time": "2021-06-30T11:41:51.899Z"
   },
   {
    "duration": 129,
    "start_time": "2021-06-30T11:41:52.742Z"
   },
   {
    "duration": 111,
    "start_time": "2021-06-30T11:41:52.874Z"
   },
   {
    "duration": 33,
    "start_time": "2021-06-30T11:41:52.986Z"
   },
   {
    "duration": 24,
    "start_time": "2021-06-30T11:41:53.021Z"
   },
   {
    "duration": 5593,
    "start_time": "2021-06-30T11:41:53.047Z"
   },
   {
    "duration": 21,
    "start_time": "2021-06-30T11:41:58.641Z"
   },
   {
    "duration": 32,
    "start_time": "2021-06-30T11:41:58.665Z"
   },
   {
    "duration": 86,
    "start_time": "2021-06-30T11:41:58.699Z"
   },
   {
    "duration": 26,
    "start_time": "2021-06-30T11:42:08.490Z"
   },
   {
    "duration": 587,
    "start_time": "2021-06-30T11:42:29.790Z"
   },
   {
    "duration": 802,
    "start_time": "2021-06-30T11:42:30.379Z"
   },
   {
    "duration": 123,
    "start_time": "2021-06-30T11:42:31.183Z"
   },
   {
    "duration": 115,
    "start_time": "2021-06-30T11:42:31.308Z"
   },
   {
    "duration": 34,
    "start_time": "2021-06-30T11:42:31.424Z"
   },
   {
    "duration": 33,
    "start_time": "2021-06-30T11:42:31.459Z"
   },
   {
    "duration": 5632,
    "start_time": "2021-06-30T11:42:31.494Z"
   },
   {
    "duration": 25,
    "start_time": "2021-06-30T11:42:37.128Z"
   },
   {
    "duration": 30,
    "start_time": "2021-06-30T11:42:37.155Z"
   },
   {
    "duration": 76,
    "start_time": "2021-06-30T11:42:37.187Z"
   },
   {
    "duration": 540,
    "start_time": "2021-06-30T11:50:50.620Z"
   },
   {
    "duration": 809,
    "start_time": "2021-06-30T11:50:51.162Z"
   },
   {
    "duration": 126,
    "start_time": "2021-06-30T11:50:51.973Z"
   },
   {
    "duration": 107,
    "start_time": "2021-06-30T11:50:52.101Z"
   },
   {
    "duration": 32,
    "start_time": "2021-06-30T11:50:52.210Z"
   },
   {
    "duration": 16,
    "start_time": "2021-06-30T11:50:52.244Z"
   },
   {
    "duration": 5591,
    "start_time": "2021-06-30T11:50:52.262Z"
   },
   {
    "duration": 32,
    "start_time": "2021-06-30T11:50:57.855Z"
   },
   {
    "duration": 17,
    "start_time": "2021-06-30T11:50:57.889Z"
   },
   {
    "duration": 90,
    "start_time": "2021-06-30T11:50:57.908Z"
   },
   {
    "duration": 442,
    "start_time": "2021-06-30T12:04:25.403Z"
   },
   {
    "duration": 234,
    "start_time": "2021-06-30T12:08:14.745Z"
   },
   {
    "duration": 175,
    "start_time": "2021-06-30T12:09:12.310Z"
   },
   {
    "duration": 1263,
    "start_time": "2021-06-30T12:09:24.271Z"
   },
   {
    "duration": 1666,
    "start_time": "2021-06-30T12:10:06.005Z"
   },
   {
    "duration": 1440,
    "start_time": "2021-06-30T12:10:59.607Z"
   },
   {
    "duration": 508,
    "start_time": "2021-06-30T12:11:18.952Z"
   },
   {
    "duration": 51,
    "start_time": "2021-06-30T12:12:26.377Z"
   },
   {
    "duration": 89,
    "start_time": "2021-06-30T12:12:29.258Z"
   },
   {
    "duration": 123,
    "start_time": "2021-06-30T12:13:49.452Z"
   },
   {
    "duration": 46,
    "start_time": "2021-06-30T12:14:04.556Z"
   },
   {
    "duration": 77,
    "start_time": "2021-06-30T12:14:09.518Z"
   },
   {
    "duration": 598,
    "start_time": "2021-06-30T12:14:44.516Z"
   },
   {
    "duration": 791,
    "start_time": "2021-06-30T12:14:45.116Z"
   },
   {
    "duration": 129,
    "start_time": "2021-06-30T12:14:45.909Z"
   },
   {
    "duration": 105,
    "start_time": "2021-06-30T12:14:46.040Z"
   },
   {
    "duration": 41,
    "start_time": "2021-06-30T12:14:46.146Z"
   },
   {
    "duration": 17,
    "start_time": "2021-06-30T12:14:46.189Z"
   },
   {
    "duration": 5521,
    "start_time": "2021-06-30T12:14:46.209Z"
   },
   {
    "duration": 23,
    "start_time": "2021-06-30T12:14:51.733Z"
   },
   {
    "duration": 32,
    "start_time": "2021-06-30T12:14:51.758Z"
   },
   {
    "duration": 50,
    "start_time": "2021-06-30T12:14:51.792Z"
   },
   {
    "duration": 85,
    "start_time": "2021-06-30T12:14:51.844Z"
   },
   {
    "duration": 10,
    "start_time": "2021-06-30T12:23:12.730Z"
   },
   {
    "duration": 4,
    "start_time": "2021-06-30T12:36:15.118Z"
   },
   {
    "duration": 433,
    "start_time": "2021-06-30T12:36:17.228Z"
   },
   {
    "duration": 82,
    "start_time": "2021-06-30T12:36:49.410Z"
   },
   {
    "duration": 4,
    "start_time": "2021-06-30T12:36:55.546Z"
   },
   {
    "duration": 897,
    "start_time": "2021-06-30T12:36:57.410Z"
   },
   {
    "duration": 491,
    "start_time": "2021-06-30T12:37:12.596Z"
   },
   {
    "duration": 4,
    "start_time": "2021-06-30T12:37:16.163Z"
   },
   {
    "duration": 2187,
    "start_time": "2021-06-30T12:37:20.288Z"
   },
   {
    "duration": 4,
    "start_time": "2021-06-30T12:56:31.915Z"
   },
   {
    "duration": 4447,
    "start_time": "2021-06-30T12:59:09.903Z"
   },
   {
    "duration": 11,
    "start_time": "2021-06-30T12:59:32.918Z"
   },
   {
    "duration": 4564,
    "start_time": "2021-06-30T13:15:29.871Z"
   },
   {
    "duration": 38,
    "start_time": "2021-06-30T13:15:41.364Z"
   },
   {
    "duration": 203,
    "start_time": "2021-06-30T13:30:59.704Z"
   },
   {
    "duration": 13,
    "start_time": "2021-06-30T13:31:17.915Z"
   },
   {
    "duration": 10,
    "start_time": "2021-06-30T13:31:51.259Z"
   },
   {
    "duration": 1089,
    "start_time": "2021-06-30T13:35:28.444Z"
   },
   {
    "duration": 828,
    "start_time": "2021-06-30T13:35:29.534Z"
   },
   {
    "duration": 2577,
    "start_time": "2021-06-30T13:35:30.364Z"
   },
   {
    "duration": -14,
    "start_time": "2021-06-30T13:35:32.958Z"
   },
   {
    "duration": -18,
    "start_time": "2021-06-30T13:35:32.962Z"
   },
   {
    "duration": -21,
    "start_time": "2021-06-30T13:35:32.966Z"
   },
   {
    "duration": -69,
    "start_time": "2021-06-30T13:35:33.015Z"
   },
   {
    "duration": -75,
    "start_time": "2021-06-30T13:35:33.022Z"
   },
   {
    "duration": -130,
    "start_time": "2021-06-30T13:35:33.078Z"
   },
   {
    "duration": -132,
    "start_time": "2021-06-30T13:35:33.081Z"
   },
   {
    "duration": -134,
    "start_time": "2021-06-30T13:35:33.084Z"
   },
   {
    "duration": -136,
    "start_time": "2021-06-30T13:35:33.087Z"
   },
   {
    "duration": -139,
    "start_time": "2021-06-30T13:35:33.091Z"
   },
   {
    "duration": -142,
    "start_time": "2021-06-30T13:35:33.095Z"
   },
   {
    "duration": -150,
    "start_time": "2021-06-30T13:35:33.103Z"
   },
   {
    "duration": -151,
    "start_time": "2021-06-30T13:35:33.105Z"
   },
   {
    "duration": 20,
    "start_time": "2021-06-30T13:35:40.585Z"
   },
   {
    "duration": 1045,
    "start_time": "2021-06-30T13:37:32.198Z"
   },
   {
    "duration": 765,
    "start_time": "2021-06-30T13:37:33.245Z"
   },
   {
    "duration": 19,
    "start_time": "2021-06-30T13:37:34.012Z"
   },
   {
    "duration": 129,
    "start_time": "2021-06-30T13:37:34.033Z"
   },
   {
    "duration": 103,
    "start_time": "2021-06-30T13:37:34.164Z"
   },
   {
    "duration": 43,
    "start_time": "2021-06-30T13:37:34.269Z"
   },
   {
    "duration": 15,
    "start_time": "2021-06-30T13:37:34.314Z"
   },
   {
    "duration": 5519,
    "start_time": "2021-06-30T13:37:34.332Z"
   },
   {
    "duration": 35,
    "start_time": "2021-06-30T13:37:39.853Z"
   },
   {
    "duration": 17,
    "start_time": "2021-06-30T13:37:39.889Z"
   },
   {
    "duration": 55,
    "start_time": "2021-06-30T13:37:39.908Z"
   },
   {
    "duration": 93,
    "start_time": "2021-06-30T13:37:39.965Z"
   },
   {
    "duration": 4,
    "start_time": "2021-06-30T13:37:40.060Z"
   },
   {
    "duration": 2162,
    "start_time": "2021-06-30T13:37:40.065Z"
   },
   {
    "duration": 33,
    "start_time": "2021-06-30T13:37:42.229Z"
   },
   {
    "duration": 28,
    "start_time": "2021-06-30T13:37:42.263Z"
   },
   {
    "duration": 11,
    "start_time": "2021-06-30T13:43:04.180Z"
   },
   {
    "duration": 13,
    "start_time": "2021-06-30T13:43:09.673Z"
   },
   {
    "duration": 10,
    "start_time": "2021-06-30T13:44:58.631Z"
   },
   {
    "duration": 13,
    "start_time": "2021-06-30T14:14:03.342Z"
   },
   {
    "duration": 10,
    "start_time": "2021-06-30T14:20:16.838Z"
   },
   {
    "duration": 270,
    "start_time": "2021-06-30T14:20:21.037Z"
   },
   {
    "duration": 185,
    "start_time": "2021-06-30T14:20:39.122Z"
   },
   {
    "duration": 35,
    "start_time": "2021-06-30T14:20:46.494Z"
   },
   {
    "duration": 27,
    "start_time": "2021-06-30T14:21:22.066Z"
   },
   {
    "duration": 11,
    "start_time": "2021-06-30T14:31:19.811Z"
   },
   {
    "duration": 315,
    "start_time": "2021-06-30T14:33:07.619Z"
   },
   {
    "duration": 312,
    "start_time": "2021-06-30T14:33:36.093Z"
   },
   {
    "duration": 738,
    "start_time": "2021-06-30T14:36:15.162Z"
   },
   {
    "duration": 332,
    "start_time": "2021-06-30T14:36:42.576Z"
   },
   {
    "duration": 335,
    "start_time": "2021-06-30T14:36:55.272Z"
   },
   {
    "duration": 278,
    "start_time": "2021-06-30T14:37:06.062Z"
   },
   {
    "duration": 346,
    "start_time": "2021-06-30T14:37:16.296Z"
   },
   {
    "duration": 276,
    "start_time": "2021-06-30T14:37:29.498Z"
   },
   {
    "duration": 177,
    "start_time": "2021-06-30T14:37:47.684Z"
   },
   {
    "duration": 4,
    "start_time": "2021-06-30T14:37:53.374Z"
   },
   {
    "duration": 89,
    "start_time": "2021-06-30T14:38:23.767Z"
   },
   {
    "duration": 283,
    "start_time": "2021-06-30T14:42:43.809Z"
   },
   {
    "duration": 3,
    "start_time": "2021-06-30T14:42:47.606Z"
   },
   {
    "duration": 74,
    "start_time": "2021-06-30T14:42:49.531Z"
   },
   {
    "duration": 7,
    "start_time": "2021-06-30T14:44:36.952Z"
   },
   {
    "duration": 2376,
    "start_time": "2021-06-30T14:47:35.268Z"
   },
   {
    "duration": 8,
    "start_time": "2021-06-30T14:53:27.797Z"
   },
   {
    "duration": 1130,
    "start_time": "2021-06-30T14:54:05.115Z"
   },
   {
    "duration": 859,
    "start_time": "2021-06-30T14:54:06.247Z"
   },
   {
    "duration": 23,
    "start_time": "2021-06-30T14:54:07.109Z"
   },
   {
    "duration": 159,
    "start_time": "2021-06-30T14:54:07.135Z"
   },
   {
    "duration": 112,
    "start_time": "2021-06-30T14:54:07.296Z"
   },
   {
    "duration": 32,
    "start_time": "2021-06-30T14:54:07.410Z"
   },
   {
    "duration": 42,
    "start_time": "2021-06-30T14:54:07.445Z"
   },
   {
    "duration": 5766,
    "start_time": "2021-06-30T14:54:07.491Z"
   },
   {
    "duration": 31,
    "start_time": "2021-06-30T14:54:13.259Z"
   },
   {
    "duration": 17,
    "start_time": "2021-06-30T14:54:13.292Z"
   },
   {
    "duration": 67,
    "start_time": "2021-06-30T14:54:13.310Z"
   },
   {
    "duration": 78,
    "start_time": "2021-06-30T14:54:13.379Z"
   },
   {
    "duration": 9,
    "start_time": "2021-06-30T14:54:13.458Z"
   },
   {
    "duration": 2184,
    "start_time": "2021-06-30T14:54:13.469Z"
   },
   {
    "duration": 45,
    "start_time": "2021-06-30T14:54:15.655Z"
   },
   {
    "duration": 12,
    "start_time": "2021-06-30T14:54:15.702Z"
   },
   {
    "duration": 40,
    "start_time": "2021-06-30T14:54:15.716Z"
   },
   {
    "duration": 30,
    "start_time": "2021-06-30T14:54:15.758Z"
   },
   {
    "duration": 510,
    "start_time": "2021-06-30T14:54:15.789Z"
   },
   {
    "duration": -35,
    "start_time": "2021-06-30T14:54:16.336Z"
   },
   {
    "duration": -37,
    "start_time": "2021-06-30T14:54:16.339Z"
   },
   {
    "duration": 31,
    "start_time": "2021-06-30T14:54:40.949Z"
   },
   {
    "duration": 1142,
    "start_time": "2021-06-30T14:54:47.570Z"
   },
   {
    "duration": 772,
    "start_time": "2021-06-30T14:54:48.713Z"
   },
   {
    "duration": 29,
    "start_time": "2021-06-30T14:54:49.487Z"
   },
   {
    "duration": 142,
    "start_time": "2021-06-30T14:54:49.518Z"
   },
   {
    "duration": 111,
    "start_time": "2021-06-30T14:54:49.662Z"
   },
   {
    "duration": 45,
    "start_time": "2021-06-30T14:54:49.775Z"
   },
   {
    "duration": 26,
    "start_time": "2021-06-30T14:54:49.823Z"
   },
   {
    "duration": 5503,
    "start_time": "2021-06-30T14:54:49.852Z"
   },
   {
    "duration": 31,
    "start_time": "2021-06-30T14:54:55.358Z"
   },
   {
    "duration": 17,
    "start_time": "2021-06-30T14:54:55.391Z"
   },
   {
    "duration": 53,
    "start_time": "2021-06-30T14:54:55.410Z"
   },
   {
    "duration": 73,
    "start_time": "2021-06-30T14:54:55.484Z"
   },
   {
    "duration": 5,
    "start_time": "2021-06-30T14:54:55.558Z"
   },
   {
    "duration": 2183,
    "start_time": "2021-06-30T14:54:55.565Z"
   },
   {
    "duration": 44,
    "start_time": "2021-06-30T14:54:57.750Z"
   },
   {
    "duration": 15,
    "start_time": "2021-06-30T14:54:57.795Z"
   },
   {
    "duration": 37,
    "start_time": "2021-06-30T14:54:57.812Z"
   },
   {
    "duration": 39,
    "start_time": "2021-06-30T14:54:57.851Z"
   },
   {
    "duration": 473,
    "start_time": "2021-06-30T14:54:57.893Z"
   },
   {
    "duration": -43,
    "start_time": "2021-06-30T14:54:58.411Z"
   },
   {
    "duration": -45,
    "start_time": "2021-06-30T14:54:58.414Z"
   },
   {
    "duration": 259,
    "start_time": "2021-06-30T14:56:37.160Z"
   },
   {
    "duration": 6,
    "start_time": "2021-06-30T14:56:39.996Z"
   },
   {
    "duration": 2261,
    "start_time": "2021-06-30T14:56:46.135Z"
   },
   {
    "duration": 1146,
    "start_time": "2021-06-30T14:58:37.528Z"
   },
   {
    "duration": 873,
    "start_time": "2021-06-30T14:58:38.676Z"
   },
   {
    "duration": 20,
    "start_time": "2021-06-30T14:58:39.551Z"
   },
   {
    "duration": 149,
    "start_time": "2021-06-30T14:58:39.585Z"
   },
   {
    "duration": 121,
    "start_time": "2021-06-30T14:58:39.736Z"
   },
   {
    "duration": 49,
    "start_time": "2021-06-30T14:58:39.859Z"
   },
   {
    "duration": 17,
    "start_time": "2021-06-30T14:58:39.910Z"
   },
   {
    "duration": 5781,
    "start_time": "2021-06-30T14:58:39.929Z"
   },
   {
    "duration": 24,
    "start_time": "2021-06-30T14:58:45.712Z"
   },
   {
    "duration": 19,
    "start_time": "2021-06-30T14:58:45.739Z"
   },
   {
    "duration": 85,
    "start_time": "2021-06-30T14:58:45.760Z"
   },
   {
    "duration": 99,
    "start_time": "2021-06-30T14:58:45.846Z"
   },
   {
    "duration": 5,
    "start_time": "2021-06-30T14:58:45.947Z"
   },
   {
    "duration": 2225,
    "start_time": "2021-06-30T14:58:45.953Z"
   },
   {
    "duration": 36,
    "start_time": "2021-06-30T14:58:48.180Z"
   },
   {
    "duration": 13,
    "start_time": "2021-06-30T14:58:48.218Z"
   },
   {
    "duration": 72,
    "start_time": "2021-06-30T14:58:48.233Z"
   },
   {
    "duration": 11,
    "start_time": "2021-06-30T14:58:48.307Z"
   },
   {
    "duration": 300,
    "start_time": "2021-06-30T14:58:48.319Z"
   },
   {
    "duration": 6,
    "start_time": "2021-06-30T14:58:48.621Z"
   },
   {
    "duration": 2373,
    "start_time": "2021-06-30T14:58:48.629Z"
   },
   {
    "duration": 1450,
    "start_time": "2021-07-01T07:16:05.251Z"
   },
   {
    "duration": 1136,
    "start_time": "2021-07-01T07:16:06.704Z"
   },
   {
    "duration": 162,
    "start_time": "2021-07-01T07:16:07.843Z"
   },
   {
    "duration": 121,
    "start_time": "2021-07-01T07:16:08.008Z"
   },
   {
    "duration": 54,
    "start_time": "2021-07-01T07:16:08.132Z"
   },
   {
    "duration": 20,
    "start_time": "2021-07-01T07:16:08.189Z"
   },
   {
    "duration": 9589,
    "start_time": "2021-07-01T07:16:08.212Z"
   },
   {
    "duration": 31,
    "start_time": "2021-07-01T07:16:17.805Z"
   },
   {
    "duration": 35,
    "start_time": "2021-07-01T07:16:17.839Z"
   },
   {
    "duration": 95,
    "start_time": "2021-07-01T07:16:17.876Z"
   },
   {
    "duration": 95,
    "start_time": "2021-07-01T07:16:17.974Z"
   },
   {
    "duration": 7,
    "start_time": "2021-07-01T07:16:18.072Z"
   },
   {
    "duration": 3159,
    "start_time": "2021-07-01T07:16:18.082Z"
   },
   {
    "duration": 59,
    "start_time": "2021-07-01T07:16:21.244Z"
   },
   {
    "duration": 17,
    "start_time": "2021-07-01T07:16:21.306Z"
   },
   {
    "duration": 79,
    "start_time": "2021-07-01T07:16:21.326Z"
   },
   {
    "duration": 16,
    "start_time": "2021-07-01T07:16:21.408Z"
   },
   {
    "duration": 449,
    "start_time": "2021-07-01T07:16:21.427Z"
   },
   {
    "duration": 8,
    "start_time": "2021-07-01T07:16:21.878Z"
   },
   {
    "duration": 3390,
    "start_time": "2021-07-01T07:16:21.888Z"
   },
   {
    "duration": 1426,
    "start_time": "2021-07-01T07:16:55.085Z"
   },
   {
    "duration": 1065,
    "start_time": "2021-07-01T07:16:56.514Z"
   },
   {
    "duration": 163,
    "start_time": "2021-07-01T07:16:57.582Z"
   },
   {
    "duration": 119,
    "start_time": "2021-07-01T07:16:57.757Z"
   },
   {
    "duration": 49,
    "start_time": "2021-07-01T07:16:57.879Z"
   },
   {
    "duration": 39,
    "start_time": "2021-07-01T07:16:57.931Z"
   },
   {
    "duration": 9856,
    "start_time": "2021-07-01T07:16:57.973Z"
   },
   {
    "duration": 34,
    "start_time": "2021-07-01T07:17:07.831Z"
   },
   {
    "duration": 22,
    "start_time": "2021-07-01T07:17:07.869Z"
   },
   {
    "duration": 94,
    "start_time": "2021-07-01T07:17:07.894Z"
   },
   {
    "duration": 95,
    "start_time": "2021-07-01T07:17:07.990Z"
   },
   {
    "duration": 7,
    "start_time": "2021-07-01T07:17:08.087Z"
   },
   {
    "duration": 3206,
    "start_time": "2021-07-01T07:17:08.097Z"
   },
   {
    "duration": 64,
    "start_time": "2021-07-01T07:17:11.306Z"
   },
   {
    "duration": 17,
    "start_time": "2021-07-01T07:17:11.373Z"
   },
   {
    "duration": 73,
    "start_time": "2021-07-01T07:17:11.392Z"
   },
   {
    "duration": 15,
    "start_time": "2021-07-01T07:17:11.467Z"
   },
   {
    "duration": 448,
    "start_time": "2021-07-01T07:17:11.485Z"
   },
   {
    "duration": 7,
    "start_time": "2021-07-01T07:17:11.935Z"
   },
   {
    "duration": 3230,
    "start_time": "2021-07-01T07:17:11.956Z"
   },
   {
    "duration": 8,
    "start_time": "2021-07-01T08:25:23.351Z"
   },
   {
    "duration": 393,
    "start_time": "2021-07-01T08:25:42.768Z"
   },
   {
    "duration": 8,
    "start_time": "2021-07-01T08:25:55.672Z"
   },
   {
    "duration": 264,
    "start_time": "2021-07-01T08:37:09.219Z"
   },
   {
    "duration": 264,
    "start_time": "2021-07-01T08:37:19.929Z"
   },
   {
    "duration": 1407,
    "start_time": "2021-07-01T08:38:42.909Z"
   },
   {
    "duration": 1089,
    "start_time": "2021-07-01T08:38:44.318Z"
   },
   {
    "duration": 231,
    "start_time": "2021-07-01T08:38:45.410Z"
   },
   {
    "duration": 127,
    "start_time": "2021-07-01T08:38:45.644Z"
   },
   {
    "duration": 33,
    "start_time": "2021-07-01T08:38:45.773Z"
   },
   {
    "duration": 68,
    "start_time": "2021-07-01T08:38:45.809Z"
   },
   {
    "duration": 26,
    "start_time": "2021-07-01T08:38:45.879Z"
   },
   {
    "duration": 9715,
    "start_time": "2021-07-01T08:38:45.909Z"
   },
   {
    "duration": 54,
    "start_time": "2021-07-01T08:38:55.628Z"
   },
   {
    "duration": 48,
    "start_time": "2021-07-01T08:38:55.685Z"
   },
   {
    "duration": 135,
    "start_time": "2021-07-01T08:38:55.736Z"
   },
   {
    "duration": 155,
    "start_time": "2021-07-01T08:38:55.875Z"
   },
   {
    "duration": 7,
    "start_time": "2021-07-01T08:38:56.032Z"
   },
   {
    "duration": 3133,
    "start_time": "2021-07-01T08:38:56.055Z"
   },
   {
    "duration": 68,
    "start_time": "2021-07-01T08:38:59.191Z"
   },
   {
    "duration": 23,
    "start_time": "2021-07-01T08:38:59.262Z"
   },
   {
    "duration": 76,
    "start_time": "2021-07-01T08:38:59.288Z"
   },
   {
    "duration": 15,
    "start_time": "2021-07-01T08:38:59.367Z"
   },
   {
    "duration": 431,
    "start_time": "2021-07-01T08:38:59.384Z"
   },
   {
    "duration": 7,
    "start_time": "2021-07-01T08:38:59.817Z"
   },
   {
    "duration": 3452,
    "start_time": "2021-07-01T08:38:59.826Z"
   },
   {
    "duration": 30,
    "start_time": "2021-07-01T08:42:57.619Z"
   },
   {
    "duration": 5,
    "start_time": "2021-07-01T08:43:23.580Z"
   },
   {
    "duration": 4,
    "start_time": "2021-07-01T08:45:03.214Z"
   },
   {
    "duration": 633,
    "start_time": "2021-07-01T08:46:54.002Z"
   },
   {
    "duration": 39,
    "start_time": "2021-07-01T08:47:42.073Z"
   },
   {
    "duration": 758,
    "start_time": "2021-07-01T08:47:47.884Z"
   },
   {
    "duration": 793,
    "start_time": "2021-07-01T08:50:14.858Z"
   },
   {
    "duration": 262,
    "start_time": "2021-07-01T08:52:21.022Z"
   },
   {
    "duration": 22,
    "start_time": "2021-07-01T08:53:05.722Z"
   },
   {
    "duration": 77,
    "start_time": "2021-07-01T08:53:12.178Z"
   },
   {
    "duration": 69,
    "start_time": "2021-07-01T08:53:27.620Z"
   },
   {
    "duration": 63,
    "start_time": "2021-07-01T08:54:36.624Z"
   },
   {
    "duration": 262,
    "start_time": "2021-07-01T08:58:28.374Z"
   },
   {
    "duration": 6,
    "start_time": "2021-07-01T08:59:24.990Z"
   },
   {
    "duration": 623,
    "start_time": "2021-07-01T08:59:32.725Z"
   },
   {
    "duration": 7,
    "start_time": "2021-07-01T09:00:22.802Z"
   },
   {
    "duration": 168,
    "start_time": "2021-07-01T09:00:28.049Z"
   },
   {
    "duration": 6,
    "start_time": "2021-07-01T09:51:56.865Z"
   },
   {
    "duration": 7,
    "start_time": "2021-07-01T09:52:28.831Z"
   },
   {
    "duration": 6,
    "start_time": "2021-07-01T10:07:04.245Z"
   },
   {
    "duration": 7,
    "start_time": "2021-07-01T10:07:43.604Z"
   },
   {
    "duration": 87,
    "start_time": "2021-07-01T10:09:00.527Z"
   },
   {
    "duration": 197,
    "start_time": "2021-07-01T10:09:42.051Z"
   },
   {
    "duration": 25,
    "start_time": "2021-07-01T10:10:43.551Z"
   },
   {
    "duration": 188,
    "start_time": "2021-07-01T10:10:50.147Z"
   },
   {
    "duration": 1449,
    "start_time": "2021-07-01T10:11:40.925Z"
   },
   {
    "duration": 1124,
    "start_time": "2021-07-01T10:11:42.377Z"
   },
   {
    "duration": 172,
    "start_time": "2021-07-01T10:11:43.504Z"
   },
   {
    "duration": 136,
    "start_time": "2021-07-01T10:11:43.679Z"
   },
   {
    "duration": 41,
    "start_time": "2021-07-01T10:11:43.818Z"
   },
   {
    "duration": 48,
    "start_time": "2021-07-01T10:11:43.861Z"
   },
   {
    "duration": 46,
    "start_time": "2021-07-01T10:11:43.911Z"
   },
   {
    "duration": 9789,
    "start_time": "2021-07-01T10:11:43.960Z"
   },
   {
    "duration": 33,
    "start_time": "2021-07-01T10:11:53.753Z"
   },
   {
    "duration": 23,
    "start_time": "2021-07-01T10:11:53.789Z"
   },
   {
    "duration": 99,
    "start_time": "2021-07-01T10:11:53.814Z"
   },
   {
    "duration": 97,
    "start_time": "2021-07-01T10:11:53.916Z"
   },
   {
    "duration": 8,
    "start_time": "2021-07-01T10:11:54.016Z"
   },
   {
    "duration": 3282,
    "start_time": "2021-07-01T10:11:54.026Z"
   },
   {
    "duration": 75,
    "start_time": "2021-07-01T10:11:57.311Z"
   },
   {
    "duration": 25,
    "start_time": "2021-07-01T10:11:57.389Z"
   },
   {
    "duration": 83,
    "start_time": "2021-07-01T10:11:57.417Z"
   },
   {
    "duration": 18,
    "start_time": "2021-07-01T10:11:57.503Z"
   },
   {
    "duration": 511,
    "start_time": "2021-07-01T10:11:57.523Z"
   },
   {
    "duration": 18,
    "start_time": "2021-07-01T10:11:58.037Z"
   },
   {
    "duration": 3315,
    "start_time": "2021-07-01T10:11:58.057Z"
   },
   {
    "duration": 32,
    "start_time": "2021-07-01T10:12:01.375Z"
   },
   {
    "duration": 5,
    "start_time": "2021-07-01T10:12:01.410Z"
   },
   {
    "duration": 39,
    "start_time": "2021-07-01T10:12:01.417Z"
   },
   {
    "duration": 851,
    "start_time": "2021-07-01T10:12:01.458Z"
   },
   {
    "duration": 89,
    "start_time": "2021-07-01T10:12:02.312Z"
   },
   {
    "duration": 624,
    "start_time": "2021-07-01T10:12:02.405Z"
   },
   {
    "duration": 4,
    "start_time": "2021-07-01T10:12:03.032Z"
   },
   {
    "duration": 19,
    "start_time": "2021-07-01T10:12:03.038Z"
   },
   {
    "duration": 389,
    "start_time": "2021-07-01T10:12:03.060Z"
   },
   {
    "duration": 15,
    "start_time": "2021-07-01T10:20:08.800Z"
   },
   {
    "duration": 766,
    "start_time": "2021-07-01T10:20:33.768Z"
   },
   {
    "duration": 7,
    "start_time": "2021-07-01T10:20:53.865Z"
   },
   {
    "duration": 362,
    "start_time": "2021-07-01T10:21:17.876Z"
   },
   {
    "duration": 6,
    "start_time": "2021-07-01T10:21:52.838Z"
   },
   {
    "duration": 12,
    "start_time": "2021-07-01T10:22:05.084Z"
   },
   {
    "duration": 87,
    "start_time": "2021-07-01T10:23:53.614Z"
   },
   {
    "duration": 6,
    "start_time": "2021-07-01T10:24:04.993Z"
   },
   {
    "duration": 15,
    "start_time": "2021-07-01T10:24:48.734Z"
   },
   {
    "duration": 1440,
    "start_time": "2021-07-01T10:31:07.705Z"
   },
   {
    "duration": 1057,
    "start_time": "2021-07-01T10:31:09.148Z"
   },
   {
    "duration": 161,
    "start_time": "2021-07-01T10:31:10.208Z"
   },
   {
    "duration": 128,
    "start_time": "2021-07-01T10:31:10.371Z"
   },
   {
    "duration": 32,
    "start_time": "2021-07-01T10:31:10.502Z"
   },
   {
    "duration": 59,
    "start_time": "2021-07-01T10:31:10.536Z"
   },
   {
    "duration": 20,
    "start_time": "2021-07-01T10:31:10.598Z"
   },
   {
    "duration": 9706,
    "start_time": "2021-07-01T10:31:10.621Z"
   },
   {
    "duration": 28,
    "start_time": "2021-07-01T10:31:20.329Z"
   },
   {
    "duration": 22,
    "start_time": "2021-07-01T10:31:20.359Z"
   },
   {
    "duration": 94,
    "start_time": "2021-07-01T10:31:20.384Z"
   },
   {
    "duration": 95,
    "start_time": "2021-07-01T10:31:20.481Z"
   },
   {
    "duration": 6,
    "start_time": "2021-07-01T10:31:20.578Z"
   },
   {
    "duration": 3084,
    "start_time": "2021-07-01T10:31:20.587Z"
   },
   {
    "duration": 60,
    "start_time": "2021-07-01T10:31:23.673Z"
   },
   {
    "duration": 40,
    "start_time": "2021-07-01T10:31:23.735Z"
   },
   {
    "duration": 56,
    "start_time": "2021-07-01T10:31:23.777Z"
   },
   {
    "duration": 32,
    "start_time": "2021-07-01T10:31:23.835Z"
   },
   {
    "duration": 496,
    "start_time": "2021-07-01T10:31:23.870Z"
   },
   {
    "duration": 7,
    "start_time": "2021-07-01T10:31:24.368Z"
   },
   {
    "duration": 3273,
    "start_time": "2021-07-01T10:31:24.377Z"
   },
   {
    "duration": 33,
    "start_time": "2021-07-01T10:31:27.660Z"
   },
   {
    "duration": 6,
    "start_time": "2021-07-01T10:31:27.695Z"
   },
   {
    "duration": 4,
    "start_time": "2021-07-01T10:31:27.704Z"
   },
   {
    "duration": 819,
    "start_time": "2021-07-01T10:31:27.710Z"
   },
   {
    "duration": 4,
    "start_time": "2021-07-01T10:31:28.531Z"
   },
   {
    "duration": 89,
    "start_time": "2021-07-01T10:31:28.538Z"
   },
   {
    "duration": 619,
    "start_time": "2021-07-01T10:31:28.629Z"
   },
   {
    "duration": 4,
    "start_time": "2021-07-01T10:31:29.256Z"
   },
   {
    "duration": 15,
    "start_time": "2021-07-01T10:31:29.262Z"
   },
   {
    "duration": 321,
    "start_time": "2021-07-01T10:31:29.279Z"
   },
   {
    "duration": 1486,
    "start_time": "2021-07-01T10:34:45.703Z"
   },
   {
    "duration": 1081,
    "start_time": "2021-07-01T10:34:47.193Z"
   },
   {
    "duration": 161,
    "start_time": "2021-07-01T10:34:48.278Z"
   },
   {
    "duration": 132,
    "start_time": "2021-07-01T10:34:48.442Z"
   },
   {
    "duration": 32,
    "start_time": "2021-07-01T10:34:48.577Z"
   },
   {
    "duration": 68,
    "start_time": "2021-07-01T10:34:48.611Z"
   },
   {
    "duration": 21,
    "start_time": "2021-07-01T10:34:48.681Z"
   },
   {
    "duration": 9629,
    "start_time": "2021-07-01T10:34:48.704Z"
   },
   {
    "duration": 28,
    "start_time": "2021-07-01T10:34:58.337Z"
   },
   {
    "duration": 25,
    "start_time": "2021-07-01T10:34:58.368Z"
   },
   {
    "duration": 100,
    "start_time": "2021-07-01T10:34:58.396Z"
   },
   {
    "duration": 98,
    "start_time": "2021-07-01T10:34:58.499Z"
   },
   {
    "duration": 6,
    "start_time": "2021-07-01T10:34:58.600Z"
   },
   {
    "duration": 3261,
    "start_time": "2021-07-01T10:34:58.608Z"
   },
   {
    "duration": 91,
    "start_time": "2021-07-01T10:35:01.871Z"
   },
   {
    "duration": 31,
    "start_time": "2021-07-01T10:35:01.965Z"
   },
   {
    "duration": 97,
    "start_time": "2021-07-01T10:35:01.998Z"
   },
   {
    "duration": 25,
    "start_time": "2021-07-01T10:35:02.098Z"
   },
   {
    "duration": 590,
    "start_time": "2021-07-01T10:35:02.126Z"
   },
   {
    "duration": 6,
    "start_time": "2021-07-01T10:35:02.719Z"
   },
   {
    "duration": 3255,
    "start_time": "2021-07-01T10:35:02.727Z"
   },
   {
    "duration": 31,
    "start_time": "2021-07-01T10:35:05.985Z"
   },
   {
    "duration": 5,
    "start_time": "2021-07-01T10:35:06.019Z"
   },
   {
    "duration": 31,
    "start_time": "2021-07-01T10:35:06.027Z"
   },
   {
    "duration": 797,
    "start_time": "2021-07-01T10:35:06.060Z"
   },
   {
    "duration": 3,
    "start_time": "2021-07-01T10:35:06.859Z"
   },
   {
    "duration": 106,
    "start_time": "2021-07-01T10:35:06.868Z"
   },
   {
    "duration": 634,
    "start_time": "2021-07-01T10:35:06.977Z"
   },
   {
    "duration": 4,
    "start_time": "2021-07-01T10:35:07.614Z"
   },
   {
    "duration": 17,
    "start_time": "2021-07-01T10:35:07.620Z"
   },
   {
    "duration": 592,
    "start_time": "2021-07-01T10:35:07.639Z"
   },
   {
    "duration": 16,
    "start_time": "2021-07-01T10:36:03.843Z"
   },
   {
    "duration": 1481,
    "start_time": "2021-07-01T10:39:54.858Z"
   },
   {
    "duration": 1217,
    "start_time": "2021-07-01T10:39:56.341Z"
   },
   {
    "duration": 169,
    "start_time": "2021-07-01T10:39:57.561Z"
   },
   {
    "duration": 126,
    "start_time": "2021-07-01T10:39:57.733Z"
   },
   {
    "duration": 33,
    "start_time": "2021-07-01T10:39:57.861Z"
   },
   {
    "duration": 69,
    "start_time": "2021-07-01T10:39:57.896Z"
   },
   {
    "duration": 23,
    "start_time": "2021-07-01T10:39:57.968Z"
   },
   {
    "duration": 9786,
    "start_time": "2021-07-01T10:39:57.993Z"
   },
   {
    "duration": 31,
    "start_time": "2021-07-01T10:40:07.783Z"
   },
   {
    "duration": 39,
    "start_time": "2021-07-01T10:40:07.817Z"
   },
   {
    "duration": 74,
    "start_time": "2021-07-01T10:40:07.858Z"
   },
   {
    "duration": 110,
    "start_time": "2021-07-01T10:40:07.934Z"
   },
   {
    "duration": 6,
    "start_time": "2021-07-01T10:40:08.055Z"
   },
   {
    "duration": 3178,
    "start_time": "2021-07-01T10:40:08.063Z"
   },
   {
    "duration": 63,
    "start_time": "2021-07-01T10:40:11.243Z"
   },
   {
    "duration": 24,
    "start_time": "2021-07-01T10:40:11.308Z"
   },
   {
    "duration": 71,
    "start_time": "2021-07-01T10:40:11.335Z"
   },
   {
    "duration": 15,
    "start_time": "2021-07-01T10:40:11.408Z"
   },
   {
    "duration": 509,
    "start_time": "2021-07-01T10:40:11.425Z"
   },
   {
    "duration": 7,
    "start_time": "2021-07-01T10:40:11.937Z"
   },
   {
    "duration": 3160,
    "start_time": "2021-07-01T10:40:11.956Z"
   },
   {
    "duration": 43,
    "start_time": "2021-07-01T10:40:15.119Z"
   },
   {
    "duration": 5,
    "start_time": "2021-07-01T10:40:15.165Z"
   },
   {
    "duration": 6,
    "start_time": "2021-07-01T10:40:15.172Z"
   },
   {
    "duration": 821,
    "start_time": "2021-07-01T10:40:15.180Z"
   },
   {
    "duration": 25,
    "start_time": "2021-07-01T10:40:16.004Z"
   },
   {
    "duration": 80,
    "start_time": "2021-07-01T10:40:16.034Z"
   },
   {
    "duration": 592,
    "start_time": "2021-07-01T10:40:16.116Z"
   },
   {
    "duration": 4,
    "start_time": "2021-07-01T10:40:16.711Z"
   },
   {
    "duration": 8,
    "start_time": "2021-07-01T10:40:16.717Z"
   },
   {
    "duration": 360,
    "start_time": "2021-07-01T10:40:16.728Z"
   },
   {
    "duration": 87,
    "start_time": "2021-07-01T10:40:56.641Z"
   },
   {
    "duration": 15,
    "start_time": "2021-07-01T10:41:53.814Z"
   },
   {
    "duration": 84,
    "start_time": "2021-07-01T10:42:56.613Z"
   },
   {
    "duration": 21,
    "start_time": "2021-07-01T10:43:01.932Z"
   },
   {
    "duration": 252,
    "start_time": "2021-07-01T10:51:40.385Z"
   },
   {
    "duration": 266,
    "start_time": "2021-07-01T10:52:10.852Z"
   },
   {
    "duration": 256,
    "start_time": "2021-07-01T10:52:48.984Z"
   },
   {
    "duration": 777,
    "start_time": "2021-07-01T10:52:54.161Z"
   },
   {
    "duration": 23,
    "start_time": "2021-07-01T10:53:02.695Z"
   },
   {
    "duration": 254,
    "start_time": "2021-07-01T10:54:06.367Z"
   },
   {
    "duration": 252,
    "start_time": "2021-07-01T11:02:49.302Z"
   },
   {
    "duration": 22,
    "start_time": "2021-07-01T11:19:43.524Z"
   },
   {
    "duration": 1574,
    "start_time": "2021-07-01T11:19:54.575Z"
   },
   {
    "duration": 1054,
    "start_time": "2021-07-01T11:19:56.156Z"
   },
   {
    "duration": 167,
    "start_time": "2021-07-01T11:19:57.212Z"
   },
   {
    "duration": 128,
    "start_time": "2021-07-01T11:19:57.382Z"
   },
   {
    "duration": 48,
    "start_time": "2021-07-01T11:19:57.513Z"
   },
   {
    "duration": 47,
    "start_time": "2021-07-01T11:19:57.564Z"
   },
   {
    "duration": 44,
    "start_time": "2021-07-01T11:19:57.613Z"
   },
   {
    "duration": 9714,
    "start_time": "2021-07-01T11:19:57.660Z"
   },
   {
    "duration": 32,
    "start_time": "2021-07-01T11:20:07.377Z"
   },
   {
    "duration": 22,
    "start_time": "2021-07-01T11:20:07.411Z"
   },
   {
    "duration": 72,
    "start_time": "2021-07-01T11:20:07.456Z"
   },
   {
    "duration": 106,
    "start_time": "2021-07-01T11:20:07.531Z"
   },
   {
    "duration": 18,
    "start_time": "2021-07-01T11:20:07.640Z"
   },
   {
    "duration": 3165,
    "start_time": "2021-07-01T11:20:07.661Z"
   },
   {
    "duration": 75,
    "start_time": "2021-07-01T11:20:10.829Z"
   },
   {
    "duration": 26,
    "start_time": "2021-07-01T11:20:10.906Z"
   },
   {
    "duration": 65,
    "start_time": "2021-07-01T11:20:10.934Z"
   },
   {
    "duration": 14,
    "start_time": "2021-07-01T11:20:11.001Z"
   },
   {
    "duration": 509,
    "start_time": "2021-07-01T11:20:11.017Z"
   },
   {
    "duration": 7,
    "start_time": "2021-07-01T11:20:11.528Z"
   },
   {
    "duration": 3145,
    "start_time": "2021-07-01T11:20:11.537Z"
   },
   {
    "duration": 26,
    "start_time": "2021-07-01T11:20:14.685Z"
   },
   {
    "duration": 49,
    "start_time": "2021-07-01T11:20:14.716Z"
   },
   {
    "duration": 5,
    "start_time": "2021-07-01T11:20:14.768Z"
   },
   {
    "duration": 11,
    "start_time": "2021-07-01T11:20:14.776Z"
   },
   {
    "duration": 517,
    "start_time": "2021-07-01T11:20:14.789Z"
   },
   {
    "duration": -21,
    "start_time": "2021-07-01T11:20:15.330Z"
   },
   {
    "duration": -24,
    "start_time": "2021-07-01T11:20:15.334Z"
   },
   {
    "duration": -25,
    "start_time": "2021-07-01T11:20:15.337Z"
   },
   {
    "duration": -26,
    "start_time": "2021-07-01T11:20:15.340Z"
   },
   {
    "duration": -29,
    "start_time": "2021-07-01T11:20:15.344Z"
   },
   {
    "duration": -30,
    "start_time": "2021-07-01T11:20:15.347Z"
   },
   {
    "duration": 731,
    "start_time": "2021-07-01T11:20:33.411Z"
   },
   {
    "duration": 31,
    "start_time": "2021-07-01T11:20:36.146Z"
   },
   {
    "duration": 28,
    "start_time": "2021-07-01T11:28:12.187Z"
   },
   {
    "duration": 38,
    "start_time": "2021-07-01T11:28:41.824Z"
   },
   {
    "duration": 1719,
    "start_time": "2021-07-01T11:39:09.254Z"
   },
   {
    "duration": 1093,
    "start_time": "2021-07-01T11:39:10.976Z"
   },
   {
    "duration": 171,
    "start_time": "2021-07-01T11:39:12.072Z"
   },
   {
    "duration": 131,
    "start_time": "2021-07-01T11:39:12.246Z"
   },
   {
    "duration": 33,
    "start_time": "2021-07-01T11:39:12.379Z"
   },
   {
    "duration": 70,
    "start_time": "2021-07-01T11:39:12.414Z"
   },
   {
    "duration": 20,
    "start_time": "2021-07-01T11:39:12.486Z"
   },
   {
    "duration": 9711,
    "start_time": "2021-07-01T11:39:12.510Z"
   },
   {
    "duration": 39,
    "start_time": "2021-07-01T11:39:22.224Z"
   },
   {
    "duration": 23,
    "start_time": "2021-07-01T11:39:22.265Z"
   },
   {
    "duration": 92,
    "start_time": "2021-07-01T11:39:22.291Z"
   },
   {
    "duration": 105,
    "start_time": "2021-07-01T11:39:22.385Z"
   },
   {
    "duration": 6,
    "start_time": "2021-07-01T11:39:22.492Z"
   },
   {
    "duration": 3123,
    "start_time": "2021-07-01T11:39:22.500Z"
   },
   {
    "duration": 71,
    "start_time": "2021-07-01T11:39:25.625Z"
   },
   {
    "duration": 31,
    "start_time": "2021-07-01T11:39:25.699Z"
   },
   {
    "duration": 80,
    "start_time": "2021-07-01T11:39:25.733Z"
   },
   {
    "duration": 18,
    "start_time": "2021-07-01T11:39:25.816Z"
   },
   {
    "duration": 516,
    "start_time": "2021-07-01T11:39:25.856Z"
   },
   {
    "duration": 9,
    "start_time": "2021-07-01T11:39:26.374Z"
   },
   {
    "duration": 3298,
    "start_time": "2021-07-01T11:39:26.386Z"
   },
   {
    "duration": 55,
    "start_time": "2021-07-01T11:39:29.687Z"
   },
   {
    "duration": 24,
    "start_time": "2021-07-01T11:39:29.759Z"
   },
   {
    "duration": 5,
    "start_time": "2021-07-01T11:39:29.786Z"
   },
   {
    "duration": 15,
    "start_time": "2021-07-01T11:39:29.793Z"
   },
   {
    "duration": 768,
    "start_time": "2021-07-01T11:39:29.810Z"
   },
   {
    "duration": 31,
    "start_time": "2021-07-01T11:39:30.580Z"
   },
   {
    "duration": 85,
    "start_time": "2021-07-01T11:39:30.613Z"
   },
   {
    "duration": 638,
    "start_time": "2021-07-01T11:39:30.700Z"
   },
   {
    "duration": 4,
    "start_time": "2021-07-01T11:39:31.341Z"
   },
   {
    "duration": 19,
    "start_time": "2021-07-01T11:39:31.355Z"
   },
   {
    "duration": 86,
    "start_time": "2021-07-01T11:39:31.377Z"
   },
   {
    "duration": 19,
    "start_time": "2021-07-01T11:42:10.271Z"
   },
   {
    "duration": 6,
    "start_time": "2021-07-01T11:42:58.188Z"
   },
   {
    "duration": 8,
    "start_time": "2021-07-01T11:44:11.318Z"
   },
   {
    "duration": 298,
    "start_time": "2021-07-01T11:51:36.731Z"
   },
   {
    "duration": 33,
    "start_time": "2021-07-01T11:52:09.967Z"
   },
   {
    "duration": 73797,
    "start_time": "2021-07-01T11:52:34.672Z"
   },
   {
    "duration": 5,
    "start_time": "2021-07-01T11:56:55.946Z"
   },
   {
    "duration": 3657,
    "start_time": "2021-07-01T11:59:16.923Z"
   },
   {
    "duration": 8,
    "start_time": "2021-07-01T12:17:55.344Z"
   },
   {
    "duration": 7,
    "start_time": "2021-07-01T12:18:07.655Z"
   },
   {
    "duration": 9,
    "start_time": "2021-07-01T12:18:36.425Z"
   },
   {
    "duration": 541,
    "start_time": "2021-07-01T12:19:17.444Z"
   },
   {
    "duration": 6,
    "start_time": "2021-07-01T12:24:25.943Z"
   },
   {
    "duration": 501,
    "start_time": "2021-07-01T12:24:30.316Z"
   },
   {
    "duration": 6,
    "start_time": "2021-07-01T12:26:56.170Z"
   },
   {
    "duration": 539,
    "start_time": "2021-07-01T12:27:01.930Z"
   },
   {
    "duration": 7,
    "start_time": "2021-07-01T12:29:19.320Z"
   },
   {
    "duration": 522,
    "start_time": "2021-07-01T12:29:26.082Z"
   },
   {
    "duration": 6,
    "start_time": "2021-07-01T12:29:36.790Z"
   },
   {
    "duration": 618,
    "start_time": "2021-07-01T12:29:41.697Z"
   },
   {
    "duration": 6,
    "start_time": "2021-07-01T12:29:47.097Z"
   },
   {
    "duration": 537,
    "start_time": "2021-07-01T12:29:51.111Z"
   },
   {
    "duration": 7,
    "start_time": "2021-07-01T12:30:04.827Z"
   },
   {
    "duration": 524,
    "start_time": "2021-07-01T12:30:07.647Z"
   },
   {
    "duration": 6,
    "start_time": "2021-07-01T12:30:25.951Z"
   },
   {
    "duration": 525,
    "start_time": "2021-07-01T12:30:28.922Z"
   },
   {
    "duration": 174,
    "start_time": "2021-07-01T12:41:39.071Z"
   },
   {
    "duration": 28,
    "start_time": "2021-07-01T12:42:32.616Z"
   },
   {
    "duration": 182328,
    "start_time": "2021-07-01T12:42:49.746Z"
   },
   {
    "duration": 97,
    "start_time": "2021-07-01T12:48:18.074Z"
   },
   {
    "duration": 7,
    "start_time": "2021-07-01T12:50:32.241Z"
   },
   {
    "duration": 7,
    "start_time": "2021-07-01T12:51:14.464Z"
   },
   {
    "duration": 422,
    "start_time": "2021-07-01T12:51:51.933Z"
   },
   {
    "duration": 93,
    "start_time": "2021-07-01T12:53:06.892Z"
   },
   {
    "duration": 191,
    "start_time": "2021-07-01T12:54:27.033Z"
   },
   {
    "duration": 22,
    "start_time": "2021-07-01T12:55:19.247Z"
   },
   {
    "duration": 58789,
    "start_time": "2021-07-01T12:55:29.482Z"
   },
   {
    "duration": 7667,
    "start_time": "2021-07-01T12:56:35.118Z"
   },
   {
    "duration": 5,
    "start_time": "2021-07-01T12:57:11.016Z"
   },
   {
    "duration": 6,
    "start_time": "2021-07-01T12:57:55.296Z"
   },
   {
    "duration": 8,
    "start_time": "2021-07-01T13:00:21.426Z"
   },
   {
    "duration": 7,
    "start_time": "2021-07-01T13:00:53.825Z"
   },
   {
    "duration": 316,
    "start_time": "2021-07-01T13:20:22.766Z"
   },
   {
    "duration": 94,
    "start_time": "2021-07-01T13:22:50.996Z"
   },
   {
    "duration": 748,
    "start_time": "2021-07-01T13:24:09.636Z"
   },
   {
    "duration": 1573,
    "start_time": "2021-07-01T14:33:13.431Z"
   },
   {
    "duration": 1096,
    "start_time": "2021-07-01T14:33:15.007Z"
   },
   {
    "duration": 162,
    "start_time": "2021-07-01T14:33:16.106Z"
   },
   {
    "duration": 132,
    "start_time": "2021-07-01T14:33:16.271Z"
   },
   {
    "duration": 51,
    "start_time": "2021-07-01T14:33:16.406Z"
   },
   {
    "duration": 48,
    "start_time": "2021-07-01T14:33:16.460Z"
   },
   {
    "duration": 49,
    "start_time": "2021-07-01T14:33:16.511Z"
   },
   {
    "duration": 9661,
    "start_time": "2021-07-01T14:33:16.564Z"
   },
   {
    "duration": 34,
    "start_time": "2021-07-01T14:33:26.228Z"
   },
   {
    "duration": 41,
    "start_time": "2021-07-01T14:33:26.264Z"
   },
   {
    "duration": 96,
    "start_time": "2021-07-01T14:33:26.308Z"
   },
   {
    "duration": 91,
    "start_time": "2021-07-01T14:33:26.407Z"
   },
   {
    "duration": 10,
    "start_time": "2021-07-01T14:33:26.500Z"
   },
   {
    "duration": 3316,
    "start_time": "2021-07-01T14:33:26.513Z"
   },
   {
    "duration": 72,
    "start_time": "2021-07-01T14:33:29.832Z"
   },
   {
    "duration": 28,
    "start_time": "2021-07-01T14:33:29.906Z"
   },
   {
    "duration": 62,
    "start_time": "2021-07-01T14:33:29.957Z"
   },
   {
    "duration": 43,
    "start_time": "2021-07-01T14:33:30.023Z"
   },
   {
    "duration": 450,
    "start_time": "2021-07-01T14:33:30.069Z"
   },
   {
    "duration": 8,
    "start_time": "2021-07-01T14:33:30.521Z"
   },
   {
    "duration": 3326,
    "start_time": "2021-07-01T14:33:30.531Z"
   },
   {
    "duration": 51,
    "start_time": "2021-07-01T14:33:33.860Z"
   },
   {
    "duration": 53,
    "start_time": "2021-07-01T14:33:33.917Z"
   },
   {
    "duration": 6,
    "start_time": "2021-07-01T14:33:33.973Z"
   },
   {
    "duration": 20,
    "start_time": "2021-07-01T14:33:33.981Z"
   },
   {
    "duration": 752,
    "start_time": "2021-07-01T14:33:34.003Z"
   },
   {
    "duration": 75,
    "start_time": "2021-07-01T14:33:34.757Z"
   },
   {
    "duration": 628,
    "start_time": "2021-07-01T14:33:34.835Z"
   },
   {
    "duration": 4,
    "start_time": "2021-07-01T14:33:35.465Z"
   },
   {
    "duration": 8,
    "start_time": "2021-07-01T14:33:35.471Z"
   },
   {
    "duration": 100,
    "start_time": "2021-07-01T14:33:35.481Z"
   },
   {
    "duration": 12,
    "start_time": "2021-07-01T14:33:35.584Z"
   },
   {
    "duration": 103,
    "start_time": "2021-07-01T14:33:35.657Z"
   },
   {
    "duration": 15,
    "start_time": "2021-07-01T14:33:35.762Z"
   },
   {
    "duration": 73041,
    "start_time": "2021-07-01T14:33:35.779Z"
   },
   {
    "duration": 5,
    "start_time": "2021-07-01T14:34:48.822Z"
   },
   {
    "duration": 3701,
    "start_time": "2021-07-01T14:34:48.829Z"
   },
   {
    "duration": 8,
    "start_time": "2021-07-01T14:34:52.532Z"
   },
   {
    "duration": 538,
    "start_time": "2021-07-01T14:34:52.557Z"
   },
   {
    "duration": 183024,
    "start_time": "2021-07-01T14:34:53.099Z"
   },
   {
    "duration": 138,
    "start_time": "2021-07-01T14:37:56.125Z"
   },
   {
    "duration": 8,
    "start_time": "2021-07-01T14:37:56.265Z"
   },
   {
    "duration": 362,
    "start_time": "2021-07-01T14:37:56.276Z"
   },
   {
    "duration": 64820,
    "start_time": "2021-07-01T14:37:56.641Z"
   },
   {
    "duration": 7202,
    "start_time": "2021-07-01T14:39:01.463Z"
   },
   {
    "duration": 7,
    "start_time": "2021-07-01T14:39:08.668Z"
   },
   {
    "duration": 10,
    "start_time": "2021-07-01T14:39:08.678Z"
   },
   {
    "duration": 369,
    "start_time": "2021-07-01T14:39:08.691Z"
   },
   {
    "duration": 758,
    "start_time": "2021-07-01T14:39:09.063Z"
   }
  ],
  "kernelspec": {
   "display_name": "Python 3 (ipykernel)",
   "language": "python",
   "name": "python3"
  },
  "language_info": {
   "codemirror_mode": {
    "name": "ipython",
    "version": 3
   },
   "file_extension": ".py",
   "mimetype": "text/x-python",
   "name": "python",
   "nbconvert_exporter": "python",
   "pygments_lexer": "ipython3",
   "version": "3.9.5"
  },
  "toc": {
   "base_numbering": 1,
   "nav_menu": {},
   "number_sections": true,
   "sideBar": true,
   "skip_h1_title": true,
   "title_cell": "Table of Contents",
   "title_sidebar": "Contents",
   "toc_cell": false,
   "toc_position": {},
   "toc_section_display": true,
   "toc_window_display": false
  }
 },
 "nbformat": 4,
 "nbformat_minor": 2
}
