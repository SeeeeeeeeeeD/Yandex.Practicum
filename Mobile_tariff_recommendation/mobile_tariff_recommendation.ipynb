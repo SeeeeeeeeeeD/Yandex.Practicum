{
 "cells": [
  {
   "cell_type": "markdown",
   "metadata": {},
   "source": [
    "# Рекомендация тарифов"
   ]
  },
  {
   "cell_type": "markdown",
   "metadata": {},
   "source": [
    "Оператор мобильной связи «Мегалайн» выяснил: многие клиенты пользуются архивными тарифами. Они хотят построить систему, способную проанализировать поведение клиентов и предложить пользователям новый тариф: «Смарт» или «Ультра».  \n",
    "\n",
    "В нашем распоряжении данные о поведении клиентов, которые уже перешли на эти тарифы (из проекта курса «Статистический анализ данных»). Нужно построить модель для задачи классификации, которая выберет подходящий тариф. Предобработка данных не понадобится — мы её уже сделали ранее.\n",
    "\n",
    "Построим модель с максимально большим значением *accuracy*. Чтобы сдать проект успешно, нам нужно довести долю правильных ответов по крайней мере до 0.75. Проверим *accuracy* на тестовой выборке самостоятельно."
   ]
  },
  {
   "cell_type": "markdown",
   "metadata": {},
   "source": [
    "**Описание данных**  \n",
    "\n",
    "* сalls — количество звонков,\n",
    "* minutes — суммарная длительность звонков в минутах,\n",
    "* messages — количество sms-сообщений,\n",
    "* mb_used — израсходованный интернет-трафик в Мб,\n",
    "* is_ultra — каким тарифом пользовался в течение месяца («Ультра» — 1, «Смарт» — 0)."
   ]
  },
  {
   "cell_type": "markdown",
   "metadata": {},
   "source": [
    "**Краткий план работы**\n",
    "1. Знакомство с вводными данными\n",
    "2. Разделение исходные данных на выборки\n",
    "3. Исследование качества разных моделей\n",
    "4. Проверка качества модели на тестовой выборке\n",
    "5. Проверка модели на вменяемость\n",
    "6. Общий вывод"
   ]
  },
  {
   "cell_type": "markdown",
   "metadata": {},
   "source": [
    "### Шаг 1. Открытие файла с данными и изучение общей информации"
   ]
  },
  {
   "cell_type": "code",
   "execution_count": 1,
   "metadata": {},
   "outputs": [],
   "source": [
    "import pandas as pd\n",
    "import numpy as np\n",
    "from sklearn.tree import DecisionTreeClassifier\n",
    "from sklearn.metrics import accuracy_score\n",
    "from sklearn.model_selection import train_test_split\n",
    "from sklearn.linear_model import LogisticRegression\n",
    "from sklearn.ensemble import RandomForestClassifier\n",
    "from sklearn.dummy import DummyClassifier"
   ]
  },
  {
   "cell_type": "code",
   "execution_count": 2,
   "metadata": {},
   "outputs": [
    {
     "data": {
      "text/html": [
       "<div>\n",
       "<style scoped>\n",
       "    .dataframe tbody tr th:only-of-type {\n",
       "        vertical-align: middle;\n",
       "    }\n",
       "\n",
       "    .dataframe tbody tr th {\n",
       "        vertical-align: top;\n",
       "    }\n",
       "\n",
       "    .dataframe thead th {\n",
       "        text-align: right;\n",
       "    }\n",
       "</style>\n",
       "<table border=\"1\" class=\"dataframe\">\n",
       "  <thead>\n",
       "    <tr style=\"text-align: right;\">\n",
       "      <th></th>\n",
       "      <th>calls</th>\n",
       "      <th>minutes</th>\n",
       "      <th>messages</th>\n",
       "      <th>mb_used</th>\n",
       "      <th>is_ultra</th>\n",
       "    </tr>\n",
       "  </thead>\n",
       "  <tbody>\n",
       "    <tr>\n",
       "      <td>0</td>\n",
       "      <td>40.0</td>\n",
       "      <td>311.90</td>\n",
       "      <td>83.0</td>\n",
       "      <td>19915.42</td>\n",
       "      <td>0</td>\n",
       "    </tr>\n",
       "    <tr>\n",
       "      <td>1</td>\n",
       "      <td>85.0</td>\n",
       "      <td>516.75</td>\n",
       "      <td>56.0</td>\n",
       "      <td>22696.96</td>\n",
       "      <td>0</td>\n",
       "    </tr>\n",
       "    <tr>\n",
       "      <td>2</td>\n",
       "      <td>77.0</td>\n",
       "      <td>467.66</td>\n",
       "      <td>86.0</td>\n",
       "      <td>21060.45</td>\n",
       "      <td>0</td>\n",
       "    </tr>\n",
       "    <tr>\n",
       "      <td>3</td>\n",
       "      <td>106.0</td>\n",
       "      <td>745.53</td>\n",
       "      <td>81.0</td>\n",
       "      <td>8437.39</td>\n",
       "      <td>1</td>\n",
       "    </tr>\n",
       "    <tr>\n",
       "      <td>4</td>\n",
       "      <td>66.0</td>\n",
       "      <td>418.74</td>\n",
       "      <td>1.0</td>\n",
       "      <td>14502.75</td>\n",
       "      <td>0</td>\n",
       "    </tr>\n",
       "    <tr>\n",
       "      <td>...</td>\n",
       "      <td>...</td>\n",
       "      <td>...</td>\n",
       "      <td>...</td>\n",
       "      <td>...</td>\n",
       "      <td>...</td>\n",
       "    </tr>\n",
       "    <tr>\n",
       "      <td>3209</td>\n",
       "      <td>122.0</td>\n",
       "      <td>910.98</td>\n",
       "      <td>20.0</td>\n",
       "      <td>35124.90</td>\n",
       "      <td>1</td>\n",
       "    </tr>\n",
       "    <tr>\n",
       "      <td>3210</td>\n",
       "      <td>25.0</td>\n",
       "      <td>190.36</td>\n",
       "      <td>0.0</td>\n",
       "      <td>3275.61</td>\n",
       "      <td>0</td>\n",
       "    </tr>\n",
       "    <tr>\n",
       "      <td>3211</td>\n",
       "      <td>97.0</td>\n",
       "      <td>634.44</td>\n",
       "      <td>70.0</td>\n",
       "      <td>13974.06</td>\n",
       "      <td>0</td>\n",
       "    </tr>\n",
       "    <tr>\n",
       "      <td>3212</td>\n",
       "      <td>64.0</td>\n",
       "      <td>462.32</td>\n",
       "      <td>90.0</td>\n",
       "      <td>31239.78</td>\n",
       "      <td>0</td>\n",
       "    </tr>\n",
       "    <tr>\n",
       "      <td>3213</td>\n",
       "      <td>80.0</td>\n",
       "      <td>566.09</td>\n",
       "      <td>6.0</td>\n",
       "      <td>29480.52</td>\n",
       "      <td>1</td>\n",
       "    </tr>\n",
       "  </tbody>\n",
       "</table>\n",
       "<p>3214 rows × 5 columns</p>\n",
       "</div>"
      ],
      "text/plain": [
       "      calls  minutes  messages   mb_used  is_ultra\n",
       "0      40.0   311.90      83.0  19915.42         0\n",
       "1      85.0   516.75      56.0  22696.96         0\n",
       "2      77.0   467.66      86.0  21060.45         0\n",
       "3     106.0   745.53      81.0   8437.39         1\n",
       "4      66.0   418.74       1.0  14502.75         0\n",
       "...     ...      ...       ...       ...       ...\n",
       "3209  122.0   910.98      20.0  35124.90         1\n",
       "3210   25.0   190.36       0.0   3275.61         0\n",
       "3211   97.0   634.44      70.0  13974.06         0\n",
       "3212   64.0   462.32      90.0  31239.78         0\n",
       "3213   80.0   566.09       6.0  29480.52         1\n",
       "\n",
       "[3214 rows x 5 columns]"
      ]
     },
     "execution_count": 2,
     "metadata": {},
     "output_type": "execute_result"
    }
   ],
   "source": [
    "df = pd.read_csv('/datasets/users_behavior.csv')\n",
    "df"
   ]
  },
  {
   "cell_type": "code",
   "execution_count": 3,
   "metadata": {},
   "outputs": [
    {
     "name": "stdout",
     "output_type": "stream",
     "text": [
      "<class 'pandas.core.frame.DataFrame'>\n",
      "RangeIndex: 3214 entries, 0 to 3213\n",
      "Data columns (total 5 columns):\n",
      "calls       3214 non-null float64\n",
      "minutes     3214 non-null float64\n",
      "messages    3214 non-null float64\n",
      "mb_used     3214 non-null float64\n",
      "is_ultra    3214 non-null int64\n",
      "dtypes: float64(4), int64(1)\n",
      "memory usage: 125.7 KB\n"
     ]
    }
   ],
   "source": [
    "df.info()"
   ]
  },
  {
   "cell_type": "markdown",
   "metadata": {},
   "source": [
    "Предобработка данных не требуется (как следует из условий проекта), она уже была сделана ранее. Следовательно мы сразу можем перейти к следующему этапу.   \n",
    "Перед нами стоит задача бинарной классификации. В качестве целевого признака выступает столбец \"is_ultra\". В нем отражено какой тариф использует клиент, Смарт или Ультра."
   ]
  },
  {
   "cell_type": "markdown",
   "metadata": {},
   "source": [
    "### Шаг 2. Разделим исходные данные на обучающую, валидационную и тестовую выборки"
   ]
  },
  {
   "cell_type": "markdown",
   "metadata": {},
   "source": [
    "Разделим данные по принципу 60 - 20 - 20."
   ]
  },
  {
   "cell_type": "code",
   "execution_count": 4,
   "metadata": {},
   "outputs": [
    {
     "name": "stdout",
     "output_type": "stream",
     "text": [
      "Размер обучающей выборки 1928\n",
      "Размер валидационной выборки 643\n",
      "Размер тестовой выборки 643\n"
     ]
    }
   ],
   "source": [
    "df_train, df_valid_test = train_test_split(df, train_size=0.6, test_size=0.4, random_state=42)\n",
    "df_valid, df_test = train_test_split(df_valid_test, test_size=0.5, random_state=42)\n",
    "\n",
    "print('Размер обучающей выборки', df_train.shape[0])\n",
    "print('Размер валидационной выборки', df_valid.shape[0])\n",
    "print('Размер тестовой выборки', df_test.shape[0])"
   ]
  },
  {
   "cell_type": "markdown",
   "metadata": {},
   "source": [
    "Составим таблицы признаков и целового признака для каждого дата фрейма."
   ]
  },
  {
   "cell_type": "code",
   "execution_count": 5,
   "metadata": {},
   "outputs": [],
   "source": [
    "df_train_features = df_train.drop(['is_ultra'], axis=1)\n",
    "df_train_target = df_train['is_ultra']\n",
    "df_valid_features = df_valid.drop(['is_ultra'], axis=1)\n",
    "df_valid_target = df_valid['is_ultra']\n",
    "df_test_features = df_test.drop(['is_ultra'], axis=1)\n",
    "df_test_target = df_test['is_ultra']"
   ]
  },
  {
   "cell_type": "markdown",
   "metadata": {},
   "source": [
    "### Шаг 3. Исследуем качество разных моделей, меняя гиперпараметры."
   ]
  },
  {
   "cell_type": "markdown",
   "metadata": {},
   "source": [
    "Чтобы решить какой новый тариф предложить клиенту, мы должны найти взаимосвязи признаков у пользователей тарифов и понять как они работают. После этого мы сможем предположить, какой тариф оптимален для клиента. Затем нужно будет проверить наши предположения. Такой подход называется моделированием, а сами предположения и способы предсказания — моделями машинного обучения.\n",
    "\n",
    "В процессе моделирования будем использовать следующие модели машинного обучения:\n",
    "* Решающее дерево\n",
    "* Случайный лес\n",
    "* Логистическая регрессия  \n",
    "\n",
    "У \"Решающего дерева\" и \"Случайного леса\" есть гиперпараметры, меняя которые можно подобрать наилучшую модель. У \"Решающего дерева\" это максимальная глубина дерева max_depth. У \"Случайного леса\" к максимальной глубине добавляется еще один гиперпараметр количество деревьев n_estimators.\n",
    "\n",
    "Каждую модель обучим на обучающем наборе и проверим на валидационной выборке. Таким образом определим лучшую модель."
   ]
  },
  {
   "cell_type": "markdown",
   "metadata": {},
   "source": [
    "#### 3.1. Модель \"Решающее дерево\""
   ]
  },
  {
   "cell_type": "markdown",
   "metadata": {},
   "source": [
    "Гиперпараметр max_depth будем изменять в пределах от 2 до 19."
   ]
  },
  {
   "cell_type": "code",
   "execution_count": 6,
   "metadata": {},
   "outputs": [
    {
     "name": "stdout",
     "output_type": "stream",
     "text": [
      "[0.782, 0.792, 0.781, 0.773, 0.776, 0.781, 0.796, 0.781, 0.795, 0.785, 0.787, 0.779, 0.771, 0.768, 0.762, 0.751, 0.756, 0.75]\n",
      "\n",
      "Максимальная доля правильных ответов 0.796 при max_depth = 8\n",
      "\n",
      "CPU times: user 166 ms, sys: 3.21 ms, total: 169 ms\n",
      "Wall time: 195 ms\n"
     ]
    }
   ],
   "source": [
    "%%time\n",
    "\n",
    "# соберем значения accuracy в список, а затем выберем из них максимальное\n",
    "accuracy_tree = []\n",
    "\n",
    "for depth in range(2, 20):\n",
    "    model = DecisionTreeClassifier(random_state=42, max_depth=depth)\n",
    "    model.fit(df_train_features, df_train_target)\n",
    "    predictions = model.predict(df_valid_features)\n",
    "    accuracy = round(accuracy_score(df_valid_target, predictions), 3)\n",
    "    accuracy_tree.append(accuracy)\n",
    "    \n",
    "print(accuracy_tree)\n",
    "print()    \n",
    "print('Максимальная доля правильных ответов', max(accuracy_tree), 'при max_depth =', np.argmax(accuracy_tree)+2)\n",
    "print()"
   ]
  },
  {
   "cell_type": "markdown",
   "metadata": {},
   "source": [
    "Нашли лучший вариант - при глубине дерева 8 доля правильных ответов составляет **79,6%**. Как видим при глубине дерева более 14 доля правильных ответов падает, что свидетельствует о перееобучаемости модели."
   ]
  },
  {
   "cell_type": "markdown",
   "metadata": {},
   "source": [
    "#### 3.2. Модель \"Случайный лес\""
   ]
  },
  {
   "cell_type": "markdown",
   "metadata": {},
   "source": [
    "Гиперпараметр max_depth будем изменять в пределах от 2 до 14.\n",
    "Гиперпараметр n_estimators будем изменять в пределах от 2 до 29."
   ]
  },
  {
   "cell_type": "code",
   "execution_count": 7,
   "metadata": {},
   "outputs": [
    {
     "name": "stdout",
     "output_type": "stream",
     "text": [
      "Максимальная доля правильных ответов 0.82 при max_depth = 9 и n_estimators = 24\n",
      "\n",
      "CPU times: user 22.4 s, sys: 120 ms, total: 22.5 s\n",
      "Wall time: 22.5 s\n"
     ]
    }
   ],
   "source": [
    "%%time\n",
    "\n",
    "best_accuracy = 0\n",
    "for depth in range(2, 15):\n",
    "    for est in range(2, 30):\n",
    "        model = RandomForestClassifier(random_state=42, max_depth=depth, n_estimators=est)\n",
    "        model.fit(df_train_features, df_train_target)\n",
    "        predictions = model.predict(df_valid_features)\n",
    "        accuracy = accuracy_score(df_valid_target, predictions)\n",
    "        if accuracy > best_accuracy:\n",
    "                best_accuracy = round(accuracy, 3)\n",
    "                best_depth = depth\n",
    "                best_est = est\n",
    "print(\"Максимальная доля правильных ответов\", best_accuracy, \"при max_depth =\", best_depth, \"и n_estimators =\", best_est)\n",
    "print()"
   ]
  },
  {
   "cell_type": "markdown",
   "metadata": {},
   "source": [
    "Нашли лучший вариант - при глубине дерева 9 и количестве деревьев 24, доля правильных ответов составляет **82%**."
   ]
  },
  {
   "cell_type": "markdown",
   "metadata": {},
   "source": [
    "#### 3.3. Модель \"Логистическая регрессия\""
   ]
  },
  {
   "cell_type": "code",
   "execution_count": 8,
   "metadata": {},
   "outputs": [
    {
     "name": "stdout",
     "output_type": "stream",
     "text": [
      "Доля правильных ответов 0.74\n",
      "\n",
      "CPU times: user 45.2 ms, sys: 3.89 ms, total: 49 ms\n",
      "Wall time: 59.1 ms\n"
     ]
    }
   ],
   "source": [
    "%%time\n",
    "\n",
    "model_lr = LogisticRegression(random_state=42, max_iter= 1000, solver = 'lbfgs')\n",
    "model_lr.fit(df_train_features, df_train_target)\n",
    "predictions_lr = model_lr.predict(df_valid_features)\n",
    "accuracy_lr = round(accuracy_score(df_valid_target, predictions_lr), 3)\n",
    "\n",
    "print(\"Доля правильных ответов\", accuracy_lr)\n",
    "print()"
   ]
  },
  {
   "cell_type": "markdown",
   "metadata": {},
   "source": [
    "Модель логистической регресии дает **74%** правильных ответов. "
   ]
  },
  {
   "cell_type": "markdown",
   "metadata": {},
   "source": [
    "#### 3.4. Сравнение моделей"
   ]
  },
  {
   "cell_type": "markdown",
   "metadata": {},
   "source": [
    "Сделаем сводную таблицу по результатам предыдущих пунктов"
   ]
  },
  {
   "cell_type": "code",
   "execution_count": 9,
   "metadata": {},
   "outputs": [
    {
     "data": {
      "text/html": [
       "<div>\n",
       "<style scoped>\n",
       "    .dataframe tbody tr th:only-of-type {\n",
       "        vertical-align: middle;\n",
       "    }\n",
       "\n",
       "    .dataframe tbody tr th {\n",
       "        vertical-align: top;\n",
       "    }\n",
       "\n",
       "    .dataframe thead th {\n",
       "        text-align: right;\n",
       "    }\n",
       "</style>\n",
       "<table border=\"1\" class=\"dataframe\">\n",
       "  <thead>\n",
       "    <tr style=\"text-align: right;\">\n",
       "      <th></th>\n",
       "      <th>accuracy</th>\n",
       "      <th>mean_time</th>\n",
       "    </tr>\n",
       "  </thead>\n",
       "  <tbody>\n",
       "    <tr>\n",
       "      <td>Решающее дерево</td>\n",
       "      <td>0.796</td>\n",
       "      <td>0.2</td>\n",
       "    </tr>\n",
       "    <tr>\n",
       "      <td>Случайный лес</td>\n",
       "      <td>0.82</td>\n",
       "      <td>22.0</td>\n",
       "    </tr>\n",
       "    <tr>\n",
       "      <td>Логистическая регрессия</td>\n",
       "      <td>0.74</td>\n",
       "      <td>0.05</td>\n",
       "    </tr>\n",
       "  </tbody>\n",
       "</table>\n",
       "</div>"
      ],
      "text/plain": [
       "                        accuracy mean_time\n",
       "Решающее дерево            0.796       0.2\n",
       "Случайный лес               0.82      22.0\n",
       "Логистическая регрессия     0.74      0.05"
      ]
     },
     "execution_count": 9,
     "metadata": {},
     "output_type": "execute_result"
    }
   ],
   "source": [
    "accuracy_time = {'accuracy': ['0.796', '0.82', '0.74'], 'mean_time': ['0.2', '22.0', '0.05']}\n",
    "df_accuracy_time = pd.DataFrame(data = accuracy_time, index=['Решающее дерево', 'Случайный лес', 'Логистическая регрессия'])\n",
    "df_accuracy_time"
   ]
  },
  {
   "cell_type": "markdown",
   "metadata": {},
   "source": [
    "Самой точной оказалась модель \"Случайный лес\", при этом время её выполнения очень большое. Данной моделью можно воспользоваться, если заранее вычислять потенциальный тариф для клиента.  \n",
    "В случае если абонент хочет выбрать для себя тариф \"он-лайн\", лучше воспользоваться моделью \"Решающее дерево\". Точность у неё не много ниже, при этом она на много быстрее.  "
   ]
  },
  {
   "cell_type": "markdown",
   "metadata": {},
   "source": [
    "### Шаг 4. Проверим качество модели на тестовой выборке"
   ]
  },
  {
   "cell_type": "markdown",
   "metadata": {},
   "source": [
    "#### 4.1. Модель \"Решающее дерево\""
   ]
  },
  {
   "cell_type": "code",
   "execution_count": 10,
   "metadata": {},
   "outputs": [
    {
     "name": "stdout",
     "output_type": "stream",
     "text": [
      "Точность модели: 0.798\n"
     ]
    }
   ],
   "source": [
    "model_tree = DecisionTreeClassifier(max_depth=8, random_state=42)\n",
    "model_tree.fit(df_train_features, df_train_target)\n",
    "accuracy_model_tree= round(model_tree.score(df_test_features, df_test_target), 3)\n",
    "print(\"Точность модели:\", accuracy_model_tree)"
   ]
  },
  {
   "cell_type": "markdown",
   "metadata": {},
   "source": [
    "79,8% правильных ответов. Практически так же как на валидационной выборке."
   ]
  },
  {
   "cell_type": "markdown",
   "metadata": {},
   "source": [
    "#### 4.2. Модель \"Случайный лес\""
   ]
  },
  {
   "cell_type": "code",
   "execution_count": 11,
   "metadata": {},
   "outputs": [
    {
     "name": "stdout",
     "output_type": "stream",
     "text": [
      "Точность модели: 0.816\n"
     ]
    }
   ],
   "source": [
    "model_forest = RandomForestClassifier(max_depth=9, n_estimators=24, random_state=42)\n",
    "model_forest.fit(df_train_features, df_train_target)\n",
    "accuracy_model_forest = round(model_forest.score(df_test_features, df_test_target), 3)\n",
    "print(\"Точность модели:\", accuracy_model_forest)"
   ]
  },
  {
   "cell_type": "markdown",
   "metadata": {},
   "source": [
    "81,6% правильных ответов. Не много ниже чем на валидационной выборке."
   ]
  },
  {
   "cell_type": "markdown",
   "metadata": {},
   "source": [
    "#### 4.3. Модель \"Логистическая регрессия\""
   ]
  },
  {
   "cell_type": "code",
   "execution_count": 12,
   "metadata": {},
   "outputs": [
    {
     "name": "stdout",
     "output_type": "stream",
     "text": [
      "Точность модели: 0.768\n"
     ]
    }
   ],
   "source": [
    "model_lr = LogisticRegression(random_state=42, max_iter= 1000, solver = 'lbfgs')\n",
    "model_lr.fit(df_train_features, df_train_target)\n",
    "accuracy_lr_test = round(model_lr.score(df_test_features, df_test_target), 3)\n",
    "print(\"Точность модели:\", accuracy_lr_test)"
   ]
  },
  {
   "cell_type": "markdown",
   "metadata": {},
   "source": [
    "76,8% правильных ответов. Точность получилась больше чем на валидационной выборке."
   ]
  },
  {
   "cell_type": "markdown",
   "metadata": {},
   "source": [
    "**Наиболее точные предсказания делает модель \"Случайный лес\", это видно по точности предсказания и на тестовой выборке.**"
   ]
  },
  {
   "cell_type": "markdown",
   "metadata": {},
   "source": [
    "### Шаг 5. Проверим модели на вменяемость"
   ]
  },
  {
   "cell_type": "markdown",
   "metadata": {},
   "source": [
    "#### 5.1. Случайное предсказание"
   ]
  },
  {
   "cell_type": "markdown",
   "metadata": {},
   "source": [
    "Проверим, что наши модели работают лучше случайных предсказаний. В качестве случайных предсказаний создадим массив из нулей и единиц распределенных случайным образом."
   ]
  },
  {
   "cell_type": "code",
   "execution_count": 13,
   "metadata": {},
   "outputs": [],
   "source": [
    "random_answers = np.random.randint(0, 2, size=643)"
   ]
  },
  {
   "cell_type": "code",
   "execution_count": 14,
   "metadata": {},
   "outputs": [
    {
     "name": "stdout",
     "output_type": "stream",
     "text": [
      "Точность случайных предсказаний: 0.518\n"
     ]
    }
   ],
   "source": [
    "accuracy_random_test = round(accuracy_score(df_test_target, random_answers), 3)\n",
    "print(\"Точность случайных предсказаний:\", accuracy_random_test)"
   ]
  },
  {
   "cell_type": "markdown",
   "metadata": {},
   "source": [
    "Любая из наших моделей дает гораздо больше правильных ответов чем случайные предсказания."
   ]
  },
  {
   "cell_type": "markdown",
   "metadata": {},
   "source": [
    "#### 5.2. Фиктивные оценки (DummyClassifier)"
   ]
  },
  {
   "cell_type": "markdown",
   "metadata": {},
   "source": [
    "* Генерирация случайного прогноза"
   ]
  },
  {
   "cell_type": "code",
   "execution_count": 15,
   "metadata": {},
   "outputs": [
    {
     "name": "stdout",
     "output_type": "stream",
     "text": [
      "Качество прогноза : 0.585\n"
     ]
    }
   ],
   "source": [
    "model_stratified = DummyClassifier(strategy=\"stratified\" ,random_state=42)\n",
    "model_stratified.fit(df_train_features, df_train_target)\n",
    "accuracy_stratified = round(model_stratified.score(df_test_features, df_test_target), 3)\n",
    "print(\"Качество прогноза :\", accuracy_stratified)"
   ]
  },
  {
   "cell_type": "markdown",
   "metadata": {},
   "source": [
    "* Предсказание наиболее частой метки в обучающем наборе"
   ]
  },
  {
   "cell_type": "code",
   "execution_count": 16,
   "metadata": {},
   "outputs": [
    {
     "name": "stdout",
     "output_type": "stream",
     "text": [
      "Качество прогноза : 0.697\n"
     ]
    }
   ],
   "source": [
    "model_most_frequent = DummyClassifier(strategy=\"most_frequent\" ,random_state=42)\n",
    "model_most_frequent.fit(df_train_features, df_train_target)\n",
    "accuracy_most_frequent = round(model_most_frequent.score(df_test_features, df_test_target), 3)\n",
    "print(\"Качество прогноза :\", accuracy_most_frequent)"
   ]
  },
  {
   "cell_type": "markdown",
   "metadata": {},
   "source": [
    "* Генерация предсказания равномерно в случайном порядке"
   ]
  },
  {
   "cell_type": "code",
   "execution_count": 17,
   "metadata": {},
   "outputs": [
    {
     "name": "stdout",
     "output_type": "stream",
     "text": [
      "Качество прогноза : 0.51\n"
     ]
    }
   ],
   "source": [
    "model_uniform = DummyClassifier(strategy=\"uniform\" ,random_state=42)\n",
    "model_uniform.fit(df_train_features, df_train_target)\n",
    "accuracy_uniform = round(model_uniform.score(df_test_features, df_test_target), 3)\n",
    "print(\"Качество прогноза :\", accuracy_uniform)"
   ]
  },
  {
   "cell_type": "markdown",
   "metadata": {},
   "source": [
    "Любая из наших моделей делает более качественный прогноз."
   ]
  },
  {
   "cell_type": "markdown",
   "metadata": {},
   "source": [
    "### Шаг 6. Общий вывод"
   ]
  },
  {
   "cell_type": "markdown",
   "metadata": {},
   "source": [
    "В данном проекте мы рассмотрели три модели для задачи классификации: \"Решающее дерево\", \"Случайный лес\" и \"Логистическая регрессия\". В каждой модели, изменяя ее гиперпараметры, мы нашли нашли лучший вариант с наибольшим количеством правильных ответов. Путем простого сравнения лучших моделей по доле правильных ответов определили, что для нашей задачи подходит модель \"Случайного леса\" с гиперпараметрами глубина дерева 9 и количество деревьев 24.\n",
    "\n",
    "Сравнив нашу модель со случайными предсказаниями и оценив ее качество на тестовом наборе данных (результат составил 81,6% правильных ответов) мы подтвердили, что наша модель подходит для задачи заказчика. Таким образом можно использовать данную модель для предложения клиентам заказчика нового тарифа (\"Смарт\" или \"Ультра\")."
   ]
  }
 ],
 "metadata": {
  "kernelspec": {
   "display_name": "Python 3 (ipykernel)",
   "language": "python",
   "name": "python3"
  },
  "language_info": {
   "codemirror_mode": {
    "name": "ipython",
    "version": 3
   },
   "file_extension": ".py",
   "mimetype": "text/x-python",
   "name": "python",
   "nbconvert_exporter": "python",
   "pygments_lexer": "ipython3",
   "version": "3.9.5"
  },
  "toc": {
   "base_numbering": 1,
   "nav_menu": {},
   "number_sections": false,
   "sideBar": true,
   "skip_h1_title": true,
   "title_cell": "Table of Contents",
   "title_sidebar": "Contents",
   "toc_cell": false,
   "toc_position": {},
   "toc_section_display": true,
   "toc_window_display": false
  }
 },
 "nbformat": 4,
 "nbformat_minor": 2
}
