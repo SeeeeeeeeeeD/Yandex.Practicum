{
 "cells": [
  {
   "cell_type": "markdown",
   "metadata": {},
   "source": [
    "# Выбор локации для скважины"
   ]
  },
  {
   "cell_type": "markdown",
   "metadata": {},
   "source": [
    "Допустим, вы работаете в добывающей компании «ГлавРосГосНефть». Нужно решить, где бурить новую скважину.\n",
    "\n",
    "Вам предоставлены пробы нефти в трёх регионах: в каждом 10 000 месторождений, где измерили качество нефти и объём её запасов. Постройте модель машинного обучения, которая поможет определить регион, где добыча принесёт наибольшую прибыль. Проанализируйте возможную прибыль и риски техникой *Bootstrap.*\n",
    "\n",
    "**Шаги для выбора локации:**\n",
    "\n",
    "- В избранном регионе ищут месторождения, для каждого определяют значения признаков;\n",
    "- Строят модель и оценивают объём запасов;\n",
    "- Выбирают месторождения с самым высокими оценками значений. Количество месторождений зависит от бюджета компании и стоимости разработки одной скважины;\n",
    "- Прибыль равна суммарной прибыли отобранных месторождений."
   ]
  },
  {
   "cell_type": "markdown",
   "metadata": {},
   "source": [
    "**Описание данных**  \n",
    "\n",
    "* id — уникальный идентификатор скважины,\n",
    "* f0, f1, f2 — три признака точек (неважно, что они означают, но сами признаки значимы),\n",
    "* product — объём запасов в скважине (тыс. баррелей)."
   ]
  },
  {
   "cell_type": "markdown",
   "metadata": {},
   "source": [
    "**Условия задачи**\n",
    "\n",
    "* Для обучения модели подходит только линейная регрессия (остальные — недостаточно предсказуемые).\n",
    "* При разведке региона исследуют 500 точек, из которых с помощью машинного обучения выбирают 200 лучших для разработки.\n",
    "* Бюджет на разработку скважин в регионе — 10 млрд рублей.\n",
    "* При нынешних ценах один баррель сырья приносит 450 рублей дохода. Доход с каждой единицы продукта составляет 450 тыс. рублей, поскольку объём указан в тысячах баррелей.\n",
    "* После оценки рисков нужно оставить лишь те регионы, в которых вероятность убытков меньше 2.5%. Среди них выбирают регион с наибольшей средней прибылью."
   ]
  },
  {
   "cell_type": "markdown",
   "metadata": {},
   "source": [
    "## Загрузка и подготовка данных"
   ]
  },
  {
   "cell_type": "code",
   "execution_count": 1,
   "metadata": {},
   "outputs": [],
   "source": [
    "import pandas as pd\n",
    "import numpy as np\n",
    "from sklearn.linear_model import LinearRegression\n",
    "from sklearn.model_selection import train_test_split\n",
    "from sklearn.metrics import mean_squared_error"
   ]
  },
  {
   "cell_type": "code",
   "execution_count": 2,
   "metadata": {},
   "outputs": [],
   "source": [
    "df_0 = pd.read_csv('/datasets/geo_data_0.csv')\n",
    "df_1 = pd.read_csv('/datasets/geo_data_1.csv')\n",
    "df_2 = pd.read_csv('/datasets/geo_data_2.csv')"
   ]
  },
  {
   "cell_type": "markdown",
   "metadata": {},
   "source": [
    "Взглянем на данные с первого региона"
   ]
  },
  {
   "cell_type": "code",
   "execution_count": 3,
   "metadata": {},
   "outputs": [
    {
     "data": {
      "text/html": [
       "<div>\n",
       "<style scoped>\n",
       "    .dataframe tbody tr th:only-of-type {\n",
       "        vertical-align: middle;\n",
       "    }\n",
       "\n",
       "    .dataframe tbody tr th {\n",
       "        vertical-align: top;\n",
       "    }\n",
       "\n",
       "    .dataframe thead th {\n",
       "        text-align: right;\n",
       "    }\n",
       "</style>\n",
       "<table border=\"1\" class=\"dataframe\">\n",
       "  <thead>\n",
       "    <tr style=\"text-align: right;\">\n",
       "      <th></th>\n",
       "      <th>id</th>\n",
       "      <th>f0</th>\n",
       "      <th>f1</th>\n",
       "      <th>f2</th>\n",
       "      <th>product</th>\n",
       "    </tr>\n",
       "  </thead>\n",
       "  <tbody>\n",
       "    <tr>\n",
       "      <td>0</td>\n",
       "      <td>txEyH</td>\n",
       "      <td>0.705745</td>\n",
       "      <td>-0.497823</td>\n",
       "      <td>1.221170</td>\n",
       "      <td>105.280062</td>\n",
       "    </tr>\n",
       "    <tr>\n",
       "      <td>1</td>\n",
       "      <td>2acmU</td>\n",
       "      <td>1.334711</td>\n",
       "      <td>-0.340164</td>\n",
       "      <td>4.365080</td>\n",
       "      <td>73.037750</td>\n",
       "    </tr>\n",
       "    <tr>\n",
       "      <td>2</td>\n",
       "      <td>409Wp</td>\n",
       "      <td>1.022732</td>\n",
       "      <td>0.151990</td>\n",
       "      <td>1.419926</td>\n",
       "      <td>85.265647</td>\n",
       "    </tr>\n",
       "    <tr>\n",
       "      <td>3</td>\n",
       "      <td>iJLyR</td>\n",
       "      <td>-0.032172</td>\n",
       "      <td>0.139033</td>\n",
       "      <td>2.978566</td>\n",
       "      <td>168.620776</td>\n",
       "    </tr>\n",
       "    <tr>\n",
       "      <td>4</td>\n",
       "      <td>Xdl7t</td>\n",
       "      <td>1.988431</td>\n",
       "      <td>0.155413</td>\n",
       "      <td>4.751769</td>\n",
       "      <td>154.036647</td>\n",
       "    </tr>\n",
       "  </tbody>\n",
       "</table>\n",
       "</div>"
      ],
      "text/plain": [
       "      id        f0        f1        f2     product\n",
       "0  txEyH  0.705745 -0.497823  1.221170  105.280062\n",
       "1  2acmU  1.334711 -0.340164  4.365080   73.037750\n",
       "2  409Wp  1.022732  0.151990  1.419926   85.265647\n",
       "3  iJLyR -0.032172  0.139033  2.978566  168.620776\n",
       "4  Xdl7t  1.988431  0.155413  4.751769  154.036647"
      ]
     },
     "execution_count": 3,
     "metadata": {},
     "output_type": "execute_result"
    }
   ],
   "source": [
    "df_0.head()"
   ]
  },
  {
   "cell_type": "code",
   "execution_count": 4,
   "metadata": {},
   "outputs": [
    {
     "name": "stdout",
     "output_type": "stream",
     "text": [
      "<class 'pandas.core.frame.DataFrame'>\n",
      "RangeIndex: 100000 entries, 0 to 99999\n",
      "Data columns (total 5 columns):\n",
      "id         100000 non-null object\n",
      "f0         100000 non-null float64\n",
      "f1         100000 non-null float64\n",
      "f2         100000 non-null float64\n",
      "product    100000 non-null float64\n",
      "dtypes: float64(4), object(1)\n",
      "memory usage: 3.8+ MB\n"
     ]
    }
   ],
   "source": [
    "df_0.info()"
   ]
  },
  {
   "cell_type": "markdown",
   "metadata": {},
   "source": [
    "Взглянем на данные со второго региона"
   ]
  },
  {
   "cell_type": "code",
   "execution_count": 5,
   "metadata": {},
   "outputs": [
    {
     "data": {
      "text/html": [
       "<div>\n",
       "<style scoped>\n",
       "    .dataframe tbody tr th:only-of-type {\n",
       "        vertical-align: middle;\n",
       "    }\n",
       "\n",
       "    .dataframe tbody tr th {\n",
       "        vertical-align: top;\n",
       "    }\n",
       "\n",
       "    .dataframe thead th {\n",
       "        text-align: right;\n",
       "    }\n",
       "</style>\n",
       "<table border=\"1\" class=\"dataframe\">\n",
       "  <thead>\n",
       "    <tr style=\"text-align: right;\">\n",
       "      <th></th>\n",
       "      <th>id</th>\n",
       "      <th>f0</th>\n",
       "      <th>f1</th>\n",
       "      <th>f2</th>\n",
       "      <th>product</th>\n",
       "    </tr>\n",
       "  </thead>\n",
       "  <tbody>\n",
       "    <tr>\n",
       "      <td>0</td>\n",
       "      <td>kBEdx</td>\n",
       "      <td>-15.001348</td>\n",
       "      <td>-8.276000</td>\n",
       "      <td>-0.005876</td>\n",
       "      <td>3.179103</td>\n",
       "    </tr>\n",
       "    <tr>\n",
       "      <td>1</td>\n",
       "      <td>62mP7</td>\n",
       "      <td>14.272088</td>\n",
       "      <td>-3.475083</td>\n",
       "      <td>0.999183</td>\n",
       "      <td>26.953261</td>\n",
       "    </tr>\n",
       "    <tr>\n",
       "      <td>2</td>\n",
       "      <td>vyE1P</td>\n",
       "      <td>6.263187</td>\n",
       "      <td>-5.948386</td>\n",
       "      <td>5.001160</td>\n",
       "      <td>134.766305</td>\n",
       "    </tr>\n",
       "    <tr>\n",
       "      <td>3</td>\n",
       "      <td>KcrkZ</td>\n",
       "      <td>-13.081196</td>\n",
       "      <td>-11.506057</td>\n",
       "      <td>4.999415</td>\n",
       "      <td>137.945408</td>\n",
       "    </tr>\n",
       "    <tr>\n",
       "      <td>4</td>\n",
       "      <td>AHL4O</td>\n",
       "      <td>12.702195</td>\n",
       "      <td>-8.147433</td>\n",
       "      <td>5.004363</td>\n",
       "      <td>134.766305</td>\n",
       "    </tr>\n",
       "  </tbody>\n",
       "</table>\n",
       "</div>"
      ],
      "text/plain": [
       "      id         f0         f1        f2     product\n",
       "0  kBEdx -15.001348  -8.276000 -0.005876    3.179103\n",
       "1  62mP7  14.272088  -3.475083  0.999183   26.953261\n",
       "2  vyE1P   6.263187  -5.948386  5.001160  134.766305\n",
       "3  KcrkZ -13.081196 -11.506057  4.999415  137.945408\n",
       "4  AHL4O  12.702195  -8.147433  5.004363  134.766305"
      ]
     },
     "execution_count": 5,
     "metadata": {},
     "output_type": "execute_result"
    }
   ],
   "source": [
    "df_1.head()"
   ]
  },
  {
   "cell_type": "code",
   "execution_count": 6,
   "metadata": {},
   "outputs": [
    {
     "name": "stdout",
     "output_type": "stream",
     "text": [
      "<class 'pandas.core.frame.DataFrame'>\n",
      "RangeIndex: 100000 entries, 0 to 99999\n",
      "Data columns (total 5 columns):\n",
      "id         100000 non-null object\n",
      "f0         100000 non-null float64\n",
      "f1         100000 non-null float64\n",
      "f2         100000 non-null float64\n",
      "product    100000 non-null float64\n",
      "dtypes: float64(4), object(1)\n",
      "memory usage: 3.8+ MB\n"
     ]
    }
   ],
   "source": [
    "df_1.info()"
   ]
  },
  {
   "cell_type": "markdown",
   "metadata": {},
   "source": [
    "Взглянем на данные с третьего региона"
   ]
  },
  {
   "cell_type": "code",
   "execution_count": 7,
   "metadata": {},
   "outputs": [
    {
     "data": {
      "text/html": [
       "<div>\n",
       "<style scoped>\n",
       "    .dataframe tbody tr th:only-of-type {\n",
       "        vertical-align: middle;\n",
       "    }\n",
       "\n",
       "    .dataframe tbody tr th {\n",
       "        vertical-align: top;\n",
       "    }\n",
       "\n",
       "    .dataframe thead th {\n",
       "        text-align: right;\n",
       "    }\n",
       "</style>\n",
       "<table border=\"1\" class=\"dataframe\">\n",
       "  <thead>\n",
       "    <tr style=\"text-align: right;\">\n",
       "      <th></th>\n",
       "      <th>id</th>\n",
       "      <th>f0</th>\n",
       "      <th>f1</th>\n",
       "      <th>f2</th>\n",
       "      <th>product</th>\n",
       "    </tr>\n",
       "  </thead>\n",
       "  <tbody>\n",
       "    <tr>\n",
       "      <td>0</td>\n",
       "      <td>fwXo0</td>\n",
       "      <td>-1.146987</td>\n",
       "      <td>0.963328</td>\n",
       "      <td>-0.828965</td>\n",
       "      <td>27.758673</td>\n",
       "    </tr>\n",
       "    <tr>\n",
       "      <td>1</td>\n",
       "      <td>WJtFt</td>\n",
       "      <td>0.262778</td>\n",
       "      <td>0.269839</td>\n",
       "      <td>-2.530187</td>\n",
       "      <td>56.069697</td>\n",
       "    </tr>\n",
       "    <tr>\n",
       "      <td>2</td>\n",
       "      <td>ovLUW</td>\n",
       "      <td>0.194587</td>\n",
       "      <td>0.289035</td>\n",
       "      <td>-5.586433</td>\n",
       "      <td>62.871910</td>\n",
       "    </tr>\n",
       "    <tr>\n",
       "      <td>3</td>\n",
       "      <td>q6cA6</td>\n",
       "      <td>2.236060</td>\n",
       "      <td>-0.553760</td>\n",
       "      <td>0.930038</td>\n",
       "      <td>114.572842</td>\n",
       "    </tr>\n",
       "    <tr>\n",
       "      <td>4</td>\n",
       "      <td>WPMUX</td>\n",
       "      <td>-0.515993</td>\n",
       "      <td>1.716266</td>\n",
       "      <td>5.899011</td>\n",
       "      <td>149.600746</td>\n",
       "    </tr>\n",
       "  </tbody>\n",
       "</table>\n",
       "</div>"
      ],
      "text/plain": [
       "      id        f0        f1        f2     product\n",
       "0  fwXo0 -1.146987  0.963328 -0.828965   27.758673\n",
       "1  WJtFt  0.262778  0.269839 -2.530187   56.069697\n",
       "2  ovLUW  0.194587  0.289035 -5.586433   62.871910\n",
       "3  q6cA6  2.236060 -0.553760  0.930038  114.572842\n",
       "4  WPMUX -0.515993  1.716266  5.899011  149.600746"
      ]
     },
     "execution_count": 7,
     "metadata": {},
     "output_type": "execute_result"
    }
   ],
   "source": [
    "df_2.head()"
   ]
  },
  {
   "cell_type": "code",
   "execution_count": 8,
   "metadata": {},
   "outputs": [
    {
     "name": "stdout",
     "output_type": "stream",
     "text": [
      "<class 'pandas.core.frame.DataFrame'>\n",
      "RangeIndex: 100000 entries, 0 to 99999\n",
      "Data columns (total 5 columns):\n",
      "id         100000 non-null object\n",
      "f0         100000 non-null float64\n",
      "f1         100000 non-null float64\n",
      "f2         100000 non-null float64\n",
      "product    100000 non-null float64\n",
      "dtypes: float64(4), object(1)\n",
      "memory usage: 3.8+ MB\n"
     ]
    }
   ],
   "source": [
    "df_2.info()"
   ]
  },
  {
   "cell_type": "markdown",
   "metadata": {},
   "source": [
    "*Исходные данные качественные, пропусков нет, тип данных соответствует. Можно сразу переходить к обучению.*"
   ]
  },
  {
   "cell_type": "markdown",
   "metadata": {},
   "source": [
    "## Обучение и проверка модели"
   ]
  },
  {
   "cell_type": "markdown",
   "metadata": {},
   "source": [
    "Для каждого месторождения:  \n",
    "Разобьем данные на обучающую и валидационную выборки в соотношении 75:25. Обучим модель линейной регрессии и сделаем предсказание на валидационной выборке. Затем вычислим средний запас предсказанного сырья и RMSE модели."
   ]
  },
  {
   "cell_type": "code",
   "execution_count": 9,
   "metadata": {},
   "outputs": [],
   "source": [
    "# Напишем функцию, которая принимает датасет и возвращает среднее предсказание и RMSE\n",
    "\n",
    "def model_predictions(data):\n",
    "    model = LinearRegression()\n",
    "    features = data.drop([\"id\",\"product\"], axis = 1)     # id - не нужный признак, его мы удалим\n",
    "    target = data['product']\n",
    "    features_train, features_valid, target_train, target_valid = train_test_split(\n",
    "        features, target, test_size=0.25, random_state=42)\n",
    "    model.fit(features_train, target_train)\n",
    "    predictions = pd.Series(model.predict(features_valid), index=target_valid.index)\n",
    "    rmse = mean_squared_error(target_valid, predictions)**0.5\n",
    "    return target_valid, predictions, rmse"
   ]
  },
  {
   "cell_type": "code",
   "execution_count": 10,
   "metadata": {},
   "outputs": [],
   "source": [
    "# Получим предсказания и RMSE по каждому месторождению\n",
    "\n",
    "target_df_0, pred_df_0, rmse_df_0 = model_predictions(df_0)\n",
    "target_df_1, pred_df_1, rmse_df_1 = model_predictions(df_1)\n",
    "target_df_2, pred_df_2, rmse_df_2 = model_predictions(df_2)"
   ]
  },
  {
   "cell_type": "code",
   "execution_count": 11,
   "metadata": {},
   "outputs": [
    {
     "data": {
      "text/html": [
       "<div>\n",
       "<style scoped>\n",
       "    .dataframe tbody tr th:only-of-type {\n",
       "        vertical-align: middle;\n",
       "    }\n",
       "\n",
       "    .dataframe tbody tr th {\n",
       "        vertical-align: top;\n",
       "    }\n",
       "\n",
       "    .dataframe thead th {\n",
       "        text-align: right;\n",
       "    }\n",
       "</style>\n",
       "<table border=\"1\" class=\"dataframe\">\n",
       "  <thead>\n",
       "    <tr style=\"text-align: right;\">\n",
       "      <th></th>\n",
       "      <th>Cредний запас предсказанного сырья</th>\n",
       "      <th>RMSE модели</th>\n",
       "    </tr>\n",
       "  </thead>\n",
       "  <tbody>\n",
       "    <tr>\n",
       "      <td>Регион df_0</td>\n",
       "      <td>92.398800</td>\n",
       "      <td>37.756600</td>\n",
       "    </tr>\n",
       "    <tr>\n",
       "      <td>Регион df_1</td>\n",
       "      <td>68.712878</td>\n",
       "      <td>0.890280</td>\n",
       "    </tr>\n",
       "    <tr>\n",
       "      <td>Регион df_2</td>\n",
       "      <td>94.771024</td>\n",
       "      <td>40.145872</td>\n",
       "    </tr>\n",
       "  </tbody>\n",
       "</table>\n",
       "</div>"
      ],
      "text/plain": [
       "             Cредний запас предсказанного сырья  RMSE модели\n",
       "Регион df_0                           92.398800    37.756600\n",
       "Регион df_1                           68.712878     0.890280\n",
       "Регион df_2                           94.771024    40.145872"
      ]
     },
     "execution_count": 11,
     "metadata": {},
     "output_type": "execute_result"
    }
   ],
   "source": [
    "# Выведем полученные результаты в виде таблицы\n",
    "\n",
    "results = pd.DataFrame(data=[[pred_df_0.mean(), rmse_df_0], \n",
    "                             [pred_df_1.mean(), rmse_df_1], \n",
    "                             [pred_df_2.mean(), rmse_df_2]],\n",
    "                       index=['Регион df_0', 'Регион df_1','Регион df_2'], \n",
    "                       columns=['Cредний запас предсказанного сырья', 'RMSE модели'])\n",
    "results"
   ]
  },
  {
   "cell_type": "markdown",
   "metadata": {},
   "source": [
    "*Из таблицы хорошо видно, что самые большие объемы сырья находятся в нулевом и втором регионах. При этом ошибка модели в данных регионах достаточно высокая.  \n",
    "Запасы сырья в первом регионе меньше чем в других, но точность модели практически максимальная.*"
   ]
  },
  {
   "cell_type": "markdown",
   "metadata": {},
   "source": [
    "## Подготовка к расчёту прибыли"
   ]
  },
  {
   "cell_type": "markdown",
   "metadata": {},
   "source": [
    "* Все ключевые значения для расчётов сохраним в отдельных переменных"
   ]
  },
  {
   "cell_type": "code",
   "execution_count": 12,
   "metadata": {},
   "outputs": [],
   "source": [
    "#Количество разведываемых точек\n",
    "PRE_POINTS = 500\n",
    "\n",
    "#Количество точек для разработки\n",
    "FINAL_POINTS = 200\n",
    "\n",
    "#Бюджет на разработку скважин в регионе\n",
    "BUDGET = 10000000000\n",
    "\n",
    "#Стоимость тысячи баррелей нефти\n",
    "PRICE_PER_K_BARREL = 450000"
   ]
  },
  {
   "cell_type": "markdown",
   "metadata": {},
   "source": [
    "* Рассчитаем достаточный объём сырья для безубыточной разработки новой скважины"
   ]
  },
  {
   "cell_type": "code",
   "execution_count": 13,
   "metadata": {},
   "outputs": [
    {
     "name": "stdout",
     "output_type": "stream",
     "text": [
      "Достаточный объем сырья для безубыточной разработки: 111.11 тыс. баррелей\n"
     ]
    }
   ],
   "source": [
    "NON_DAMAGE_POINT = (BUDGET / PRICE_PER_K_BARREL) / FINAL_POINTS\n",
    "print('Достаточный объем сырья для безубыточной разработки: {:.2f} тыс. баррелей'.format(NON_DAMAGE_POINT))"
   ]
  },
  {
   "cell_type": "markdown",
   "metadata": {},
   "source": [
    "*Рассчитаный нами ранее, средний запас сырья в скважинах, меньше чем точка безубыточности.   \n",
    "При этом у первого и третьего регионов средние значения запасов сырья более приближены к достаточному объему безубыточной разработки.*"
   ]
  },
  {
   "cell_type": "markdown",
   "metadata": {},
   "source": [
    "* Напишем функцию для расчёта прибыли"
   ]
  },
  {
   "cell_type": "code",
   "execution_count": 14,
   "metadata": {},
   "outputs": [],
   "source": [
    "#Стоимость разработки одной скважины\n",
    "BUDGET_ONE_POINT = BUDGET / FINAL_POINTS\n",
    "\n",
    "#Функция принимает предсказания по объёму добычи и кол-ву скважин, а вернёт предполагаемую прибыль\n",
    "def revenue(target, predictions, count):\n",
    "    top_predictions = predictions.sort_values(ascending=False).head(count)\n",
    "    return (PRICE_PER_K_BARREL * target.loc[top_predictions.index] - BUDGET_ONE_POINT)"
   ]
  },
  {
   "cell_type": "markdown",
   "metadata": {},
   "source": [
    "## Расчёт прибыли и рисков "
   ]
  },
  {
   "cell_type": "markdown",
   "metadata": {},
   "source": [
    "Применим технику Bootstrap с 1000 выборок, чтобы найти распределение прибыли.   \n",
    "Напишем функцию для определения средней прибыли, 95%-ого доверительного интервала и риска убытков. Риск убытков будем считать как отношение убыточных скважин к общему количеству разрабатываемых скважин."
   ]
  },
  {
   "cell_type": "code",
   "execution_count": 15,
   "metadata": {},
   "outputs": [],
   "source": [
    "def bootstrap_1000(target, predictions, point_start=500, point_final=200):\n",
    "    \n",
    "    state = np.random.RandomState(43)    \n",
    "    total_values = []\n",
    "    minus_values = []\n",
    "    proba_minus_values = []\n",
    "    \n",
    "    for i in range(1000):\n",
    "        #Выбираем point_start произвольных скважин \n",
    "        predictions_sample = predictions.sample(n=point_start, replace=True, random_state=state)\n",
    "        \n",
    "        #Считаем прибыль point_final выбранных скважин\n",
    "        total_revenue = revenue(target, predictions_sample, point_final)\n",
    "        \n",
    "        #выбираем из выборки скважины с отрицательной доходностью\n",
    "        minus_values = total_revenue[total_revenue<=0]\n",
    "        \n",
    "        #Считаем вероятность получить убыток\n",
    "        #proba_minus_revenue = len(minus_values) / len(total_revenue)\n",
    "        \n",
    "         #Сохраним прибыль\n",
    "        total_values.append(total_revenue.sum())\n",
    "        \n",
    "        #Coхраним убытки\n",
    "        #minus_values.append(minus_revenue.sum()) - старый вариант\n",
    "        \n",
    "        #Сохраним вероятности убытков\n",
    "        #proba_minus_values.append(proba_minus_revenue) - старый вариант\n",
    "        \n",
    "\n",
    "    #массивы приведем к Series значений в млн. рублей\n",
    "    total_values = pd.Series(total_values) / 1000000\n",
    "    minus_values = pd.Series(minus_values) / 1000000\n",
    "    proba_minus_revenue = len(minus_values) / 1000\n",
    "    #proba_minus_values = pd.Series(proba_minus_values) - старый вариант\n",
    "    \n",
    "    #Cредняя прибыль\n",
    "    total_mean = total_values.mean() \n",
    "    #Нижняя граница доверительного интервала средней прибыли\n",
    "    lower_total_mean = round(total_values.quantile(.025), 2)\n",
    "    #Верхняя граница доверительного интервала средней прибыли\n",
    "    higher_total_mean = round(total_values.quantile(.975), 2)\n",
    "    \n",
    "    #Cредний убыток\n",
    "    minus_values_mean = minus_values.mean()\n",
    "    #Нижняя граница доверительного интервала среднего убытка\n",
    "    #lower_minus_values = round(minus_values.quantile(.025), 2)\n",
    "    #Верхняя граница доверительного интервала среднего убытка\n",
    "    #higher_minus_values = round(minus_values.quantile(.975), 2)\n",
    "    \n",
    "    #Cредняя вероятность получить убыток                              - старый вариант\n",
    "    #proba_minus_values_mean = proba_minus_values.mean()\n",
    "    #Нижняя граница доверительного интервала вероятности убытка\n",
    "    #lower_proba_minus_values = round(proba_minus_values.quantile(.025), 2)\n",
    "    #Верхняя граница доверительного интервала вероятности убытка\n",
    "    #higher_proba_minus_values = round(proba_minus_values.quantile(.975), 2) \n",
    "    \n",
    "    return pd.DataFrame(data=[[total_mean], [(lower_total_mean, higher_total_mean)], \n",
    "                              [minus_values_mean], \n",
    "                              [proba_minus_revenue]], \n",
    "                        index=['Средняя прибыль', 'Доверительный интервал средней прибыли', \n",
    "                               'Cредний убыток', \n",
    "                               'Вероятность убыта'])"
   ]
  },
  {
   "cell_type": "markdown",
   "metadata": {},
   "source": [
    "Применим нашу функцию к трем данным о месторождениях"
   ]
  },
  {
   "cell_type": "code",
   "execution_count": 16,
   "metadata": {},
   "outputs": [],
   "source": [
    "region_df_0 = bootstrap_1000(target_df_0, pred_df_0)\n",
    "region_df_0.columns = ['Регион df_0']\n",
    "region_df_1 = bootstrap_1000(target_df_1, pred_df_1)\n",
    "region_df_1.columns = ['Регион df_1']\n",
    "region_df_2 = bootstrap_1000(target_df_2, pred_df_2)\n",
    "region_df_2.columns = ['Регион df_2']"
   ]
  },
  {
   "cell_type": "code",
   "execution_count": 17,
   "metadata": {},
   "outputs": [],
   "source": [
    "#Объеденим получившиеся результаты в едунную общую таблицу\n",
    "results = results.merge(region_df_2\n",
    "                        .merge(region_df_1\n",
    "                               .merge(region_df_0, \n",
    "                                      left_index=True, \n",
    "                                      right_index=True), \n",
    "                               left_index=True, \n",
    "                               right_index=True).T, \n",
    "                        left_index=True, \n",
    "                        right_index=True).T"
   ]
  },
  {
   "cell_type": "markdown",
   "metadata": {},
   "source": [
    "Посмотрим на результат"
   ]
  },
  {
   "cell_type": "code",
   "execution_count": 18,
   "metadata": {},
   "outputs": [
    {
     "data": {
      "text/html": [
       "<div>\n",
       "<style scoped>\n",
       "    .dataframe tbody tr th:only-of-type {\n",
       "        vertical-align: middle;\n",
       "    }\n",
       "\n",
       "    .dataframe tbody tr th {\n",
       "        vertical-align: top;\n",
       "    }\n",
       "\n",
       "    .dataframe thead th {\n",
       "        text-align: right;\n",
       "    }\n",
       "</style>\n",
       "<table border=\"1\" class=\"dataframe\">\n",
       "  <thead>\n",
       "    <tr style=\"text-align: right;\">\n",
       "      <th></th>\n",
       "      <th>Регион df_0</th>\n",
       "      <th>Регион df_1</th>\n",
       "      <th>Регион df_2</th>\n",
       "    </tr>\n",
       "  </thead>\n",
       "  <tbody>\n",
       "    <tr>\n",
       "      <td>Cредний запас предсказанного сырья</td>\n",
       "      <td>92.3988</td>\n",
       "      <td>68.7129</td>\n",
       "      <td>94.771</td>\n",
       "    </tr>\n",
       "    <tr>\n",
       "      <td>RMSE модели</td>\n",
       "      <td>37.7566</td>\n",
       "      <td>0.89028</td>\n",
       "      <td>40.1459</td>\n",
       "    </tr>\n",
       "    <tr>\n",
       "      <td>Средняя прибыль</td>\n",
       "      <td>420.767</td>\n",
       "      <td>443.471</td>\n",
       "      <td>376.347</td>\n",
       "    </tr>\n",
       "    <tr>\n",
       "      <td>Доверительный интервал средней прибыли</td>\n",
       "      <td>(-128.57, 951.86)</td>\n",
       "      <td>(54.59, 889.33)</td>\n",
       "      <td>(-140.54, 888.49)</td>\n",
       "    </tr>\n",
       "    <tr>\n",
       "      <td>Cредний убыток</td>\n",
       "      <td>-12.1932</td>\n",
       "      <td>-3.59668</td>\n",
       "      <td>-13.508</td>\n",
       "    </tr>\n",
       "    <tr>\n",
       "      <td>Вероятность убыта</td>\n",
       "      <td>0.067</td>\n",
       "      <td>0.111</td>\n",
       "      <td>0.086</td>\n",
       "    </tr>\n",
       "  </tbody>\n",
       "</table>\n",
       "</div>"
      ],
      "text/plain": [
       "                                              Регион df_0      Регион df_1  \\\n",
       "Cредний запас предсказанного сырья                92.3988          68.7129   \n",
       "RMSE модели                                       37.7566          0.89028   \n",
       "Средняя прибыль                                   420.767          443.471   \n",
       "Доверительный интервал средней прибыли  (-128.57, 951.86)  (54.59, 889.33)   \n",
       "Cредний убыток                                   -12.1932         -3.59668   \n",
       "Вероятность убыта                                   0.067            0.111   \n",
       "\n",
       "                                              Регион df_2  \n",
       "Cредний запас предсказанного сырья                 94.771  \n",
       "RMSE модели                                       40.1459  \n",
       "Средняя прибыль                                   376.347  \n",
       "Доверительный интервал средней прибыли  (-140.54, 888.49)  \n",
       "Cредний убыток                                    -13.508  \n",
       "Вероятность убыта                                   0.086  "
      ]
     },
     "execution_count": 18,
     "metadata": {},
     "output_type": "execute_result"
    }
   ],
   "source": [
    "results"
   ]
  },
  {
   "cell_type": "markdown",
   "metadata": {},
   "source": [
    "## Общий вывод"
   ]
  },
  {
   "cell_type": "markdown",
   "metadata": {},
   "source": [
    "В итоговой таблице видно, что **ни один из регионов не подходит по условию рисков проекта**. Если же выбирать из наименее рискованных, то подходящим будет нулевой регион. При этом набольшая средняя прибыль получилась у первого региона."
   ]
  }
 ],
 "metadata": {
  "kernelspec": {
   "display_name": "Python 3 (ipykernel)",
   "language": "python",
   "name": "python3"
  },
  "language_info": {
   "codemirror_mode": {
    "name": "ipython",
    "version": 3
   },
   "file_extension": ".py",
   "mimetype": "text/x-python",
   "name": "python",
   "nbconvert_exporter": "python",
   "pygments_lexer": "ipython3",
   "version": "3.9.5"
  },
  "toc": {
   "base_numbering": 1,
   "nav_menu": {},
   "number_sections": true,
   "sideBar": true,
   "skip_h1_title": true,
   "title_cell": "Table of Contents",
   "title_sidebar": "Contents",
   "toc_cell": false,
   "toc_position": {},
   "toc_section_display": true,
   "toc_window_display": false
  }
 },
 "nbformat": 4,
 "nbformat_minor": 2
}
